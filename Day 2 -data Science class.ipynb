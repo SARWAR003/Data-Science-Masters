{
 "cells": [
  {
   "cell_type": "code",
   "execution_count": 1,
   "id": "71ebb2ec-b8c8-4397-8e8c-1cacefa294f1",
   "metadata": {},
   "outputs": [],
   "source": [
    "a=10"
   ]
  },
  {
   "cell_type": "code",
   "execution_count": 2,
   "id": "c673e6fe-8fa4-479f-9e51-20d1dd1c8c2b",
   "metadata": {},
   "outputs": [
    {
     "data": {
      "text/plain": [
       "10"
      ]
     },
     "execution_count": 2,
     "metadata": {},
     "output_type": "execute_result"
    }
   ],
   "source": [
    "a"
   ]
  },
  {
   "cell_type": "code",
   "execution_count": 3,
   "id": "255181c3-24e5-4020-829c-d79e8237969a",
   "metadata": {},
   "outputs": [
    {
     "data": {
      "text/plain": [
       "int"
      ]
     },
     "execution_count": 3,
     "metadata": {},
     "output_type": "execute_result"
    }
   ],
   "source": [
    "type(a)\n"
   ]
  },
  {
   "cell_type": "code",
   "execution_count": 4,
   "id": "a6c83fea-581f-4be4-af6f-ad1c617fbba4",
   "metadata": {},
   "outputs": [
    {
     "ename": "TypeError",
     "evalue": "int() takes at most 2 arguments (3 given)",
     "output_type": "error",
     "traceback": [
      "\u001b[1;31m---------------------------------------------------------------------------\u001b[0m",
      "\u001b[1;31mTypeError\u001b[0m                                 Traceback (most recent call last)",
      "\u001b[1;32m~\\AppData\\Local\\Temp\\ipykernel_5864\\4043417477.py\u001b[0m in \u001b[0;36m<module>\u001b[1;34m\u001b[0m\n\u001b[1;32m----> 1\u001b[1;33m \u001b[0mint\u001b[0m\u001b[1;33m(\u001b[0m\u001b[1;36m1\u001b[0m\u001b[1;33m,\u001b[0m\u001b[1;36m2\u001b[0m\u001b[1;33m,\u001b[0m\u001b[1;36m3\u001b[0m\u001b[1;33m)\u001b[0m\u001b[1;33m\u001b[0m\u001b[1;33m\u001b[0m\u001b[0m\n\u001b[0m",
      "\u001b[1;31mTypeError\u001b[0m: int() takes at most 2 arguments (3 given)"
     ]
    }
   ],
   "source": [
    "int(1,2,3)"
   ]
  },
  {
   "cell_type": "code",
   "execution_count": 5,
   "id": "237aa9d2-bcc4-49d5-9bea-d5195b3dc9d2",
   "metadata": {},
   "outputs": [
    {
     "data": {
      "text/plain": [
       "0"
      ]
     },
     "execution_count": 5,
     "metadata": {},
     "output_type": "execute_result"
    }
   ],
   "source": [
    "int()"
   ]
  },
  {
   "cell_type": "code",
   "execution_count": 6,
   "id": "1d1ae4a7-6334-4345-8948-b5757df6fefe",
   "metadata": {},
   "outputs": [
    {
     "name": "stdout",
     "output_type": "stream",
     "text": [
      "my age is: 25\n"
     ]
    }
   ],
   "source": [
    "age=25\n",
    "print(\"my age is:\",age)"
   ]
  },
  {
   "cell_type": "code",
   "execution_count": 8,
   "id": "89c56c0e-adf5-4491-8e50-d040ea0c92d2",
   "metadata": {},
   "outputs": [
    {
     "name": "stdout",
     "output_type": "stream",
     "text": [
      "my age is:25\n"
     ]
    }
   ],
   "source": [
    "print(f\"my age is:{age}\")\n",
    "## f, is the string for formating"
   ]
  },
  {
   "cell_type": "code",
   "execution_count": 9,
   "id": "474e3fd9-ff73-4c5d-b72c-f06bd8b41cf5",
   "metadata": {},
   "outputs": [
    {
     "name": "stdout",
     "output_type": "stream",
     "text": [
      "my name is sarwar and age is 25\n"
     ]
    }
   ],
   "source": [
    "## format()\n",
    "name=\"sarwar\"\n",
    "age=25\n",
    "print(\"my name is {} and age is {}\".format(name,age))"
   ]
  },
  {
   "cell_type": "code",
   "execution_count": 13,
   "id": "1096a810-3704-45ad-a5b8-5d35ab28f464",
   "metadata": {},
   "outputs": [
    {
     "name": "stdout",
     "output_type": "stream",
     "text": [
      "my name is 25 and age is sarwar\n"
     ]
    }
   ],
   "source": [
    "print(\"my name is {} and age is {}\" .format(age,name))"
   ]
  },
  {
   "cell_type": "code",
   "execution_count": 15,
   "id": "dcc9655b-45ce-45d7-8e7d-85de43c04d99",
   "metadata": {},
   "outputs": [
    {
     "name": "stdout",
     "output_type": "stream",
     "text": [
      "my name is sarwar and age is 25\n"
     ]
    }
   ],
   "source": [
    "##placeholder\n",
    "\n",
    "print(\"my name is {firstname} and age is {firstages}\".format(firstname=name,firstages=age))"
   ]
  },
  {
   "cell_type": "code",
   "execution_count": 18,
   "id": "7c691d39-f58b-4b1f-a410-d5ad499e9e80",
   "metadata": {},
   "outputs": [
    {
     "name": "stdout",
     "output_type": "stream",
     "text": [
      "my name is sarwar and age is 25 and degree is b.tach\n"
     ]
    }
   ],
   "source": [
    "## ex format()\n",
    "name=\"sarwar\"\n",
    "age=25\n",
    "degree=\"b.tach\"\n",
    "print(\"my name is {} and age is {} and degree is {}\".format(name,age,degree))\n"
   ]
  },
  {
   "cell_type": "code",
   "execution_count": 19,
   "id": "19b8c491-4894-4f3a-9d97-f2c4b9b155f7",
   "metadata": {},
   "outputs": [
    {
     "name": "stdout",
     "output_type": "stream",
     "text": [
      " my name is sarwar and age is 25 and degree is B.tech\n"
     ]
    }
   ],
   "source": [
    "## ex placeholder\n",
    "\n",
    "name=\"sarwar\"\n",
    "age=25\n",
    "degree=\"B.tech\"\n",
    "print(\" my name is {firstname} and age is {firstages} and degree is {firstdegree}\".format(firstname=name,firstages=age,firstdegree=degree))"
   ]
  },
  {
   "cell_type": "code",
   "execution_count": 23,
   "id": "30dfb66e-7caa-4b03-b337-634f2d31eb5d",
   "metadata": {},
   "outputs": [
    {
     "name": "stdout",
     "output_type": "stream",
     "text": [
      "my age is 25 and i have completed: my degree of B.Tech with name of Sarwar\n"
     ]
    }
   ],
   "source": [
    "## Q\n",
    "## my age is 25 and i have completed: my degree of B.Tech with name of sarwar\n",
    "## ANS \n",
    "age=25\n",
    "name=\"Sarwar\"\n",
    "degree=\"B.Tech\"\n",
    "\n",
    "print(\"my age is {} and i have completed: my degree of {} with name of {}\".format(age,degree,name))\n",
    "    \n"
   ]
  },
  {
   "cell_type": "markdown",
   "id": "780d8db8-719a-44ed-9a8c-24bd7aacf5ab",
   "metadata": {},
   "source": [
    "## if Statment\n"
   ]
  },
  {
   "cell_type": "code",
   "execution_count": 31,
   "id": "da043097-f62d-4c7b-b138-061ffc332590",
   "metadata": {},
   "outputs": [
    {
     "name": "stdout",
     "output_type": "stream",
     "text": [
      "your are not eligible to vote\n"
     ]
    }
   ],
   "source": [
    "age=17\n",
    "if age<18:\n",
    "    print(\"your are not eligible to vote\")\n",
    "    "
   ]
  },
  {
   "cell_type": "code",
   "execution_count": 32,
   "id": "a9e40977-8451-4200-aed7-b104018e1e82",
   "metadata": {},
   "outputs": [],
   "source": [
    "## ex"
   ]
  },
  {
   "cell_type": "code",
   "execution_count": 40,
   "id": "e8081ab2-dadb-49fd-b2d5-7bf6a5814432",
   "metadata": {},
   "outputs": [
    {
     "name": "stdout",
     "output_type": "stream",
     "text": [
      "you are young blood\n"
     ]
    }
   ],
   "source": [
    "## ex 1\n",
    "age>=18\n",
    "if age<=45:\n",
    "    print(\"you are young blood\")"
   ]
  },
  {
   "cell_type": "code",
   "execution_count": 44,
   "id": "f6c3889b-a2df-463a-ade8-b9dbd949169a",
   "metadata": {},
   "outputs": [
    {
     "name": "stdout",
     "output_type": "stream",
     "text": [
      "your not young blood\n"
     ]
    }
   ],
   "source": [
    "## ex 2\n",
    "age<=45\n",
    "if age>=18:\n",
    "    print(\"your not young blood\")"
   ]
  },
  {
   "cell_type": "code",
   "execution_count": null,
   "id": "897fae26-8f07-4292-91e1-488655a359df",
   "metadata": {},
   "outputs": [],
   "source": []
  },
  {
   "cell_type": "code",
   "execution_count": null,
   "id": "66417585-7cc9-48ba-bf54-17cf3f7f3cb3",
   "metadata": {},
   "outputs": [],
   "source": []
  },
  {
   "cell_type": "code",
   "execution_count": 33,
   "id": "fe917f82-8005-412d-b913-2626231c175f",
   "metadata": {},
   "outputs": [],
   "source": [
    "##input\n"
   ]
  },
  {
   "cell_type": "code",
   "execution_count": 34,
   "id": "267b0732-2cc3-4c87-96b8-b4f7ec3a8fbd",
   "metadata": {},
   "outputs": [
    {
     "name": "stdin",
     "output_type": "stream",
     "text": [
      "Enter the name sarwar\n"
     ]
    }
   ],
   "source": [
    "name=input(\"Enter the name\")"
   ]
  },
  {
   "cell_type": "code",
   "execution_count": 35,
   "id": "6007c4c5-08b9-4b47-8cb9-1cf562b21aed",
   "metadata": {},
   "outputs": [
    {
     "data": {
      "text/plain": [
       "'sarwar'"
      ]
     },
     "execution_count": 35,
     "metadata": {},
     "output_type": "execute_result"
    }
   ],
   "source": [
    "name"
   ]
  },
  {
   "cell_type": "code",
   "execution_count": 36,
   "id": "1d4d9af8-7b4c-42ac-bd8c-887cb2873d36",
   "metadata": {},
   "outputs": [
    {
     "data": {
      "text/plain": [
       "str"
      ]
     },
     "execution_count": 36,
     "metadata": {},
     "output_type": "execute_result"
    }
   ],
   "source": [
    "type(name)"
   ]
  },
  {
   "cell_type": "code",
   "execution_count": null,
   "id": "d9ad6f35-7d16-4ea3-b828-bee152c46d82",
   "metadata": {},
   "outputs": [],
   "source": [
    "## ex"
   ]
  },
  {
   "cell_type": "code",
   "execution_count": null,
   "id": "b20189cf-0871-467a-85e5-7da9208115c6",
   "metadata": {},
   "outputs": [],
   "source": []
  },
  {
   "cell_type": "code",
   "execution_count": null,
   "id": "981a25d6-62e5-4690-8626-c0b2af0773bc",
   "metadata": {},
   "outputs": [],
   "source": []
  },
  {
   "cell_type": "code",
   "execution_count": null,
   "id": "97e71930-c578-4871-9be6-9a2a976745dd",
   "metadata": {},
   "outputs": [],
   "source": []
  },
  {
   "cell_type": "code",
   "execution_count": 37,
   "id": "e9368a79-42cf-4f7b-84ea-d5912d7c9944",
   "metadata": {},
   "outputs": [
    {
     "name": "stdin",
     "output_type": "stream",
     "text": [
      "Enter the age 25\n"
     ]
    }
   ],
   "source": [
    "age=int(input(\"Enter the age\"))"
   ]
  },
  {
   "cell_type": "code",
   "execution_count": 38,
   "id": "017d3aa8-5ad8-441f-a8e2-0422791e705d",
   "metadata": {},
   "outputs": [
    {
     "data": {
      "text/plain": [
       "25"
      ]
     },
     "execution_count": 38,
     "metadata": {},
     "output_type": "execute_result"
    }
   ],
   "source": [
    "age\n"
   ]
  },
  {
   "cell_type": "code",
   "execution_count": 39,
   "id": "d5e703c7-fadd-4002-8e80-08bb7022a98d",
   "metadata": {},
   "outputs": [
    {
     "data": {
      "text/plain": [
       "int"
      ]
     },
     "execution_count": 39,
     "metadata": {},
     "output_type": "execute_result"
    }
   ],
   "source": [
    "type(age)"
   ]
  },
  {
   "cell_type": "code",
   "execution_count": 45,
   "id": "2abd5ab9-cba7-426e-af97-4cbf68dc0521",
   "metadata": {},
   "outputs": [
    {
     "name": "stdin",
     "output_type": "stream",
     "text": [
      "entrn your age 25\n"
     ]
    }
   ],
   "source": [
    "## ex1\n",
    "\n",
    "age=int(input(\"entrn your age\"))"
   ]
  },
  {
   "cell_type": "code",
   "execution_count": 46,
   "id": "5220611c-0342-466e-9ca2-c6852dd89d14",
   "metadata": {},
   "outputs": [
    {
     "data": {
      "text/plain": [
       "25"
      ]
     },
     "execution_count": 46,
     "metadata": {},
     "output_type": "execute_result"
    }
   ],
   "source": [
    "age\n"
   ]
  },
  {
   "cell_type": "code",
   "execution_count": null,
   "id": "90a66600-f72d-4f1d-b69c-5cfd94bc1e20",
   "metadata": {},
   "outputs": [],
   "source": []
  },
  {
   "cell_type": "code",
   "execution_count": 47,
   "id": "65751139-a05d-401e-8d74-7c945e0932bd",
   "metadata": {},
   "outputs": [
    {
     "name": "stdin",
     "output_type": "stream",
     "text": [
      "Enter you age 18\n"
     ]
    },
    {
     "name": "stdout",
     "output_type": "stream",
     "text": [
      "you are young blood\n"
     ]
    }
   ],
   "source": [
    "## ex\n",
    "\n",
    "age=int(input(\"Enter you age\"))\n",
    "if age>=18 and age <=45:\n",
    "    print(\"you are young blood\")"
   ]
  },
  {
   "cell_type": "code",
   "execution_count": 53,
   "id": "f9621845-c04d-4df7-aece-ad308b16687d",
   "metadata": {},
   "outputs": [
    {
     "name": "stdin",
     "output_type": "stream",
     "text": [
      "Enter your age 60\n"
     ]
    },
    {
     "name": "stdout",
     "output_type": "stream",
     "text": [
      "your eligable for vote\n"
     ]
    }
   ],
   "source": [
    "age=int(input(\"Enter your age\"))\n",
    "if age>=18 and age<=60:\n",
    "    print(\"your eligable for vote\")"
   ]
  },
  {
   "cell_type": "code",
   "execution_count": 55,
   "id": "c9438271-0cea-4615-9971-7d921f5a8efc",
   "metadata": {},
   "outputs": [
    {
     "name": "stdin",
     "output_type": "stream",
     "text": [
      "Enter your age 26\n"
     ]
    },
    {
     "name": "stdout",
     "output_type": "stream",
     "text": [
      "your eligable for vote\n"
     ]
    }
   ],
   "source": [
    "## if else satetements\n",
    "age=int(input(\"Enter your age\"))\n",
    "if age>=18 and age<=60:\n",
    "    print(\"your eligable for vote\")\n",
    "else:\n",
    "    print(\"you are not eligable\")"
   ]
  },
  {
   "cell_type": "code",
   "execution_count": null,
   "id": "ea3a4908-63ad-4d66-89db-1adb86efbfff",
   "metadata": {},
   "outputs": [],
   "source": [
    "## ex\n",
    "##mall _ input the product price\n",
    "## product >1000 rs  20% off\n",
    "## print the product price after removing the discount\n",
    "## product <=1000 rs 30% off\n",
    "## print the product price after removing the discount\n",
    "\n",
    "product_price=int(input(\"Enter your product price\"))\n",
    "if product_price>1000:\n",
    "    print(\"the price of the product is {}\". format(product_price*0.8))\n",
    "else:\n",
    "    print(\"the price of the product is {}\". format(product_price*0.7))\n",
    "    \n",
    "\n"
   ]
  },
  {
   "cell_type": "code",
   "execution_count": 68,
   "id": "77cbdfce-69a0-488d-b6c9-30cdbe42def6",
   "metadata": {},
   "outputs": [
    {
     "data": {
      "text/plain": [
       "200"
      ]
     },
     "execution_count": 68,
     "metadata": {},
     "output_type": "execute_result"
    }
   ],
   "source": [
    "int((20/100)*1000)"
   ]
  },
  {
   "cell_type": "code",
   "execution_count": null,
   "id": "20581636-b595-4c99-8167-4c756c7b120f",
   "metadata": {},
   "outputs": [],
   "source": [
    "## f, is the string for formating\n",
    "product_price=int(input(\"Enter your product price\"))\n",
    "if product_price>1000:\n",
    "    print(f\"the price of the product is {(product_price*0.8)}\")\n",
    "else:\n",
    "    print(f\"the price of the product is {(product_price*0.7)}\")\n",
    "    \n",
    "    "
   ]
  },
  {
   "cell_type": "code",
   "execution_count": 72,
   "id": "d5186cef-e2c0-4246-8fe5-9f54c69fc037",
   "metadata": {},
   "outputs": [],
   "source": [
    "## ex\n",
    "## mall _ input the product price\n",
    "## product >3000 rs  20% off\n",
    "## print the product price after removing the discount\n",
    "## product >=2000 rs and 30% off\n",
    "## print the product price after removing the discount\n",
    "## product >=100 rs and <=2000 40% off\n",
    "##print the product price after removing the discount"
   ]
  },
  {
   "cell_type": "code",
   "execution_count": 96,
   "id": "d1453a66-1d93-4e66-a69d-8c07f42473e3",
   "metadata": {},
   "outputs": [
    {
     "name": "stdin",
     "output_type": "stream",
     "text": [
      "Enter your product price 2000\n"
     ]
    },
    {
     "name": "stdout",
     "output_type": "stream",
     "text": [
      "the price of the product is 1400.0\n"
     ]
    }
   ],
   "source": [
    "## f, is the string for formating\n",
    "product_price=int(input(\"Enter your product price\"))\n",
    "if product_price >3000:\n",
    "    print(f\"the price of the product is {(product_price*0.8)}\")\n",
    "elif product_price >=2000 and product_price <=3000:\n",
    "    print(f\"the price of the product is {(product_price*0.7)}\")\n",
    "elif  product_price >=100 and product_price >2000:\n",
    "    print(f\"the price of the product is {(product_price*0.6)}\")\n",
    "else:\n",
    "    print(\"bay a tre\")\n",
    "    \n",
    "\n",
    "    "
   ]
  },
  {
   "cell_type": "code",
   "execution_count": null,
   "id": "3c36a6c4-c79a-432a-a410-3bae53ee427a",
   "metadata": {},
   "outputs": [],
   "source": [
    "int((40/100)*3000\n",
    "   )"
   ]
  },
  {
   "cell_type": "code",
   "execution_count": 98,
   "id": "1b4f60a0-cc72-46d0-8f2b-2775b0175f8d",
   "metadata": {},
   "outputs": [
    {
     "name": "stdin",
     "output_type": "stream",
     "text": [
      "Enter your product price 100\n"
     ]
    },
    {
     "name": "stdout",
     "output_type": "stream",
     "text": [
      "Lets drink tea\n",
      "i will also be ther\n"
     ]
    }
   ],
   "source": [
    "product_price=int(input(\"Enter your product price\"))\n",
    "if product_price >3000:\n",
    "    print(f\"the price of the product is {(product_price*0.8)}\")\n",
    "elif product_price >=2000 and product_price <=3000:\n",
    "    print(f\"the price of the product is {(product_price*0.7)}\")\n",
    "elif  product_price >=100 and product_price >2000:\n",
    "    print(f\"the price of the product is {(product_price*0.6)}\")\n",
    "else:\n",
    "    print(\"Lets drink tea\")\n",
    "    print(\"i will also be ther\")"
   ]
  },
  {
   "cell_type": "code",
   "execution_count": null,
   "id": "a049e95b-df7a-4d15-a163-35d4e96f19cb",
   "metadata": {},
   "outputs": [],
   "source": []
  },
  {
   "cell_type": "code",
   "execution_count": 99,
   "id": "6896ac1e-292a-46c8-8d2d-c55d4074285d",
   "metadata": {},
   "outputs": [
    {
     "data": {
      "text/plain": [
       "True"
      ]
     },
     "execution_count": 99,
     "metadata": {},
     "output_type": "execute_result"
    }
   ],
   "source": [
    "# comaprission operator\n",
    "True==True"
   ]
  },
  {
   "cell_type": "code",
   "execution_count": 106,
   "id": "9355e014-697f-427a-833a-56034a0cd5a7",
   "metadata": {},
   "outputs": [
    {
     "name": "stdin",
     "output_type": "stream",
     "text": [
      "Enter the number 1111\n"
     ]
    },
    {
     "name": "stdout",
     "output_type": "stream",
     "text": [
      "Go Home and slipe\n"
     ]
    }
   ],
   "source": [
    "## Single statement\n",
    "\n",
    "val=int(input(\"Enter the number\"))\n",
    "if(val<=999):print(\"Value is less then equal to 999\")\n",
    "else:\n",
    "    print(\"Go Home and slipe\")"
   ]
  },
  {
   "cell_type": "code",
   "execution_count": null,
   "id": "31c7d58c-e629-4490-856b-dbc1a08b8d05",
   "metadata": {},
   "outputs": [],
   "source": []
  }
 ],
 "metadata": {
  "kernelspec": {
   "display_name": "Python 3 (ipykernel)",
   "language": "python",
   "name": "python3"
  },
  "language_info": {
   "codemirror_mode": {
    "name": "ipython",
    "version": 3
   },
   "file_extension": ".py",
   "mimetype": "text/x-python",
   "name": "python",
   "nbconvert_exporter": "python",
   "pygments_lexer": "ipython3",
   "version": "3.9.13"
  }
 },
 "nbformat": 4,
 "nbformat_minor": 5
}
