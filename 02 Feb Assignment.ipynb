{
 "cells": [
  {
   "cell_type": "markdown",
   "id": "de5c9799-c5c7-4f73-88c7-98d9c9d898ad",
   "metadata": {},
   "source": [
    "## 1.\n"
   ]
  },
  {
   "cell_type": "markdown",
   "id": "3e465f66-d35e-407b-a66c-f1e77e760c91",
   "metadata": {},
   "source": [
    "* Ordered: Tuples maintain the order of their elements, meaning that the first element comes before the second element, and so on.\n",
    "\n",
    "* Heterogeneous: Tuples can contain elements of different data types. For example, a tuple can contain an integer, a string, and a float."
   ]
  },
  {
   "cell_type": "markdown",
   "id": "e2791d9c-f931-4863-8cc5-6209345d3c91",
   "metadata": {},
   "source": [
    "* Yes, tuples are immutable. Once a tuple is created, its elements cannot be modified, added or deleted."
   ]
  },
  {
   "cell_type": "code",
   "execution_count": null,
   "id": "e4e93d17-4bec-4daa-b2d3-2cf8b344e122",
   "metadata": {},
   "outputs": [],
   "source": []
  },
  {
   "cell_type": "markdown",
   "id": "f3daf939-8bf1-432e-bbe3-9991bca285e3",
   "metadata": {},
   "source": [
    "## 2."
   ]
  },
  {
   "cell_type": "code",
   "execution_count": 97,
   "id": "00d81946-a5d1-4cfc-ac5e-fd85d8e8a3b6",
   "metadata": {},
   "outputs": [
    {
     "data": {
      "text/plain": [
       "2"
      ]
     },
     "execution_count": 97,
     "metadata": {},
     "output_type": "execute_result"
    }
   ],
   "source": [
    "tuple=(1,2,3,4,5,6,1,2,3,4,5,6)\n",
    "tuple.count(4)"
   ]
  },
  {
   "cell_type": "markdown",
   "id": "3ca147b6-f63e-4554-90d3-345d436e388f",
   "metadata": {},
   "source": [
    "* count: This method takes a single argument and returns the number of times that argument appears in the tuple."
   ]
  },
  {
   "cell_type": "code",
   "execution_count": 98,
   "id": "a26042ce-e194-4120-a102-cbc42c7bfa28",
   "metadata": {},
   "outputs": [
    {
     "data": {
      "text/plain": [
       "4"
      ]
     },
     "execution_count": 98,
     "metadata": {},
     "output_type": "execute_result"
    }
   ],
   "source": [
    "tuple=(1,2,3,4,'a','b','c','d')\n",
    "tuple.index('a')"
   ]
  },
  {
   "cell_type": "markdown",
   "id": "f4effdce-ec72-48ea-8624-e596130cdd3a",
   "metadata": {},
   "source": [
    "* index: This method takes a single argument and returns the index of the first occurrence of that argument in the tuple."
   ]
  },
  {
   "cell_type": "code",
   "execution_count": null,
   "id": "964b728b-e00d-4e3b-abf1-747f01d70e96",
   "metadata": {},
   "outputs": [],
   "source": []
  },
  {
   "cell_type": "markdown",
   "id": "8700fb72-5c44-4b69-b2fe-f5c7c3e36ebb",
   "metadata": {},
   "source": [
    "## 3."
   ]
  },
  {
   "cell_type": "markdown",
   "id": "45271873-12df-43d7-8bb9-93b03e4478e7",
   "metadata": {},
   "source": [
    "* Sets are unordered collections of unique elements."
   ]
  },
  {
   "cell_type": "code",
   "execution_count": null,
   "id": "d65385dc-2f71-4c27-beb9-ce5a1ec9e152",
   "metadata": {},
   "outputs": [],
   "source": []
  },
  {
   "cell_type": "code",
   "execution_count": 99,
   "id": "45980436-3b69-43f2-8fb5-04ba4f29405b",
   "metadata": {},
   "outputs": [
    {
     "name": "stdout",
     "output_type": "stream",
     "text": [
      "[1, 2, 3, 4]\n"
     ]
    }
   ],
   "source": [
    "my_list = [1, 1, 1, 2, 1, 3, 1, 4, 2, 1, 2, 2, 2, 3, 2, 4, 3, 1, 3, 2, 3, 3, 3, 4, 4, 1, 4, 2, 4, 3, 4, 4]\n",
    "my_set = set(my_list)\n",
    "unique_list = list(my_set)\n",
    "print(unique_list)\n"
   ]
  },
  {
   "cell_type": "markdown",
   "id": "d9d7675e-b102-4518-913e-0c13483ea2b8",
   "metadata": {},
   "source": [
    "## 4."
   ]
  },
  {
   "cell_type": "code",
   "execution_count": null,
   "id": "7f1d7e64-afbe-43c5-8765-b6f20f1f7e0b",
   "metadata": {},
   "outputs": [],
   "source": []
  },
  {
   "cell_type": "markdown",
   "id": "008f51dc-c5ba-4e79-b1f8-ae8dc0c347b1",
   "metadata": {},
   "source": [
    "* union() returns a new set that contains all the elements from both sets, while \n",
    "\n",
    "\n",
    "\n",
    "\n"
   ]
  },
  {
   "cell_type": "code",
   "execution_count": 100,
   "id": "db7edd60-fb50-4894-b9de-0ffd4e5fe8ca",
   "metadata": {},
   "outputs": [
    {
     "name": "stdout",
     "output_type": "stream",
     "text": [
      "{1, 2, 3, 4, 5}\n"
     ]
    }
   ],
   "source": [
    "set1 = {1, 2, 3}\n",
    "set2 = {3, 4, 5}\n",
    "set3 = set1.union(set2)\n",
    "print(set3)  \n"
   ]
  },
  {
   "cell_type": "code",
   "execution_count": null,
   "id": "8336523b-ba46-400e-878f-57c2a7dd3028",
   "metadata": {},
   "outputs": [],
   "source": []
  },
  {
   "cell_type": "markdown",
   "id": "87697731-c331-498d-8950-95987dbb8cae",
   "metadata": {},
   "source": [
    "* update() modifies the original set to contain all the elements from another set."
   ]
  },
  {
   "cell_type": "code",
   "execution_count": 101,
   "id": "b058fe83-268b-43b3-8eb4-83fb0aa958aa",
   "metadata": {},
   "outputs": [
    {
     "name": "stdout",
     "output_type": "stream",
     "text": [
      "{1, 2, 3, 4, 5}\n"
     ]
    }
   ],
   "source": [
    "set1 ={1,2,3,4}\n",
    "set2 ={1,2,3,5}\n",
    "set1.update(set2)\n",
    "print(set1)"
   ]
  },
  {
   "cell_type": "code",
   "execution_count": null,
   "id": "c36d4e58-5aeb-4186-8341-f96be8ec48bf",
   "metadata": {},
   "outputs": [],
   "source": []
  },
  {
   "cell_type": "markdown",
   "id": "bf723743-a8f4-498f-bf72-d7aa45ba5114",
   "metadata": {},
   "source": [
    "## 5"
   ]
  },
  {
   "cell_type": "code",
   "execution_count": null,
   "id": "cb8ad595-de24-4cd4-a052-c86c66dedeba",
   "metadata": {},
   "outputs": [],
   "source": []
  },
  {
   "cell_type": "markdown",
   "id": "5bdef708-51c3-4c80-8157-6eb70d220c76",
   "metadata": {},
   "source": [
    "* Dictionary is a data structure that stores data in key-value pairs, where each key is associated with a value. Keys are used to look up values, and they must be unique within the dictionary."
   ]
  },
  {
   "cell_type": "code",
   "execution_count": 102,
   "id": "d9c7f8db-4855-45e6-84a3-01f846637804",
   "metadata": {},
   "outputs": [],
   "source": [
    "dict= {'apple':4,'banana':6,'orange':10}"
   ]
  },
  {
   "cell_type": "code",
   "execution_count": 103,
   "id": "b513a0d8-886a-4678-8696-dcacf6fd9f84",
   "metadata": {},
   "outputs": [
    {
     "data": {
      "text/plain": [
       "{'apple': 4, 'banana': 6, 'orange': 10}"
      ]
     },
     "execution_count": 103,
     "metadata": {},
     "output_type": "execute_result"
    }
   ],
   "source": [
    "dict"
   ]
  },
  {
   "attachments": {},
   "cell_type": "markdown",
   "id": "ac05daca",
   "metadata": {},
   "source": [
    "## 6.\n"
   ]
  },
  {
   "cell_type": "markdown",
   "id": "b6081b58",
   "metadata": {},
   "source": []
  },
  {
   "attachments": {},
   "cell_type": "markdown",
   "id": "ff646ebf",
   "metadata": {},
   "source": [
    "* Yes, it is possible to create a nested dictionary in Python. A nested dictionary is a dictionary inside another dictionary. Here's an example of a simple one-level nested dictionary:"
   ]
  },
  {
   "cell_type": "code",
   "execution_count": 104,
   "id": "45d34a35-9174-4946-81fb-979bb79acd72",
   "metadata": {},
   "outputs": [],
   "source": [
    "dict1 ={\"month_name\":{\"JAN\":1,\"FEB\":2,\"MAR\":3,\"APR\":4,\"MAY\":5,\"JUN\":6,\"JUL\":7,\"AUG\":8,\"SEP\":9,\"OCT\":10,\"NOV\":11,\"DEC\":12}}"
   ]
  },
  {
   "cell_type": "code",
   "execution_count": 105,
   "id": "aa7c4e36-76f2-4524-8251-b54ef04c0dbe",
   "metadata": {},
   "outputs": [
    {
     "data": {
      "text/plain": [
       "{'month_name': {'JAN': 1,\n",
       "  'FEB': 2,\n",
       "  'MAR': 3,\n",
       "  'APR': 4,\n",
       "  'MAY': 5,\n",
       "  'JUN': 6,\n",
       "  'JUL': 7,\n",
       "  'AUG': 8,\n",
       "  'SEP': 9,\n",
       "  'OCT': 10,\n",
       "  'NOV': 11,\n",
       "  'DEC': 12}}"
      ]
     },
     "execution_count": 105,
     "metadata": {},
     "output_type": "execute_result"
    }
   ],
   "source": [
    "dict1"
   ]
  },
  {
   "cell_type": "code",
   "execution_count": 114,
   "id": "9f7f8893-8fc3-4d9f-ada1-08a173476964",
   "metadata": {},
   "outputs": [
    {
     "data": {
      "text/plain": [
       "12"
      ]
     },
     "execution_count": 114,
     "metadata": {},
     "output_type": "execute_result"
    }
   ],
   "source": [
    "dict1[\"month_name\"][\"DEC\"]"
   ]
  },
  {
   "cell_type": "code",
   "execution_count": null,
   "id": "cd4c0c2d",
   "metadata": {},
   "outputs": [],
   "source": []
  },
  {
   "attachments": {},
   "cell_type": "markdown",
   "id": "8b89ad7e",
   "metadata": {},
   "source": [
    "## 7."
   ]
  },
  {
   "cell_type": "code",
   "execution_count": 116,
   "id": "3b924638",
   "metadata": {},
   "outputs": [],
   "source": [
    "dict2={\"name\":\"Md Sarwar\",\"age\":25}"
   ]
  },
  {
   "cell_type": "code",
   "execution_count": 118,
   "id": "772731cd",
   "metadata": {},
   "outputs": [
    {
     "data": {
      "text/plain": [
       "['Python', 'Machine Learning', 'Deep Learning']"
      ]
     },
     "execution_count": 118,
     "metadata": {},
     "output_type": "execute_result"
    }
   ],
   "source": [
    "dict2.setdefault(\"topics\",['Python', 'Machine Learning', 'Deep Learning'])"
   ]
  },
  {
   "cell_type": "code",
   "execution_count": 119,
   "id": "82433923",
   "metadata": {},
   "outputs": [
    {
     "name": "stdout",
     "output_type": "stream",
     "text": [
      "{'name': 'Md Sarwar', 'age': 25, 'topics': ['Python', 'Machine Learning', 'Deep Learning']}\n"
     ]
    }
   ],
   "source": [
    "print(dict2)"
   ]
  },
  {
   "cell_type": "code",
   "execution_count": null,
   "id": "7cf23bc2",
   "metadata": {},
   "outputs": [],
   "source": []
  },
  {
   "cell_type": "code",
   "execution_count": null,
   "id": "9f7c74d3",
   "metadata": {},
   "outputs": [],
   "source": []
  },
  {
   "attachments": {},
   "cell_type": "markdown",
   "id": "d3a2b046",
   "metadata": {},
   "source": [
    "## 8."
   ]
  },
  {
   "cell_type": "code",
   "execution_count": 121,
   "id": "c61cc39d",
   "metadata": {},
   "outputs": [],
   "source": [
    "dict3 = {'Sport': 'Cricket', 'Teams': ['India', 'Australia', 'England', 'South Africa', 'Sri Lanka', 'New Zealand']}"
   ]
  },
  {
   "cell_type": "code",
   "execution_count": 123,
   "id": "b96701da",
   "metadata": {},
   "outputs": [
    {
     "data": {
      "text/plain": [
       "dict_keys(['Sport', 'Teams'])"
      ]
     },
     "execution_count": 123,
     "metadata": {},
     "output_type": "execute_result"
    }
   ],
   "source": [
    "dict3.keys()"
   ]
  },
  {
   "cell_type": "code",
   "execution_count": 124,
   "id": "827696e9",
   "metadata": {},
   "outputs": [
    {
     "data": {
      "text/plain": [
       "dict_items([('Sport', 'Cricket'), ('Teams', ['India', 'Australia', 'England', 'South Africa', 'Sri Lanka', 'New Zealand'])])"
      ]
     },
     "execution_count": 124,
     "metadata": {},
     "output_type": "execute_result"
    }
   ],
   "source": [
    "dict3.items()"
   ]
  },
  {
   "cell_type": "code",
   "execution_count": 125,
   "id": "d5b30ef8",
   "metadata": {},
   "outputs": [
    {
     "data": {
      "text/plain": [
       "dict_values(['Cricket', ['India', 'Australia', 'England', 'South Africa', 'Sri Lanka', 'New Zealand']])"
      ]
     },
     "execution_count": 125,
     "metadata": {},
     "output_type": "execute_result"
    }
   ],
   "source": [
    "dict3.values()"
   ]
  },
  {
   "cell_type": "code",
   "execution_count": null,
   "id": "084e9d02",
   "metadata": {},
   "outputs": [],
   "source": []
  }
 ],
 "metadata": {
  "kernelspec": {
   "display_name": "base",
   "language": "python",
   "name": "python3"
  },
  "language_info": {
   "codemirror_mode": {
    "name": "ipython",
    "version": 3
   },
   "file_extension": ".py",
   "mimetype": "text/x-python",
   "name": "python",
   "nbconvert_exporter": "python",
   "pygments_lexer": "ipython3",
   "version": "3.9.13"
  },
  "vscode": {
   "interpreter": {
    "hash": "f0f0e2e2e5d8ad6b8f748c4384ebf5a6a3fa78bdd093ee19a217e59b09dce8d0"
   }
  }
 },
 "nbformat": 4,
 "nbformat_minor": 5
}
