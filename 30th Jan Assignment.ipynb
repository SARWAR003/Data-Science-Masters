{
 "cells": [
  {
   "cell_type": "markdown",
   "id": "4c046061-413b-48ea-8dc4-e06454602aa9",
   "metadata": {},
   "source": [
    "## 1."
   ]
  },
  {
   "cell_type": "code",
   "execution_count": 41,
   "id": "3b54867e-7ec8-44af-b520-c11636f0dbab",
   "metadata": {},
   "outputs": [
    {
     "name": "stdin",
     "output_type": "stream",
     "text": [
      "Enter The percentage:  1\n"
     ]
    },
    {
     "name": "stdout",
     "output_type": "stream",
     "text": [
      "Grade: D\n"
     ]
    }
   ],
   "source": [
    "\n",
    "percentage_from = int(input(\"Enter The percentage: \"))\n",
    "\n",
    "if percentage_from > 90:\n",
    "    grade = \"A\"\n",
    "elif percentage_from > 80 and percentage_from <= 90:\n",
    "    grade = \"B\"\n",
    "elif percentage_from >= 60 and percentage_from <= 80:\n",
    "    grade = \"C\"\n",
    "elif percentage_from < 60:\n",
    "    grade = \"D\"\n",
    "\n",
    "    \n",
    "print(\"Grade:\", grade)"
   ]
  },
  {
   "cell_type": "code",
   "execution_count": null,
   "id": "81762891-063a-4b0f-abe7-33f38c689b52",
   "metadata": {},
   "outputs": [],
   "source": []
  },
  {
   "cell_type": "code",
   "execution_count": null,
   "id": "8f32497f-a2a0-4ece-b074-757e28779564",
   "metadata": {},
   "outputs": [],
   "source": []
  },
  {
   "cell_type": "code",
   "execution_count": null,
   "id": "f8685437-f8ca-4916-b5d2-3c0fc27875ba",
   "metadata": {},
   "outputs": [],
   "source": []
  },
  {
   "cell_type": "markdown",
   "id": "5cc55a2e-abe1-45fa-8bdc-52e25dc0677a",
   "metadata": {
    "tags": []
   },
   "source": [
    "## 2."
   ]
  },
  {
   "cell_type": "code",
   "execution_count": 42,
   "id": "9fe662f6-e8de-4004-8f60-78c04a88de6e",
   "metadata": {},
   "outputs": [
    {
     "name": "stdin",
     "output_type": "stream",
     "text": [
      "Enter the cost price of the bike (in Rs):  10\n"
     ]
    },
    {
     "name": "stdout",
     "output_type": "stream",
     "text": [
      "The road tax to be paid is Rs 0.5\n"
     ]
    }
   ],
   "source": [
    "\n",
    "cost_price = float(input(\"Enter the cost price of the bike (in Rs): \"))\n",
    "\n",
    "if cost_price > 100000:\n",
    "    tax = 0.15\n",
    "elif cost_price > 50000 and cost_price <= 100000:\n",
    "    tax = 0.10\n",
    "elif cost_price <= 50000:\n",
    "    tax = 0.05\n",
    "\n",
    "\n",
    "road_tax = cost_price * tax\n",
    "print(\"The road tax to be paid is Rs\", road_tax)\n"
   ]
  },
  {
   "cell_type": "code",
   "execution_count": null,
   "id": "e0c199b4-5899-42ca-a566-4cceb19a92ec",
   "metadata": {},
   "outputs": [],
   "source": []
  },
  {
   "cell_type": "code",
   "execution_count": null,
   "id": "63cf081d-0a38-42c7-a878-3a0b23747f27",
   "metadata": {},
   "outputs": [],
   "source": []
  },
  {
   "cell_type": "markdown",
   "id": "9770b446-0871-4c46-96e7-b2cd8e1f10b3",
   "metadata": {},
   "source": [
    "## 3."
   ]
  },
  {
   "cell_type": "code",
   "execution_count": 3,
   "id": "19dcf617-5ca6-4a4f-a0fc-d59a6852b01e",
   "metadata": {},
   "outputs": [
    {
     "name": "stdin",
     "output_type": "stream",
     "text": [
      "Enter the city name kolkata\n"
     ]
    },
    {
     "name": "stdout",
     "output_type": "stream",
     "text": [
      "No Result Found\n"
     ]
    }
   ],
   "source": [
    "\n",
    "City= input(\"Enter the city name\")\n",
    "if City ==\"Delhi\":\n",
    "    print(\"Red fort\")\n",
    "elif City ==\"Agra\":\n",
    "    print(\"Taj Mahal\")\n",
    "elif City ==\"Jaipur\":\n",
    "    print(\"Jal Mahal\")\n",
    "else:\n",
    "    print(\"No Result Found\")"
   ]
  },
  {
   "cell_type": "code",
   "execution_count": null,
   "id": "e0307264-d93d-4e19-b8b3-4bb3baac181e",
   "metadata": {},
   "outputs": [],
   "source": []
  },
  {
   "cell_type": "markdown",
   "id": "d5f1ce88-6deb-48bd-a1dd-4d742c40e039",
   "metadata": {},
   "source": [
    "## 4."
   ]
  },
  {
   "cell_type": "code",
   "execution_count": 90,
   "id": "a2e8438a-c48e-4778-b694-d09955b87dea",
   "metadata": {},
   "outputs": [
    {
     "name": "stdin",
     "output_type": "stream",
     "text": [
      "Enter a number:  2000\n"
     ]
    },
    {
     "name": "stdout",
     "output_type": "stream",
     "text": [
      "The number  5\n"
     ]
    }
   ],
   "source": [
    "\n",
    "num = int(input(\"Enter a number: \"))\n",
    "count = 0\n",
    "\n",
    "while num > 10:\n",
    "    num = num // 3\n",
    "    count += 1\n",
    "\n",
    "print(\"The number \", count)\n"
   ]
  },
  {
   "cell_type": "code",
   "execution_count": null,
   "id": "9bcd3fcf-e220-429e-9300-537434b5658e",
   "metadata": {},
   "outputs": [],
   "source": []
  },
  {
   "cell_type": "code",
   "execution_count": null,
   "id": "694f33d9-8573-4a8a-be59-77fd74e9bf6e",
   "metadata": {},
   "outputs": [],
   "source": []
  },
  {
   "cell_type": "markdown",
   "id": "4280961d-0793-4cf6-9913-6c10d7e09fb2",
   "metadata": {},
   "source": [
    "## 5."
   ]
  },
  {
   "cell_type": "markdown",
   "id": "044c6e79-ead6-4ab3-bb40-62f1a52f36c9",
   "metadata": {},
   "source": [
    "* It repeats a statement or multiple statements when a provided condition is True\n",
    "   * Before performing a loop body it check for a condition"
   ]
  },
  {
   "cell_type": "code",
   "execution_count": null,
   "id": "27790a9e-e6b9-45a2-aac7-93b80b74d8ef",
   "metadata": {},
   "outputs": [],
   "source": []
  },
  {
   "cell_type": "code",
   "execution_count": 109,
   "id": "74f9666a-269e-4801-b6a3-b651e3303a2a",
   "metadata": {},
   "outputs": [
    {
     "name": "stdout",
     "output_type": "stream",
     "text": [
      "1 3 5 7 9 11 13 15 17 19 "
     ]
    }
   ],
   "source": [
    "## example While Loop\n",
    "i = 1\n",
    "while i < 20:\n",
    "    print(i,end=\" \")\n",
    "    i += 2\n"
   ]
  },
  {
   "cell_type": "code",
   "execution_count": null,
   "id": "d2f24eeb-04c6-41ad-8e44-307d3a39bef0",
   "metadata": {},
   "outputs": [],
   "source": []
  },
  {
   "cell_type": "code",
   "execution_count": 117,
   "id": "7b88958e-b771-4ca5-a3de-7a70c07b3609",
   "metadata": {},
   "outputs": [
    {
     "name": "stdout",
     "output_type": "stream",
     "text": [
      "Md,  Sarwar\n",
      "Md,  Sarwar\n",
      "Md,  Sarwar\n",
      "Md,  Sarwar\n"
     ]
    }
   ],
   "source": [
    "## example While Loop\n",
    "i = 1\n",
    "while i <= 4:\n",
    "    print(\"Md, \" \" Sarwar\")\n",
    "    i += 1\n"
   ]
  },
  {
   "cell_type": "code",
   "execution_count": null,
   "id": "9e072bdf-4001-4b6d-b599-381f5b24a40a",
   "metadata": {},
   "outputs": [],
   "source": []
  },
  {
   "cell_type": "markdown",
   "id": "a9c95c94-8e92-4b04-8cc3-d908785e933a",
   "metadata": {},
   "source": [
    "## 6."
   ]
  },
  {
   "cell_type": "code",
   "execution_count": null,
   "id": "1831db4f-7398-4ca7-8dfa-ab89ec18b53d",
   "metadata": {},
   "outputs": [],
   "source": []
  },
  {
   "cell_type": "code",
   "execution_count": 146,
   "id": "5912bd16-558c-4f8c-a1b0-acd1c322091f",
   "metadata": {},
   "outputs": [
    {
     "name": "stdout",
     "output_type": "stream",
     "text": [
      "*\n",
      "**\n",
      "***\n",
      "****\n",
      "*****\n"
     ]
    }
   ],
   "source": [
    "rows = 5\n",
    "current_row = 1\n",
    "\n",
    "while current_row <= rows:\n",
    "    stars = current_row\n",
    "    while stars > 0:\n",
    "        print(\"*\", end=\"\")\n",
    "        stars -= 1\n",
    "\n",
    "    print()\n",
    "    current_row += 1"
   ]
  },
  {
   "cell_type": "code",
   "execution_count": null,
   "id": "3abb178a-b3b0-4918-8a90-74f6580f00a2",
   "metadata": {},
   "outputs": [],
   "source": []
  },
  {
   "cell_type": "code",
   "execution_count": null,
   "id": "29dad4f5-338d-4f49-b247-9c6f6695eaec",
   "metadata": {},
   "outputs": [],
   "source": []
  },
  {
   "cell_type": "code",
   "execution_count": 133,
   "id": "f74e8e0d-4c72-456d-89ae-abd15a13b405",
   "metadata": {},
   "outputs": [
    {
     "name": "stdout",
     "output_type": "stream",
     "text": [
      "    *\n",
      "   ***\n",
      "  *****\n",
      " *******\n",
      "*********\n"
     ]
    }
   ],
   "source": [
    "rows = 5\n",
    "current_row = 1\n",
    "\n",
    "while current_row <= rows:\n",
    "    spaces = rows - current_row\n",
    "    while spaces > 0:\n",
    "        print(\" \", end=\"\")\n",
    "        spaces -= 1\n",
    "\n",
    "    stars = 2 * current_row - 1\n",
    "    while stars > 0:\n",
    "        print(\"*\", end=\"\")\n",
    "        stars -= 1\n",
    "\n",
    "    print()\n",
    "    current_row += 1\n"
   ]
  },
  {
   "cell_type": "code",
   "execution_count": null,
   "id": "a5cfc3aa-f979-4372-8a5f-ef4aee5b2855",
   "metadata": {},
   "outputs": [],
   "source": []
  },
  {
   "cell_type": "code",
   "execution_count": null,
   "id": "d843cd26-2059-4f89-ac07-2c2d0f60f75e",
   "metadata": {},
   "outputs": [],
   "source": []
  },
  {
   "cell_type": "code",
   "execution_count": 134,
   "id": "2b154952-83f4-44da-bbc1-60352564d245",
   "metadata": {},
   "outputs": [
    {
     "name": "stdout",
     "output_type": "stream",
     "text": [
      "    *\n",
      "   ***\n",
      "  *****\n",
      " *******\n",
      "*********\n",
      " *******\n",
      "  *****\n",
      "   ***\n",
      "    *\n"
     ]
    }
   ],
   "source": [
    "rows = 5\n",
    "current_row = 1\n",
    "\n",
    "# Print upper triangle\n",
    "while current_row <= rows:\n",
    "    spaces = rows - current_row\n",
    "    while spaces > 0:\n",
    "        print(\" \", end=\"\")\n",
    "        spaces -= 1\n",
    "\n",
    "    stars = 2 * current_row - 1\n",
    "    while stars > 0:\n",
    "        print(\"*\", end=\"\")\n",
    "        stars -= 1\n",
    "\n",
    "    print()\n",
    "    current_row += 1\n",
    "\n",
    "# Print lower triangle\n",
    "current_row = rows - 1\n",
    "while current_row > 0:\n",
    "    spaces = rows - current_row\n",
    "    while spaces > 0:\n",
    "        print(\" \", end=\"\")\n",
    "        spaces -= 1\n",
    "\n",
    "    stars = 2 * current_row - 1\n",
    "    while stars > 0:\n",
    "        print(\"*\", end=\"\")\n",
    "        stars -= 1\n",
    "\n",
    "    print()\n",
    "    current_row -= 1\n"
   ]
  },
  {
   "cell_type": "markdown",
   "id": "2ea764f0-540b-4c69-8d1b-6854a7cbbf20",
   "metadata": {},
   "source": [
    "# 7."
   ]
  },
  {
   "cell_type": "code",
   "execution_count": 152,
   "id": "a9f06e52-ac4c-4668-9c48-64b9336da66b",
   "metadata": {},
   "outputs": [
    {
     "name": "stdout",
     "output_type": "stream",
     "text": [
      "10\n",
      "9\n",
      "8\n",
      "7\n",
      "6\n",
      "5\n",
      "4\n",
      "3\n",
      "2\n",
      "1\n"
     ]
    }
   ],
   "source": [
    "num=10\n",
    "while num>=1:\n",
    "    print(num)\n",
    "    num-=1"
   ]
  },
  {
   "cell_type": "code",
   "execution_count": null,
   "id": "183360db-1782-4e80-888f-816634d43631",
   "metadata": {},
   "outputs": [],
   "source": []
  },
  {
   "cell_type": "code",
   "execution_count": null,
   "id": "51c68626-6551-44dc-bb99-9a3307b541a3",
   "metadata": {},
   "outputs": [],
   "source": []
  },
  {
   "cell_type": "code",
   "execution_count": null,
   "id": "6b7f4caa-32b4-42bc-b4d3-6bc6e1eba562",
   "metadata": {},
   "outputs": [],
   "source": []
  }
 ],
 "metadata": {
  "kernelspec": {
   "display_name": "Python 3 (ipykernel)",
   "language": "python",
   "name": "python3"
  },
  "language_info": {
   "codemirror_mode": {
    "name": "ipython",
    "version": 3
   },
   "file_extension": ".py",
   "mimetype": "text/x-python",
   "name": "python",
   "nbconvert_exporter": "python",
   "pygments_lexer": "ipython3",
   "version": "3.9.13"
  }
 },
 "nbformat": 4,
 "nbformat_minor": 5
}
