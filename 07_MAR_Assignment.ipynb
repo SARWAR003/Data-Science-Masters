{
 "cells": [
  {
   "cell_type": "markdown",
   "id": "2d0b1776-89cf-49c8-91cd-a785f6fb7aba",
   "metadata": {},
   "source": [
    "## 1."
   ]
  },
  {
   "cell_type": "markdown",
   "id": "5ec60678-40e0-4b53-b7a7-fa2ef5599917",
   "metadata": {},
   "source": [
    "1. Mean: The mean, also known as the average, is calculated by summing up all the values in a dataset and then dividing the sum by the total number of values. "
   ]
  },
  {
   "cell_type": "markdown",
   "id": "9b5f53e3-bc7c-4d0b-b5a1-026c98308618",
   "metadata": {},
   "source": [
    "2. Median: The median is the middle value in a dataset when the values are arranged in ascending or descending order. If there is an odd number of values, the median is the middle value."
   ]
  },
  {
   "cell_type": "markdown",
   "id": "1570c5a5-dfdb-41fd-ac41-c3cff3637fd4",
   "metadata": {},
   "source": [
    "3. Mode: The mode is the value or values that appear most frequently in a dataset. Unlike the mean and median, the mode does not require the data to be numeric and can be used with categorical or qualitative data. A dataset can have one mode (unimodal), two modes (bimodal), or more than two modes (multimodal). "
   ]
  },
  {
   "cell_type": "code",
   "execution_count": null,
   "id": "9832e125-1e13-47bb-ac6f-3e1721d59b5b",
   "metadata": {},
   "outputs": [],
   "source": []
  },
  {
   "cell_type": "markdown",
   "id": "119bc7e5-207f-4c3f-86e1-78ce0158cd1f",
   "metadata": {},
   "source": [
    "## 2."
   ]
  },
  {
   "cell_type": "markdown",
   "id": "a77201db-3d12-466c-8e16-428c57910d7b",
   "metadata": {},
   "source": [
    "Mean:\n",
    "The mean is calculated by summing up all the values in a dataset and dividing the sum by the total number of values. It is influenced by extreme values and provides a measure of the arithmetic average. The mean is commonly used when the data is normally distributed and does not have significant outliers."
   ]
  },
  {
   "cell_type": "markdown",
   "id": "2f481626-9a44-4807-8379-1bdd269fd1e2",
   "metadata": {},
   "source": [
    "Median:\n",
    "The median is the middle value in a dataset when the values are arranged in ascending or descending order. If there is an odd number of values, the median is the middle value. If there is an even number of values, the median is the average of the two middle values. The median is not affected by extreme values and is suitable for data with outliers or when the data is skewed."
   ]
  },
  {
   "cell_type": "markdown",
   "id": "1bbca552-ea8b-4989-8973-ed08098a8574",
   "metadata": {},
   "source": [
    "Mode:\n",
    "The mode is the value or values that appear most frequently in a dataset. It is determined by identifying the value(s) with the highest frequency. The mode can be used with both numeric and categorical data, making it versatile. It is especially useful when dealing with qualitative or categorical variables."
   ]
  },
  {
   "cell_type": "markdown",
   "id": "33bfeede-012c-4915-b27b-dddb1a101738",
   "metadata": {},
   "source": [
    " * The choice of which measure to use depends on the nature of the dataset and the purpose of analysis."
   ]
  },
  {
   "cell_type": "markdown",
   "id": "62e73861-cca9-4c9a-b6a9-4ba5b8371048",
   "metadata": {},
   "source": [
    "* The mean is useful when a balanced representation of the dataset is desired, and extreme values are not a concern. It provides a sense of the average value.\n",
    "* The median is preferred when there are extreme values or the data is skewed. It represents the middle value and is less influenced by outliers.\n",
    "* The mode is helpful for identifying the most frequent value(s) in a dataset. It is commonly used with categorical or qualitative data and can provide insights into the most common category or characteristic."
   ]
  },
  {
   "cell_type": "code",
   "execution_count": null,
   "id": "e34671ab-9b33-44a2-bc3d-7d23b86ecb76",
   "metadata": {},
   "outputs": [],
   "source": []
  },
  {
   "cell_type": "markdown",
   "id": "e9301d47-89b9-4be7-a49b-5d775f4e3d57",
   "metadata": {},
   "source": [
    "## 3."
   ]
  },
  {
   "cell_type": "code",
   "execution_count": 3,
   "id": "da5d5a37-3c9b-43b6-9c43-3c0cc9c6614e",
   "metadata": {},
   "outputs": [],
   "source": [
    "import numpy as np"
   ]
  },
  {
   "cell_type": "code",
   "execution_count": 4,
   "id": "6bd9a926-5c6f-47e9-bff3-882bd8ce0994",
   "metadata": {},
   "outputs": [],
   "source": [
    "height_data=[178,177,176,177,178.2,178,175,179,180,175,178.9,176.2,177,172.5,178,176.5]"
   ]
  },
  {
   "cell_type": "code",
   "execution_count": 5,
   "id": "3f73b7ae-e97e-459f-9579-e1f85e73814f",
   "metadata": {},
   "outputs": [
    {
     "data": {
      "text/plain": [
       "177.01875"
      ]
     },
     "execution_count": 5,
     "metadata": {},
     "output_type": "execute_result"
    }
   ],
   "source": [
    "np.mean(height_data)"
   ]
  },
  {
   "cell_type": "code",
   "execution_count": 6,
   "id": "dc964e73-fd42-4939-819f-d7ec4ae89e1c",
   "metadata": {},
   "outputs": [
    {
     "data": {
      "text/plain": [
       "177.0"
      ]
     },
     "execution_count": 6,
     "metadata": {},
     "output_type": "execute_result"
    }
   ],
   "source": [
    "np.median(height_data)"
   ]
  },
  {
   "cell_type": "code",
   "execution_count": 8,
   "id": "f297aa8d-307c-4763-86de-eed19c0cd815",
   "metadata": {},
   "outputs": [],
   "source": [
    "from scipy import stats"
   ]
  },
  {
   "cell_type": "code",
   "execution_count": 9,
   "id": "c650ab61-1b3f-47da-bd0a-c7827c6e8fc6",
   "metadata": {},
   "outputs": [
    {
     "name": "stderr",
     "output_type": "stream",
     "text": [
      "/tmp/ipykernel_98/2661021712.py:1: FutureWarning: Unlike other reduction functions (e.g. `skew`, `kurtosis`), the default behavior of `mode` typically preserves the axis it acts along. In SciPy 1.11.0, this behavior will change: the default value of `keepdims` will become False, the `axis` over which the statistic is taken will be eliminated, and the value None will no longer be accepted. Set `keepdims` to True or False to avoid this warning.\n",
      "  stats.mode(height_data)\n"
     ]
    },
    {
     "data": {
      "text/plain": [
       "ModeResult(mode=array([177.]), count=array([3]))"
      ]
     },
     "execution_count": 9,
     "metadata": {},
     "output_type": "execute_result"
    }
   ],
   "source": [
    "stats.mode(height_data)"
   ]
  },
  {
   "cell_type": "code",
   "execution_count": null,
   "id": "04f42cea-7c87-46e5-af19-ecbe46b9910c",
   "metadata": {},
   "outputs": [],
   "source": []
  },
  {
   "cell_type": "markdown",
   "id": "dd4caede-7709-4874-84cc-951329bcb14b",
   "metadata": {},
   "source": [
    "## 4."
   ]
  },
  {
   "cell_type": "code",
   "execution_count": 11,
   "id": "6ecb8486-99eb-4f70-a70d-1c717c8d049a",
   "metadata": {},
   "outputs": [],
   "source": [
    "import numpy as np"
   ]
  },
  {
   "cell_type": "code",
   "execution_count": 12,
   "id": "c22d1b3a-ae5e-4d24-b452-6e4d94586913",
   "metadata": {},
   "outputs": [],
   "source": [
    "height_data=[178,177,176,177,178.2,178,175,179,180,175,178.9,176.2,177,172.5,178,176.5]"
   ]
  },
  {
   "cell_type": "code",
   "execution_count": 14,
   "id": "159a6259-7094-4c67-963f-3f41d0300cea",
   "metadata": {},
   "outputs": [],
   "source": [
    "std=np.std(height_data)"
   ]
  },
  {
   "cell_type": "code",
   "execution_count": 15,
   "id": "d538b1eb-a78b-4f23-8d01-376aa947173f",
   "metadata": {},
   "outputs": [
    {
     "data": {
      "text/plain": [
       "1.7885814036548633"
      ]
     },
     "execution_count": 15,
     "metadata": {},
     "output_type": "execute_result"
    }
   ],
   "source": [
    "std"
   ]
  },
  {
   "cell_type": "code",
   "execution_count": null,
   "id": "c8589bb0-91ec-42a1-aff5-0495892c716c",
   "metadata": {},
   "outputs": [],
   "source": []
  },
  {
   "cell_type": "markdown",
   "id": "0667a69f-f13c-49d8-aed7-2da0235c40a4",
   "metadata": {},
   "source": [
    "## 5."
   ]
  },
  {
   "cell_type": "markdown",
   "id": "f08ac407-fb37-4716-8dc2-3d871a8f92b3",
   "metadata": {},
   "source": [
    "* Range:\n",
    "The range is the simplest measure of dispersion and represents the difference between the maximum and minimum values in a dataset. It provides a rough estimate of the spread but is sensitive to outliers."
   ]
  },
  {
   "cell_type": "markdown",
   "id": "70b3df4f-3c26-4383-b706-5932ea23d9e8",
   "metadata": {},
   "source": [
    "Example:"
   ]
  },
  {
   "cell_type": "code",
   "execution_count": 18,
   "id": "72d24c8e-ca95-4127-8b03-dd5ad9a3983d",
   "metadata": {},
   "outputs": [],
   "source": [
    "import numpy as np"
   ]
  },
  {
   "cell_type": "code",
   "execution_count": 19,
   "id": "56e57a4f-62f9-481a-9f2b-fd5a33f5a328",
   "metadata": {},
   "outputs": [],
   "source": [
    "exam_scores=[75, 80, 85, 90, 95]"
   ]
  },
  {
   "cell_type": "code",
   "execution_count": 20,
   "id": "ae4643cf-4d1d-481f-b1c7-89ac2d295158",
   "metadata": {},
   "outputs": [
    {
     "data": {
      "text/plain": [
       "95"
      ]
     },
     "execution_count": 20,
     "metadata": {},
     "output_type": "execute_result"
    }
   ],
   "source": [
    "np.max(exam_scores)"
   ]
  },
  {
   "cell_type": "code",
   "execution_count": 21,
   "id": "da8b04bb-048a-4e6a-bc86-24a8cf3c25e8",
   "metadata": {},
   "outputs": [
    {
     "data": {
      "text/plain": [
       "75"
      ]
     },
     "execution_count": 21,
     "metadata": {},
     "output_type": "execute_result"
    }
   ],
   "source": [
    "np.min(exam_scores)"
   ]
  },
  {
   "cell_type": "markdown",
   "id": "7007b2e3-3ae5-4698-888f-ce5e1ebe87e9",
   "metadata": {},
   "source": [
    "* Variance:\n",
    "Variance measures the average squared deviation of each data point from the mean. It provides a more precise measure of spread by considering the differences between each value and the mean, giving more weight to larger deviations. A higher variance indicates a wider spread, while a lower variance suggests a narrower spread."
   ]
  },
  {
   "cell_type": "markdown",
   "id": "a6db6162-279e-4d14-9cff-c0d56f4c3839",
   "metadata": {},
   "source": [
    "Example:"
   ]
  },
  {
   "cell_type": "code",
   "execution_count": 25,
   "id": "af3beb70-ba50-4acd-8288-dad339546335",
   "metadata": {},
   "outputs": [],
   "source": [
    "import numpy as np"
   ]
  },
  {
   "cell_type": "code",
   "execution_count": 27,
   "id": "e741f276-686a-4b76-8597-1d539f8bf7c9",
   "metadata": {},
   "outputs": [
    {
     "data": {
      "text/plain": [
       "50.0"
      ]
     },
     "execution_count": 27,
     "metadata": {},
     "output_type": "execute_result"
    }
   ],
   "source": [
    "np.var(exam_scores)"
   ]
  },
  {
   "cell_type": "markdown",
   "id": "2a5ccf61-8dc7-4f8b-b289-f332fb6c15f5",
   "metadata": {},
   "source": [
    "* Standard Deviation:\n",
    "The standard deviation is the square root of the variance and provides a more interpretable measure of spread. It quantifies the average amount by which data points deviate from the mean. Like variance, a higher standard deviation indicates a wider spread, while a lower standard deviation indicates a narrower spread."
   ]
  },
  {
   "cell_type": "code",
   "execution_count": 29,
   "id": "22b6da73-e669-46ed-be3b-77e194f2a18e",
   "metadata": {},
   "outputs": [],
   "source": [
    "import numpy as np"
   ]
  },
  {
   "cell_type": "code",
   "execution_count": 30,
   "id": "05bc32d2-2d6d-404d-ae4d-dc53a6d64969",
   "metadata": {},
   "outputs": [
    {
     "data": {
      "text/plain": [
       "7.0710678118654755"
      ]
     },
     "execution_count": 30,
     "metadata": {},
     "output_type": "execute_result"
    }
   ],
   "source": [
    "np.std(exam_scores)"
   ]
  },
  {
   "cell_type": "code",
   "execution_count": null,
   "id": "1da9925a-7a02-4568-a57d-6faefb52a6ec",
   "metadata": {},
   "outputs": [],
   "source": []
  },
  {
   "cell_type": "markdown",
   "id": "4b2d42ae-bdc2-490b-beba-56edd4012d50",
   "metadata": {},
   "source": [
    "## 6."
   ]
  },
  {
   "cell_type": "markdown",
   "id": "bd2865c0-3a9b-4b97-a570-20654e01112c",
   "metadata": {},
   "source": [
    "A Venn diagram is a graphical representation of sets or groups of items, illustrating the relationships and overlaps between them. It was introduced by the mathematician John Venn in the late 19th century. Venn diagrams consist of overlapping circles or other closed curves that represent the sets, with the overlapping regions indicating the common elements or characteristics shared by the sets."
   ]
  },
  {
   "cell_type": "code",
   "execution_count": null,
   "id": "a5d44ded-d173-4d50-9843-e5efab2a820b",
   "metadata": {},
   "outputs": [],
   "source": []
  },
  {
   "cell_type": "markdown",
   "id": "37b5b016-515e-4f38-b34c-3995355b7b8a",
   "metadata": {},
   "source": [
    "## 7."
   ]
  },
  {
   "cell_type": "markdown",
   "id": "201b26e6-8385-4bc2-b0d9-0dea69aa0b8d",
   "metadata": {},
   "source": [
    "data_sets A = {2, 3, 4, 5, 6, 7} and B = {0, 2, 6, 8, 10},\n",
    "\n",
    "(i) A ∩ B (intersection of A and B):\n",
    "    \n",
    "    A ∩ B = {2, 6}\n",
    "    \n",
    "    \n"
   ]
  },
  {
   "cell_type": "code",
   "execution_count": null,
   "id": "ade22291-7e0a-45b9-ac03-874b720b4f6f",
   "metadata": {},
   "outputs": [],
   "source": []
  },
  {
   "cell_type": "markdown",
   "id": "b2303d65-b531-44d7-a6b9-a9e3e4a7baec",
   "metadata": {},
   "source": [
    "data_sets A = {2, 3, 4, 5, 6, 7} and B = {0, 2, 6, 8, 10},\n",
    "\n",
    "(ii) A ⋃ B (union of A and B):\n",
    "    \n",
    "    A ⋃ B = {0, 2, 3, 4, 5, 6, 7, 8, 10}\n"
   ]
  },
  {
   "cell_type": "code",
   "execution_count": null,
   "id": "de32ce93-c908-4713-8d0f-e6050972cf9b",
   "metadata": {},
   "outputs": [],
   "source": []
  },
  {
   "cell_type": "markdown",
   "id": "232eb771-2db3-4771-91cc-517c465bbf68",
   "metadata": {},
   "source": [
    "## 8."
   ]
  },
  {
   "cell_type": "markdown",
   "id": "be369dd6-a821-4a2d-9e87-3513a31b3465",
   "metadata": {},
   "source": [
    "Skewness is a statistical measure that describes the asymmetry or departure from symmetry in a distribution of data points. It provides insights into the shape of the distribution, specifically the extent to which it is skewed or tilted towards one side."
   ]
  },
  {
   "cell_type": "markdown",
   "id": "cf90629c-a27e-4e85-aa35-7d5cf74489b2",
   "metadata": {},
   "source": [
    "1. Right Skewness/Positive Skewness\n",
    "2. Left Skewness/ Negative Skewness\n",
    "3. Zero Skewness"
   ]
  },
  {
   "cell_type": "code",
   "execution_count": null,
   "id": "2b15132f-32da-495e-ab91-8120fe7ff7c5",
   "metadata": {},
   "outputs": [],
   "source": []
  },
  {
   "cell_type": "markdown",
   "id": "41e667a7-e343-4460-95ec-00f88695ab24",
   "metadata": {},
   "source": [
    "## 9."
   ]
  },
  {
   "cell_type": "markdown",
   "id": "b4479fb4-3741-4d03-a1be-a7d0b3137daa",
   "metadata": {},
   "source": [
    "When a dataset is right-skewed, the tail of the distribution is longer on the right side, and there are a few extreme values pulling the mean in that direction. The presence of these higher values in the right tail increases the mean, dragging it towards the right."
   ]
  },
  {
   "cell_type": "code",
   "execution_count": null,
   "id": "98fd7829-8595-4e4f-acb6-f02ef6f1def4",
   "metadata": {},
   "outputs": [],
   "source": []
  },
  {
   "cell_type": "markdown",
   "id": "2fc3ce0a-e078-42fd-827b-ab6bc58e0192",
   "metadata": {},
   "source": [
    "## 10."
   ]
  },
  {
   "cell_type": "markdown",
   "id": "63b05ef4-2776-415c-a5f3-8e4f3b69f0ca",
   "metadata": {},
   "source": [
    "Covariance:\n",
    "    \n",
    "    * Positive covariance: Indicates that as one variable increases, the other tends to increase as well.\n",
    "    \n",
    "    * Negative covariance: Indicates that as one variable increases, the other tends to decrease, and vice versa.\n",
    "    \n",
    "    * Zero covariance: Indicates no linear relationship between the variables."
   ]
  },
  {
   "cell_type": "markdown",
   "id": "db8116e1-7996-42d2-a0cc-6ac4d177cb9b",
   "metadata": {},
   "source": [
    "Correlation:\n",
    "\n",
    "* Positive correlation (0 to +1): Indicates a positive linear relationship, where higher values of one variable are associated with higher values of the other, and lower values are associated with lower values.\n",
    "* Negative correlation (0 to -1): Indicates a negative linear relationship, where higher values of one variable are associated with lower values of the other, and vice versa.\n",
    "* Zero correlation: Indicates no linear relationship between the variables.\n"
   ]
  },
  {
   "cell_type": "markdown",
   "id": "9a8db921-20c4-4792-b80d-bc6b2d7de216",
   "metadata": {},
   "source": [
    "## In statistical analysis, covariance and correlation are used for similar purposes:\n",
    "\n",
    "* Decision-making: Covariance and correlation can inform decision-making processes by providing insights into the degree of association between variables, potentially highlighting causal relationships or dependencies.\n",
    "\n",
    "* Data exploration: These measures aid in visualizing and exploring the relationship between variables through scatter plots, identifying patterns, and understanding the degree of association.\n",
    "\n",
    "* Assessing the relationship between variables: Covariance and correlation help determine the direction and strength of the association between variables, enabling researchers to understand how changes in one variable relate to changes in another."
   ]
  },
  {
   "cell_type": "code",
   "execution_count": null,
   "id": "8879b970-e575-4353-8de5-054036c2f623",
   "metadata": {},
   "outputs": [],
   "source": []
  },
  {
   "cell_type": "markdown",
   "id": "db1d7419-403d-4e63-9d65-14a5e9c78e85",
   "metadata": {},
   "source": [
    "## 11."
   ]
  },
  {
   "cell_type": "markdown",
   "id": "a73f4459-2073-4963-b624-e8e92697b5a4",
   "metadata": {},
   "source": [
    "x̄ = (x₁ + x₂ + x₃ + ... + xₙ) / n\n",
    "\n",
    "Where:\n",
    "x̄ = Sample mean\n",
    "\n",
    "x₁, x₂, x₃, ... xₙ = Individual values in the dataset\n",
    "\n",
    "n = Total number of values in the dataset"
   ]
  },
  {
   "cell_type": "markdown",
   "id": "24295101-550e-438a-b94c-fe0a8f8bfc12",
   "metadata": {},
   "source": [
    "## example dataset\n",
    "exam_scores=[87, 92, 78, 84, 90]\n",
    "\n",
    "To calculate the sample mean:\n",
    "\n",
    "x̄ = (87 + 92 + 78 + 84 + 90) / 5\n",
    "\n",
    "x̄ = 431 / 5\n",
    "\n",
    "x̄ = 86.2\n",
    "\n",
    "Therefore, the sample mean of the given dataset is 86.2."
   ]
  },
  {
   "cell_type": "code",
   "execution_count": null,
   "id": "fbfa1e17-0c8c-4b65-9f41-3e5c735ee093",
   "metadata": {},
   "outputs": [],
   "source": []
  },
  {
   "cell_type": "markdown",
   "id": "5da8ca42-aa21-479b-b280-4e6132ce04d5",
   "metadata": {},
   "source": [
    "## 12."
   ]
  },
  {
   "cell_type": "markdown",
   "id": "1a774140-c579-4e35-bdac-3ad4a164863c",
   "metadata": {},
   "source": [
    "For a normal distribution, the measures of central tendency, namely the mean, median, and mode, are all located at the same point or very close to each other\n",
    "\n",
    "* Mean: The mean of a normal distribution is the arithmetic average of all the data points. It represents the balance point of the distribution and is located at the center. \n",
    "\n",
    "* Median: The median of a normal distribution is the middle value that divides the data into two equal halves.\n",
    "\n",
    "* Mode: The mode of a normal distribution is the value or values that occur with the highest frequency\n"
   ]
  },
  {
   "cell_type": "code",
   "execution_count": null,
   "id": "a2072d52-35e6-48b1-b4e3-f31aa01812ed",
   "metadata": {},
   "outputs": [],
   "source": []
  },
  {
   "cell_type": "markdown",
   "id": "53267f37-b51a-428a-8582-6500e53bdc67",
   "metadata": {},
   "source": [
    "## 13."
   ]
  },
  {
   "cell_type": "markdown",
   "id": "d65764a8-5d95-4102-81bf-3eb495f7e3ad",
   "metadata": {},
   "source": [
    "## Covariance:\n",
    "\n",
    "Covariance measures the degree and direction of the linear relationship between two variables. It quantifies how changes in one variable are associated with changes in another variable. The formula for calculating covariance between two variables X and Y is:\n",
    "\n",
    "cov(X, Y) = Σ((Xᵢ - X̄)(Yᵢ - Ȳ)) / (n - 1)\n",
    "\n",
    "Where:\n",
    "\n",
    "cov(X, Y) = Covariance between variables X and Y\n",
    "\n",
    "Xᵢ, Yᵢ = Individual values of variables X and Y\n",
    "\n",
    "X̄, Ȳ = Means of variables X and Y, respectively\n",
    "\n",
    "n = Total number of data points\n",
    "\n",
    "\n",
    "Covariance can take positive, negative, or zero values:\n",
    "\n",
    "\n",
    "* Positive covariance indicates a positive relationship, where higher values of one variable tend to be associated with higher values of the other and vice versa.\n",
    "\n",
    "* Negative covariance indicates a negative relationship, where higher values of one variable tend to be associated with lower values of the other, and vice versa.\n",
    "\n",
    "* Zero covariance indicates no linear relationship between the variables."
   ]
  },
  {
   "cell_type": "markdown",
   "id": "606ae562-6e0c-4e0c-8576-141ab6285d51",
   "metadata": {},
   "source": [
    "## Correlation:\n",
    "\n",
    "Correlation, specifically Pearson correlation coefficient, also measures the strength and direction of the linear relationship between two variables. It is a standardized measure that ranges between -1 and 1, and it is calculated by dividing the covariance by the product of the standard deviations of the variables. The formula for calculating the correlation coefficient (r) is:\n",
    "\n",
    "r = cov(X, Y) / (σₓ * σᵧ)\n",
    "\n",
    "Where:\n",
    "\n",
    "r = Correlation coefficient between variables X and Y\n",
    "\n",
    "cov(X, Y) = Covariance between variables X and Y\n",
    "\n",
    "σₓ, σᵧ = Standard deviations of variables X and Y, respectively\n",
    "\n",
    "\n",
    "\n",
    "* A correlation coefficient of +1 indicates a perfect positive linear relationship.\n",
    "* A correlation coefficient of -1 indicates a perfect negative linear relationship.\n",
    "* A correlation coefficient close to 0 suggests a weak or no linear relationship between the variables."
   ]
  },
  {
   "cell_type": "code",
   "execution_count": null,
   "id": "6bf205b3-4ad8-4476-9b36-d9750a12d7d3",
   "metadata": {},
   "outputs": [],
   "source": []
  },
  {
   "cell_type": "markdown",
   "id": "839d6672-2536-4a94-8eba-6bb8b62b5243",
   "metadata": {},
   "source": [
    " ## 14."
   ]
  },
  {
   "cell_type": "markdown",
   "id": "7f748acf-0e07-43fb-b4e2-d36001a2fc54",
   "metadata": {},
   "source": [
    "* Outliers can significantly impact measures of central tendency and dispersion in a dataset. An outlier is a data point that deviates significantly from the other data points in the dataset. Here's how outliers can affect these measures:"
   ]
  },
  {
   "cell_type": "code",
   "execution_count": 36,
   "id": "1ba8fc1a-d6ee-41aa-8dc2-c276382ee446",
   "metadata": {},
   "outputs": [],
   "source": [
    "import numpy as np "
   ]
  },
  {
   "cell_type": "code",
   "execution_count": 35,
   "id": "2534e3f5-2297-4b33-b711-bb5e0b69ebd7",
   "metadata": {},
   "outputs": [],
   "source": [
    "Dataset=[ 85, 90, 92, 88, 89, 94, 96, 99, 100, 75]\n"
   ]
  },
  {
   "cell_type": "code",
   "execution_count": 37,
   "id": "6cd76be2-2be9-4742-9452-f1c4e2cd3138",
   "metadata": {},
   "outputs": [
    {
     "data": {
      "text/plain": [
       "90.8"
      ]
     },
     "execution_count": 37,
     "metadata": {},
     "output_type": "execute_result"
    }
   ],
   "source": [
    "np.mean(Dataset)"
   ]
  },
  {
   "cell_type": "code",
   "execution_count": 43,
   "id": "a8c16566-417d-4d99-84af-4d3f06e53f57",
   "metadata": {},
   "outputs": [],
   "source": [
    "Dataset=[ 85, 90, 92, 88, 89, 94, 96, 99, 100, 75,500] ##Outliers"
   ]
  },
  {
   "cell_type": "code",
   "execution_count": 44,
   "id": "c5e2413c-abf7-45af-952d-1a9ddced4d03",
   "metadata": {},
   "outputs": [
    {
     "data": {
      "text/plain": [
       "128.0"
      ]
     },
     "execution_count": 44,
     "metadata": {},
     "output_type": "execute_result"
    }
   ],
   "source": [
    "np.mean(Dataset)"
   ]
  },
  {
   "cell_type": "code",
   "execution_count": 38,
   "id": "3230c049-66d1-4a79-a8f0-3b3806528130",
   "metadata": {},
   "outputs": [
    {
     "data": {
      "text/plain": [
       "91.0"
      ]
     },
     "execution_count": 38,
     "metadata": {},
     "output_type": "execute_result"
    }
   ],
   "source": [
    "np.median(Dataset)"
   ]
  },
  {
   "cell_type": "code",
   "execution_count": 45,
   "id": "75dc4a1c-9970-4889-a0e9-c9c5ffbeb9f6",
   "metadata": {},
   "outputs": [],
   "source": [
    "Dataset=[ 85, 90, 92, 88, 89, 94, 96, 99, 100, 75,500] ##Outliers\n"
   ]
  },
  {
   "cell_type": "code",
   "execution_count": 46,
   "id": "531591e5-2cca-4ab7-a6f8-8acd4a54e0bf",
   "metadata": {},
   "outputs": [
    {
     "data": {
      "text/plain": [
       "92.0"
      ]
     },
     "execution_count": 46,
     "metadata": {},
     "output_type": "execute_result"
    }
   ],
   "source": [
    "np.median(Dataset)"
   ]
  },
  {
   "cell_type": "code",
   "execution_count": null,
   "id": "c3afdc35-6502-46a9-81ca-dd8330ebd3a1",
   "metadata": {},
   "outputs": [],
   "source": []
  }
 ],
 "metadata": {
  "kernelspec": {
   "display_name": "Python 3 (ipykernel)",
   "language": "python",
   "name": "python3"
  },
  "language_info": {
   "codemirror_mode": {
    "name": "ipython",
    "version": 3
   },
   "file_extension": ".py",
   "mimetype": "text/x-python",
   "name": "python",
   "nbconvert_exporter": "python",
   "pygments_lexer": "ipython3",
   "version": "3.10.8"
  }
 },
 "nbformat": 4,
 "nbformat_minor": 5
}
