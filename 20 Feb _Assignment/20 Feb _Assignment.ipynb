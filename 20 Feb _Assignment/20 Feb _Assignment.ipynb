{
 "cells": [
  {
   "cell_type": "code",
   "execution_count": null,
   "metadata": {},
   "outputs": [],
   "source": []
  },
  {
   "attachments": {},
   "cell_type": "markdown",
   "metadata": {},
   "source": [
    "## 1."
   ]
  },
  {
   "attachments": {},
   "cell_type": "markdown",
   "metadata": {},
   "source": [
    "* The GET and POST methods are two of the most commonly used HTTP (Hypertext Transfer Protocol) methods for transferring data between a client (such as a web browser) and a server."
   ]
  },
  {
   "attachments": {},
   "cell_type": "markdown",
   "metadata": {},
   "source": [
    "* The GET method is used to retrieve data from a server. When a client sends a GET request to a server, the server will return the requested data in the response. The GET method is often used to retrieve web pages and other static content from a server."
   ]
  },
  {
   "attachments": {},
   "cell_type": "markdown",
   "metadata": {},
   "source": [
    "* The POST method is used to submit data to a server. When a client sends a POST request to a server, the data is included in the body of the request. This method is often used to submit form data to a server or to perform other operations that require data to be submitted."
   ]
  },
  {
   "cell_type": "markdown",
   "metadata": {},
   "source": []
  },
  {
   "attachments": {},
   "cell_type": "markdown",
   "metadata": {},
   "source": [
    "## 2."
   ]
  },
  {
   "attachments": {},
   "cell_type": "markdown",
   "metadata": {},
   "source": [
    "* Request is a core component of Flask, which is a popular Python web framework. It is used to handle incoming HTTP requests from clients, such as web browsers or mobile apps, and extract data from these requests.Flask uses the request object to handle various types of HTTP requests, such as GET, POST, PUT, and DELETE, and to extract the necessary data from these requests. This data is then used by the Flask application to generate a response to send back to the client."
   ]
  },
  {
   "cell_type": "markdown",
   "metadata": {},
   "source": []
  },
  {
   "attachments": {},
   "cell_type": "markdown",
   "metadata": {},
   "source": [
    "## 3."
   ]
  },
  {
   "attachments": {},
   "cell_type": "markdown",
   "metadata": {},
   "source": [
    "* The redirect() function in Flask is used to redirect the client's web browser to a different URL. This can be useful in many situations, such as when a user submits a form or clicks a button that triggers a server-side action that should result in a different page being displayed."
   ]
  },
  {
   "cell_type": "code",
   "execution_count": null,
   "metadata": {},
   "outputs": [],
   "source": [
    "from flask import redirect\n",
    "\n",
    "@app.route('/old-url')\n",
    "def old_url():\n",
    "    return redirect('/new-url')\n"
   ]
  },
  {
   "attachments": {},
   "cell_type": "markdown",
   "metadata": {},
   "source": [
    "* In this example, a user who navigates to the /old-url endpoint will be redirected to the /new-url endpoint. The redirect() function takes the new URL as its argument."
   ]
  },
  {
   "cell_type": "markdown",
   "metadata": {},
   "source": []
  },
  {
   "attachments": {},
   "cell_type": "markdown",
   "metadata": {},
   "source": [
    "## 4."
   ]
  },
  {
   "attachments": {},
   "cell_type": "markdown",
   "metadata": {},
   "source": [
    "\n",
    "* Templates in Flask are used to dynamically generate HTML pages based on data retrieved from the server. They are essentially pre-defined HTML files that include placeholders for dynamic data, which are filled in at runtime by the Flask application."
   ]
  },
  {
   "attachments": {},
   "cell_type": "markdown",
   "metadata": {},
   "source": [
    "* The render_template() function is used in Flask to render a template and return the resulting HTML to the client. It takes the name of the template file as its first argument and any additional data needed to populate the template as keyword arguments."
   ]
  }
 ],
 "metadata": {
  "kernelspec": {
   "display_name": "base",
   "language": "python",
   "name": "python3"
  },
  "language_info": {
   "codemirror_mode": {
    "name": "ipython",
    "version": 3
   },
   "file_extension": ".py",
   "mimetype": "text/x-python",
   "name": "python",
   "nbconvert_exporter": "python",
   "pygments_lexer": "ipython3",
   "version": "3.9.13"
  },
  "orig_nbformat": 4
 },
 "nbformat": 4,
 "nbformat_minor": 2
}
