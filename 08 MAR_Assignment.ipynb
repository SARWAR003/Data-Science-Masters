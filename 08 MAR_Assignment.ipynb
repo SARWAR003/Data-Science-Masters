{
 "cells": [
  {
   "cell_type": "markdown",
   "id": "bee38280-9ef1-4a28-9ff7-516e8f458445",
   "metadata": {},
   "source": [
    "## 1."
   ]
  },
  {
   "cell_type": "markdown",
   "id": "e2917ab3-b8d9-479c-9dca-db3044a76e34",
   "metadata": {},
   "source": [
    "In probability theory and statistics, the probability density function (PDF) is a mathematical function that describes the likelihood of a random variable taking on a particular value or falling within a certain range of values. The PDF is commonly denoted as f(x) and is defined such that the probability of the random variable X lying between two values a and b is given by the integral of the PDF over that interval:\n",
    "\n",
    "P(a ≤ X ≤ b) = ∫[a to b] f(x) dx"
   ]
  },
  {
   "cell_type": "code",
   "execution_count": null,
   "id": "dc071662-435b-4e9a-83cd-708317c50f53",
   "metadata": {},
   "outputs": [],
   "source": []
  },
  {
   "cell_type": "markdown",
   "id": "a665bd73-2f7a-4f5a-bc15-31af17ab92ea",
   "metadata": {},
   "source": [
    "## 2."
   ]
  },
  {
   "cell_type": "markdown",
   "id": "a4e95bde-dc5f-46ce-a6d7-531b1548c207",
   "metadata": {},
   "source": [
    "There are several types of probability distributions that are commonly encountered in probability theory and statistics:\n",
    "\n",
    "1. Normal/Gaussian Distribution.\n",
    "2. Binomial Distribution.\n",
    "3. Poisson Distribution.\n",
    "4. Unifrom Distribution.\n",
    "5. Log Normal Distribution.\n",
    "6. Power Law Distribution.\n",
    "7. Bernoulli Distribution."
   ]
  },
  {
   "cell_type": "code",
   "execution_count": null,
   "id": "35dc0b6b-616c-426e-b816-19a7b6249407",
   "metadata": {},
   "outputs": [],
   "source": []
  },
  {
   "cell_type": "markdown",
   "id": "e3cb589f-136e-4aa5-870f-2a3c140860da",
   "metadata": {},
   "source": [
    "## 3."
   ]
  },
  {
   "cell_type": "code",
   "execution_count": 1,
   "id": "e4d2c51b-38ba-4336-a294-cbd5f5a5549c",
   "metadata": {},
   "outputs": [],
   "source": [
    "import math\n",
    "\n",
    "def normal_pdf(x, mean, std_dev):\n",
    "    \n",
    "    coefficient = 1 / (std_dev * math.sqrt(2 * math.pi))\n",
    "    \n",
    "    exponent = -((x - mean) ** 2) / (2 * std_dev ** 2)\n",
    "    \n",
    "    pdf = coefficient * math.exp(exponent)\n",
    "    \n",
    "    return pdf\n"
   ]
  },
  {
   "cell_type": "code",
   "execution_count": 2,
   "id": "ffd9ebce-b405-485c-af17-70e632accf31",
   "metadata": {},
   "outputs": [
    {
     "name": "stdout",
     "output_type": "stream",
     "text": [
      "0.12951759566589174\n"
     ]
    }
   ],
   "source": [
    "mean = 0\n",
    "std_dev = 1\n",
    "x = 1.5\n",
    "pdf_value = normal_pdf(x, mean, std_dev)\n",
    "print(pdf_value)\n"
   ]
  },
  {
   "cell_type": "code",
   "execution_count": null,
   "id": "2da0d802-3cab-4a26-9d3c-e4fdef2611bf",
   "metadata": {},
   "outputs": [],
   "source": []
  },
  {
   "cell_type": "markdown",
   "id": "8d4367c3-d393-4d8d-b82a-37ad8be2aaa7",
   "metadata": {},
   "source": [
    "## 4."
   ]
  },
  {
   "cell_type": "markdown",
   "id": "581df319-7255-497d-92c0-8974e1053b9c",
   "metadata": {},
   "source": [
    "* The properties of the Binomial distribution are as follows:\n",
    "\n",
    "1. Fixed number of trials: The binomial distribution is based on a fixed number of independent trials, denoted by 'n'.\n",
    "\n",
    "2. Two possible outcomes: Each trial in a binomial distribution can have only two possible outcomes, typically referred to as success and failure. These outcomes are mutually exclusive.\n",
    "\n",
    "3. Constant probability of success: The probability of success, denoted by 'p', remains constant across all trials. The probability of failure is given by (1 - p).\n",
    "\n",
    "4. Independent trials: The trials are assumed to be independent, meaning the outcome of one trial does not affect the outcome of another trial.\n",
    "\n",
    "5. Discrete random variable: The binomial distribution represents the number of successes in 'n' trials, so the random variable is discrete."
   ]
  },
  {
   "cell_type": "markdown",
   "id": "84c67685-89b4-4a50-90d8-0955b6595b39",
   "metadata": {},
   "source": [
    "* Example where the binomial distribution"
   ]
  },
  {
   "cell_type": "markdown",
   "id": "94dfa0c3-31dd-45e8-b9be-afca01a10c10",
   "metadata": {},
   "source": [
    "1. Probability of Rolling a Specific Number: Consider a fair six-sided die, and you want to find the probability of rolling exactly three 4's in a total of ten rolls. Each roll can be considered as a trial, and the outcomes are success (rolling a 4) or failure (rolling any other number). The probability of success (rolling a 4) is 1/6, and the probability of failure (rolling any other number) is 5/6. By applying the binomial distribution formula with 'n' (number of trials) as 10, 'p' (probability of success) as 1/6, and 'k' (number of successful outcomes) as 3, you can calculate the probability of rolling three 4's in ten rolls."
   ]
  },
  {
   "cell_type": "code",
   "execution_count": null,
   "id": "bb36c2fa-3a73-47b8-b8bc-ad5ba4dfc64b",
   "metadata": {},
   "outputs": [],
   "source": []
  },
  {
   "cell_type": "markdown",
   "id": "11a0c817-68bd-4035-9cb8-7d44208c3b81",
   "metadata": {},
   "source": [
    "## 5."
   ]
  },
  {
   "cell_type": "code",
   "execution_count": 1,
   "id": "757040e8-11db-4952-ae70-2107f79b2686",
   "metadata": {},
   "outputs": [
    {
     "data": {
      "image/png": "[encoded data removed]",
      "text/plain": [
       "<Figure size 640x480 with 1 Axes>"
      ]
     },
     "metadata": {},
     "output_type": "display_data"
    }
   ],
   "source": [
    "import numpy as np\n",
    "import matplotlib.pyplot as plt\n",
    "\n",
    "# Set the parameters\n",
    "sample_size = 1000\n",
    "probability_success = 0.4\n",
    "\n",
    "# Generate the random sample\n",
    "sample = np.random.binomial(1, probability_success, size=sample_size)\n",
    "\n",
    "# Plot the histogram\n",
    "plt.hist(sample, bins=2, edgecolor='black')\n",
    "plt.xlabel('Outcome')\n",
    "plt.ylabel('Frequency')\n",
    "plt.title('Histogram of Binomial Distribution')\n",
    "plt.xticks([0, 1], ['Failure', 'Success'])\n",
    "plt.show()\n"
   ]
  },
  {
   "cell_type": "code",
   "execution_count": null,
   "id": "57e07744-34ca-4d46-809f-c46e8c283c43",
   "metadata": {},
   "outputs": [],
   "source": []
  },
  {
   "cell_type": "markdown",
   "id": "6e6de2c6-2a6c-4015-ad06-1c8603490178",
   "metadata": {},
   "source": [
    "## 6."
   ]
  },
  {
   "cell_type": "code",
   "execution_count": 2,
   "id": "2fcac91c-c05f-460d-8efd-dcd662ef718c",
   "metadata": {},
   "outputs": [],
   "source": [
    "import math\n",
    "\n",
    "def poisson_cdf(mean, k):\n",
    "    \"\"\"\n",
    "    Calculate the cumulative distribution function (CDF) of a Poisson distribution\n",
    "    with a given mean at a given point.\n",
    "\n",
    "    Parameters:\n",
    "    - mean (float): The mean of the Poisson distribution.\n",
    "    - k (int): The point at which to calculate the CDF.\n",
    "\n",
    "    Returns:\n",
    "    - cdf (float): The cumulative probability up to the given point.\n",
    "    \"\"\"\n",
    "    cdf = 0.0\n",
    "    for i in range(k + 1):\n",
    "        cdf += (math.exp(-mean) * (mean ** i)) / math.factorial(i)\n",
    "    return cdf\n"
   ]
  },
  {
   "cell_type": "code",
   "execution_count": 3,
   "id": "f90d57c6-8d27-4084-b021-8afa930be803",
   "metadata": {},
   "outputs": [
    {
     "name": "stdout",
     "output_type": "stream",
     "text": [
      "The cumulative distribution function at 4 for a Poisson distribution with mean 2.5 is: 0.8911780189141512\n"
     ]
    }
   ],
   "source": [
    "mean = 2.5\n",
    "point = 4\n",
    "cdf_value = poisson_cdf(mean, point)\n",
    "print(f\"The cumulative distribution function at {point} for a Poisson distribution with mean {mean} is: {cdf_value}\")\n"
   ]
  },
  {
   "cell_type": "code",
   "execution_count": null,
   "id": "8e181d1a-e45c-4f83-b9a7-6565a294b09d",
   "metadata": {},
   "outputs": [],
   "source": []
  },
  {
   "cell_type": "markdown",
   "id": "7cc39af7-ca38-403c-ab10-c4447bdf6c41",
   "metadata": {},
   "source": [
    "## 7."
   ]
  },
  {
   "cell_type": "markdown",
   "id": "afe19645-69e9-4645-895c-5f4dfb46d96f",
   "metadata": {},
   "source": [
    "* The Binomial and Poisson distributions are two different probability distributions commonly used in statistics and probability theory.\n",
    "\n",
    "1. Number of Trials:\n",
    "\n",
    "* The Binomial distribution is based on a fixed number of independent trials, denoted by 'n'. Each trial can have only two possible outcomes (success or failure).\n",
    "\n",
    "* In contrast, the Poisson distribution does not have a fixed number of trials. It represents the number of events that occur in a fixed interval of time or space.\n",
    "\n",
    "2. Nature of Outcomes:\n",
    "\n",
    "* In the Binomial distribution, each trial has two mutually exclusive outcomes (success or failure),\n",
    "\n",
    "* while the Poisson distribution represents the count of events occurring in a given interval. The outcomes in the Poisson distribution can range from zero to infinity.\n",
    "\n",
    "3. Probability Parameter:\n",
    "\n",
    "* In the Binomial distribution, the probability of success, denoted by 'p', remains constant across all trials. The probability of failure is given by (1 - p). \n",
    "\n",
    "* In the Poisson distribution, there is a single parameter, denoted by 'λ' (lambda), which represents the average rate of events occurring per unit of time or space."
   ]
  },
  {
   "cell_type": "code",
   "execution_count": null,
   "id": "ad71310e-c3ef-4a2b-91bf-e5c7e5b0cac8",
   "metadata": {},
   "outputs": [],
   "source": []
  },
  {
   "cell_type": "markdown",
   "id": "84428c71-d81f-4993-9f5f-c8156a4ad396",
   "metadata": {},
   "source": [
    "## 8."
   ]
  },
  {
   "cell_type": "code",
   "execution_count": 4,
   "id": "81d242b3-4868-4ea2-a532-e70034d9bf8e",
   "metadata": {},
   "outputs": [
    {
     "name": "stdout",
     "output_type": "stream",
     "text": [
      "Sample Mean: 5.037\n",
      "Sample Variance: 4.849631\n"
     ]
    }
   ],
   "source": [
    "import numpy as np\n",
    "\n",
    "sample_size = 1000\n",
    "mean = 5\n",
    "\n",
    "\n",
    "sample = np.random.poisson(mean, size=sample_size)\n",
    "\n",
    "\n",
    "sample_mean = np.mean(sample)\n",
    "sample_variance = np.var(sample)\n",
    "\n",
    "print(f\"Sample Mean: {sample_mean}\")\n",
    "print(f\"Sample Variance: {sample_variance}\")\n"
   ]
  },
  {
   "cell_type": "code",
   "execution_count": null,
   "id": "e83a4548-3e8a-48dd-a719-cfd28526a628",
   "metadata": {},
   "outputs": [],
   "source": []
  },
  {
   "cell_type": "markdown",
   "id": "c0727eb4-693c-488d-8dc1-a8073c954a8e",
   "metadata": {},
   "source": [
    "## 9."
   ]
  },
  {
   "cell_type": "markdown",
   "id": "4f5d4ed5-cd76-4311-b261-e981699d2381",
   "metadata": {},
   "source": [
    "Binomial Distribution:\n",
    "\n",
    "For a Binomial distribution with parameters 'n' (number of trials) and 'p' (probability of success), the mean (μ) and variance (σ^2) are related as follows:\n",
    "\n",
    "μ = n * p\n",
    "σ^2 = n * p * (1 - p)"
   ]
  },
  {
   "cell_type": "markdown",
   "id": "ee3aeb33-869c-4efd-bec2-46a68c734e34",
   "metadata": {},
   "source": [
    "Poisson Distribution:\n",
    "    \n",
    "For a Poisson distribution with a parameter 'λ' (average rate of events), the mean (μ) and variance (σ^2) are related as follows:\n",
    "\n",
    "μ = λ\n",
    "σ^2 = λ"
   ]
  },
  {
   "cell_type": "code",
   "execution_count": null,
   "id": "e666a0a5-c3c3-4f17-8fc9-ddb296d4c970",
   "metadata": {},
   "outputs": [],
   "source": []
  },
  {
   "cell_type": "markdown",
   "id": "860a9984-a2d5-4a3a-a859-86cba7bcc6e4",
   "metadata": {},
   "source": [
    "## 10."
   ]
  },
  {
   "cell_type": "markdown",
   "id": "16bff8de-7248-46c4-96fb-87bf665e06a1",
   "metadata": {},
   "source": [
    "A normal distribution is symmetric, and the mean is located at the center of the distribution. The probability density decreases as you move away from the mean in both directions. Therefore, the data points that are farther away from the mean have lower frequencies and are less likely to occur."
   ]
  },
  {
   "cell_type": "markdown",
   "id": "6660822e-2f02-4c15-aa08-035d7f253b64",
   "metadata": {},
   "source": [
    "Example:\n",
    "\n",
    "in a standard normal distribution (mean = 0, standard deviation = 1), the least frequent data points would be those that are several standard deviations away from the mean, in both the positive and negative directions. These extreme values in the tails of the distribution occur with lower probability and are considered outliers or unusual observations."
   ]
  },
  {
   "cell_type": "code",
   "execution_count": null,
   "id": "5a50a8c7-d6e0-45f9-a9ee-04445a48e306",
   "metadata": {},
   "outputs": [],
   "source": []
  }
 ],
 "metadata": {
  "kernelspec": {
   "display_name": "Python 3 (ipykernel)",
   "language": "python",
   "name": "python3"
  },
  "language_info": {
   "codemirror_mode": {
    "name": "ipython",
    "version": 3
   },
   "file_extension": ".py",
   "mimetype": "text/x-python",
   "name": "python",
   "nbconvert_exporter": "python",
   "pygments_lexer": "ipython3",
   "version": "3.10.8"
  }
 },
 "nbformat": 4,
 "nbformat_minor": 5
}
