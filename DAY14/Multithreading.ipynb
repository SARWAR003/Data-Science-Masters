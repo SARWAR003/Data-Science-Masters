{
 "cells": [
  {
   "cell_type": "code",
   "execution_count": 1,
   "metadata": {},
   "outputs": [],
   "source": [
    "import threading\n"
   ]
  },
  {
   "cell_type": "code",
   "execution_count": 2,
   "metadata": {},
   "outputs": [],
   "source": [
    "def test(id) :\n",
    "    print(\"this is my test id % d\"%  id)\n",
    "    "
   ]
  },
  {
   "cell_type": "code",
   "execution_count": 3,
   "metadata": {},
   "outputs": [
    {
     "name": "stdout",
     "output_type": "stream",
     "text": [
      "this is my test id  10\n"
     ]
    }
   ],
   "source": [
    "test(10)"
   ]
  },
  {
   "cell_type": "code",
   "execution_count": 4,
   "metadata": {},
   "outputs": [
    {
     "name": "stdout",
     "output_type": "stream",
     "text": [
      "this is my test id  5\n"
     ]
    }
   ],
   "source": [
    "test(5)"
   ]
  },
  {
   "cell_type": "code",
   "execution_count": 5,
   "metadata": {},
   "outputs": [],
   "source": [
    "import threading"
   ]
  },
  {
   "cell_type": "code",
   "execution_count": 6,
   "metadata": {},
   "outputs": [],
   "source": [
    "thred = [threading.Thread (target= test , args= (i,)) for i in [20,4,9]]"
   ]
  },
  {
   "cell_type": "code",
   "execution_count": 7,
   "metadata": {},
   "outputs": [
    {
     "data": {
      "text/plain": [
       "[<Thread(Thread-3, initial)>,\n",
       " <Thread(Thread-4, initial)>,\n",
       " <Thread(Thread-5, initial)>]"
      ]
     },
     "execution_count": 7,
     "metadata": {},
     "output_type": "execute_result"
    }
   ],
   "source": [
    "thred"
   ]
  },
  {
   "cell_type": "code",
   "execution_count": 8,
   "metadata": {},
   "outputs": [
    {
     "name": "stdout",
     "output_type": "stream",
     "text": [
      "this is my test id  20\n",
      "this is my test id  4\n",
      "this is my test id  9\n"
     ]
    }
   ],
   "source": [
    "for t in thred:\n",
    "    t.start()"
   ]
  },
  {
   "cell_type": "code",
   "execution_count": 9,
   "metadata": {},
   "outputs": [],
   "source": [
    "import urllib.request\n",
    "\n",
    "def file_download(url , filename):\n",
    "    urllib.request.urlretrieve(url ,filename)"
   ]
  },
  {
   "cell_type": "code",
   "execution_count": 10,
   "metadata": {},
   "outputs": [],
   "source": [
    "file_download(\"https://example-files.online-convert.com/document/txt/example.txt\", \"test1.txt\")"
   ]
  },
  {
   "cell_type": "code",
   "execution_count": 11,
   "metadata": {},
   "outputs": [],
   "source": [
    "url_list = [\"https://example-files.online-convert.com/document/txt/example.txt\" , \"https://filesamples.com/samples/document/txt/sample2.txt\", \"https://www.w3.org/TR/2003/REC-PNG-20031110/iso_8859-1.txt\"]"
   ]
  },
  {
   "cell_type": "code",
   "execution_count": 12,
   "metadata": {},
   "outputs": [
    {
     "data": {
      "text/plain": [
       "['https://example-files.online-convert.com/document/txt/example.txt',\n",
       " 'https://filesamples.com/samples/document/txt/sample2.txt',\n",
       " 'https://www.w3.org/TR/2003/REC-PNG-20031110/iso_8859-1.txt']"
      ]
     },
     "execution_count": 12,
     "metadata": {},
     "output_type": "execute_result"
    }
   ],
   "source": [
    "url_list"
   ]
  },
  {
   "cell_type": "code",
   "execution_count": 13,
   "metadata": {},
   "outputs": [],
   "source": [
    "data_file_list = [\"data_txt\",\"data2_txt\",\"data3_txt\"]"
   ]
  },
  {
   "cell_type": "code",
   "execution_count": 14,
   "metadata": {},
   "outputs": [
    {
     "data": {
      "text/plain": [
       "['data_txt', 'data2_txt', 'data3_txt']"
      ]
     },
     "execution_count": 14,
     "metadata": {},
     "output_type": "execute_result"
    }
   ],
   "source": [
    "data_file_list"
   ]
  },
  {
   "cell_type": "code",
   "execution_count": 15,
   "metadata": {},
   "outputs": [],
   "source": [
    "thread1 = [threading.Thread(target=file_download, args=(url_list[i],data_file_list[i])) for i in range (len(url_list))]"
   ]
  },
  {
   "cell_type": "code",
   "execution_count": 16,
   "metadata": {},
   "outputs": [],
   "source": [
    "for t in thread1:\n",
    "    t.start()"
   ]
  },
  {
   "cell_type": "code",
   "execution_count": 17,
   "metadata": {},
   "outputs": [
    {
     "data": {
      "text/plain": [
       "[<Thread(Thread-6, started 7644)>,\n",
       " <Thread(Thread-7, started 17940)>,\n",
       " <Thread(Thread-8, started 10624)>]"
      ]
     },
     "execution_count": 17,
     "metadata": {},
     "output_type": "execute_result"
    }
   ],
   "source": [
    "thread1"
   ]
  },
  {
   "cell_type": "code",
   "execution_count": 18,
   "metadata": {},
   "outputs": [],
   "source": [
    "import time\n",
    "\n",
    "\n",
    "def test2(x):\n",
    "    for i in range(10):\n",
    "        print(\"test1 print the value of x %d and print the value of i %d\"%(x,i))\n",
    "        time.sleep(.5)"
   ]
  },
  {
   "cell_type": "code",
   "execution_count": 19,
   "metadata": {},
   "outputs": [],
   "source": [
    "thread2 = [threading.Thread(target=test2 , args = (i,)) for i in [100,10,20,5]]"
   ]
  },
  {
   "cell_type": "code",
   "execution_count": 20,
   "metadata": {},
   "outputs": [
    {
     "name": "stdout",
     "output_type": "stream",
     "text": [
      "test1 print the value of x 100 and print the value of i 0\n",
      "test1 print the value of x 10 and print the value of i 0\n",
      "test1 print the value of x 20 and print the value of i 0\n",
      "test1 print the value of x 5 and print the value of i 0\n"
     ]
    }
   ],
   "source": [
    "for t in thread2:\n",
    "    t.start()"
   ]
  },
  {
   "cell_type": "code",
   "execution_count": 21,
   "metadata": {},
   "outputs": [
    {
     "name": "stderr",
     "output_type": "stream",
     "text": [
      "Exception in thread Thread-7:\n",
      "Traceback (most recent call last):\n",
      "  File \"c:\\Users\\Mdgol\\anaconda3\\lib\\threading.py\", line 980, in _bootstrap_inner\n",
      "    self.run()\n",
      "  File \"c:\\Users\\Mdgol\\anaconda3\\lib\\threading.py\", line 917, in run\n",
      "    self._target(*self._args, **self._kwargs)\n",
      "  File \"C:\\Users\\Mdgol\\AppData\\Local\\Temp\\ipykernel_18320\\1349747951.py\", line 4, in file_download\n",
      "  File \"c:\\Users\\Mdgol\\anaconda3\\lib\\urllib\\request.py\", line 239, in urlretrieve\n",
      "    with contextlib.closing(urlopen(url, data)) as fp:\n",
      "  File \"c:\\Users\\Mdgol\\anaconda3\\lib\\urllib\\request.py\", line 214, in urlopen\n",
      "    return opener.open(url, data, timeout)\n",
      "  File \"c:\\Users\\Mdgol\\anaconda3\\lib\\urllib\\request.py\", line 523, in open\n",
      "    response = meth(req, response)\n",
      "  File \"c:\\Users\\Mdgol\\anaconda3\\lib\\urllib\\request.py\", line 632, in http_response\n",
      "    response = self.parent.error(\n",
      "  File \"c:\\Users\\Mdgol\\anaconda3\\lib\\urllib\\request.py\", line 561, in error\n",
      "    return self._call_chain(*args)\n",
      "  File \"c:\\Users\\Mdgol\\anaconda3\\lib\\urllib\\request.py\", line 494, in _call_chain\n",
      "    result = func(*args)\n",
      "  File \"c:\\Users\\Mdgol\\anaconda3\\lib\\urllib\\request.py\", line 641, in http_error_default\n",
      "    raise HTTPError(req.full_url, code, msg, hdrs, fp)\n",
      "urllib.error.HTTPError: HTTP Error 403: Forbidden\n"
     ]
    },
    {
     "name": "stdout",
     "output_type": "stream",
     "text": [
      "test1 print the value of x 10 and print the value of i 0\n",
      "test1 print the value of x 5 and print the value of i 1\n",
      "test1 print the value of x 20 and print the value of i 1\n",
      "test1 print the value of x 100 and print the value of i 1\n",
      "test1 print the value of x 10 and print the value of i 1\n",
      "test1 print the value of x 10 and print the value of i 1\n",
      "test1 print the value of x 10 and print the value of i 2\n",
      "test1 print the value of x 100 and print the value of i 2\n",
      "test1 print the value of x 5 and print the value of i 2\n",
      "test1 print the value of x 20 and print the value of i 2\n",
      "test1 print the value of x 10 and print the value of i 2\n",
      "test1 print the value of x 20 and print the value of i 3\n",
      "test1 print the value of x 100 and print the value of i 3\n",
      "test1 print the value of x 10 and print the value of i 3\n",
      "test1 print the value of x 5 and print the value of i 3\n",
      "test1 print the value of x 10 and print the value of i 3\n",
      "test1 print the value of x 5 and print the value of i 4test1 print the value of x 10 and print the value of i 4\n",
      "test1 print the value of x 100 and print the value of i 4\n",
      "test1 print the value of x 20 and print the value of i 4\n",
      "\n",
      "test1 print the value of x 10 and print the value of i 4\n",
      "test1 print the value of x 5 and print the value of i 5test1 print the value of x 20 and print the value of i 5\n",
      "test1 print the value of x 100 and print the value of i 5\n",
      "test1 print the value of x 10 and print the value of i 5\n",
      "\n",
      "test1 print the value of x 10 and print the value of i 5\n",
      "test1 print the value of x 5 and print the value of i 6test1 print the value of x 10 and print the value of i 6\n",
      "test1 print the value of x 100 and print the value of i 6\n",
      "\n",
      "test1 print the value of x 20 and print the value of i 6\n",
      "test1 print the value of x 10 and print the value of i 6\n",
      "test1 print the value of x 20 and print the value of i 7test1 print the value of x 5 and print the value of i 7\n",
      "test1 print the value of x 100 and print the value of i 7\n",
      "\n",
      "test1 print the value of x 10 and print the value of i 7\n",
      "test1 print the value of x 10 and print the value of i 7\n",
      "test1 print the value of x 100 and print the value of i 8test1 print the value of x 20 and print the value of i 8\n",
      "test1 print the value of x 5 and print the value of i 8\n",
      "\n",
      "test1 print the value of x 10 and print the value of i 8\n",
      "test1 print the value of x 10 and print the value of i 8\n",
      "test1 print the value of x 5 and print the value of i 9\n",
      "test1 print the value of x 20 and print the value of i 9\n",
      "test1 print the value of x 100 and print the value of i 9\n",
      "test1 print the value of x 10 and print the value of i 9\n",
      "test1 print the value of x 10 and print the value of i 9\n"
     ]
    }
   ],
   "source": [
    "test2(10)"
   ]
  },
  {
   "cell_type": "code",
   "execution_count": 22,
   "metadata": {},
   "outputs": [
    {
     "name": "stdout",
     "output_type": "stream",
     "text": [
      "test1 print the value of x 5 and print the value of i 0\n",
      "test1 print the value of x 5 and print the value of i 1\n",
      "test1 print the value of x 5 and print the value of i 2\n",
      "test1 print the value of x 5 and print the value of i 3\n",
      "test1 print the value of x 5 and print the value of i 4\n",
      "test1 print the value of x 5 and print the value of i 5\n",
      "test1 print the value of x 5 and print the value of i 6\n",
      "test1 print the value of x 5 and print the value of i 7\n",
      "test1 print the value of x 5 and print the value of i 8\n",
      "test1 print the value of x 5 and print the value of i 9\n"
     ]
    }
   ],
   "source": [
    "test2(5)"
   ]
  },
  {
   "cell_type": "code",
   "execution_count": 23,
   "metadata": {},
   "outputs": [
    {
     "name": "stdout",
     "output_type": "stream",
     "text": [
      "test1 print the value of x 4 and print the value of i 0\n",
      "test1 print the value of x 4 and print the value of i 1\n",
      "test1 print the value of x 4 and print the value of i 2\n",
      "test1 print the value of x 4 and print the value of i 3\n",
      "test1 print the value of x 4 and print the value of i 4\n",
      "test1 print the value of x 4 and print the value of i 5\n",
      "test1 print the value of x 4 and print the value of i 6\n",
      "test1 print the value of x 4 and print the value of i 7\n",
      "test1 print the value of x 4 and print the value of i 8\n",
      "test1 print the value of x 4 and print the value of i 9\n"
     ]
    }
   ],
   "source": [
    "test2(4)"
   ]
  },
  {
   "cell_type": "code",
   "execution_count": 24,
   "metadata": {},
   "outputs": [],
   "source": [
    "shared_var = 0\n",
    "lock_var = threading.Lock()\n",
    "def test3(x):\n",
    "    global shared_var\n",
    "    with lock_var :\n",
    "        shared_var = shared_var +1\n",
    "        print(\"valu of x %d and valu of shared_var %d\"%(x, shared_var))"
   ]
  },
  {
   "cell_type": "code",
   "execution_count": 25,
   "metadata": {},
   "outputs": [
    {
     "name": "stdout",
     "output_type": "stream",
     "text": [
      "valu of x 1 and valu of shared_var 1\n"
     ]
    }
   ],
   "source": [
    "test3(1)"
   ]
  },
  {
   "cell_type": "code",
   "execution_count": 36,
   "metadata": {},
   "outputs": [
    {
     "name": "stdout",
     "output_type": "stream",
     "text": [
      "valu of x 1 and valu of shared_var 1\n",
      "valu of x 2 and valu of shared_var 2\n",
      "valu of x 3 and valu of shared_var 3\n",
      "valu of x 4 and valu of shared_var 4\n",
      "valu of x 5 and valu of shared_var 5\n"
     ]
    }
   ],
   "source": [
    "\n",
    "\n",
    "\n",
    "from sqlite3 import threadsafety\n",
    "\n",
    "\n",
    "shared_var = 0\n",
    "lock_var = threading.Lock()\n",
    "def test3(x):\n",
    "    global shared_var\n",
    "    with lock_var :\n",
    "        shared_var = shared_var +1\n",
    "        print(\"valu of x %d and valu of shared_var %d\"%(x, shared_var))\n",
    "        \n",
    "thread2 = [threading.Thread(target = test3 , args = (i,))for i in [1,2,3,4,5,]]\n",
    "for t in thread2:\n",
    "    t.start()\n"
   ]
  },
  {
   "cell_type": "code",
   "execution_count": null,
   "metadata": {},
   "outputs": [],
   "source": []
  },
  {
   "cell_type": "code",
   "execution_count": null,
   "metadata": {},
   "outputs": [],
   "source": [
    "\n",
    "\n",
    "\n",
    "\n"
   ]
  }
 ],
 "metadata": {
  "kernelspec": {
   "display_name": "base",
   "language": "python",
   "name": "python3"
  },
  "language_info": {
   "codemirror_mode": {
    "name": "ipython",
    "version": 3
   },
   "file_extension": ".py",
   "mimetype": "text/x-python",
   "name": "python",
   "nbconvert_exporter": "python",
   "pygments_lexer": "ipython3",
   "version": "3.9.13"
  },
  "orig_nbformat": 4
 },
 "nbformat": 4,
 "nbformat_minor": 2
}
