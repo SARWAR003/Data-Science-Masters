{
 "cells": [
  {
   "attachments": {},
   "cell_type": "markdown",
   "metadata": {},
   "source": [
    "# 1."
   ]
  },
  {
   "attachments": {},
   "cell_type": "markdown",
   "metadata": {},
   "source": [
    "* Multithreading in Python is a programming technique that enables concurrent execution of multiple threads within a single process. Each thread runs independently, allowing for multiple tasks to be performed simultaneously.\n",
    "\n"
   ]
  },
  {
   "attachments": {},
   "cell_type": "markdown",
   "metadata": {},
   "source": [
    "* Multithreading is used to improve the performance of programs by utilizing the available resources more efficiently. It is particularly useful in programs that perform I/O bound tasks or have long-running computations. By using multithreading, such programs can continue executing other tasks while waiting for I/O operations or computations to complete."
   ]
  },
  {
   "attachments": {},
   "cell_type": "markdown",
   "metadata": {},
   "source": [
    "* The threading module is used to handle threads in Python. It provides a simple way to create and manage threads in a Python program. The threading module has a Thread class that can be subclassed to create new threads. It also provides synchronization primitives such as locks and semaphores to help manage access to shared resources among threads."
   ]
  },
  {
   "attachments": {},
   "cell_type": "markdown",
   "metadata": {},
   "source": [
    "# 2."
   ]
  },
  {
   "cell_type": "code",
   "execution_count": null,
   "metadata": {},
   "outputs": [],
   "source": []
  },
  {
   "attachments": {},
   "cell_type": "markdown",
   "metadata": {},
   "source": [
    "* Here are some common use cases for the threading module:"
   ]
  },
  {
   "attachments": {},
   "cell_type": "markdown",
   "metadata": {},
   "source": [
    "1. Creating multiple threads to perform independent tasks concurrently."
   ]
  },
  {
   "attachments": {},
   "cell_type": "markdown",
   "metadata": {},
   "source": [
    "2. Synchronizing access to shared resources among threads using locks, semaphores or barriers."
   ]
  },
  {
   "attachments": {},
   "cell_type": "markdown",
   "metadata": {},
   "source": [
    "3. Managing the lifecycle of threads, including starting and stopping threads, and waiting for threads to complete."
   ]
  },
  {
   "attachments": {},
   "cell_type": "markdown",
   "metadata": {},
   "source": [
    "* activeCount(): This function returns the number of active threads in the current thread's thread control block. It is useful for debugging and monitoring purposes to determine how many threads are currently running in a program."
   ]
  },
  {
   "attachments": {},
   "cell_type": "markdown",
   "metadata": {},
   "source": [
    "* currentThread(): This function returns a reference to the currently executing thread object. It is useful for accessing information about the current thread, such as its name or ID"
   ]
  },
  {
   "attachments": {},
   "cell_type": "markdown",
   "metadata": {},
   "source": [
    "* enumerate(): This function returns a list of all thread objects that are currently active in the program. It is useful for debugging and monitoring purposes to determine which threads are currently running and their status."
   ]
  },
  {
   "cell_type": "markdown",
   "metadata": {},
   "source": []
  },
  {
   "attachments": {},
   "cell_type": "markdown",
   "metadata": {},
   "source": [
    "# 3."
   ]
  },
  {
   "cell_type": "markdown",
   "metadata": {},
   "source": []
  },
  {
   "attachments": {},
   "cell_type": "markdown",
   "metadata": {},
   "source": [
    "* run(): This is a method that defines the behavior of the thread when it is started. You can subclass the Thread class and override this method to provide your own thread behavior. When you start a thread using the start() method, it will automatically call the run() method in a new thread."
   ]
  },
  {
   "attachments": {},
   "cell_type": "markdown",
   "metadata": {},
   "source": [
    "* start(): This method starts the thread. When you call this method, it creates a new thread and calls the run() method in that thread. This is a non-blocking call, which means that the main thread will continue to execute while the new thread runs in the background."
   ]
  },
  {
   "attachments": {},
   "cell_type": "markdown",
   "metadata": {},
   "source": [
    "* join(): This method waits for the thread to complete before continuing execution in the main thread. When you call this method, the main thread will block until the thread being joined has finished executing. You can also pass a timeout parameter to this method, which specifies the maximum amount of time to wait for the thread to complete."
   ]
  },
  {
   "attachments": {},
   "cell_type": "markdown",
   "metadata": {},
   "source": [
    "* isAlive(): This method returns a Boolean value that indicates whether the thread is currently executing. If the thread is still running, this method will return True. Otherwise, it will return False."
   ]
  },
  {
   "cell_type": "markdown",
   "metadata": {},
   "source": []
  },
  {
   "attachments": {},
   "cell_type": "markdown",
   "metadata": {},
   "source": [
    "# 4."
   ]
  },
  {
   "cell_type": "markdown",
   "metadata": {},
   "source": []
  },
  {
   "cell_type": "code",
   "execution_count": 1,
   "metadata": {},
   "outputs": [],
   "source": [
    "import threading"
   ]
  },
  {
   "cell_type": "code",
   "execution_count": 11,
   "metadata": {},
   "outputs": [],
   "source": [
    "def print_squares():\n",
    "    for i in range(5,25):\n",
    "        print(f\"{i} squares is {i**2}\")\n",
    "        \n",
    "        \n"
   ]
  },
  {
   "cell_type": "code",
   "execution_count": 12,
   "metadata": {},
   "outputs": [],
   "source": [
    "test1 = threading.Thread(target=print_squares)\n"
   ]
  },
  {
   "cell_type": "code",
   "execution_count": 13,
   "metadata": {},
   "outputs": [
    {
     "name": "stdout",
     "output_type": "stream",
     "text": [
      "5 squares is 25\n",
      "6 squares is 36\n",
      "7 squares is 49\n",
      "8 squares is 64\n",
      "9 squares is 81\n",
      "10 squares is 100\n",
      "11 squares is 121\n",
      "12 squares is 144\n",
      "13 squares is 169\n",
      "14 squares is 196\n",
      "15 squares is 225\n",
      "16 squares is 256\n",
      "17 squares is 289\n",
      "18 squares is 324\n",
      "19 squares is 361\n",
      "20 squares is 400\n",
      "21 squares is 441\n",
      "22 squares is 484\n",
      "23 squares is 529\n",
      "24 squares is 576\n"
     ]
    }
   ],
   "source": [
    "test1.start()"
   ]
  },
  {
   "cell_type": "code",
   "execution_count": 19,
   "metadata": {},
   "outputs": [],
   "source": [
    "def print_cubes():\n",
    "    for i in range(5,25):\n",
    "        print(f\"{i}cubes is {i**3}\")"
   ]
  },
  {
   "cell_type": "code",
   "execution_count": 20,
   "metadata": {},
   "outputs": [],
   "source": [
    "test2 = threading.Thread(target=print_cubes)"
   ]
  },
  {
   "cell_type": "code",
   "execution_count": 21,
   "metadata": {},
   "outputs": [
    {
     "name": "stdout",
     "output_type": "stream",
     "text": [
      "5cubes is 125\n",
      "6cubes is 216\n",
      "7cubes is 343\n",
      "8cubes is 512\n",
      "9cubes is 729\n",
      "10cubes is 1000\n",
      "11cubes is 1331\n",
      "12cubes is 1728\n",
      "13cubes is 2197\n",
      "14cubes is 2744\n",
      "15cubes is 3375\n",
      "16cubes is 4096\n",
      "17cubes is 4913\n",
      "18cubes is 5832\n",
      "19cubes is 6859\n",
      "20cubes is 8000\n",
      "21cubes is 9261\n",
      "22cubes is 10648\n",
      "23cubes is 12167\n",
      "24cubes is 13824\n"
     ]
    }
   ],
   "source": [
    "test2.start()"
   ]
  },
  {
   "cell_type": "code",
   "execution_count": null,
   "metadata": {},
   "outputs": [],
   "source": []
  },
  {
   "attachments": {},
   "cell_type": "markdown",
   "metadata": {},
   "source": [
    "# 5."
   ]
  },
  {
   "attachments": {},
   "cell_type": "markdown",
   "metadata": {},
   "source": [
    "* Advantages of Multithreading:\n",
    " "
   ]
  },
  {
   "attachments": {},
   "cell_type": "markdown",
   "metadata": {},
   "source": [
    "1. Improved performance: By dividing a task into multiple threads, a program can perform multiple operations simultaneously, which can result in faster execution and improved overall performance.\n",
    "\n",
    "2. Responsiveness: Multithreading can improve the responsiveness of an application by allowing it to handle multiple tasks concurrently.\n",
    "\n",
    "3. Efficient use of resources: Multithreading can make efficient use of available resources by allowing a program to make use of idle processor time while waiting for input/output operations to complete.\n",
    "\n",
    "4. Simplified programming: Multithreading can simplify programming by allowing developers to write programs that can perform multiple tasks simultaneously without needing to manually manage multiple processes."
   ]
  },
  {
   "attachments": {},
   "cell_type": "markdown",
   "metadata": {},
   "source": [
    "* Disadvantages of Multithreading:"
   ]
  },
  {
   "attachments": {},
   "cell_type": "markdown",
   "metadata": {},
   "source": [
    "1. Complexity: Multithreading can add complexity to programming and debugging, particularly when threads share resources or require synchronization.\n",
    "\n",
    "2. Synchronization issues: When multiple threads access the same resources, synchronization issues can occur, such as deadlocks, race conditions, and other synchronization-related bugs.\n",
    "\n",
    "3. Overhead: Multithreading can introduce overhead due to the additional resources required to manage multiple threads and to synchronize access to shared resources.\n",
    "\n",
    "4. Reduced predictability: The behavior of a multithreaded program can be harder to predict and debug due to the non-deterministic nature of thread scheduling"
   ]
  },
  {
   "cell_type": "markdown",
   "metadata": {},
   "source": []
  },
  {
   "attachments": {},
   "cell_type": "markdown",
   "metadata": {},
   "source": [
    "# 6."
   ]
  },
  {
   "attachments": {},
   "cell_type": "markdown",
   "metadata": {},
   "source": [
    "* Deadlocks:\n",
    "\n",
    "A deadlock occurs when two or more threads are waiting for each other to release resources, resulting in a situation where no thread can proceed. This can happen when multiple threads need access to shared resources, such as locks or semaphores, and each thread holds resources that another thread needs to proceed\n",
    "\n"
   ]
  },
  {
   "attachments": {},
   "cell_type": "markdown",
   "metadata": {},
   "source": [
    "* Race Conditions:\n",
    "\n",
    "A race condition occurs when two or more threads access shared resources simultaneously, resulting in unexpected or undefined behavior. This can happen when multiple threads access shared resources without proper synchronization, leading to conflicts or inconsistencies in the program's state."
   ]
  },
  {
   "cell_type": "markdown",
   "metadata": {},
   "source": []
  },
  {
   "cell_type": "markdown",
   "metadata": {},
   "source": []
  },
  {
   "cell_type": "markdown",
   "metadata": {},
   "source": []
  },
  {
   "cell_type": "markdown",
   "metadata": {},
   "source": []
  },
  {
   "cell_type": "markdown",
   "metadata": {},
   "source": []
  },
  {
   "cell_type": "markdown",
   "metadata": {},
   "source": []
  },
  {
   "cell_type": "markdown",
   "metadata": {},
   "source": []
  },
  {
   "cell_type": "markdown",
   "metadata": {},
   "source": []
  },
  {
   "cell_type": "markdown",
   "metadata": {},
   "source": []
  },
  {
   "cell_type": "markdown",
   "metadata": {},
   "source": []
  },
  {
   "cell_type": "markdown",
   "metadata": {},
   "source": []
  },
  {
   "cell_type": "markdown",
   "metadata": {},
   "source": []
  },
  {
   "cell_type": "markdown",
   "metadata": {},
   "source": []
  },
  {
   "cell_type": "markdown",
   "metadata": {},
   "source": []
  },
  {
   "cell_type": "code",
   "execution_count": null,
   "metadata": {},
   "outputs": [],
   "source": []
  },
  {
   "cell_type": "code",
   "execution_count": null,
   "metadata": {},
   "outputs": [],
   "source": []
  },
  {
   "cell_type": "markdown",
   "metadata": {},
   "source": []
  },
  {
   "cell_type": "markdown",
   "metadata": {},
   "source": []
  },
  {
   "cell_type": "markdown",
   "metadata": {},
   "source": []
  },
  {
   "cell_type": "markdown",
   "metadata": {},
   "source": []
  },
  {
   "cell_type": "markdown",
   "metadata": {},
   "source": []
  },
  {
   "cell_type": "markdown",
   "metadata": {},
   "source": []
  },
  {
   "cell_type": "markdown",
   "metadata": {},
   "source": []
  },
  {
   "cell_type": "markdown",
   "metadata": {},
   "source": []
  },
  {
   "cell_type": "markdown",
   "metadata": {},
   "source": []
  },
  {
   "cell_type": "code",
   "execution_count": null,
   "metadata": {},
   "outputs": [],
   "source": []
  },
  {
   "cell_type": "code",
   "execution_count": null,
   "metadata": {},
   "outputs": [],
   "source": []
  },
  {
   "cell_type": "code",
   "execution_count": null,
   "metadata": {},
   "outputs": [],
   "source": []
  },
  {
   "cell_type": "code",
   "execution_count": null,
   "metadata": {},
   "outputs": [],
   "source": []
  },
  {
   "cell_type": "code",
   "execution_count": null,
   "metadata": {},
   "outputs": [],
   "source": []
  },
  {
   "cell_type": "code",
   "execution_count": null,
   "metadata": {},
   "outputs": [],
   "source": []
  },
  {
   "cell_type": "code",
   "execution_count": null,
   "metadata": {},
   "outputs": [],
   "source": []
  },
  {
   "cell_type": "code",
   "execution_count": null,
   "metadata": {},
   "outputs": [],
   "source": []
  },
  {
   "cell_type": "code",
   "execution_count": null,
   "metadata": {},
   "outputs": [],
   "source": []
  },
  {
   "cell_type": "code",
   "execution_count": null,
   "metadata": {},
   "outputs": [],
   "source": []
  },
  {
   "cell_type": "code",
   "execution_count": null,
   "metadata": {},
   "outputs": [],
   "source": []
  },
  {
   "cell_type": "code",
   "execution_count": null,
   "metadata": {},
   "outputs": [],
   "source": []
  },
  {
   "cell_type": "code",
   "execution_count": null,
   "metadata": {},
   "outputs": [],
   "source": []
  }
 ],
 "metadata": {
  "kernelspec": {
   "display_name": "base",
   "language": "python",
   "name": "python3"
  },
  "language_info": {
   "codemirror_mode": {
    "name": "ipython",
    "version": 3
   },
   "file_extension": ".py",
   "mimetype": "text/x-python",
   "name": "python",
   "nbconvert_exporter": "python",
   "pygments_lexer": "ipython3",
   "version": "3.9.13"
  },
  "orig_nbformat": 4
 },
 "nbformat": 4,
 "nbformat_minor": 2
}
