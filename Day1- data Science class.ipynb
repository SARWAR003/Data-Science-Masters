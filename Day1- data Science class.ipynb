{
 "cells": [
  {
   "cell_type": "markdown",
   "id": "aaed7d49-d248-45b3-ad0f-ce9a0acf5a22",
   "metadata": {},
   "source": [
    "# NUMBER"
   ]
  },
  {
   "cell_type": "code",
   "execution_count": 1,
   "id": "9265886e-28a8-49ff-a5cb-06e30b62cdd4",
   "metadata": {},
   "outputs": [
    {
     "data": {
      "text/plain": [
       "4"
      ]
     },
     "execution_count": 1,
     "metadata": {},
     "output_type": "execute_result"
    }
   ],
   "source": [
    "1+3"
   ]
  },
  {
   "cell_type": "code",
   "execution_count": 2,
   "id": "22129549-d123-4eb4-be26-e98b45b99a92",
   "metadata": {},
   "outputs": [
    {
     "name": "stdout",
     "output_type": "stream",
     "text": [
      "4\n"
     ]
    }
   ],
   "source": [
    "print(1+3)\n"
   ]
  },
  {
   "cell_type": "code",
   "execution_count": 7,
   "id": "e27f2f11-0182-4345-8e52-3f50a262bac6",
   "metadata": {},
   "outputs": [
    {
     "name": "stdout",
     "output_type": "stream",
     "text": [
      "Hello world \n",
      "  hi sarwar\n"
     ]
    }
   ],
   "source": [
    "print(\"Hello world \\n  hi sarwar\")"
   ]
  },
  {
   "cell_type": "markdown",
   "id": "391da51b-11e3-4523-b883-367eadd81e35",
   "metadata": {},
   "source": [
    "## Variables Assignment"
   ]
  },
  {
   "cell_type": "code",
   "execution_count": 8,
   "id": "a360af7d-ad2c-48b9-a136-adfdfb6bc9b8",
   "metadata": {},
   "outputs": [
    {
     "data": {
      "text/plain": [
       "'sarwar'"
      ]
     },
     "execution_count": 8,
     "metadata": {},
     "output_type": "execute_result"
    }
   ],
   "source": [
    "name=(\"sarwar\")\n",
    "company=(\"pw skild\")\n",
    "name\n"
   ]
  },
  {
   "cell_type": "code",
   "execution_count": 9,
   "id": "8b318865-88ad-4a7d-8677-28f3fa01c50b",
   "metadata": {},
   "outputs": [
    {
     "data": {
      "text/plain": [
       "'pw skild'"
      ]
     },
     "execution_count": 9,
     "metadata": {},
     "output_type": "execute_result"
    }
   ],
   "source": [
    "company"
   ]
  },
  {
   "cell_type": "code",
   "execution_count": 10,
   "id": "d56b9567-c8ce-4d3f-baed-d554a6e1ef07",
   "metadata": {},
   "outputs": [
    {
     "data": {
      "text/plain": [
       "str"
      ]
     },
     "execution_count": 10,
     "metadata": {},
     "output_type": "execute_result"
    }
   ],
   "source": [
    "type(\"sarwar\")"
   ]
  },
  {
   "cell_type": "code",
   "execution_count": 11,
   "id": "54a3be4a-8328-4fad-b313-c78ab11c9223",
   "metadata": {},
   "outputs": [
    {
     "data": {
      "text/plain": [
       "int"
      ]
     },
     "execution_count": 11,
     "metadata": {},
     "output_type": "execute_result"
    }
   ],
   "source": [
    "type(1+2)"
   ]
  },
  {
   "cell_type": "code",
   "execution_count": 12,
   "id": "2c5954f8-b267-4b29-98e9-afed4c2c2417",
   "metadata": {},
   "outputs": [
    {
     "data": {
      "text/plain": [
       "float"
      ]
     },
     "execution_count": 12,
     "metadata": {},
     "output_type": "execute_result"
    }
   ],
   "source": [
    "type(12.53)"
   ]
  },
  {
   "cell_type": "code",
   "execution_count": 16,
   "id": "cb8de187-cdf4-41e3-8611-065ee4acb0b8",
   "metadata": {},
   "outputs": [
    {
     "data": {
      "text/plain": [
       "complex"
      ]
     },
     "execution_count": 16,
     "metadata": {},
     "output_type": "execute_result"
    }
   ],
   "source": [
    "type(3+4j)"
   ]
  },
  {
   "cell_type": "code",
   "execution_count": 18,
   "id": "cdf16eef-ae64-4afc-9677-b95f9688ace2",
   "metadata": {},
   "outputs": [
    {
     "name": "stdout",
     "output_type": "stream",
     "text": [
      "True\n"
     ]
    }
   ],
   "source": [
    "a=1\n",
    "if bool(a)== True:\n",
    "    print(\"True\")"
   ]
  },
  {
   "cell_type": "code",
   "execution_count": 19,
   "id": "ae83cc13-f600-40c6-97d1-eb54ee61dde6",
   "metadata": {},
   "outputs": [
    {
     "name": "stdout",
     "output_type": "stream",
     "text": [
      "True\n"
     ]
    }
   ],
   "source": [
    "b=4\n",
    "if bool(b)==True:\n",
    "    print(\"True\")"
   ]
  },
  {
   "cell_type": "markdown",
   "id": "20cfa6d4-bb06-4578-8342-cdbc07c30d42",
   "metadata": {},
   "source": [
    " # Concatent"
   ]
  },
  {
   "cell_type": "code",
   "execution_count": 20,
   "id": "2200ba5b-f794-408e-a16e-23fa96019934",
   "metadata": {},
   "outputs": [
    {
     "data": {
      "text/plain": [
       "'11'"
      ]
     },
     "execution_count": 20,
     "metadata": {},
     "output_type": "execute_result"
    }
   ],
   "source": [
    "\"1\"+\"1\""
   ]
  },
  {
   "cell_type": "code",
   "execution_count": 22,
   "id": "6a1ffaac-19d1-4758-809f-4b6b441a8276",
   "metadata": {},
   "outputs": [
    {
     "data": {
      "text/plain": [
       "'1'"
      ]
     },
     "execution_count": 22,
     "metadata": {},
     "output_type": "execute_result"
    }
   ],
   "source": [
    "\"1\"*int(\"1\")"
   ]
  },
  {
   "cell_type": "code",
   "execution_count": 23,
   "id": "d4387e5b-43ec-463d-b840-3768efb6f784",
   "metadata": {},
   "outputs": [
    {
     "data": {
      "text/plain": [
       "False"
      ]
     },
     "execution_count": 23,
     "metadata": {},
     "output_type": "execute_result"
    }
   ],
   "source": [
    "bool(0)"
   ]
  },
  {
   "cell_type": "code",
   "execution_count": 24,
   "id": "12c1c735-ee5c-4011-8b27-6f0f3ee086f4",
   "metadata": {},
   "outputs": [
    {
     "data": {
      "text/plain": [
       "True"
      ]
     },
     "execution_count": 24,
     "metadata": {},
     "output_type": "execute_result"
    }
   ],
   "source": [
    "bool(1)\n"
   ]
  },
  {
   "cell_type": "code",
   "execution_count": 25,
   "id": "13b6adc1-048a-49de-8712-0e4f368b91a6",
   "metadata": {},
   "outputs": [
    {
     "data": {
      "text/plain": [
       "True"
      ]
     },
     "execution_count": 25,
     "metadata": {},
     "output_type": "execute_result"
    }
   ],
   "source": [
    "bool(-1)"
   ]
  },
  {
   "cell_type": "code",
   "execution_count": 26,
   "id": "be252cec-abe4-41b5-9149-b93968ad182e",
   "metadata": {},
   "outputs": [
    {
     "data": {
      "text/plain": [
       "True"
      ]
     },
     "execution_count": 26,
     "metadata": {},
     "output_type": "execute_result"
    }
   ],
   "source": [
    "bool(-2)"
   ]
  },
  {
   "cell_type": "code",
   "execution_count": null,
   "id": "12ebe81f-9852-4fe9-abd8-3b5d15dfedd3",
   "metadata": {},
   "outputs": [],
   "source": []
  }
 ],
 "metadata": {
  "kernelspec": {
   "display_name": "Python 3 (ipykernel)",
   "language": "python",
   "name": "python3"
  },
  "language_info": {
   "codemirror_mode": {
    "name": "ipython",
    "version": 3
   },
   "file_extension": ".py",
   "mimetype": "text/x-python",
   "name": "python",
   "nbconvert_exporter": "python",
   "pygments_lexer": "ipython3",
   "version": "3.9.13"
  }
 },
 "nbformat": 4,
 "nbformat_minor": 5
}
