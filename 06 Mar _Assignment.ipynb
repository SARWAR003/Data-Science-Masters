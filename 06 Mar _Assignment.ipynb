{
 "cells": [
  {
   "cell_type": "code",
   "execution_count": null,
   "metadata": {},
   "outputs": [],
   "source": []
  },
  {
   "attachments": {},
   "cell_type": "markdown",
   "metadata": {},
   "source": [
    "## 1."
   ]
  },
  {
   "attachments": {},
   "cell_type": "markdown",
   "metadata": {},
   "source": [
    "#### 1. Statistics is a branch of mathematics that deals with the collection, analysis, interpretation, presentation, and organization of data. It involves the use of quantitative methods to analyze and make sense of data, which can be numerical or categorical in nature."
   ]
  },
  {
   "attachments": {},
   "cell_type": "markdown",
   "metadata": {},
   "source": []
  },
  {
   "attachments": {},
   "cell_type": "markdown",
   "metadata": {},
   "source": [
    "## 2.\n"
   ]
  },
  {
   "attachments": {},
   "cell_type": "markdown",
   "metadata": {},
   "source": [
    "* Descriptive Statistics:\n",
    "Descriptive statistics involve summarizing and describing data using numerical measures or visual representations."
   ]
  },
  {
   "attachments": {},
   "cell_type": "markdown",
   "metadata": {},
   "source": [
    "* Example:\n",
    "Suppose you have a dataset of students' test scores in a class. You could use descriptive statistics to find the mean score, the range of scores, and the standard deviation. These measures would provide an overview of how well the students performed in the class."
   ]
  },
  {
   "attachments": {},
   "cell_type": "markdown",
   "metadata": {},
   "source": [
    "* Inferential Statistics:\n",
    "Inferential statistics involve using sample data to make inferences about a larger population. These methods involve testing hypotheses, estimating parameters, and making predictions"
   ]
  },
  {
   "attachments": {},
   "cell_type": "markdown",
   "metadata": {},
   "source": [
    "* Example:\n",
    "Suppose you want to know the average salary of all employees in a company, but you cannot survey every employee. Instead, you take a random sample of employees and calculate the average salary in the sample. You can then use inferential statistics to estimate the average salary of all employees in the company based on the sample. This involves making assumptions about the population and using statistical tests to calculate confidence intervals or test hypotheses."
   ]
  },
  {
   "attachments": {},
   "cell_type": "markdown",
   "metadata": {},
   "source": [
    "## 3."
   ]
  },
  {
   "attachments": {},
   "cell_type": "markdown",
   "metadata": {},
   "source": [
    "* Nominal Data:\n",
    "Nominal data is categorical data that cannot be ranked or ordered. The data consists of categories or labels that are not quantifiable and do not have any inherent numerical value.\n",
    "\n",
    "Examples: nominal data include gender, race, and hair color."
   ]
  },
  {
   "attachments": {},
   "cell_type": "markdown",
   "metadata": {},
   "source": [
    "* Ordinal Data:\n",
    "Ordinal data is also categorical data but it can be ranked or ordered. The data consists of categories that have a natural order or ranking.\n",
    "\n",
    " Examples:  ordinal data include levels of education (e.g., high school, college, graduate school), income categories.\n",
    "\n"
   ]
  },
  {
   "attachments": {},
   "cell_type": "markdown",
   "metadata": {},
   "source": [
    "* Interval Data:\n",
    "Interval data is numerical data where the difference between two values is meaningful and equal. However, there is no true zero point or absence of the attribute being measured.\n",
    "\n",
    " Examples: interval data include temperature measured in degrees Celsius or Fahrenheit, or dates measured on a calendar.\n",
    "\n"
   ]
  },
  {
   "attachments": {},
   "cell_type": "markdown",
   "metadata": {},
   "source": [
    "* Ratio Data:\n",
    "Ratio data is numerical data that has a true zero point. This means that there is an absence of the attribute being measured.\n",
    "\n",
    "Examples:  ratio data include height, weight, and time."
   ]
  },
  {
   "attachments": {},
   "cell_type": "markdown",
   "metadata": {},
   "source": []
  },
  {
   "attachments": {},
   "cell_type": "markdown",
   "metadata": {},
   "source": [
    "## 4."
   ]
  },
  {
   "attachments": {},
   "cell_type": "markdown",
   "metadata": {},
   "source": [
    "(i) Grading in exam: A+, A, B+, B, C+, C, D, E\n",
    "\n",
    "* Categorical data (qualitative)\n",
    "\n",
    "(ii) Colour of mangoes: yellow, green, orange, red\n",
    "\n",
    "* Categorical data (qualitative)\n",
    "\n",
    "(iii) Height data of a class: [178.9, 179, 179.5, 176, 177.2, 178.3, 175.8,...]\n",
    "\n",
    "* Numerical data (quantitative)\n",
    "\n",
    "(iv) Number of mangoes exported by a farm: [500, 600, 478, 672, ...]\n",
    "\n",
    "* Numerical data (quantitative)"
   ]
  },
  {
   "attachments": {},
   "cell_type": "markdown",
   "metadata": {},
   "source": []
  },
  {
   "attachments": {},
   "cell_type": "markdown",
   "metadata": {},
   "source": [
    "## 5.\n"
   ]
  },
  {
   "attachments": {},
   "cell_type": "markdown",
   "metadata": {},
   "source": [
    "* Nominal level of measurement:\n",
    "Nominal level of measurement involves the classification of data into categories that do not have a numerical value or inherent order. Variables measured at the nominal level can only be categorized and counted, but not ranked.\n",
    "\n",
    "Examples: nominal variables include gender, ethnicity, religion, or hair color."
   ]
  },
  {
   "attachments": {},
   "cell_type": "markdown",
   "metadata": {},
   "source": [
    "* Ordinal level of measurement:\n",
    "Ordinal level of measurement involves the classification of data into categories that can be ranked or ordered. Variables measured at the ordinal level can be categorized, counted, and ranked, but the difference between categories is not necessarily equal. \n",
    "\n",
    " Examples: ordinal variables include educational attainment (e.g., high school diploma, associate's degree, bachelor's degree, master's degree), or performance levels (e.g., poor, fair, good, excellent)."
   ]
  },
  {
   "attachments": {},
   "cell_type": "markdown",
   "metadata": {},
   "source": [
    "* Interval level of measurement:\n",
    "Interval level of measurement involves the classification of data into categories that have equal intervals or differences between them, but do not have a true zero point. Variables measured at the interval level can be categorized, counted, ranked, and compared in terms of their differences, but the absence of the attribute being measured is arbitrary.\n",
    "\n",
    "Examples: interval variables include temperature measured in Celsius or Fahrenheit, or dates measured on a calendar.\n",
    "\n"
   ]
  },
  {
   "attachments": {},
   "cell_type": "markdown",
   "metadata": {},
   "source": [
    "* Ratio level of measurement:\n",
    "Ratio level of measurement involves the classification of data into categories that have equal intervals or differences between them, and have a true zero point. Variables measured at the ratio level can be categorized, counted, ranked, compared, and scaled in terms of their ratios and proportions.\n",
    "\n",
    "Examples of ratio variables include weight, height, income, or the number of items produced."
   ]
  },
  {
   "attachments": {},
   "cell_type": "markdown",
   "metadata": {},
   "source": []
  },
  {
   "attachments": {},
   "cell_type": "markdown",
   "metadata": {},
   "source": [
    "## 6."
   ]
  },
  {
   "attachments": {},
   "cell_type": "markdown",
   "metadata": {},
   "source": [
    "* It is important to understand the level of measurement when analyzing data because it helps to determine the appropriate statistical techniques to use and how the results should be interpreted. Different levels of measurement require different types of analyses and have different implications for the conclusions that can be drawn from the data."
   ]
  },
  {
   "attachments": {},
   "cell_type": "markdown",
   "metadata": {},
   "source": [
    "Example: consider a study that measures the body temperature of participants using different methods: oral thermometer, rectal thermometer, and infrared thermometer. The level of measurement for the temperature data is interval or ratio because the temperature values have equal intervals and a true zero point. As a result, we can use a variety of statistical analyses, such as calculating means, standard deviations, and confidence intervals, to summarize and compare the temperature data between the different methods."
   ]
  },
  {
   "attachments": {},
   "cell_type": "markdown",
   "metadata": {},
   "source": [
    "* understanding the level of measurement is crucial in data analysis as it helps to select appropriate statistical techniques and interpret the results accurately. Ignoring the level of measurement can lead to incorrect conclusions and inappropriate use of statistical methods.\n",
    "\n",
    "\n"
   ]
  },
  {
   "attachments": {},
   "cell_type": "markdown",
   "metadata": {},
   "source": []
  },
  {
   "attachments": {},
   "cell_type": "markdown",
   "metadata": {},
   "source": [
    "## 7."
   ]
  },
  {
   "attachments": {},
   "cell_type": "markdown",
   "metadata": {},
   "source": [
    "* Nominal and ordinal are two different levels of measurement for variables in data analysis. Nominal data is categorical data where the values represent different categories or labels, and the categories have no inherent order or ranking."
   ]
  },
  {
   "attachments": {},
   "cell_type": "markdown",
   "metadata": {},
   "source": [
    "*  example, consider a survey that asks participants to rate their level of agreement with a statement using the following response options:\n",
    "\n",
    "\n",
    "Strongly Agree\n",
    "\n",
    "Agree\n",
    "\n",
    "Neither Agree nor Disagree\n",
    "\n",
    "Disagree\n",
    "\n",
    "Strongly Disagree\n",
    "\n",
    "Here, the response options represent nominal data because there is no inherent order or ranking between the categories. We can assign any numerical code to each category, but it would not make sense to say that one category is greater than or less than another."
   ]
  },
  {
   "attachments": {},
   "cell_type": "markdown",
   "metadata": {},
   "source": []
  },
  {
   "attachments": {},
   "cell_type": "markdown",
   "metadata": {},
   "source": [
    "## 8."
   ]
  },
  {
   "attachments": {},
   "cell_type": "markdown",
   "metadata": {},
   "source": [
    " * One type of plot that can be used to display data in terms of range is a box plot (also known as a box and whisker plot). A box plot is a graphical representation of the distribution of a dataset based on five summary statistics: the minimum and maximum values, the first quartile (Q1), the median, and the third quartile (Q3)."
   ]
  },
  {
   "attachments": {},
   "cell_type": "markdown",
   "metadata": {},
   "source": [
    "* Overall, the box plot is a useful tool for displaying data in terms of range and identifying any outliers or extreme values that may be present in the dataset.\n",
    "\n",
    "\n"
   ]
  },
  {
   "attachments": {},
   "cell_type": "markdown",
   "metadata": {},
   "source": []
  },
  {
   "attachments": {},
   "cell_type": "markdown",
   "metadata": {},
   "source": [
    "## 9."
   ]
  },
  {
   "attachments": {},
   "cell_type": "markdown",
   "metadata": {},
   "source": [
    "* Descriptive statistics:  involves the use of numerical and graphical techniques to summarize and describe the main features of a dataset.\n",
    "\n",
    " * Example, if we have a dataset of exam scores for a group of students, we can use descriptive statistics to calculate the mean score, the standard deviation, and create a histogram to visualize the distribution of scores. Descriptive statistics are used to provide an overview of the data and to help identify any patterns or trends that may be present in the dataset.\n"
   ]
  },
  {
   "attachments": {},
   "cell_type": "markdown",
   "metadata": {},
   "source": [
    "* Inferential statistics: involves using sample data to make inferences or predictions about a larger population.\n",
    "\n",
    "* Example, if we want to know whether a new drug is effective in reducing blood pressure, we can conduct a randomized controlled trial with a sample of patients and use inferential statistics to determine whether the observed reduction in blood pressure in the sample is likely to generalize to the larger population of patients with high blood pressure. Inferential statistics are used to draw conclusions about populations based on sample data, and to test hypotheses and make predictions about future events."
   ]
  },
  {
   "attachments": {},
   "cell_type": "markdown",
   "metadata": {},
   "source": []
  },
  {
   "attachments": {},
   "cell_type": "markdown",
   "metadata": {},
   "source": [
    "## 10."
   ]
  },
  {
   "attachments": {},
   "cell_type": "markdown",
   "metadata": {},
   "source": [
    "* Measures of Central Tendency:\n",
    "\n",
    "1. Mean: The mean is calculated as the sum of all the data values divided by the total number of data values.\n",
    "\n",
    "2. Median: The median is the middle value of a dataset when the values are arranged in order.\n",
    "\n",
    "3. Mode: The mode is the value that occurs most frequently in the dataset. It is a useful measure of central tendency when the data is categorical or when the distribution is bimodal (having two peaks)."
   ]
  },
  {
   "attachments": {},
   "cell_type": "markdown",
   "metadata": {},
   "source": [
    "Measures of Variability:\n",
    "\n",
    "1. Range: The range is the difference between the maximum and minimum values in the dataset. It provides information about the spread of the data.\n",
    "\n",
    "2. Variance: The variance is a measure of how much the individual data points deviate from the mean\n",
    "\n",
    "3. Standard Deviation: The standard deviation is the square root of the variance and is a measure of how much the individual data points deviate from the mean"
   ]
  },
  {
   "attachments": {},
   "cell_type": "markdown",
   "metadata": {},
   "source": []
  }
 ],
 "metadata": {
  "kernelspec": {
   "display_name": "base",
   "language": "python",
   "name": "python3"
  },
  "language_info": {
   "codemirror_mode": {
    "name": "ipython",
    "version": 3
   },
   "file_extension": ".py",
   "mimetype": "text/x-python",
   "name": "python",
   "nbconvert_exporter": "python",
   "pygments_lexer": "ipython3",
   "version": "3.9.13"
  },
  "orig_nbformat": 4
 },
 "nbformat": 4,
 "nbformat_minor": 2
}
