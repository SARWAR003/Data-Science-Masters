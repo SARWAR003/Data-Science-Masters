{
 "cells": [
  {
   "attachments": {},
   "cell_type": "markdown",
   "metadata": {},
   "source": [
    "## 1."
   ]
  },
  {
   "attachments": {},
   "cell_type": "markdown",
   "metadata": {},
   "source": [
    "Estimation statistics is a branch of statistics that deals with estimating unknown population parameters based on sample data. It involves using sample statistics to make inferences about population parameters, such as the mean, standard deviation, proportion, or regression coefficients.\n",
    "\n",
    "\n",
    "* There are two common types of estimates in estimation statistics:\n",
    "\n",
    "    1. Point Estimate: \n",
    "\n",
    "    A point estimate is a single value that is used to estimate an unknown population parameter. It is typically calculated from the sample data and provides an estimate of the most likely value of the parameter.\n",
    "\n",
    "\n",
    "    2. Interval Estimate:\n",
    "    \n",
    "     An interval estimate provides a range of values within which the population parameter is likely to fall. It takes into account the variability in the data and provides a measure of uncertainty associated with the estimate.\n",
    "\n",
    "\n",
    "* Example:\n",
    "\n",
    " a 95% confidence interval for the population mean would provide a range of values within which we can be 95% confident that the true population mean lies. This interval estimate incorporates both the point estimate (e.g., sample mean) and the margin of error, which is influenced by the sample size and the variability of the data."
   ]
  },
  {
   "cell_type": "code",
   "execution_count": null,
   "metadata": {},
   "outputs": [],
   "source": []
  },
  {
   "attachments": {},
   "cell_type": "markdown",
   "metadata": {},
   "source": [
    "## 2."
   ]
  },
  {
   "cell_type": "code",
   "execution_count": 1,
   "metadata": {},
   "outputs": [],
   "source": [
    "import math\n",
    "\n",
    "def estimate_population_mean(sample_mean, sample_std, sample_size):\n",
    "   \n",
    "    std_error = sample_std / math.sqrt(sample_size)\n",
    "    \n",
    "    margin_of_error = 1.96 * std_error\n",
    "    \n",
    "    lower_bound = sample_mean - margin_of_error\n",
    "    upper_bound = sample_mean + margin_of_error\n",
    "    \n",
    "    return sample_mean, lower_bound, upper_bound\n"
   ]
  },
  {
   "cell_type": "code",
   "execution_count": 3,
   "metadata": {},
   "outputs": [
    {
     "name": "stdout",
     "output_type": "stream",
     "text": [
      "Estimated Population Mean: 90\n",
      "95% Confidence Interval: (88.9024, 91.0976)\n"
     ]
    }
   ],
   "source": [
    "sample_mean = 90\n",
    "\n",
    "sample_std = 5.6\n",
    "sample_size = 100\n",
    "\n",
    "estimated_mean, lower_bound, upper_bound = estimate_population_mean(sample_mean, sample_std, sample_size)\n",
    "\n",
    "print(\"Estimated Population Mean:\", estimated_mean)\n",
    "print(\"95% Confidence Interval:\", (lower_bound, upper_bound))\n"
   ]
  },
  {
   "cell_type": "code",
   "execution_count": null,
   "metadata": {},
   "outputs": [],
   "source": []
  },
  {
   "attachments": {},
   "cell_type": "markdown",
   "metadata": {},
   "source": [
    "## 3."
   ]
  },
  {
   "attachments": {},
   "cell_type": "markdown",
   "metadata": {},
   "source": [
    "Hypothesis testing is a statistical method used to make inferences or decisions about population parameters based on sample data. It involves formulating two competing hypotheses, the null hypothesis (H0) and the alternative hypothesis (HA), and using statistical tests to determine the strength of evidence against the null hypothesis.\n",
    "\n",
    "* It is used to make informed decisions, support or reject hypotheses, and provide evidence for research findings. Here are some key reasons why hypothesis testing is important:\n",
    "\n",
    "1. Objective Decision Making:\n",
    "\n",
    " Hypothesis testing provides a structured framework for making objective decisions based on data. It helps to avoid arbitrary or subjective judgments by applying statistical methods to evaluate evidence.\n",
    "\n",
    "2. Testing Research Questions:\n",
    "\n",
    " In scientific research, hypothesis testing is crucial for testing research questions or hypotheses. It allows researchers to determine whether the observed data supports or contradicts the proposed hypotheses, providing empirical evidence for their claims."
   ]
  },
  {
   "attachments": {},
   "cell_type": "markdown",
   "metadata": {},
   "source": []
  },
  {
   "attachments": {},
   "cell_type": "markdown",
   "metadata": {},
   "source": [
    "## 4."
   ]
  },
  {
   "cell_type": "code",
   "execution_count": 5,
   "metadata": {},
   "outputs": [],
   "source": [
    "import numpy as np\n",
    "from scipy.stats import ttest_ind\n",
    "\n",
    "# Sample data for male and female college students' weights\n",
    "male_weights = [70, 72, 68, 75, 74, 71, 69, 73, 70, 72]  \n",
    "female_weights = [65, 67, 63, 68, 66, 64, 62, 66, 65, 67]  \n",
    "\n",
    "# Perform a two-sample independent t-test\n",
    "t_stat, p_value = ttest_ind(male_weights, female_weights, alternative='greater')\n",
    "\n",
    "# Define the significance level\n",
    "alpha = 0.05\n",
    "\n"
   ]
  },
  {
   "cell_type": "code",
   "execution_count": 6,
   "metadata": {},
   "outputs": [
    {
     "name": "stdout",
     "output_type": "stream",
     "text": [
      "Reject the null hypothesis.\n",
      "The average weight of male college students is greater than the average weight of female college students.\n"
     ]
    }
   ],
   "source": [
    "# Compare the p-value to the significance level\n",
    "if p_value < alpha:\n",
    "    print(\"Reject the null hypothesis.\")\n",
    "    print(\"The average weight of male college students is greater than the average weight of female college students.\")\n",
    "else:\n",
    "    print(\"Fail to reject the null hypothesis.\")\n",
    "    print(\"There is not enough evidence to conclude that the average weight of male college students is greater than the average weight of female college students.\")\n"
   ]
  },
  {
   "attachments": {},
   "cell_type": "markdown",
   "metadata": {},
   "source": [
    "## 5."
   ]
  },
  {
   "cell_type": "code",
   "execution_count": 7,
   "metadata": {},
   "outputs": [],
   "source": [
    "import numpy as np\n",
    "from scipy.stats import ttest_ind\n",
    "\n",
    "# Sample data for two populations\n",
    "population1 = [25, 30, 35, 40, 45]  \n",
    "population2 = [20, 22, 24, 26, 28] \n",
    "\n",
    "# Perform a two-sample independent t-test\n",
    "t_stat, p_value = ttest_ind(population1, population2)\n",
    "\n",
    "# Define the significance level\n",
    "alpha = 0.05\n",
    "\n"
   ]
  },
  {
   "cell_type": "code",
   "execution_count": 8,
   "metadata": {},
   "outputs": [
    {
     "name": "stdout",
     "output_type": "stream",
     "text": [
      "Reject the null hypothesis.\n",
      "There is a significant difference between the two population means.\n"
     ]
    }
   ],
   "source": [
    "# Compare the p-value to the significance level\n",
    "if p_value < alpha:\n",
    "    print(\"Reject the null hypothesis.\")\n",
    "    print(\"There is a significant difference between the two population means.\")\n",
    "else:\n",
    "    print(\"Fail to reject the null hypothesis.\")\n",
    "    print(\"There is not enough evidence to conclude a significant difference between the two population means.\")\n"
   ]
  },
  {
   "cell_type": "code",
   "execution_count": null,
   "metadata": {},
   "outputs": [],
   "source": []
  },
  {
   "attachments": {},
   "cell_type": "markdown",
   "metadata": {},
   "source": [
    "## 6."
   ]
  },
  {
   "attachments": {},
   "cell_type": "markdown",
   "metadata": {},
   "source": [
    "* In hypothesis testing, the null hypothesis (H0) and alternative hypothesis (HA) are two opposing statements used to make conclusions about population parameters based on sample data.\n",
    "\n",
    "* Examples of null hypotheses:\n",
    "\n",
    "1. Null Hypothesis for Mean Comparison:\n",
    "\n",
    " - The mean scores of two groups are equal.\n",
    "H0: μ1 = μ2\n",
    "(The population mean for Group 1 is equal to the population mean for Group 2)\n",
    "\n",
    "2. Null Hypothesis for Proportion Comparison:\n",
    "\n",
    " - The proportions of two populations are equal.\n",
    "H0: p1 = p2\n",
    "(The population proportion for Population 1 is equal to the population proportion for Population 2)\n",
    "\n",
    "3. Null Hypothesis for Independence Test: \n",
    "\n",
    "- Two categorical variables are independent of each other.\n",
    "H0: The variables X and Y are independent.\n",
    "(There is no association or relationship between variables X and Y)\n",
    "\n",
    "* The alternative hypothesis (HA) represents an alternative claim or hypothesis that contradicts the null hypothesis. It suggests that there is a significant difference, effect, or relationship between variables or populations."
   ]
  },
  {
   "attachments": {},
   "cell_type": "markdown",
   "metadata": {},
   "source": [
    "## 7. "
   ]
  },
  {
   "attachments": {},
   "cell_type": "markdown",
   "metadata": {},
   "source": [
    "* The general steps involved in hypothesis testing are as follows:\n",
    "\n",
    "\n",
    "\n",
    "Hypothesis testing involves a series of steps to make statistical inferences and draw conclusions about population parameters based on sample data. The general steps involved in hypothesis testing are as follows:\n",
    "\n",
    "1. State the Hypotheses:\n",
    "   - Formulate the null hypothesis (H0) and the alternative hypothesis (HA) based on the research question or problem.\n",
    "\n",
    "2. Set the Significance Level:\n",
    "   - Choose the desired level of significance (alpha) to determine the threshold for accepting or rejecting the null hypothesis.\n",
    "   - Commonly used significance levels are 0.05 (5%) and 0.01 (1%).\n",
    "\n",
    "3. Select the Test Statistic:\n",
    "   - Identify the appropriate statistical test or method based on the type of data, research design, and hypotheses being tested.\n",
    "\n",
    "5. Determine the Critical Region:\n",
    "   - Define the critical region (rejection region) based on the chosen significance level and the distribution of the test statistic.\n",
    "   \n",
    "6. Calculate the P-value:\n",
    "   - Compute the p-value, which represents the probability of observing the sample data or more extreme data under the assumption of the null hypothesis.\n",
    "   - The p-value helps assess the strength of evidence against the null hypothesis.\n",
    "\n",
    "7. Make a Decision:\n",
    "   - Compare the p-value to the significance level (alpha) to make a decision.\n",
    "   - If the p-value is less than or equal to alpha, reject the null hypothesis in favor of the alternative hypothesis.\n",
    "   - If the p-value is greater than alpha, fail to reject the null hypothesis.\n",
    "\n",
    "8. Draw Conclusions:\n",
    "   - Interpret the results of the hypothesis test in the context of the research question and the specific problem being investigated.\n",
    "   \n"
   ]
  },
  {
   "attachments": {},
   "cell_type": "markdown",
   "metadata": {},
   "source": []
  },
  {
   "attachments": {},
   "cell_type": "markdown",
   "metadata": {},
   "source": [
    "## 8."
   ]
  },
  {
   "attachments": {},
   "cell_type": "markdown",
   "metadata": {},
   "source": [
    "The p-value is a statistical measure that quantifies the strength of evidence against the null hypothesis (H0) in hypothesis testing. It represents the probability of obtaining the observed sample data, or more extreme data, assuming that the null hypothesis is true.\n",
    "\n",
    "The significance of the p-value in hypothesis testing can be summarized as follows:\n",
    "\n",
    "1. Assessing Strength of Evidence:\n",
    "   - A small p-value (typically below the chosen significance level) suggests strong evidence against the null hypothesis.\n",
    "   - A large p-value suggests weak evidence against the null hypothesis.\n",
    "\n",
    "2. Decision-Making:\n",
    "   - When comparing the p-value to the significance level (alpha), if the p-value is less than or equal to alpha, it indicates that the observed data is unlikely to have occurred by chance under the null hypothesis. Thus, the null hypothesis is rejected in favor of the alternative hypothesis.\n",
    "   \n",
    "\n",
    "3. Uncertainty and Type I Error:\n",
    "\n",
    "   - By choosing a significance level (alpha) in advance, the p-value allows controlling the risk of Type I error (false positive). Type I error occurs when the null hypothesis is wrongly rejected even though it is true.\n",
    "\n",
    "4. Effect Size and Statistical Power:\n",
    "   - While the p-value provides information about the statistical significance, it does not measure the magnitude or practical importance of the observed effect.\n",
    "\n",
    "\n",
    "5. Interpretation and Communication:\n",
    "   - The p-value provides a concise numerical summary of the strength of evidence against the null hypothesis.\n",
    "   - It helps researchers communicate their findings and conclusions to others, such as scientific peers, policymakers, or the general public.\n"
   ]
  },
  {
   "attachments": {},
   "cell_type": "markdown",
   "metadata": {},
   "source": []
  },
  {
   "attachments": {},
   "cell_type": "markdown",
   "metadata": {},
   "source": [
    "## 9."
   ]
  },
  {
   "cell_type": "code",
   "execution_count": 9,
   "metadata": {},
   "outputs": [
    {
     "data": {
      "image/png": "[encoded data removed]",
      "text/plain": [
       "<Figure size 640x480 with 1 Axes>"
      ]
     },
     "metadata": {},
     "output_type": "display_data"
    }
   ],
   "source": [
    "import numpy as np\n",
    "import matplotlib.pyplot as plt\n",
    "from scipy.stats import t\n",
    "\n",
    "df = 10\n",
    "\n",
    "x = np.linspace(-4, 4, 500)\n",
    "\n",
    "y = t.pdf(x, df)\n",
    "\n",
    "# Plot the t-distribution\n",
    "plt.plot(x, y, label='t-distribution (df=10)')\n",
    "plt.xlabel('x')\n",
    "plt.ylabel('Probability Density')\n",
    "plt.title(\"Student's t-Distribution\")\n",
    "plt.legend()\n",
    "plt.grid(True)\n",
    "plt.show()\n"
   ]
  },
  {
   "attachments": {},
   "cell_type": "markdown",
   "metadata": {},
   "source": []
  },
  {
   "attachments": {},
   "cell_type": "markdown",
   "metadata": {},
   "source": [
    "## 10."
   ]
  },
  {
   "attachments": {},
   "cell_type": "markdown",
   "metadata": {},
   "source": []
  },
  {
   "cell_type": "code",
   "execution_count": 11,
   "metadata": {},
   "outputs": [
    {
     "name": "stdout",
     "output_type": "stream",
     "text": [
      "T-Statistic: -5.88186785678675\n",
      "P-Value: 1.703561400793213e-08\n",
      "Reject the null hypothesis. The population means are not equal.\n"
     ]
    }
   ],
   "source": [
    "import scipy.stats as stats\n",
    "import numpy as np\n",
    "\n",
    "sample1 = np.random.normal(loc=10, scale=2, size=100)\n",
    "sample2 = np.random.normal(loc=12, scale=2, size=100)\n",
    "\n",
    "alpha = 0.05\n",
    "\n",
    "t_statistic, p_value = stats.ttest_ind(sample1, sample2)\n",
    "\n",
    "print(\"T-Statistic:\", t_statistic)\n",
    "print(\"P-Value:\", p_value)\n",
    "\n",
    "if p_value < alpha:\n",
    "    print(\"Reject the null hypothesis. The population means are not equal.\")\n",
    "else:\n",
    "    print(\"Fail to reject the null hypothesis. The population means are equal.\")\n"
   ]
  },
  {
   "cell_type": "code",
   "execution_count": null,
   "metadata": {},
   "outputs": [],
   "source": []
  },
  {
   "attachments": {},
   "cell_type": "markdown",
   "metadata": {},
   "source": [
    "## 11.\n"
   ]
  },
  {
   "attachments": {},
   "cell_type": "markdown",
   "metadata": {},
   "source": [
    "The Student's t-distribution, or simply the t-distribution, is a probability distribution that arises when estimating the mean of a normally distributed population with a small sample size or when the population standard deviation is unknown. It is a family of distributions, with the shape of the distribution determined by the degrees of freedom parameter.\n",
    "\n",
    "\n",
    "The t-distribution is used in statistical inference for the following scenarios:\n",
    "\n",
    "1. Small Sample Size:\n",
    "\n",
    "   - When the sample size is small (typically less than 30) and the population standard deviation is unknown, the t-distribution is used to estimate the population mean.\n",
    "   \n",
    "\n",
    "2. Confidence Intervals:\n",
    "\n",
    "   - The t-distribution is employed to construct confidence intervals for the population mean when the sample size is small or the population standard deviation is unknown.\n",
    "\n",
    "\n",
    "3. Hypothesis Testing:\n",
    "\n",
    "   - The t-distribution is employed to calculate the test statistic (t-statistic) and determine the p-value to assess the evidence against the null hypothesis.\n",
    "\n",
    "4. Outliers and Skewed Data:\n",
    "\n",
    "   - The t-distribution is often more robust to outliers and deviations from normality compared to the standard normal distribution.\n",
    "   \n",
    "\n"
   ]
  },
  {
   "attachments": {},
   "cell_type": "markdown",
   "metadata": {},
   "source": [
    "## 12."
   ]
  },
  {
   "attachments": {},
   "cell_type": "markdown",
   "metadata": {},
   "source": [
    "The t-statistic is a measure used in hypothesis testing to assess the difference between sample means or to estimate the population mean when the population standard deviation is unknown and the sample size is small.\n",
    "The formula for the t-statistic depends on the specific scenario and test being conducted. Here are the formulas for two commonly used scenarios:\n",
    "\n",
    "\n",
    "1. One-sample t-test:\n",
    "   The formula for the t-statistic in a one-sample t-test is:\n",
    "   t = (x̄ - μ0) / (s / √n)\n",
    "   where:\n",
    "   - x̄ is the sample mean\n",
    "   - μ0 is the hypothesized population mean under the null hypothesis\n",
    "   - s is the sample standard deviation\n",
    "   - n is the sample size\n",
    "\n",
    "2. Independent samples t-test:\n",
    "   The formula for the t-statistic in an independent samples t-test is:\n",
    "   t = (x̄1 - x̄2) / √((s1^2 / n1) + (s2^2 / n2))\n",
    "   where:\n",
    "   - x̄1 and x̄2 are the sample means of the two independent samples\n",
    "   - s1 and s2 are the sample standard deviations of the two independent samples\n",
    "   - n1 and n2 are the sample sizes of the two independent samples\n",
    "\n"
   ]
  },
  {
   "attachments": {},
   "cell_type": "markdown",
   "metadata": {},
   "source": []
  },
  {
   "attachments": {},
   "cell_type": "markdown",
   "metadata": {},
   "source": [
    "## 13."
   ]
  },
  {
   "cell_type": "code",
   "execution_count": 12,
   "metadata": {},
   "outputs": [
    {
     "name": "stdout",
     "output_type": "stream",
     "text": [
      "95% Confidence Interval: (485.79015724388137, 514.2098427561186)\n"
     ]
    }
   ],
   "source": [
    "import scipy.stats as stats\n",
    "import numpy as np\n",
    "\n",
    "# Sample data\n",
    "sample_mean = 500  \n",
    "sample_std = 50    \n",
    "sample_size = 50  \n",
    "\n",
    "# Degrees of freedom\n",
    "df = sample_size - 1\n",
    "\n",
    "# Calculate the critical value\n",
    "alpha = 0.05\n",
    "critical_value = stats.t.ppf(1 - alpha / 2, df)\n",
    "\n",
    "# Calculate the standard error\n",
    "standard_error = sample_std / np.sqrt(sample_size)\n",
    "\n",
    "# Calculate the margin of error\n",
    "margin_of_error = critical_value * standard_error\n",
    "\n",
    "# Calculate the confidence interval\n",
    "confidence_interval = (sample_mean - margin_of_error, sample_mean + margin_of_error)\n",
    "\n",
    "# Print the confidence interval\n",
    "print(\"95% Confidence Interval:\", confidence_interval)\n"
   ]
  },
  {
   "attachments": {},
   "cell_type": "markdown",
   "metadata": {},
   "source": []
  },
  {
   "attachments": {},
   "cell_type": "markdown",
   "metadata": {},
   "source": [
    "## 14."
   ]
  },
  {
   "cell_type": "code",
   "execution_count": 13,
   "metadata": {},
   "outputs": [
    {
     "name": "stdout",
     "output_type": "stream",
     "text": [
      "T-Statistic: -6.666666666666667\n",
      "P-Value: 1.5012289189542116e-09\n",
      "Reject the null hypothesis. The new drug has a significant effect on decreasing blood pressure.\n"
     ]
    }
   ],
   "source": [
    "import scipy.stats as stats\n",
    "import numpy as np\n",
    "\n",
    "# Sample data\n",
    "sample_mean = 8         \n",
    "null_hypothesis = 10    \n",
    "sample_std = 3          \n",
    "sample_size = 100       \n",
    "\n",
    "# Degrees of freedom\n",
    "df = sample_size - 1\n",
    "\n",
    "# Calculate the t-statistic\n",
    "t_statistic = (sample_mean - null_hypothesis) / (sample_std / np.sqrt(sample_size))\n",
    "\n",
    "# Calculate the p-value (two-tailed test)\n",
    "p_value = 2 * (1 - stats.t.cdf(abs(t_statistic), df))\n",
    "\n",
    "# Significance level\n",
    "alpha = 0.05\n",
    "\n",
    "# Print the t-statistic and p-value\n",
    "print(\"T-Statistic:\", t_statistic)\n",
    "print(\"P-Value:\", p_value)\n",
    "\n",
    "# Compare p-value with significance level to make a decision\n",
    "if p_value < alpha:\n",
    "    print(\"Reject the null hypothesis. The new drug has a significant effect on decreasing blood pressure.\")\n",
    "else:\n",
    "    print(\"Fail to reject the null hypothesis. The new drug does not have a significant effect on decreasing blood pressure.\")\n"
   ]
  },
  {
   "attachments": {},
   "cell_type": "markdown",
   "metadata": {},
   "source": []
  },
  {
   "attachments": {},
   "cell_type": "markdown",
   "metadata": {},
   "source": [
    "## 15."
   ]
  },
  {
   "cell_type": "code",
   "execution_count": 14,
   "metadata": {},
   "outputs": [
    {
     "name": "stdout",
     "output_type": "stream",
     "text": [
      "T-Statistic: -2.0000000000000018\n",
      "P-Value: 0.02846992496829572\n",
      "Fail to reject the null hypothesis. The true mean weight of the products is not less than 5 pounds.\n"
     ]
    }
   ],
   "source": [
    "import scipy.stats as stats\n",
    "import numpy as np\n",
    "\n",
    "# Sample data\n",
    "sample_mean = 4.8          \n",
    "null_hypothesis = 5       \n",
    "sample_std = 0.5          \n",
    "sample_size = 25          \n",
    "\n",
    "# Degrees of freedom\n",
    "df = sample_size - 1\n",
    "\n",
    "# Calculate the t-statistic\n",
    "t_statistic = (sample_mean - null_hypothesis) / (sample_std / np.sqrt(sample_size))\n",
    "\n",
    "# Calculate the p-value (one-tailed test)\n",
    "p_value = stats.t.cdf(t_statistic, df)\n",
    "\n",
    "# Significance level\n",
    "alpha = 0.01\n",
    "\n",
    "# Print the t-statistic and p-value\n",
    "print(\"T-Statistic:\", t_statistic)\n",
    "print(\"P-Value:\", p_value)\n",
    "\n",
    "# Compare p-value with significance level to make a decision\n",
    "if p_value < alpha:\n",
    "    print(\"Reject the null hypothesis. The true mean weight of the products is less than 5 pounds.\")\n",
    "else:\n",
    "    print(\"Fail to reject the null hypothesis. The true mean weight of the products is not less than 5 pounds.\")\n"
   ]
  },
  {
   "attachments": {},
   "cell_type": "markdown",
   "metadata": {},
   "source": []
  },
  {
   "attachments": {},
   "cell_type": "markdown",
   "metadata": {},
   "source": [
    "## 16."
   ]
  },
  {
   "cell_type": "code",
   "execution_count": 15,
   "metadata": {},
   "outputs": [],
   "source": [
    "import scipy.stats as stats\n",
    "import numpy as np\n",
    "\n",
    "# Group 1 data\n",
    "sample_mean_1 = 80      \n",
    "sample_std_1 = 10      \n",
    "sample_size_1 = 30     \n",
    "\n",
    "# Group 2 data\n",
    "sample_mean_2 = 75      \n",
    "sample_std_2 = 8       \n",
    "sample_size_2 = 40     \n",
    "\n",
    "# Degrees of freedom\n",
    "df = sample_size_1 + sample_size_2 - 2\n",
    "\n",
    "# Calculate the pooled standard deviation\n",
    "pooled_std = np.sqrt(((sample_size_1 - 1) * sample_std_1 ** 2 + (sample_size_2 - 1) * sample_std_2 ** 2) / df)\n",
    "\n",
    "# Calculate the t-statistic\n",
    "t_statistic = (sample_mean_1 - sample_mean_2) / (pooled_std * np.sqrt(1 / sample_size_1 + 1 / sample_size_2))\n",
    "\n",
    "# Calculate the p-value (two-tailed test)\n",
    "p_value = 2 * (1 - stats.t.cdf(abs(t_statistic), df))\n",
    "\n",
    "# Significance level\n",
    "alpha = 0.01\n",
    "\n"
   ]
  },
  {
   "cell_type": "code",
   "execution_count": 16,
   "metadata": {},
   "outputs": [
    {
     "name": "stdout",
     "output_type": "stream",
     "text": [
      "T-Statistic: 2.3239677296992913\n",
      "P-Value: 0.023123013413725912\n",
      "Fail to reject the null hypothesis. The population means for the two groups are equal.\n"
     ]
    }
   ],
   "source": [
    "# Print the t-statistic and p-value\n",
    "print(\"T-Statistic:\", t_statistic)\n",
    "print(\"P-Value:\", p_value)\n",
    "\n",
    "# Compare p-value with significance level to make a decision\n",
    "if p_value < alpha:\n",
    "    print(\"Reject the null hypothesis. The population means for the two groups are not equal.\")\n",
    "else:\n",
    "    print(\"Fail to reject the null hypothesis. The population means for the two groups are equal.\")\n"
   ]
  },
  {
   "attachments": {},
   "cell_type": "markdown",
   "metadata": {},
   "source": []
  },
  {
   "attachments": {},
   "cell_type": "markdown",
   "metadata": {},
   "source": [
    "## 17."
   ]
  },
  {
   "cell_type": "code",
   "execution_count": 17,
   "metadata": {},
   "outputs": [
    {
     "name": "stdout",
     "output_type": "stream",
     "text": [
      "99% Confidence Interval: (3.4314963358572577, 4.568503664142742)\n"
     ]
    }
   ],
   "source": [
    "import scipy.stats as stats\n",
    "import numpy as np\n",
    "\n",
    "# Sample data\n",
    "sample_mean = 4         \n",
    "sample_std = 1.5       \n",
    "sample_size = 50      \n",
    "# Degrees of freedom\n",
    "df = sample_size - 1\n",
    "\n",
    "# Calculate the critical value\n",
    "alpha = 0.01\n",
    "critical_value = stats.t.ppf(1 - alpha / 2, df)\n",
    "\n",
    "# Calculate the standard error\n",
    "standard_error = sample_std / np.sqrt(sample_size)\n",
    "\n",
    "# Calculate the margin of error\n",
    "margin_of_error = critical_value * standard_error\n",
    "\n",
    "# Calculate the confidence interval\n",
    "confidence_interval = (sample_mean - margin_of_error, sample_mean + margin_of_error)\n",
    "\n",
    "# Print the confidence interval\n",
    "print(\"99% Confidence Interval:\", confidence_interval)\n",
    "\n"
   ]
  }
 ],
 "metadata": {
  "kernelspec": {
   "display_name": "base",
   "language": "python",
   "name": "python3"
  },
  "language_info": {
   "codemirror_mode": {
    "name": "ipython",
    "version": 3
   },
   "file_extension": ".py",
   "mimetype": "text/x-python",
   "name": "python",
   "nbconvert_exporter": "python",
   "pygments_lexer": "ipython3",
   "version": "3.10.9"
  },
  "orig_nbformat": 4
 },
 "nbformat": 4,
 "nbformat_minor": 2
}
