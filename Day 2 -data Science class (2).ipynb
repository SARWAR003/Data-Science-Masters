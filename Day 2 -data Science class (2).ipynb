{
 "cells": [
  {
   "cell_type": "code",
   "execution_count": 1,
   "id": "71ebb2ec-b8c8-4397-8e8c-1cacefa294f1",
   "metadata": {},
   "outputs": [],
   "source": [
    "a=10"
   ]
  },
  {
   "cell_type": "code",
   "execution_count": 2,
   "id": "c673e6fe-8fa4-479f-9e51-20d1dd1c8c2b",
   "metadata": {},
   "outputs": [
    {
     "data": {
      "text/plain": [
       "10"
      ]
     },
     "execution_count": 2,
     "metadata": {},
     "output_type": "execute_result"
    }
   ],
   "source": [
    "a"
   ]
  },
  {
   "cell_type": "code",
   "execution_count": 3,
   "id": "255181c3-24e5-4020-829c-d79e8237969a",
   "metadata": {},
   "outputs": [
    {
     "data": {
      "text/plain": [
       "int"
      ]
     },
     "execution_count": 3,
     "metadata": {},
     "output_type": "execute_result"
    }
   ],
   "source": [
    "type(a)\n"
   ]
  },
  {
   "cell_type": "code",
   "execution_count": 5,
   "id": "237aa9d2-bcc4-49d5-9bea-d5195b3dc9d2",
   "metadata": {},
   "outputs": [
    {
     "data": {
      "text/plain": [
       "0"
      ]
     },
     "execution_count": 5,
     "metadata": {},
     "output_type": "execute_result"
    }
   ],
   "source": [
    "int()"
   ]
  },
  {
   "cell_type": "code",
   "execution_count": 6,
   "id": "1d1ae4a7-6334-4345-8948-b5757df6fefe",
   "metadata": {},
   "outputs": [
    {
     "name": "stdout",
     "output_type": "stream",
     "text": [
      "my age is: 25\n"
     ]
    }
   ],
   "source": [
    "age=25\n",
    "print(\"my age is:\",age)"
   ]
  },
  {
   "cell_type": "code",
   "execution_count": 8,
   "id": "89c56c0e-adf5-4491-8e50-d040ea0c92d2",
   "metadata": {},
   "outputs": [
    {
     "name": "stdout",
     "output_type": "stream",
     "text": [
      "my age is:25\n"
     ]
    }
   ],
   "source": [
    "print(f\"my age is:{age}\")\n",
    "## f, is the string for formating"
   ]
  },
  {
   "cell_type": "code",
   "execution_count": 9,
   "id": "474e3fd9-ff73-4c5d-b72c-f06bd8b41cf5",
   "metadata": {},
   "outputs": [
    {
     "name": "stdout",
     "output_type": "stream",
     "text": [
      "my name is sarwar and age is 25\n"
     ]
    }
   ],
   "source": [
    "## format()\n",
    "name=\"sarwar\"\n",
    "age=25\n",
    "print(\"my name is {} and age is {}\".format(name,age))"
   ]
  },
  {
   "cell_type": "code",
   "execution_count": 13,
   "id": "1096a810-3704-45ad-a5b8-5d35ab28f464",
   "metadata": {},
   "outputs": [
    {
     "name": "stdout",
     "output_type": "stream",
     "text": [
      "my name is 25 and age is sarwar\n"
     ]
    }
   ],
   "source": [
    "print(\"my name is {} and age is {}\" .format(age,name))"
   ]
  },
  {
   "cell_type": "code",
   "execution_count": 15,
   "id": "dcc9655b-45ce-45d7-8e7d-85de43c04d99",
   "metadata": {},
   "outputs": [
    {
     "name": "stdout",
     "output_type": "stream",
     "text": [
      "my name is sarwar and age is 25\n"
     ]
    }
   ],
   "source": [
    "##placeholder\n",
    "\n",
    "print(\"my name is {firstname} and age is {firstages}\".format(firstname=name,firstages=age))"
   ]
  },
  {
   "cell_type": "code",
   "execution_count": 18,
   "id": "7c691d39-f58b-4b1f-a410-d5ad499e9e80",
   "metadata": {},
   "outputs": [
    {
     "name": "stdout",
     "output_type": "stream",
     "text": [
      "my name is sarwar and age is 25 and degree is b.tach\n"
     ]
    }
   ],
   "source": [
    "## ex format()\n",
    "name=\"sarwar\"\n",
    "age=25\n",
    "degree=\"b.tach\"\n",
    "print(\"my name is {} and age is {} and degree is {}\".format(name,age,degree))\n"
   ]
  },
  {
   "cell_type": "code",
   "execution_count": 19,
   "id": "19b8c491-4894-4f3a-9d97-f2c4b9b155f7",
   "metadata": {},
   "outputs": [
    {
     "name": "stdout",
     "output_type": "stream",
     "text": [
      " my name is sarwar and age is 25 and degree is B.tech\n"
     ]
    }
   ],
   "source": [
    "## ex placeholder\n",
    "\n",
    "name=\"sarwar\"\n",
    "age=25\n",
    "degree=\"B.tech\"\n",
    "print(\" my name is {firstname} and age is {firstages} and degree is {firstdegree}\".format(firstname=name,firstages=age,firstdegree=degree))"
   ]
  },
  {
   "cell_type": "code",
   "execution_count": 23,
   "id": "30dfb66e-7caa-4b03-b337-634f2d31eb5d",
   "metadata": {},
   "outputs": [
    {
     "name": "stdout",
     "output_type": "stream",
     "text": [
      "my age is 25 and i have completed: my degree of B.Tech with name of Sarwar\n"
     ]
    }
   ],
   "source": [
    "## Q\n",
    "## my age is 25 and i have completed: my degree of B.Tech with name of sarwar\n",
    "## ANS \n",
    "age=25\n",
    "name=\"Sarwar\"\n",
    "degree=\"B.Tech\"\n",
    "\n",
    "print(\"my age is {} and i have completed: my degree of {} with name of {}\".format(age,degree,name))\n",
    "    \n"
   ]
  },
  {
   "cell_type": "markdown",
   "id": "780d8db8-719a-44ed-9a8c-24bd7aacf5ab",
   "metadata": {},
   "source": [
    "## if Statment\n"
   ]
  },
  {
   "cell_type": "code",
   "execution_count": 31,
   "id": "da043097-f62d-4c7b-b138-061ffc332590",
   "metadata": {},
   "outputs": [
    {
     "name": "stdout",
     "output_type": "stream",
     "text": [
      "your are not eligible to vote\n"
     ]
    }
   ],
   "source": [
    "age=17\n",
    "if age<18:\n",
    "    print(\"your are not eligible to vote\")\n",
    "    "
   ]
  },
  {
   "cell_type": "code",
   "execution_count": 32,
   "id": "a9e40977-8451-4200-aed7-b104018e1e82",
   "metadata": {},
   "outputs": [],
   "source": [
    "## ex"
   ]
  },
  {
   "cell_type": "code",
   "execution_count": 40,
   "id": "e8081ab2-dadb-49fd-b2d5-7bf6a5814432",
   "metadata": {},
   "outputs": [
    {
     "name": "stdout",
     "output_type": "stream",
     "text": [
      "you are young blood\n"
     ]
    }
   ],
   "source": [
    "## ex 1\n",
    "age>=18\n",
    "if age<=45:\n",
    "    print(\"you are young blood\")"
   ]
  },
  {
   "cell_type": "code",
   "execution_count": 44,
   "id": "f6c3889b-a2df-463a-ade8-b9dbd949169a",
   "metadata": {},
   "outputs": [
    {
     "name": "stdout",
     "output_type": "stream",
     "text": [
      "your not young blood\n"
     ]
    }
   ],
   "source": [
    "## ex 2\n",
    "age<=45\n",
    "if age>=18:\n",
    "    print(\"your not young blood\")"
   ]
  },
  {
   "cell_type": "code",
   "execution_count": null,
   "id": "897fae26-8f07-4292-91e1-488655a359df",
   "metadata": {},
   "outputs": [],
   "source": []
  },
  {
   "cell_type": "code",
   "execution_count": null,
   "id": "66417585-7cc9-48ba-bf54-17cf3f7f3cb3",
   "metadata": {},
   "outputs": [],
   "source": []
  },
  {
   "cell_type": "markdown",
   "id": "f7a4c66a-a25b-472e-901e-bb9003a13cde",
   "metadata": {},
   "source": [
    "## input\n"
   ]
  },
  {
   "cell_type": "code",
   "execution_count": 34,
   "id": "267b0732-2cc3-4c87-96b8-b4f7ec3a8fbd",
   "metadata": {},
   "outputs": [
    {
     "name": "stdin",
     "output_type": "stream",
     "text": [
      "Enter the name sarwar\n"
     ]
    }
   ],
   "source": [
    "name=input(\"Enter the name\")"
   ]
  },
  {
   "cell_type": "code",
   "execution_count": 35,
   "id": "6007c4c5-08b9-4b47-8cb9-1cf562b21aed",
   "metadata": {},
   "outputs": [
    {
     "data": {
      "text/plain": [
       "'sarwar'"
      ]
     },
     "execution_count": 35,
     "metadata": {},
     "output_type": "execute_result"
    }
   ],
   "source": [
    "name"
   ]
  },
  {
   "cell_type": "code",
   "execution_count": 36,
   "id": "1d4d9af8-7b4c-42ac-bd8c-887cb2873d36",
   "metadata": {},
   "outputs": [
    {
     "data": {
      "text/plain": [
       "str"
      ]
     },
     "execution_count": 36,
     "metadata": {},
     "output_type": "execute_result"
    }
   ],
   "source": [
    "type(name)"
   ]
  },
  {
   "cell_type": "code",
   "execution_count": null,
   "id": "d9ad6f35-7d16-4ea3-b828-bee152c46d82",
   "metadata": {},
   "outputs": [],
   "source": [
    "## ex"
   ]
  },
  {
   "cell_type": "code",
   "execution_count": null,
   "id": "b20189cf-0871-467a-85e5-7da9208115c6",
   "metadata": {},
   "outputs": [],
   "source": []
  },
  {
   "cell_type": "code",
   "execution_count": null,
   "id": "981a25d6-62e5-4690-8626-c0b2af0773bc",
   "metadata": {},
   "outputs": [],
   "source": []
  },
  {
   "cell_type": "code",
   "execution_count": null,
   "id": "97e71930-c578-4871-9be6-9a2a976745dd",
   "metadata": {},
   "outputs": [],
   "source": []
  },
  {
   "cell_type": "code",
   "execution_count": 37,
   "id": "e9368a79-42cf-4f7b-84ea-d5912d7c9944",
   "metadata": {},
   "outputs": [
    {
     "name": "stdin",
     "output_type": "stream",
     "text": [
      "Enter the age 25\n"
     ]
    }
   ],
   "source": [
    "age=int(input(\"Enter the age\"))"
   ]
  },
  {
   "cell_type": "code",
   "execution_count": 38,
   "id": "017d3aa8-5ad8-441f-a8e2-0422791e705d",
   "metadata": {},
   "outputs": [
    {
     "data": {
      "text/plain": [
       "25"
      ]
     },
     "execution_count": 38,
     "metadata": {},
     "output_type": "execute_result"
    }
   ],
   "source": [
    "age\n"
   ]
  },
  {
   "cell_type": "code",
   "execution_count": 39,
   "id": "d5e703c7-fadd-4002-8e80-08bb7022a98d",
   "metadata": {},
   "outputs": [
    {
     "data": {
      "text/plain": [
       "int"
      ]
     },
     "execution_count": 39,
     "metadata": {},
     "output_type": "execute_result"
    }
   ],
   "source": [
    "type(age)"
   ]
  },
  {
   "cell_type": "code",
   "execution_count": 45,
   "id": "2abd5ab9-cba7-426e-af97-4cbf68dc0521",
   "metadata": {},
   "outputs": [
    {
     "name": "stdin",
     "output_type": "stream",
     "text": [
      "entrn your age 25\n"
     ]
    }
   ],
   "source": [
    "## ex1\n",
    "\n",
    "age=int(input(\"entrn your age\"))"
   ]
  },
  {
   "cell_type": "code",
   "execution_count": 46,
   "id": "5220611c-0342-466e-9ca2-c6852dd89d14",
   "metadata": {},
   "outputs": [
    {
     "data": {
      "text/plain": [
       "25"
      ]
     },
     "execution_count": 46,
     "metadata": {},
     "output_type": "execute_result"
    }
   ],
   "source": [
    "age\n"
   ]
  },
  {
   "cell_type": "code",
   "execution_count": null,
   "id": "90a66600-f72d-4f1d-b69c-5cfd94bc1e20",
   "metadata": {},
   "outputs": [],
   "source": []
  },
  {
   "cell_type": "code",
   "execution_count": 47,
   "id": "65751139-a05d-401e-8d74-7c945e0932bd",
   "metadata": {},
   "outputs": [
    {
     "name": "stdin",
     "output_type": "stream",
     "text": [
      "Enter you age 18\n"
     ]
    },
    {
     "name": "stdout",
     "output_type": "stream",
     "text": [
      "you are young blood\n"
     ]
    }
   ],
   "source": [
    "## ex\n",
    "\n",
    "age=int(input(\"Enter you age\"))\n",
    "if age>=18 and age <=45:\n",
    "    print(\"you are young blood\")"
   ]
  },
  {
   "cell_type": "code",
   "execution_count": 53,
   "id": "f9621845-c04d-4df7-aece-ad308b16687d",
   "metadata": {},
   "outputs": [
    {
     "name": "stdin",
     "output_type": "stream",
     "text": [
      "Enter your age 60\n"
     ]
    },
    {
     "name": "stdout",
     "output_type": "stream",
     "text": [
      "your eligable for vote\n"
     ]
    }
   ],
   "source": [
    "age=int(input(\"Enter your age\"))\n",
    "if age>=18 and age<=60:\n",
    "    print(\"your eligable for vote\")"
   ]
  },
  {
   "cell_type": "markdown",
   "id": "20eb10f5-6751-4f8c-be7e-55bceb1688c9",
   "metadata": {},
   "source": [
    "## if else satetements"
   ]
  },
  {
   "cell_type": "code",
   "execution_count": 55,
   "id": "c9438271-0cea-4615-9971-7d921f5a8efc",
   "metadata": {},
   "outputs": [
    {
     "name": "stdin",
     "output_type": "stream",
     "text": [
      "Enter your age 26\n"
     ]
    },
    {
     "name": "stdout",
     "output_type": "stream",
     "text": [
      "your eligable for vote\n"
     ]
    }
   ],
   "source": [
    "## if else satetements\n",
    "age=int(input(\"Enter your age\"))\n",
    "if age>=18 and age<=60:\n",
    "    print(\"your eligable for vote\")\n",
    "else:\n",
    "    print(\"you are not eligable\")"
   ]
  },
  {
   "cell_type": "code",
   "execution_count": null,
   "id": "ea3a4908-63ad-4d66-89db-1adb86efbfff",
   "metadata": {},
   "outputs": [],
   "source": [
    "## ex\n",
    "##mall _ input the product price\n",
    "## product >1000 rs  20% off\n",
    "## print the product price after removing the discount\n",
    "## product <=1000 rs 30% off\n",
    "## print the product price after removing the discount\n",
    "\n",
    "product_price=int(input(\"Enter your product price\"))\n",
    "if product_price>1000:\n",
    "    print(\"the price of the product is {}\". format(product_price*0.8))\n",
    "else:\n",
    "    print(\"the price of the product is {}\". format(product_price*0.7))\n",
    "    \n",
    "\n"
   ]
  },
  {
   "cell_type": "code",
   "execution_count": 68,
   "id": "77cbdfce-69a0-488d-b6c9-30cdbe42def6",
   "metadata": {},
   "outputs": [
    {
     "data": {
      "text/plain": [
       "200"
      ]
     },
     "execution_count": 68,
     "metadata": {},
     "output_type": "execute_result"
    }
   ],
   "source": [
    "int((20/100)*1000)"
   ]
  },
  {
   "cell_type": "code",
   "execution_count": null,
   "id": "20581636-b595-4c99-8167-4c756c7b120f",
   "metadata": {},
   "outputs": [],
   "source": [
    "## f, is the string for formating\n",
    "product_price=int(input(\"Enter your product price\"))\n",
    "if product_price>1000:\n",
    "    print(f\"the price of the product is {(product_price*0.8)}\")\n",
    "else:\n",
    "    print(f\"the price of the product is {(product_price*0.7)}\")\n",
    "    \n",
    "    "
   ]
  },
  {
   "cell_type": "code",
   "execution_count": 72,
   "id": "d5186cef-e2c0-4246-8fe5-9f54c69fc037",
   "metadata": {},
   "outputs": [],
   "source": [
    "## ex\n",
    "## mall _ input the product price\n",
    "## product >3000 rs  20% off\n",
    "## print the product price after removing the discount\n",
    "## product >=2000 rs and 30% off\n",
    "## print the product price after removing the discount\n",
    "## product >=100 rs and <=2000 40% off\n",
    "##print the product price after removing the discount"
   ]
  },
  {
   "cell_type": "markdown",
   "id": "204223f2-3c69-4e07-97e4-7bba8f3fcc46",
   "metadata": {},
   "source": [
    "## f, is the string for formating"
   ]
  },
  {
   "cell_type": "code",
   "execution_count": 96,
   "id": "d1453a66-1d93-4e66-a69d-8c07f42473e3",
   "metadata": {},
   "outputs": [
    {
     "name": "stdin",
     "output_type": "stream",
     "text": [
      "Enter your product price 2000\n"
     ]
    },
    {
     "name": "stdout",
     "output_type": "stream",
     "text": [
      "the price of the product is 1400.0\n"
     ]
    }
   ],
   "source": [
    "## f, is the string for formating\n",
    "product_price=int(input(\"Enter your product price\"))\n",
    "if product_price >3000:\n",
    "    print(f\"the price of the product is {(product_price*0.8)}\")\n",
    "elif product_price >=2000 and product_price <=3000:\n",
    "    print(f\"the price of the product is {(product_price*0.7)}\")\n",
    "elif  product_price >=100 and product_price >2000:\n",
    "    print(f\"the price of the product is {(product_price*0.6)}\")\n",
    "else:\n",
    "    print(\"bay a tea\")\n",
    "    \n",
    "\n",
    "    "
   ]
  },
  {
   "cell_type": "code",
   "execution_count": null,
   "id": "3c36a6c4-c79a-432a-a410-3bae53ee427a",
   "metadata": {},
   "outputs": [],
   "source": [
    "int((40/100)*3000\n",
    "   )"
   ]
  },
  {
   "cell_type": "code",
   "execution_count": 98,
   "id": "1b4f60a0-cc72-46d0-8f2b-2775b0175f8d",
   "metadata": {},
   "outputs": [
    {
     "name": "stdin",
     "output_type": "stream",
     "text": [
      "Enter your product price 100\n"
     ]
    },
    {
     "name": "stdout",
     "output_type": "stream",
     "text": [
      "Lets drink tea\n",
      "i will also be ther\n"
     ]
    }
   ],
   "source": [
    "product_price=int(input(\"Enter your product price\"))\n",
    "if product_price >3000:\n",
    "    print(f\"the price of the product is {(product_price*0.8)}\")\n",
    "elif product_price >=2000 and product_price <=3000:\n",
    "    print(f\"the price of the product is {(product_price*0.7)}\")\n",
    "elif  product_price >=100 and product_price >2000:\n",
    "    print(f\"the price of the product is {(product_price*0.6)}\")\n",
    "else:\n",
    "    print(\"Lets drink tea\")\n",
    "    print(\"i will also be ther\")"
   ]
  },
  {
   "cell_type": "code",
   "execution_count": null,
   "id": "a049e95b-df7a-4d15-a163-35d4e96f19cb",
   "metadata": {},
   "outputs": [],
   "source": []
  },
  {
   "cell_type": "markdown",
   "id": "e28c226e-74fb-4b29-bcca-6a8e81cf8f50",
   "metadata": {},
   "source": [
    "# comaprission operator"
   ]
  },
  {
   "cell_type": "code",
   "execution_count": 99,
   "id": "6896ac1e-292a-46c8-8d2d-c55d4074285d",
   "metadata": {},
   "outputs": [
    {
     "data": {
      "text/plain": [
       "True"
      ]
     },
     "execution_count": 99,
     "metadata": {},
     "output_type": "execute_result"
    }
   ],
   "source": [
    "# comaprission operator\n",
    "True==True"
   ]
  },
  {
   "cell_type": "markdown",
   "id": "4d5dccb5-b305-4a48-928c-cc4157df287e",
   "metadata": {},
   "source": [
    "## Single statement"
   ]
  },
  {
   "cell_type": "code",
   "execution_count": 106,
   "id": "9355e014-697f-427a-833a-56034a0cd5a7",
   "metadata": {},
   "outputs": [
    {
     "name": "stdin",
     "output_type": "stream",
     "text": [
      "Enter the number 1111\n"
     ]
    },
    {
     "name": "stdout",
     "output_type": "stream",
     "text": [
      "Go Home and slipe\n"
     ]
    }
   ],
   "source": [
    "## Single statement\n",
    "\n",
    "val=int(input(\"Enter the number\"))\n",
    "if(val<=999):print(\"Value is less then equal to 999\")\n",
    "else:\n",
    "    print(\"Go Home and slipe\")"
   ]
  },
  {
   "cell_type": "markdown",
   "id": "6ceaee71-941f-493d-b096-7a8c33375e8f",
   "metadata": {},
   "source": [
    "## loops statements\n",
    "1. while loop\n",
    "2. for loop\n",
    "3.nested loops\n",
    "4. loop control (break, continue,pass)"
   ]
  },
  {
   "cell_type": "markdown",
   "id": "b14d62aa-9808-4a8f-8cf0-58e43f784405",
   "metadata": {},
   "source": [
    "## while loop"
   ]
  },
  {
   "cell_type": "code",
   "execution_count": 113,
   "id": "564ab87a-4c03-4070-b0c3-59725fb9f60d",
   "metadata": {},
   "outputs": [
    {
     "name": "stdout",
     "output_type": "stream",
     "text": [
      "25\n",
      "26\n",
      "27\n",
      "28\n",
      "29\n",
      "30\n",
      "31\n",
      "32\n",
      "33\n",
      "34\n",
      "35\n",
      "36\n",
      "37\n",
      "38\n",
      "39\n",
      "40\n",
      "41\n",
      "42\n",
      "43\n",
      "44\n",
      "45\n",
      "46\n",
      "47\n",
      "48\n",
      "49\n",
      "50\n",
      "51\n",
      "52\n",
      "53\n",
      "54\n",
      "55\n",
      "56\n",
      "57\n",
      "58\n",
      "59\n",
      "60\n",
      "its time for retirement\n"
     ]
    }
   ],
   "source": [
    "## while loop while- eles\n",
    "joining_age=25\n",
    "while joining_age<=60:\n",
    "    print(joining_age)\n",
    "    joining_age=joining_age+1\n",
    "    \n",
    "else:\n",
    "    print(\"its time for retirement\")"
   ]
  },
  {
   "cell_type": "code",
   "execution_count": 121,
   "id": "6bad27cf-f0ab-45ed-8f7a-6ff35e4332a6",
   "metadata": {},
   "outputs": [
    {
     "name": "stdout",
     "output_type": "stream",
     "text": [
      "1000\n",
      "900\n",
      "800\n",
      "700\n",
      "600\n",
      "500\n",
      "400\n",
      "300\n",
      "200\n",
      "100\n",
      "no money\n"
     ]
    }
   ],
   "source": [
    "## ex\n",
    "## ATM machine with 1000 rs\n",
    "total_amount=1000\n",
    "while total_amount!=0:\n",
    "    print(total_amount)\n",
    "    total_amount=total_amount-100\n",
    "else:\n",
    "    print(\"no money\")\n",
    "    "
   ]
  },
  {
   "cell_type": "markdown",
   "id": "0fc092cd-69f1-45aa-862c-57417863f655",
   "metadata": {},
   "source": [
    "# For loop"
   ]
  },
  {
   "cell_type": "code",
   "execution_count": 127,
   "id": "5664625f-6dde-4731-b312-7b05db0e9533",
   "metadata": {},
   "outputs": [],
   "source": [
    "lst=[\"sarwar\",1,2,3,4,\"apple\",\"banana\"]\n"
   ]
  },
  {
   "cell_type": "code",
   "execution_count": 128,
   "id": "07ecec5e-7cf9-4d81-acbc-9501f5c316f4",
   "metadata": {},
   "outputs": [
    {
     "data": {
      "text/plain": [
       "list"
      ]
     },
     "execution_count": 128,
     "metadata": {},
     "output_type": "execute_result"
    }
   ],
   "source": [
    "type(lst)"
   ]
  },
  {
   "cell_type": "code",
   "execution_count": 129,
   "id": "34302403-2d08-4307-8f49-e4bfa9a4ad13",
   "metadata": {},
   "outputs": [
    {
     "data": {
      "text/plain": [
       "1"
      ]
     },
     "execution_count": 129,
     "metadata": {},
     "output_type": "execute_result"
    }
   ],
   "source": [
    "lst[1]"
   ]
  },
  {
   "cell_type": "code",
   "execution_count": 130,
   "id": "40255b09-e59f-455e-a32c-2abb048660fc",
   "metadata": {},
   "outputs": [
    {
     "data": {
      "text/plain": [
       "'banana'"
      ]
     },
     "execution_count": 130,
     "metadata": {},
     "output_type": "execute_result"
    }
   ],
   "source": [
    "lst[6]"
   ]
  },
  {
   "cell_type": "code",
   "execution_count": 131,
   "id": "d5839b76-b79a-4ee2-be1e-9a76a524cac2",
   "metadata": {},
   "outputs": [
    {
     "data": {
      "text/plain": [
       "['sarwar', 1, 2, 3, 4, 'apple', 'banana']"
      ]
     },
     "execution_count": 131,
     "metadata": {},
     "output_type": "execute_result"
    }
   ],
   "source": [
    "lst"
   ]
  },
  {
   "cell_type": "code",
   "execution_count": 132,
   "id": "a8639bb3-e73b-4fa8-9fac-74f969f006c2",
   "metadata": {},
   "outputs": [
    {
     "name": "stdout",
     "output_type": "stream",
     "text": [
      "sarwar\n",
      "1\n",
      "2\n",
      "3\n",
      "4\n",
      "apple\n",
      "banana\n"
     ]
    }
   ],
   "source": [
    "for x in lst:\n",
    "    print(x)"
   ]
  },
  {
   "cell_type": "code",
   "execution_count": 133,
   "id": "8e0f8b5c-e610-4240-8968-d9540cd945ed",
   "metadata": {},
   "outputs": [],
   "source": [
    "fruits_list= [\"Mango\",\"Cherry\",\"Apple\",\"Papaya\",\"Banana\"]"
   ]
  },
  {
   "cell_type": "code",
   "execution_count": 137,
   "id": "b655e03b-e0ce-45b0-a193-125a384ec39e",
   "metadata": {},
   "outputs": [
    {
     "name": "stdout",
     "output_type": "stream",
     "text": [
      "Mango\n",
      "Cherry\n",
      "The fruit is Cherry\n",
      "Apple\n",
      "Papaya\n",
      "Banana\n"
     ]
    }
   ],
   "source": [
    "for b in fruits_list:\n",
    "    print(b)\n",
    "    if b==\"Cherry\":\n",
    "        print(\"The fruit is Cherry\")"
   ]
  },
  {
   "cell_type": "code",
   "execution_count": 143,
   "id": "832f2be6-175f-4315-8bc1-ac916dab0f18",
   "metadata": {},
   "outputs": [
    {
     "name": "stdout",
     "output_type": "stream",
     "text": [
      "m\n",
      "a\n",
      "n\n",
      "g\n",
      "o\n"
     ]
    }
   ],
   "source": [
    "fruit=\"mango\"\n",
    "for x in fruit:\n",
    "    print(x\n",
    "         )"
   ]
  },
  {
   "cell_type": "code",
   "execution_count": 144,
   "id": "dae1c604-068b-4e7e-811f-74fc6676d387",
   "metadata": {},
   "outputs": [
    {
     "name": "stdout",
     "output_type": "stream",
     "text": [
      "mango"
     ]
    }
   ],
   "source": [
    "fruit=\"mango\"\n",
    "for x in fruit:\n",
    "    print(x,end='',)\n",
    "         "
   ]
  },
  {
   "cell_type": "markdown",
   "id": "25df3d7f-1520-4a76-84c2-962dd59fbd6e",
   "metadata": {},
   "source": [
    "## Nested Loops"
   ]
  },
  {
   "cell_type": "code",
   "execution_count": 151,
   "id": "1de2bb8e-2ee1-4cc4-86d2-407d8f06b00e",
   "metadata": {},
   "outputs": [
    {
     "name": "stdout",
     "output_type": "stream",
     "text": [
      "0112223333444445555556666666"
     ]
    }
   ],
   "source": [
    "## Nested loops\n",
    "\n",
    "n=7\n",
    "for i in range (0,n):\n",
    "        for j in range (0,i+1):\n",
    "            print(i,end=\"\")"
   ]
  },
  {
   "cell_type": "code",
   "execution_count": 152,
   "id": "64b056a9-40c6-46ca-adc2-7fff650c6e90",
   "metadata": {},
   "outputs": [
    {
     "name": "stdout",
     "output_type": "stream",
     "text": [
      "****************************"
     ]
    }
   ],
   "source": [
    "n=7\n",
    "for i in range (0,n):\n",
    "        for j in range (0,i+1):\n",
    "            print(i,end=\"\")"
   ]
  },
  {
   "cell_type": "code",
   "execution_count": 155,
   "id": "660bbd49-f9b7-4506-b258-c57b7b1b6375",
   "metadata": {},
   "outputs": [
    {
     "name": "stdout",
     "output_type": "stream",
     "text": [
      "*\n",
      "**\n",
      "***\n",
      "****\n",
      "*****\n",
      "******\n",
      "*******\n"
     ]
    }
   ],
   "source": [
    "n=7\n",
    "for i in range (0,n):\n",
    "        for j in range (0,i+1):\n",
    "            print(\"*\",end=\"\")\n",
    "        print(\"\\r\")"
   ]
  },
  {
   "cell_type": "code",
   "execution_count": 156,
   "id": "727514d6-e432-4d60-8474-99df42ec650a",
   "metadata": {},
   "outputs": [
    {
     "name": "stdout",
     "output_type": "stream",
     "text": [
      "*\n",
      "\n",
      "**\n",
      "\n",
      "***\n",
      "\n",
      "****\n",
      "\n",
      "*****\n",
      "\n",
      "******\n",
      "\n",
      "*******\n",
      "\n"
     ]
    }
   ],
   "source": [
    "n=7\n",
    "for i in range (0,n):\n",
    "        for j in range (0,i+1):\n",
    "            print(\"*\",end=\"\")\n",
    "        print(\"\\n\")"
   ]
  },
  {
   "cell_type": "markdown",
   "id": "5ff48147-7f9f-4184-879d-00f40815fdd5",
   "metadata": {},
   "source": [
    "## Range"
   ]
  },
  {
   "cell_type": "code",
   "execution_count": 146,
   "id": "f0026e4e-a058-46f8-98dc-d5a297d58d68",
   "metadata": {},
   "outputs": [
    {
     "name": "stdout",
     "output_type": "stream",
     "text": [
      "1\n",
      "2\n",
      "3\n",
      "4\n",
      "5\n",
      "6\n",
      "7\n",
      "8\n",
      "9\n",
      "10\n",
      "11\n",
      "12\n",
      "13\n",
      "14\n",
      "15\n",
      "16\n",
      "17\n",
      "18\n",
      "19\n"
     ]
    }
   ],
   "source": [
    "### range\n",
    "for i in range (1,20):\n",
    "    print(i)"
   ]
  },
  {
   "cell_type": "code",
   "execution_count": 147,
   "id": "74b22271-a2fd-465b-8cba-dbaaa984db0c",
   "metadata": {},
   "outputs": [
    {
     "name": "stdout",
     "output_type": "stream",
     "text": [
      "1\n",
      "6\n"
     ]
    }
   ],
   "source": [
    "for i in range (1,10,5):\n",
    "    print(i)"
   ]
  },
  {
   "cell_type": "markdown",
   "id": "2ee2990b-ad6f-4dd1-a10c-6a670aa32258",
   "metadata": {
    "tags": []
   },
   "source": [
    "## loop controls \n",
    "## Break and Continue"
   ]
  },
  {
   "cell_type": "code",
   "execution_count": 166,
   "id": "f24f110a-2f3d-4df8-a59d-b8674c2ff0ff",
   "metadata": {},
   "outputs": [
    {
     "name": "stdout",
     "output_type": "stream",
     "text": [
      "['mango', 'Cherry', 'Apple', 'Papaya', 'Banana']\n"
     ]
    }
   ],
   "source": [
    "fruits_list=[\"mango\",\"Cherry\",\"Apple\",\"Papaya\",\"Banana\"]\n",
    "print(fruits_list)"
   ]
  },
  {
   "cell_type": "code",
   "execution_count": 168,
   "id": "1d51d3bc-c232-40bc-974d-dac470c5f2e9",
   "metadata": {},
   "outputs": [
    {
     "name": "stdout",
     "output_type": "stream",
     "text": [
      "mango\n",
      "Cherry\n",
      "Apple\n",
      "Papaya\n",
      "Banana\n"
     ]
    }
   ],
   "source": [
    "for i in fruits_list:\n",
    "   \n",
    "        print(i)\n",
    "        "
   ]
  },
  {
   "cell_type": "code",
   "execution_count": 170,
   "id": "552796ec-d545-4af3-be01-09f0178a131d",
   "metadata": {},
   "outputs": [
    {
     "name": "stdout",
     "output_type": "stream",
     "text": [
      "mango\n",
      "Cherry\n",
      "The fruit is apple\n"
     ]
    }
   ],
   "source": [
    "for i in fruits_list:\n",
    "    if i==\"Apple\":\n",
    "        print(\"The fruit is apple\")\n",
    "        break\n",
    "        \n",
    "    print(i)"
   ]
  },
  {
   "cell_type": "code",
   "execution_count": 171,
   "id": "e5a6ddc3-4773-4ce5-9ccc-217035760515",
   "metadata": {},
   "outputs": [
    {
     "name": "stdout",
     "output_type": "stream",
     "text": [
      "mango\n",
      "Cherry\n",
      "The fruit is apple\n",
      "Papaya\n",
      "Banana\n"
     ]
    }
   ],
   "source": [
    "for i in fruits_list:\n",
    "    if i==\"Apple\":\n",
    "        print(\"The fruit is apple\")\n",
    "        continue\n",
    "        \n",
    "    print(i)"
   ]
  },
  {
   "cell_type": "code",
   "execution_count": null,
   "id": "693c6e38-8e31-4041-ae99-86fce407e906",
   "metadata": {},
   "outputs": [],
   "source": []
  }
 ],
 "metadata": {
  "kernelspec": {
   "display_name": "Python 3 (ipykernel)",
   "language": "python",
   "name": "python3"
  },
  "language_info": {
   "codemirror_mode": {
    "name": "ipython",
    "version": 3
   },
   "file_extension": ".py",
   "mimetype": "text/x-python",
   "name": "python",
   "nbconvert_exporter": "python",
   "pygments_lexer": "ipython3",
   "version": "3.9.13"
  }
 },
 "nbformat": 4,
 "nbformat_minor": 5
}
