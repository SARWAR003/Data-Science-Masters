{
 "cells": [
  {
   "cell_type": "code",
   "execution_count": 1,
   "id": "4be0d58c-bfc6-4364-9845-b5a3f58b6cbe",
   "metadata": {},
   "outputs": [],
   "source": [
    "name= \"Data Science Masters\""
   ]
  },
  {
   "cell_type": "code",
   "execution_count": null,
   "id": "ad3d8aae-53cc-4bfa-8efa-2fdd9e0174bb",
   "metadata": {},
   "outputs": [],
   "source": []
  },
  {
   "cell_type": "code",
   "execution_count": 2,
   "id": "40c03dcc-51ca-4e6d-8f52-b7ef9d42cc2c",
   "metadata": {},
   "outputs": [
    {
     "data": {
      "text/plain": [
       "'dATA sCIENCE mASTERS'"
      ]
     },
     "execution_count": 2,
     "metadata": {},
     "output_type": "execute_result"
    }
   ],
   "source": [
    "name.swapcase()"
   ]
  },
  {
   "cell_type": "code",
   "execution_count": 3,
   "id": "0ad6be0c-bc42-4d3a-be25-0077d9a8056e",
   "metadata": {},
   "outputs": [
    {
     "data": {
      "text/plain": [
       "'Data Science Masters'"
      ]
     },
     "execution_count": 3,
     "metadata": {},
     "output_type": "execute_result"
    }
   ],
   "source": [
    "name"
   ]
  },
  {
   "cell_type": "code",
   "execution_count": 6,
   "id": "183b7780-368e-4d23-bf99-930281bd699f",
   "metadata": {},
   "outputs": [
    {
     "data": {
      "text/plain": [
       "'DATA SCIENCE MASTERS'"
      ]
     },
     "execution_count": 6,
     "metadata": {},
     "output_type": "execute_result"
    }
   ],
   "source": [
    "name.upper()"
   ]
  },
  {
   "cell_type": "code",
   "execution_count": 7,
   "id": "c41f940f-54dc-4222-b2e7-0ca8d69f0a5a",
   "metadata": {},
   "outputs": [
    {
     "data": {
      "text/plain": [
       "'Data Science Masters'"
      ]
     },
     "execution_count": 7,
     "metadata": {},
     "output_type": "execute_result"
    }
   ],
   "source": [
    "name.title()"
   ]
  },
  {
   "cell_type": "markdown",
   "id": "16668c87-0dd9-40cd-bb50-c19f0bd179fb",
   "metadata": {},
   "source": [
    "name"
   ]
  },
  {
   "cell_type": "code",
   "execution_count": 9,
   "id": "3a65474f-bf7e-4665-90cc-6dc2d783d794",
   "metadata": {},
   "outputs": [],
   "source": [
    "name =\"Data Science Masters\""
   ]
  },
  {
   "cell_type": "code",
   "execution_count": 11,
   "id": "d2015b6e-0d88-4da8-97c0-0b369d0830e3",
   "metadata": {},
   "outputs": [
    {
     "data": {
      "text/plain": [
       "'data science masters'"
      ]
     },
     "execution_count": 11,
     "metadata": {},
     "output_type": "execute_result"
    }
   ],
   "source": [
    "name.lower()"
   ]
  },
  {
   "cell_type": "code",
   "execution_count": 12,
   "id": "de874309-d6ab-4474-aedd-5add231f4fad",
   "metadata": {},
   "outputs": [
    {
     "data": {
      "text/plain": [
       "'Data Science Masters'"
      ]
     },
     "execution_count": 12,
     "metadata": {},
     "output_type": "execute_result"
    }
   ],
   "source": [
    "name"
   ]
  },
  {
   "cell_type": "code",
   "execution_count": 13,
   "id": "799876df-0c28-460f-8432-6eca8387cbef",
   "metadata": {},
   "outputs": [
    {
     "data": {
      "text/plain": [
       "'Data science masters'"
      ]
     },
     "execution_count": 13,
     "metadata": {},
     "output_type": "execute_result"
    }
   ],
   "source": [
    "name.capitalize()"
   ]
  },
  {
   "cell_type": "code",
   "execution_count": 14,
   "id": "dac3821b-0b23-4be7-8e47-a4cb7c69c637",
   "metadata": {},
   "outputs": [
    {
     "data": {
      "text/plain": [
       "'sretsaM ecneicS ataD'"
      ]
     },
     "execution_count": 14,
     "metadata": {},
     "output_type": "execute_result"
    }
   ],
   "source": [
    "name[::-1]"
   ]
  },
  {
   "cell_type": "code",
   "execution_count": 15,
   "id": "6a170f96-12ae-4a5a-8e43-5b398a6fbe54",
   "metadata": {},
   "outputs": [
    {
     "data": {
      "text/plain": [
       "'Data Science Masters'"
      ]
     },
     "execution_count": 15,
     "metadata": {},
     "output_type": "execute_result"
    }
   ],
   "source": [
    "name[:]"
   ]
  },
  {
   "cell_type": "code",
   "execution_count": 18,
   "id": "90e718d9-27f1-4d3c-a8be-38f740b8df24",
   "metadata": {},
   "outputs": [
    {
     "data": {
      "text/plain": [
       "'s r e t s a M   e c n e i c S   a t a D'"
      ]
     },
     "execution_count": 18,
     "metadata": {},
     "output_type": "execute_result"
    }
   ],
   "source": [
    "' '.join(reversed(name))"
   ]
  },
  {
   "cell_type": "code",
   "execution_count": 19,
   "id": "6aa8aaa3-94b4-4f41-9fac-b73c0ab8ed45",
   "metadata": {},
   "outputs": [
    {
     "data": {
      "text/plain": [
       "'Data Science Masters'"
      ]
     },
     "execution_count": 19,
     "metadata": {},
     "output_type": "execute_result"
    }
   ],
   "source": [
    "name[:]\n"
   ]
  },
  {
   "cell_type": "code",
   "execution_count": 21,
   "id": "fb4c2ebd-4c6e-4183-8908-eabf38f5d913",
   "metadata": {},
   "outputs": [
    {
     "data": {
      "text/plain": [
       "'s!$!r!$!e!$!t!$!s!$!a!$!M!$! !$!e!$!c!$!n!$!e!$!i!$!c!$!S!$! !$!a!$!t!$!a!$!D'"
      ]
     },
     "execution_count": 21,
     "metadata": {},
     "output_type": "execute_result"
    }
   ],
   "source": [
    "\n",
    "'!$!'.join(reversed(name))\n"
   ]
  },
  {
   "cell_type": "code",
   "execution_count": 22,
   "id": "095a376e-5760-4ddc-b493-ff1d34360133",
   "metadata": {},
   "outputs": [
    {
     "data": {
      "text/plain": [
       "'b a t'"
      ]
     },
     "execution_count": 22,
     "metadata": {},
     "output_type": "execute_result"
    }
   ],
   "source": [
    "\" \".join(\"bat\")"
   ]
  },
  {
   "cell_type": "code",
   "execution_count": 23,
   "id": "e9914f6e-53b8-455c-a4ad-eedc7542d5b4",
   "metadata": {},
   "outputs": [
    {
     "data": {
      "text/plain": [
       "'S#a#r#w#a#r'"
      ]
     },
     "execution_count": 23,
     "metadata": {},
     "output_type": "execute_result"
    }
   ],
   "source": [
    "\"#\".join(\"Sarwar\")"
   ]
  },
  {
   "cell_type": "code",
   "execution_count": 27,
   "id": "a29b1c24-d172-43eb-8fbb-cdf87428eeeb",
   "metadata": {},
   "outputs": [
    {
     "data": {
      "text/plain": [
       "'R  A  W  R  A  S'"
      ]
     },
     "execution_count": 27,
     "metadata": {},
     "output_type": "execute_result"
    }
   ],
   "source": [
    "\"  \" .join(reversed(\"SARWAR\"))"
   ]
  },
  {
   "cell_type": "code",
   "execution_count": 29,
   "id": "9a3041bb-6ee6-4b01-8005-fb34663b92e1",
   "metadata": {},
   "outputs": [
    {
     "data": {
      "text/plain": [
       "'R MD A MD W MD R MD A MD S'"
      ]
     },
     "execution_count": 29,
     "metadata": {},
     "output_type": "execute_result"
    }
   ],
   "source": [
    "\" MD \".join(reversed(\"SARWAR\"))"
   ]
  },
  {
   "cell_type": "code",
   "execution_count": 30,
   "id": "967090ed-469f-4987-b59e-f3d48836a6f1",
   "metadata": {},
   "outputs": [
    {
     "data": {
      "text/plain": [
       "['r', 'a', 'w', 'r', 'a', 's']"
      ]
     },
     "execution_count": 30,
     "metadata": {},
     "output_type": "execute_result"
    }
   ],
   "source": [
    "## typecasting\n",
    "list(reversed(\"sarwar\"))"
   ]
  },
  {
   "cell_type": "code",
   "execution_count": 31,
   "id": "1ec77cf2-8259-453f-b8d1-0086ecef03bf",
   "metadata": {},
   "outputs": [
    {
     "data": {
      "text/plain": [
       "'Data Science Masters'"
      ]
     },
     "execution_count": 31,
     "metadata": {},
     "output_type": "execute_result"
    }
   ],
   "source": [
    "name[:]\n"
   ]
  },
  {
   "cell_type": "code",
   "execution_count": 38,
   "id": "cd1a8b3f-b73b-4d70-ae39-96c424dae7f0",
   "metadata": {},
   "outputs": [],
   "source": [
    "name1=\"Data Science Masters\""
   ]
  },
  {
   "cell_type": "code",
   "execution_count": 39,
   "id": "c2384211-1ef4-4174-b1bb-4dd4eed99532",
   "metadata": {},
   "outputs": [
    {
     "data": {
      "text/plain": [
       "'D a t a   S c i e n c e   M a s t e r s'"
      ]
     },
     "execution_count": 39,
     "metadata": {},
     "output_type": "execute_result"
    }
   ],
   "source": [
    "\" \".join(name1)"
   ]
  },
  {
   "cell_type": "code",
   "execution_count": 41,
   "id": "ee24e598-3688-44a9-a648-18b09036b82e",
   "metadata": {},
   "outputs": [
    {
     "name": "stdout",
     "output_type": "stream",
     "text": [
      "sretsaM ecneicS ataD"
     ]
    }
   ],
   "source": [
    "for i in list(reversed(name)):\n",
    "    print(i,end='')"
   ]
  },
  {
   "cell_type": "code",
   "execution_count": null,
   "id": "a8e0004f-d436-465a-86c7-019d27a86633",
   "metadata": {},
   "outputs": [],
   "source": []
  },
  {
   "cell_type": "code",
   "execution_count": 40,
   "id": "de67e20d-120a-414b-885e-72d064148a1a",
   "metadata": {},
   "outputs": [],
   "source": [
    "## Removing character from the end of the string"
   ]
  },
  {
   "cell_type": "code",
   "execution_count": 42,
   "id": "caebf9e5-33b4-4a04-8f2c-96c50537f39f",
   "metadata": {},
   "outputs": [],
   "source": [
    "string_a= \" sarwar \""
   ]
  },
  {
   "cell_type": "code",
   "execution_count": 43,
   "id": "9b337adc-9a64-4866-b067-66568b7c138b",
   "metadata": {},
   "outputs": [
    {
     "name": "stdout",
     "output_type": "stream",
     "text": [
      " sarwar\n"
     ]
    }
   ],
   "source": [
    "print(string_a)"
   ]
  },
  {
   "cell_type": "code",
   "execution_count": 44,
   "id": "a744f24f-6759-481e-be10-b9d740d88676",
   "metadata": {},
   "outputs": [
    {
     "data": {
      "text/plain": [
       "'sarwar'"
      ]
     },
     "execution_count": 44,
     "metadata": {},
     "output_type": "execute_result"
    }
   ],
   "source": [
    "string_a.strip(\" \")"
   ]
  },
  {
   "cell_type": "code",
   "execution_count": 45,
   "id": "27cc9c62-1e69-44fe-9db1-91b57527b27b",
   "metadata": {},
   "outputs": [
    {
     "data": {
      "text/plain": [
       "'sarwar'"
      ]
     },
     "execution_count": 45,
     "metadata": {},
     "output_type": "execute_result"
    }
   ],
   "source": [
    "string_a.lstrip(\" \")\n"
   ]
  },
  {
   "cell_type": "code",
   "execution_count": 46,
   "id": "d5a9596a-3fc1-41b7-a5c0-adb13e747a17",
   "metadata": {},
   "outputs": [
    {
     "data": {
      "text/plain": [
       "' sarwar'"
      ]
     },
     "execution_count": 46,
     "metadata": {},
     "output_type": "execute_result"
    }
   ],
   "source": [
    "string_a.rstrip(\" \")"
   ]
  },
  {
   "cell_type": "code",
   "execution_count": 47,
   "id": "e66c782f-d122-4296-8564-7a20883871a9",
   "metadata": {},
   "outputs": [],
   "source": [
    "string_n=\"Do you need helf\""
   ]
  },
  {
   "cell_type": "code",
   "execution_count": 48,
   "id": "1440cd40-b799-4c48-bd86-f54300e2999c",
   "metadata": {},
   "outputs": [
    {
     "data": {
      "text/plain": [
       "'Do you gat helf'"
      ]
     },
     "execution_count": 48,
     "metadata": {},
     "output_type": "execute_result"
    }
   ],
   "source": [
    "string_n.replace(\"need\",\"gat\")"
   ]
  },
  {
   "cell_type": "code",
   "execution_count": 49,
   "id": "31af07db-e398-466d-a596-dada3acb25f7",
   "metadata": {},
   "outputs": [
    {
     "data": {
      "text/plain": [
       "'Do you need helf'"
      ]
     },
     "execution_count": 49,
     "metadata": {},
     "output_type": "execute_result"
    }
   ],
   "source": [
    "string_n"
   ]
  },
  {
   "cell_type": "code",
   "execution_count": 52,
   "id": "5d7da0c2-ce46-4743-bcde-d88ab9cc7993",
   "metadata": {},
   "outputs": [],
   "source": [
    "var_a =string_n.replace(\"Do you need helf\",\"i do it\")"
   ]
  },
  {
   "cell_type": "code",
   "execution_count": 53,
   "id": "bee795f7-76f9-4126-9a17-a5754807ef18",
   "metadata": {},
   "outputs": [
    {
     "name": "stdout",
     "output_type": "stream",
     "text": [
      "2393834735856\n",
      "2393823937584\n"
     ]
    }
   ],
   "source": [
    "### this is ID mensoin\n",
    "print(id(string_n))\n",
    "print(id(var_a))"
   ]
  },
  {
   "cell_type": "code",
   "execution_count": 54,
   "id": "a5068803-974a-4ac7-82f9-c23aad4cc0ad",
   "metadata": {},
   "outputs": [
    {
     "data": {
      "text/plain": [
       "'Do you need helf'"
      ]
     },
     "execution_count": 54,
     "metadata": {},
     "output_type": "execute_result"
    }
   ],
   "source": [
    "string_n"
   ]
  },
  {
   "cell_type": "code",
   "execution_count": 56,
   "id": "764badb6-cffa-4c79-a925-ebfe7fec80a7",
   "metadata": {},
   "outputs": [
    {
     "data": {
      "text/plain": [
       "'hisarwar'"
      ]
     },
     "execution_count": 56,
     "metadata": {},
     "output_type": "execute_result"
    }
   ],
   "source": [
    " 'hisarwar'"
   ]
  },
  {
   "cell_type": "code",
   "execution_count": 57,
   "id": "99a0e88d-81c1-4376-9450-80bb2a272870",
   "metadata": {},
   "outputs": [
    {
     "data": {
      "text/plain": [
       "'hi      sarwar'"
      ]
     },
     "execution_count": 57,
     "metadata": {},
     "output_type": "execute_result"
    }
   ],
   "source": [
    "'hi\\tsarwar'.expandtabs()"
   ]
  },
  {
   "cell_type": "code",
   "execution_count": 74,
   "id": "d6170e52-28d7-4bf8-b54d-335d6ee2b1ae",
   "metadata": {},
   "outputs": [],
   "source": [
    "str1=\"Welcome to pwskills . Welcome to dat cience Master\""
   ]
  },
  {
   "cell_type": "code",
   "execution_count": 75,
   "id": "42cf59fb-a9ce-40dd-a132-c5ec41eb7b5b",
   "metadata": {},
   "outputs": [
    {
     "data": {
      "text/plain": [
       "'Welcome to pwskills & Welcome to Data science Master'"
      ]
     },
     "execution_count": 75,
     "metadata": {},
     "output_type": "execute_result"
    }
   ],
   "source": [
    "str1.replace(\"dat\",\"Data\").replace(\"cience\",\"science\").replace( '.' ,\"&\")\n"
   ]
  },
  {
   "cell_type": "code",
   "execution_count": 83,
   "id": "30be6872-30c6-4358-9d6a-00c689d8976e",
   "metadata": {},
   "outputs": [],
   "source": [
    "## its for chaking\n",
    "str4=\" Sarwar \""
   ]
  },
  {
   "cell_type": "code",
   "execution_count": 84,
   "id": "57301ff9-6a84-448a-a4da-87b80533a838",
   "metadata": {},
   "outputs": [
    {
     "data": {
      "text/plain": [
       "False"
      ]
     },
     "execution_count": 84,
     "metadata": {},
     "output_type": "execute_result"
    }
   ],
   "source": [
    "str4.isupper()"
   ]
  },
  {
   "cell_type": "code",
   "execution_count": 85,
   "id": "6624ae5c-9258-4edf-a910-96862b5479d4",
   "metadata": {},
   "outputs": [
    {
     "data": {
      "text/plain": [
       "False"
      ]
     },
     "execution_count": 85,
     "metadata": {},
     "output_type": "execute_result"
    }
   ],
   "source": [
    "str4.islower()"
   ]
  },
  {
   "cell_type": "code",
   "execution_count": 87,
   "id": "64f7cda6-aa77-4cfa-8ed1-839a0fd8a246",
   "metadata": {},
   "outputs": [
    {
     "data": {
      "text/plain": [
       "True"
      ]
     },
     "execution_count": 87,
     "metadata": {},
     "output_type": "execute_result"
    }
   ],
   "source": [
    "' '.isspace()"
   ]
  },
  {
   "cell_type": "code",
   "execution_count": 88,
   "id": "8bd73601-4c54-4f4c-8eef-14c865c37b69",
   "metadata": {},
   "outputs": [
    {
     "name": "stdout",
     "output_type": "stream",
     "text": [
      "hi\n"
     ]
    }
   ],
   "source": [
    "if \" \".isspace():\n",
    "    print(\"hi\")"
   ]
  },
  {
   "cell_type": "code",
   "execution_count": 89,
   "id": "23dda5dc-9d3c-49fb-8141-5141a1af9eae",
   "metadata": {},
   "outputs": [],
   "source": [
    "str5=\"Md sarwar\""
   ]
  },
  {
   "cell_type": "code",
   "execution_count": 90,
   "id": "7c5fec69-30aa-409d-9e57-6c6e30b8c6d6",
   "metadata": {},
   "outputs": [
    {
     "data": {
      "text/plain": [
       "True"
      ]
     },
     "execution_count": 90,
     "metadata": {},
     "output_type": "execute_result"
    }
   ],
   "source": [
    "str5.endswith(\"r\")"
   ]
  },
  {
   "cell_type": "code",
   "execution_count": 92,
   "id": "d0036098-d300-4859-bcda-98d37afa32d2",
   "metadata": {},
   "outputs": [
    {
     "data": {
      "text/plain": [
       "True"
      ]
     },
     "execution_count": 92,
     "metadata": {},
     "output_type": "execute_result"
    }
   ],
   "source": [
    "str5.startswith(\"M\")"
   ]
  },
  {
   "cell_type": "code",
   "execution_count": 93,
   "id": "5a55959c-6249-41f3-968d-e8eabcfe84c6",
   "metadata": {},
   "outputs": [],
   "source": [
    "## CHECK IF ALL THE CHAR IN STRING ARE ALPHANUMERIC"
   ]
  },
  {
   "cell_type": "code",
   "execution_count": 95,
   "id": "1fe92eba-08ce-4202-99f3-e4b5b1b333de",
   "metadata": {},
   "outputs": [
    {
     "data": {
      "text/plain": [
       "True"
      ]
     },
     "execution_count": 95,
     "metadata": {},
     "output_type": "execute_result"
    }
   ],
   "source": [
    "a=\"abcd1234\"\n",
    "a.isalnum()"
   ]
  },
  {
   "cell_type": "code",
   "execution_count": 96,
   "id": "8166340f-1c3a-43d6-8262-d880b762a65c",
   "metadata": {},
   "outputs": [],
   "source": [
    "## to count the number of character in the string"
   ]
  },
  {
   "cell_type": "code",
   "execution_count": 97,
   "id": "5b42ab05-85d6-4de1-90c7-729c82be6b95",
   "metadata": {},
   "outputs": [
    {
     "name": "stdout",
     "output_type": "stream",
     "text": [
      "9\n"
     ]
    }
   ],
   "source": [
    "count=0\n",
    "for i in str5:\n",
    "    count=count+1\n",
    "print(count)"
   ]
  },
  {
   "cell_type": "code",
   "execution_count": 98,
   "id": "2431a763-192f-426a-8f41-11168785f6aa",
   "metadata": {},
   "outputs": [
    {
     "data": {
      "text/plain": [
       "9"
      ]
     },
     "execution_count": 98,
     "metadata": {},
     "output_type": "execute_result"
    }
   ],
   "source": [
    "len(str5)"
   ]
  },
  {
   "cell_type": "code",
   "execution_count": 99,
   "id": "1ed01d22-28c9-44d2-88b9-31e44e98e4d9",
   "metadata": {},
   "outputs": [
    {
     "data": {
      "text/plain": [
       "'Md sarwar'"
      ]
     },
     "execution_count": 99,
     "metadata": {},
     "output_type": "execute_result"
    }
   ],
   "source": [
    "str5"
   ]
  },
  {
   "cell_type": "code",
   "execution_count": 100,
   "id": "9240ca31-6c0c-4b87-89e3-89db6c01c6ea",
   "metadata": {},
   "outputs": [
    {
     "name": "stdout",
     "output_type": "stream",
     "text": [
      "M\n",
      "d\n",
      " \n",
      "s\n",
      "a\n",
      "r\n",
      "w\n",
      "a\n",
      "r\n"
     ]
    }
   ],
   "source": [
    "for i in str5:\n",
    "    print(i)"
   ]
  },
  {
   "cell_type": "code",
   "execution_count": 102,
   "id": "ba438bc5-9cfb-4d16-877f-6a7d917cc2ac",
   "metadata": {},
   "outputs": [
    {
     "name": "stdout",
     "output_type": "stream",
     "text": [
      "M\n",
      "d\n",
      " \n",
      "s\n",
      "a\n",
      "r\n",
      "w\n",
      "a\n",
      "r\n"
     ]
    }
   ],
   "source": [
    "for i in range (len(str5)):\n",
    "    print(str5[i])"
   ]
  },
  {
   "cell_type": "code",
   "execution_count": 103,
   "id": "f450c3fc-c843-4a22-a688-0b47b6c66104",
   "metadata": {},
   "outputs": [
    {
     "data": {
      "text/plain": [
       "range(0, 9)"
      ]
     },
     "execution_count": 103,
     "metadata": {},
     "output_type": "execute_result"
    }
   ],
   "source": [
    "range(len(str5))"
   ]
  },
  {
   "cell_type": "code",
   "execution_count": 104,
   "id": "6f33d994-b60c-44a4-a49b-ee503a23bc0e",
   "metadata": {},
   "outputs": [
    {
     "name": "stdout",
     "output_type": "stream",
     "text": [
      "0 = M\n",
      "1 = d\n",
      "2 =  \n",
      "3 = s\n",
      "4 = a\n",
      "5 = r\n",
      "6 = w\n",
      "7 = a\n",
      "8 = r\n"
     ]
    }
   ],
   "source": [
    "for i in range (len(str5)):\n",
    "    print(i,\"=\",str5[i])"
   ]
  },
  {
   "cell_type": "code",
   "execution_count": 105,
   "id": "9f7ee34d-88e1-48da-8a1e-a762c1e00b36",
   "metadata": {},
   "outputs": [
    {
     "name": "stdout",
     "output_type": "stream",
     "text": [
      "r\n",
      "a\n",
      "w\n",
      "r\n",
      "a\n",
      "s\n",
      " \n",
      "d\n",
      "M\n"
     ]
    }
   ],
   "source": [
    "for i in range (len(str5)-1,-1,-1):\n",
    "    print(str5[i])"
   ]
  },
  {
   "cell_type": "code",
   "execution_count": 109,
   "id": "c046d8a0-ecd8-4d21-8ac1-e78a6a3b5728",
   "metadata": {},
   "outputs": [
    {
     "name": "stdout",
     "output_type": "stream",
     "text": [
      "rawras"
     ]
    }
   ],
   "source": [
    "string=\"sarwar\"\n",
    "ch=len(\"string\")-1\n",
    "while ch>=0:\n",
    "       print(string[ch],end=\"\")\n",
    "       ch=ch-1"
   ]
  },
  {
   "cell_type": "code",
   "execution_count": 108,
   "id": "a4a22626-9a5c-4552-8ef2-1784e4abcc89",
   "metadata": {},
   "outputs": [
    {
     "data": {
      "text/plain": [
       "-1"
      ]
     },
     "execution_count": 108,
     "metadata": {},
     "output_type": "execute_result"
    }
   ],
   "source": [
    "ch"
   ]
  },
  {
   "cell_type": "code",
   "execution_count": 101,
   "id": "3441bc27-e74d-4a1a-a226-66806f5919fd",
   "metadata": {},
   "outputs": [
    {
     "data": {
      "text/plain": [
       "['new eliment']"
      ]
     },
     "execution_count": 101,
     "metadata": {},
     "output_type": "execute_result"
    }
   ],
   "source": [
    "list[::]"
   ]
  },
  {
   "cell_type": "code",
   "execution_count": 4,
   "id": "e0bebb33-cd47-4cc7-911b-eb9d582de4c4",
   "metadata": {},
   "outputs": [
    {
     "name": "stdout",
     "output_type": "stream",
     "text": [
      "M is not a vowelsd is not a vowels  is not a vowelss is not a vowelsa is a vowelsr is not a vowelsw is not a vowelsa is a vowelsr is not a vowels"
     ]
    }
   ],
   "source": [
    "name =\"Md sarwar\"\n",
    "vowels =\"aeiou\"\n",
    "for ch in name:\n",
    "    if ch in vowels:\n",
    "        print(\"{} is a vowels\".format(ch),end=\"\")\n",
    "    else:\n",
    "         print(\"{} is not a vowels\".format(ch),end=\"\")\n",
    "       "
   ]
  },
  {
   "cell_type": "code",
   "execution_count": 5,
   "id": "db2e04c3-dd46-4b23-9c23-d3fc3006c394",
   "metadata": {},
   "outputs": [
    {
     "name": "stdout",
     "output_type": "stream",
     "text": [
      "M is not a vowels\n",
      "d is not a vowels\n",
      "  is not a vowels\n",
      "s is not a vowels\n",
      "a is a vowels\n",
      "r is not a vowels\n",
      "w is not a vowels\n",
      "a is a vowels\n",
      "r is not a vowels\n"
     ]
    }
   ],
   "source": [
    "name =\"Md sarwar\"\n",
    "vowels =\"aeiou\"\n",
    "for ch in name:\n",
    "    if ch in vowels:\n",
    "        print(\"{} is a vowels\".format(ch))\n",
    "    else:\n",
    "         print(\"{} is not a vowels\".format(ch))"
   ]
  },
  {
   "cell_type": "markdown",
   "id": "26da80dc-3f2c-49ef-b425-1f9d4ed01ee9",
   "metadata": {},
   "source": [
    "## List"
   ]
  },
  {
   "cell_type": "code",
   "execution_count": 11,
   "id": "31ee3771-83ce-4ae7-9b5c-ee03506769ba",
   "metadata": {},
   "outputs": [
    {
     "data": {
      "text/plain": [
       "[1, 2, 3, 4, 5, 6, 7, 8, 9, 10]"
      ]
     },
     "execution_count": 11,
     "metadata": {},
     "output_type": "execute_result"
    }
   ],
   "source": [
    "list([1,2,3,4,5,6,7,8,9,10])"
   ]
  },
  {
   "cell_type": "code",
   "execution_count": 32,
   "id": "ee394b47-7a6a-4c01-b645-4ab2a18eda37",
   "metadata": {},
   "outputs": [],
   "source": [
    "str4= (\"sarwar md golam\")"
   ]
  },
  {
   "cell_type": "code",
   "execution_count": 33,
   "id": "19ac3861-2e8e-4f04-9383-d4d4f8c0d940",
   "metadata": {},
   "outputs": [
    {
     "data": {
      "text/plain": [
       "['s', 'a', 'r', 'w', 'a', 'r', ' ', 'm', 'd', ' ', 'g', 'o', 'l', 'a', 'm']"
      ]
     },
     "execution_count": 33,
     "metadata": {},
     "output_type": "execute_result"
    }
   ],
   "source": [
    "list(str4)\n"
   ]
  },
  {
   "cell_type": "code",
   "execution_count": 34,
   "id": "d65d78cf-e6a6-46ef-abcc-06cd45d55dbf",
   "metadata": {},
   "outputs": [
    {
     "data": {
      "text/plain": [
       "['sarwar', 'md', 'golam']"
      ]
     },
     "execution_count": 34,
     "metadata": {},
     "output_type": "execute_result"
    }
   ],
   "source": [
    "str4.split(\" \")"
   ]
  },
  {
   "cell_type": "code",
   "execution_count": 37,
   "id": "c6264b62-fcd6-4329-922c-9c70b340d956",
   "metadata": {},
   "outputs": [
    {
     "data": {
      "text/plain": [
       "list['md, golam , sarwar']"
      ]
     },
     "execution_count": 37,
     "metadata": {},
     "output_type": "execute_result"
    }
   ],
   "source": [
    "list[\"md, golam , sarwar\"]"
   ]
  },
  {
   "cell_type": "code",
   "execution_count": 47,
   "id": "3414c035-3ebb-4e64-a1e4-4f94db6cb87b",
   "metadata": {},
   "outputs": [],
   "source": [
    "str1=\"md, golam ,sarwar\""
   ]
  },
  {
   "cell_type": "code",
   "execution_count": 48,
   "id": "793a8601-a1ee-4355-828e-3f07366e603f",
   "metadata": {},
   "outputs": [
    {
     "data": {
      "text/plain": [
       "'m'"
      ]
     },
     "execution_count": 48,
     "metadata": {},
     "output_type": "execute_result"
    }
   ],
   "source": [
    "str1[:1]"
   ]
  },
  {
   "cell_type": "code",
   "execution_count": 49,
   "id": "11475fa0-9fd9-4fc5-b2e7-67edfa5eeb42",
   "metadata": {},
   "outputs": [
    {
     "data": {
      "text/plain": [
       "'d, golam ,sarwar'"
      ]
     },
     "execution_count": 49,
     "metadata": {},
     "output_type": "execute_result"
    }
   ],
   "source": [
    "str1[1:]"
   ]
  },
  {
   "cell_type": "code",
   "execution_count": 58,
   "id": "509a4d27-5b06-440b-b0c9-a60ab6d52330",
   "metadata": {},
   "outputs": [
    {
     "data": {
      "text/plain": [
       "'md, golam ,sarwar'"
      ]
     },
     "execution_count": 58,
     "metadata": {},
     "output_type": "execute_result"
    }
   ],
   "source": [
    "str1[0:]\n",
    "    "
   ]
  },
  {
   "cell_type": "code",
   "execution_count": 59,
   "id": "c1050576-d5fa-41fb-bac1-6b092c4574d5",
   "metadata": {},
   "outputs": [
    {
     "data": {
      "text/plain": [
       "'rawras, malog ,dm'"
      ]
     },
     "execution_count": 59,
     "metadata": {},
     "output_type": "execute_result"
    }
   ],
   "source": [
    "str1[::-1]"
   ]
  },
  {
   "cell_type": "code",
   "execution_count": 60,
   "id": "e76b1ec1-9e8d-4720-893c-3771f902e69b",
   "metadata": {},
   "outputs": [
    {
     "data": {
      "text/plain": [
       "'rwa,mlg,m'"
      ]
     },
     "execution_count": 60,
     "metadata": {},
     "output_type": "execute_result"
    }
   ],
   "source": [
    "str1[::-2]"
   ]
  },
  {
   "cell_type": "code",
   "execution_count": 61,
   "id": "3e702f39-8c1e-465e-bd5c-159bad3f1c17",
   "metadata": {},
   "outputs": [
    {
     "data": {
      "text/plain": [
       "'md, golam ,sarwar'"
      ]
     },
     "execution_count": 61,
     "metadata": {},
     "output_type": "execute_result"
    }
   ],
   "source": [
    "str1[::]"
   ]
  },
  {
   "cell_type": "code",
   "execution_count": 72,
   "id": "2a776379-43bc-41e6-855e-a054636830cb",
   "metadata": {},
   "outputs": [
    {
     "data": {
      "text/plain": [
       "' malog'"
      ]
     },
     "execution_count": 72,
     "metadata": {},
     "output_type": "execute_result"
    }
   ],
   "source": [
    "str1[9:3:-1]"
   ]
  },
  {
   "cell_type": "code",
   "execution_count": 132,
   "id": "a1598035-0f9b-40a3-9637-fefda231b35b",
   "metadata": {},
   "outputs": [],
   "source": [
    "lst1=[\"md\",\"sarwar\",\"golam\"]"
   ]
  },
  {
   "cell_type": "code",
   "execution_count": 133,
   "id": "13b29c26-9aed-4bf9-b4ba-217f3a093f72",
   "metadata": {},
   "outputs": [
    {
     "data": {
      "text/plain": [
       "['md', 'sarwar']"
      ]
     },
     "execution_count": 133,
     "metadata": {},
     "output_type": "execute_result"
    }
   ],
   "source": [
    "lst1[:-1\n",
    "    ]"
   ]
  },
  {
   "cell_type": "code",
   "execution_count": 135,
   "id": "6dd4e983-5460-4b51-b439-a5e6deb6fa81",
   "metadata": {},
   "outputs": [],
   "source": [
    "### check element inside a list"
   ]
  },
  {
   "cell_type": "code",
   "execution_count": 139,
   "id": "de5aabdd-a0b0-4a19-8749-7bba3838b175",
   "metadata": {},
   "outputs": [
    {
     "data": {
      "text/plain": [
       "True"
      ]
     },
     "execution_count": 139,
     "metadata": {},
     "output_type": "execute_result"
    }
   ],
   "source": [
    "lst=[1,2,3,4,5,6,7,8,9,10]\n",
    "7 in  lst"
   ]
  },
  {
   "cell_type": "code",
   "execution_count": 147,
   "id": "243a55e3-21be-4ab8-b51c-b88b37238d10",
   "metadata": {},
   "outputs": [
    {
     "ename": "TypeError",
     "evalue": "'list' object is not callable",
     "output_type": "error",
     "traceback": [
      "\u001b[1;31m---------------------------------------------------------------------------\u001b[0m",
      "\u001b[1;31mTypeError\u001b[0m                                 Traceback (most recent call last)",
      "\u001b[1;32m~\\AppData\\Local\\Temp\\ipykernel_5712\\657517113.py\u001b[0m in \u001b[0;36m<module>\u001b[1;34m\u001b[0m\n\u001b[0;32m      1\u001b[0m \u001b[0mlst1\u001b[0m \u001b[1;33m=\u001b[0m \u001b[1;33m[\u001b[0m\u001b[1;34m\"Sam\"\u001b[0m\u001b[1;33m,\u001b[0m \u001b[1;34m\"jodu\"\u001b[0m\u001b[1;33m,\u001b[0m \u001b[1;34m\"monu\"\u001b[0m\u001b[1;33m,\u001b[0m \u001b[1;34m\"balu\"\u001b[0m\u001b[1;33m]\u001b[0m\u001b[1;33m\u001b[0m\u001b[1;33m\u001b[0m\u001b[0m\n\u001b[0;32m      2\u001b[0m \u001b[0mlst2\u001b[0m \u001b[1;33m=\u001b[0m \u001b[1;33m[\u001b[0m\u001b[1;36m1\u001b[0m\u001b[1;33m,\u001b[0m \u001b[1;36m2\u001b[0m\u001b[1;33m,\u001b[0m \u001b[1;36m3\u001b[0m\u001b[1;33m,\u001b[0m \u001b[1;36m4\u001b[0m\u001b[1;33m,\u001b[0m \u001b[1;36m5\u001b[0m\u001b[1;33m,\u001b[0m \u001b[1;36m6\u001b[0m\u001b[1;33m,\u001b[0m \u001b[1;36m7\u001b[0m\u001b[1;33m,\u001b[0m \u001b[1;36m8\u001b[0m\u001b[1;33m,\u001b[0m \u001b[1;36m9\u001b[0m\u001b[1;33m]\u001b[0m\u001b[1;33m\u001b[0m\u001b[1;33m\u001b[0m\u001b[0m\n\u001b[1;32m----> 3\u001b[1;33m \u001b[0mprint\u001b[0m\u001b[1;33m(\u001b[0m\u001b[0mmax\u001b[0m\u001b[1;33m(\u001b[0m\u001b[0mlst1\u001b[0m\u001b[1;33m)\u001b[0m\u001b[1;33m)\u001b[0m\u001b[1;33m\u001b[0m\u001b[1;33m\u001b[0m\u001b[0m\n\u001b[0m",
      "\u001b[1;31mTypeError\u001b[0m: 'list' object is not callable"
     ]
    }
   ],
   "source": [
    "lst1 = [\"Sam\", \"jodu\", \"monu\", \"balu\"]\n",
    "lst2 = [1, 2, 3, 4, 5, 6, 7, 8, 9]\n",
    "\n"
   ]
  },
  {
   "cell_type": "code",
   "execution_count": 148,
   "id": "6aefda75-a34f-47dc-9de5-d2a7e1af3332",
   "metadata": {},
   "outputs": [
    {
     "ename": "TypeError",
     "evalue": "'list' object is not callable",
     "output_type": "error",
     "traceback": [
      "\u001b[1;31m---------------------------------------------------------------------------\u001b[0m",
      "\u001b[1;31mTypeError\u001b[0m                                 Traceback (most recent call last)",
      "\u001b[1;32m~\\AppData\\Local\\Temp\\ipykernel_5712\\1566941505.py\u001b[0m in \u001b[0;36m<module>\u001b[1;34m\u001b[0m\n\u001b[1;32m----> 1\u001b[1;33m \u001b[0mprint\u001b[0m\u001b[1;33m(\u001b[0m\u001b[0mmax\u001b[0m\u001b[1;33m(\u001b[0m\u001b[0mlst1\u001b[0m\u001b[1;33m)\u001b[0m\u001b[1;33m)\u001b[0m\u001b[1;33m\u001b[0m\u001b[1;33m\u001b[0m\u001b[0m\n\u001b[0m",
      "\u001b[1;31mTypeError\u001b[0m: 'list' object is not callable"
     ]
    }
   ],
   "source": [
    "print(max(lst1))"
   ]
  },
  {
   "cell_type": "code",
   "execution_count": 1,
   "id": "dc1ffcd4-ecd7-4a77-8034-b2ce14324347",
   "metadata": {},
   "outputs": [],
   "source": [
    "name=(\"md golam sarwar\")"
   ]
  },
  {
   "cell_type": "code",
   "execution_count": 7,
   "id": "0a65b2f3-e536-4bd0-9b5a-c66a580b8de8",
   "metadata": {},
   "outputs": [
    {
     "data": {
      "text/plain": [
       "15"
      ]
     },
     "execution_count": 7,
     "metadata": {},
     "output_type": "execute_result"
    }
   ],
   "source": [
    "type(name) and len(name)"
   ]
  },
  {
   "cell_type": "code",
   "execution_count": null,
   "id": "5baff3f5-3ab0-4f9b-81e0-991f06617804",
   "metadata": {},
   "outputs": [],
   "source": []
  }
 ],
 "metadata": {
  "kernelspec": {
   "display_name": "Python 3 (ipykernel)",
   "language": "python",
   "name": "python3"
  },
  "language_info": {
   "codemirror_mode": {
    "name": "ipython",
    "version": 3
   },
   "file_extension": ".py",
   "mimetype": "text/x-python",
   "name": "python",
   "nbconvert_exporter": "python",
   "pygments_lexer": "ipython3",
   "version": "3.9.13"
  }
 },
 "nbformat": 4,
 "nbformat_minor": 5
}
