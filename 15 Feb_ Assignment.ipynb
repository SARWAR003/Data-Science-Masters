{
 "cells": [
  {
   "cell_type": "code",
   "execution_count": null,
   "metadata": {},
   "outputs": [],
   "source": []
  },
  {
   "attachments": {},
   "cell_type": "markdown",
   "metadata": {},
   "source": [
    "## 1"
   ]
  },
  {
   "attachments": {},
   "cell_type": "markdown",
   "metadata": {},
   "source": [
    "* In Python, multiprocessing is a module that allows you to run multiple processes concurrently. It provides a way to utilize multiple CPU cores and execute tasks in parallel, thereby increasing performance and efficiency.\n",
    "\n",
    "\n",
    " * multiprocessing in Python is useful: \n",
    " 1. Increased performance: By executing tasks in parallel across multiple processes, you can distribute the workload among CPU cores, leading to faster execution and improved performance, especially for computationally intensive tasks.\n",
    "\n",
    " 2. Utilizing multiple CPU cores: Multiprocessing allows you to take advantage of modern CPUs with multiple cores. Each process can run on a different core, maximizing the utilization of system resources.\n",
    "\n",
    " 3. Fault tolerance: If one process encounters an error or crashes, it does not affect the other processes. They can continue running without being impacted, providing better fault tolerance and stability to your application."
   ]
  },
  {
   "attachments": {},
   "cell_type": "markdown",
   "metadata": {},
   "source": [
    "## 2."
   ]
  },
  {
   "attachments": {},
   "cell_type": "markdown",
   "metadata": {},
   "source": [
    "* 1. Execution model:\n",
    "\n",
    "Multiprocessing: It involves running multiple processes, where each process has its own memory space and Python interpreter. Processes do not share memory by default and communicate through inter-process communication (IPC) mechanisms like pipes, queues, or shared memory.\n",
    "\n",
    "Multithreading: It involves running multiple threads within a single process, and all threads share the same memory space. Threads operate within the same Python interpreter and can directly access and modify shared data.\n",
    "\n",
    "\n",
    "* 2. Parallelism:\n",
    "\n",
    "Multiprocessing: It allows true parallelism by leveraging multiple CPU cores. Each process runs on a separate core, enabling simultaneous execution of multiple tasks.\n",
    "\n",
    "Multithreading: Due to the Global Interpreter Lock (GIL) in CPython, multithreading does not achieve true parallelism. Only one thread can execute Python bytecode at a time, even on systems with multiple cores. Therefore, multithreading is more suitable for I/O-bound tasks or situations where threads are waiting for external resources.\n",
    "\n",
    "* 3. Memory usage:\n",
    "\n",
    "Multiprocessing: Each process has its own memory space, which means that memory is not shared by default. This can be advantageous for isolating data or achieving better fault tolerance.\n",
    "\n",
    "Multithreading: Threads share the same memory space, making it easier to share data between threads. However, this requires careful synchronization to avoid race conditions and ensure data integrity."
   ]
  },
  {
   "attachments": {},
   "cell_type": "markdown",
   "metadata": {},
   "source": [
    "## 3."
   ]
  },
  {
   "cell_type": "code",
   "execution_count": 1,
   "metadata": {},
   "outputs": [
    {
     "name": "stdout",
     "output_type": "stream",
     "text": [
      "Main process exiting.\n"
     ]
    }
   ],
   "source": [
    "import multiprocessing\n",
    "\n",
    "def worker():\n",
    "    \"\"\"Function executed by the child process.\"\"\"\n",
    "    print(\"Worker process executing.\")\n",
    "\n",
    "if __name__ == '__main__':\n",
    "    # Create a new process\n",
    "    process = multiprocessing.Process(target=worker)\n",
    "\n",
    "    # Start the process\n",
    "    process.start()\n",
    "\n",
    "    # Wait for the process to finish\n",
    "    process.join()\n",
    "\n",
    "    print(\"Main process exiting.\")\n"
   ]
  },
  {
   "attachments": {},
   "cell_type": "markdown",
   "metadata": {},
   "source": [
    "## 4."
   ]
  },
  {
   "attachments": {},
   "cell_type": "markdown",
   "metadata": {},
   "source": [
    "* The multiprocessing.Pool class in Python's multiprocessing module allows you to create a pool of worker processes, which can be used to execute tasks in parallel. The pool abstracts away the process management and communication details, making it easier to distribute work across multiple processes."
   ]
  },
  {
   "attachments": {},
   "cell_type": "markdown",
   "metadata": {},
   "source": [
    "* Multiprocessing pool is useful:\n",
    "\n",
    "1. Concurrent execution: The pool allows you to execute multiple tasks concurrently by utilizing multiple processes.\n",
    "\n",
    "2. Efficient resource utilization: The pool manages the worker processes, reusing them for multiple tasks.\n",
    "\n",
    "3. Simplified interface: The multiprocessing.Pool class provides a high-level interface for parallel execution. It offers methods like map(), imap(), and apply_async() that handle the distribution of tasks, result gathering, and synchronization automatically.\n",
    "\n",
    "4. Load balancing: The pool distributes tasks evenly among the worker processes, ensuring that the workload is balanced."
   ]
  },
  {
   "attachments": {},
   "cell_type": "markdown",
   "metadata": {},
   "source": []
  },
  {
   "attachments": {},
   "cell_type": "markdown",
   "metadata": {},
   "source": [
    "## 5."
   ]
  },
  {
   "cell_type": "code",
   "execution_count": 2,
   "metadata": {},
   "outputs": [],
   "source": [
    "import multiprocessing\n",
    "\n",
    "def worker(task):\n",
    "    \"\"\"Function executed by each worker process.\"\"\"\n",
    "    result = task ** 2\n",
    "    return result\n",
    "\n",
    "if __name__ == '__main__':\n",
    "\n",
    "    pool = multiprocessing.Pool()\n",
    "\n",
    " \n",
    "    tasks = [1, 2, 3, 4, 5]\n",
    "\n",
    "   \n",
    "    results = pool.map(worker, tasks)\n",
    "\n",
    "   \n",
    "    pool.close()\n",
    "\n",
    " \n",
    "\n",
    "    pool.join()\n",
    "\n",
    "   \n",
    "    print(results)\n"
   ]
  },
  {
   "attachments": {},
   "cell_type": "markdown",
   "metadata": {},
   "source": [
    "## 6."
   ]
  },
  {
   "cell_type": "code",
   "execution_count": 5,
   "metadata": {},
   "outputs": [
    {
     "name": "stdout",
     "output_type": "stream",
     "text": [
      "Main process exiting.\n"
     ]
    }
   ],
   "source": [
    "import multiprocessing\n",
    "\n",
    "def print_number(number):\n",
    "    \"\"\"Function executed by each process to print a number.\"\"\"\n",
    "    print(\"Process ID:\", multiprocessing.current_process().pid)\n",
    "    print(\"Number:\", number)\n",
    "    print()\n",
    "\n",
    "if __name__ == '__main__':\n",
    "    processes = []\n",
    "    numbers = [10, 20, 30, 40]\n",
    "\n",
    "    \n",
    "    for number in numbers:\n",
    "        process = multiprocessing.Process(target=print_number, args=(number,))\n",
    "        processes.append(process)\n",
    "\n",
    "    for process in processes:\n",
    "        process.start()\n",
    "\n",
    "    for process in processes:\n",
    "        process.join()\n",
    "\n",
    "    print(\"Main process exiting.\")\n"
   ]
  },
  {
   "cell_type": "code",
   "execution_count": null,
   "metadata": {},
   "outputs": [],
   "source": []
  },
  {
   "cell_type": "code",
   "execution_count": null,
   "metadata": {},
   "outputs": [],
   "source": []
  }
 ],
 "metadata": {
  "kernelspec": {
   "display_name": "base",
   "language": "python",
   "name": "python3"
  },
  "language_info": {
   "codemirror_mode": {
    "name": "ipython",
    "version": 3
   },
   "file_extension": ".py",
   "mimetype": "text/x-python",
   "name": "python",
   "nbconvert_exporter": "python",
   "pygments_lexer": "ipython3",
   "version": "3.9.13"
  },
  "orig_nbformat": 4
 },
 "nbformat": 4,
 "nbformat_minor": 2
}
