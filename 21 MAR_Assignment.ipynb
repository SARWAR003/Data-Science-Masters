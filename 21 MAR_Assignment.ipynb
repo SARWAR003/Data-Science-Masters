{
 "cells": [
  {
   "attachments": {},
   "cell_type": "markdown",
   "metadata": {},
   "source": [
    "## 1."
   ]
  },
  {
   "attachments": {},
   "cell_type": "markdown",
   "metadata": {},
   "source": [
    "* Ordinal encoding and label encoding are both methods used for encoding categorical variables into numerical values. However, they differ in how they assign those numerical values.\n",
    "\n",
    "1. Label Encoding:\n",
    "Label encoding assigns a unique number to each category or label in the categorical variable. For example, let's consider a \"color\" variable with three categories: red, green, and blue. Using label encoding, we can assign the numbers 0, 1, and 2 to represent these categories, respectively.\n",
    "\n",
    "\n",
    "\n",
    "2. Ordinal Encoding:\n",
    "Ordinal encoding, on the other hand, assigns numerical values to the categories based on their order or rank. It preserves the ordinal relationship between the categories. For instance, if we have a \"size\" variable with categories small, medium, and large, ordinal encoding can assign the values 0, 1, and 2, respectively, representing their order.\n",
    "\n",
    "\n",
    "* Example of when to choose one over the other:\n",
    "\n"
   ]
  },
  {
   "cell_type": "code",
   "execution_count": 14,
   "metadata": {},
   "outputs": [],
   "source": [
    "import pandas as pd\n",
    "from sklearn.preprocessing import LabelEncoder"
   ]
  },
  {
   "cell_type": "code",
   "execution_count": 15,
   "metadata": {},
   "outputs": [],
   "source": [
    "data = pd.DataFrame({\n",
    "    'color': ['red', 'green', 'blue', 'green', 'red', 'blue']\n",
    "})\n"
   ]
  },
  {
   "cell_type": "code",
   "execution_count": 16,
   "metadata": {},
   "outputs": [],
   "source": [
    "label_encoder = LabelEncoder()\n",
    "data['color_label_encoded'] = label_encoder.fit_transform(data['color'])"
   ]
  },
  {
   "cell_type": "code",
   "execution_count": 17,
   "metadata": {},
   "outputs": [
    {
     "name": "stdout",
     "output_type": "stream",
     "text": [
      "   color  color_label_encoded  color_ordinal_encoded\n",
      "0    red                    2                      0\n",
      "1  green                    1                      1\n",
      "2   blue                    0                      2\n",
      "3  green                    1                      1\n",
      "4    red                    2                      0\n",
      "5   blue                    0                      2\n"
     ]
    }
   ],
   "source": [
    "ordinal_mapping = {'red': 0, 'green': 1, 'blue': 2}\n",
    "data['color_ordinal_encoded'] = data['color'].map(ordinal_mapping)\n",
    "\n",
    "print(data)"
   ]
  },
  {
   "attachments": {},
   "cell_type": "markdown",
   "metadata": {},
   "source": [
    "## 2."
   ]
  },
  {
   "attachments": {},
   "cell_type": "markdown",
   "metadata": {},
   "source": [
    "Target Guided Ordinal Encoding is a technique used to encode categorical variables based on their relationship with the target variable. It assigns numerical values to the categories in a way that reflects their impact or influence on the target variable. This encoding is particularly useful when there is a monotonic relationship between the categories and the target variable.\n",
    "\n",
    "Here's how Target Guided Ordinal Encoding works:\n",
    "\n",
    "1. Calculate the mean (or any other suitable statistic) of the target variable for each category in the categorical variable.\n",
    "\n",
    "2. Sort the categories based on their mean value in ascending or descending order.\n",
    "\n",
    "3. Assign numerical values to the categories based on their order. For example, if sorting in ascending order, assign the value 0 to the category with the lowest mean, 1 to the next category, and so on. If sorting in descending order, assign the highest value to the category with the lowest mean.\n",
    "\n",
    "\n",
    "\n",
    "\n",
    "\n"
   ]
  },
  {
   "attachments": {},
   "cell_type": "markdown",
   "metadata": {},
   "source": [
    "## Example of when to use Target Guided Ordinal Encoding:"
   ]
  },
  {
   "cell_type": "code",
   "execution_count": 18,
   "metadata": {},
   "outputs": [],
   "source": [
    "import pandas as pd\n",
    "import numpy as np"
   ]
  },
  {
   "cell_type": "code",
   "execution_count": 19,
   "metadata": {},
   "outputs": [],
   "source": [
    "data = pd.DataFrame({\n",
    "    'education_level': ['high school', 'associate degree', 'bachelor\\'s degree', 'master\\'s degree'],\n",
    "    'income_level': ['low', 'medium', 'high', 'high']\n",
    "})\n"
   ]
  },
  {
   "cell_type": "code",
   "execution_count": 20,
   "metadata": {},
   "outputs": [
    {
     "data": {
      "text/html": [
       "<div>\n",
       "<style scoped>\n",
       "    .dataframe tbody tr th:only-of-type {\n",
       "        vertical-align: middle;\n",
       "    }\n",
       "\n",
       "    .dataframe tbody tr th {\n",
       "        vertical-align: top;\n",
       "    }\n",
       "\n",
       "    .dataframe thead th {\n",
       "        text-align: right;\n",
       "    }\n",
       "</style>\n",
       "<table border=\"1\" class=\"dataframe\">\n",
       "  <thead>\n",
       "    <tr style=\"text-align: right;\">\n",
       "      <th></th>\n",
       "      <th>education_level</th>\n",
       "      <th>income_level</th>\n",
       "    </tr>\n",
       "  </thead>\n",
       "  <tbody>\n",
       "    <tr>\n",
       "      <th>0</th>\n",
       "      <td>high school</td>\n",
       "      <td>low</td>\n",
       "    </tr>\n",
       "    <tr>\n",
       "      <th>1</th>\n",
       "      <td>associate degree</td>\n",
       "      <td>medium</td>\n",
       "    </tr>\n",
       "    <tr>\n",
       "      <th>2</th>\n",
       "      <td>bachelor's degree</td>\n",
       "      <td>high</td>\n",
       "    </tr>\n",
       "    <tr>\n",
       "      <th>3</th>\n",
       "      <td>master's degree</td>\n",
       "      <td>high</td>\n",
       "    </tr>\n",
       "  </tbody>\n",
       "</table>\n",
       "</div>"
      ],
      "text/plain": [
       "     education_level income_level\n",
       "0        high school          low\n",
       "1   associate degree       medium\n",
       "2  bachelor's degree         high\n",
       "3    master's degree         high"
      ]
     },
     "execution_count": 20,
     "metadata": {},
     "output_type": "execute_result"
    }
   ],
   "source": [
    "data"
   ]
  },
  {
   "cell_type": "code",
   "execution_count": 21,
   "metadata": {},
   "outputs": [],
   "source": [
    "income_mapping = {'low': 0, 'medium': 1, 'high': 2}\n",
    "data['income_level_encoded'] = data['income_level'].map(income_mapping)"
   ]
  },
  {
   "cell_type": "code",
   "execution_count": 22,
   "metadata": {},
   "outputs": [],
   "source": [
    "mean_income = data.groupby('education_level')['income_level_encoded'].mean().sort_values()"
   ]
  },
  {
   "cell_type": "code",
   "execution_count": 23,
   "metadata": {},
   "outputs": [],
   "source": [
    "ordinal_mapping = {value: i for i, value in enumerate(mean_income.index)}\n"
   ]
  },
  {
   "cell_type": "code",
   "execution_count": 24,
   "metadata": {},
   "outputs": [
    {
     "name": "stdout",
     "output_type": "stream",
     "text": [
      "     education_level income_level  income_level_encoded  \\\n",
      "0        high school          low                     0   \n",
      "1   associate degree       medium                     1   \n",
      "2  bachelor's degree         high                     2   \n",
      "3    master's degree         high                     2   \n",
      "\n",
      "   education_level_encoded  \n",
      "0                        0  \n",
      "1                        1  \n",
      "2                        2  \n",
      "3                        3  \n"
     ]
    }
   ],
   "source": [
    "data['education_level_encoded'] = data['education_level'].map(ordinal_mapping)\n",
    "\n",
    "print(data)"
   ]
  },
  {
   "attachments": {},
   "cell_type": "markdown",
   "metadata": {},
   "source": []
  },
  {
   "attachments": {},
   "cell_type": "markdown",
   "metadata": {},
   "source": [
    "## 3."
   ]
  },
  {
   "attachments": {},
   "cell_type": "markdown",
   "metadata": {},
   "source": [
    "Covariance is a statistical measure that quantifies the relationship between two random variables. \n",
    "\n",
    "In statistical analysis, covariance is important for several reasons:\n",
    "\n",
    "1. Relationship Assessment: Covariance helps determine the nature of the relationship between two variables. A positive covariance indicates a positive linear relationship, meaning that when one variable increases, the other tends to increase as well. \n",
    "\n",
    "2. Dependency Analysis: Covariance provides insights into the dependency between variables. Variables with a high covariance value indicate a strong relationship and dependency.\n",
    "\n",
    "3. Portfolio Management: In finance, covariance is used to analyze the relationship between the returns of different assets in a portfolio. It helps determine how the returns of individual assets move together, allowing investors to diversify their portfolio effectively and manage risk.\n",
    "\n",
    "4. Feature Selection: Covariance can be used in feature selection techniques to identify variables that are highly correlated with the target variable. \n",
    "\n",
    "\n",
    "* Covariance is calculated using the following formula:\n",
    "```\n",
    "cov(X, Y) = Σ((X[i] - μX) * (Y[i] - μY)) / (n - 1)\n",
    "```\n",
    "\n",
    "Where:\n",
    "- `cov(X, Y)` is the covariance between variables X and Y.\n",
    "- `X[i]` and `Y[i]` are individual data points from X and Y, respectively.\n",
    "- `μX` and `μY` are the means of X and Y, respectively.\n",
    "- `n` is the number of data points.\n",
    "\n",
    "In practice, the covariance calculation involves taking the product of the deviations from the mean for each pair of data points, summing these products, and dividing by (n - 1) to account for sample size.\n"
   ]
  },
  {
   "cell_type": "code",
   "execution_count": null,
   "metadata": {},
   "outputs": [],
   "source": []
  },
  {
   "attachments": {},
   "cell_type": "markdown",
   "metadata": {},
   "source": [
    "## 4."
   ]
  },
  {
   "attachments": {},
   "cell_type": "markdown",
   "metadata": {},
   "source": [
    "To perform label encoding for categorical variables using scikit-learn library in Python, we can use the LabelEncoder class. Here's an example of how to encode the given categorical variables: Color, Size, and Material."
   ]
  },
  {
   "attachments": {},
   "cell_type": "markdown",
   "metadata": {},
   "source": [
    "# Example data"
   ]
  },
  {
   "cell_type": "code",
   "execution_count": 32,
   "metadata": {},
   "outputs": [],
   "source": [
    "from sklearn.preprocessing import LabelEncoder\n",
    "import pandas as pd\n",
    "\n",
    "\n",
    "data = pd.DataFrame({\n",
    "    'Color': ['red', 'green', 'blue', 'blue', 'red', 'green'],\n",
    "    'Size': ['small', 'large', 'medium', 'medium', 'small', 'large'],\n",
    "    'Material': ['wood', 'metal', 'plastic', 'plastic', 'wood', 'metal']\n",
    "})\n",
    "\n"
   ]
  },
  {
   "cell_type": "code",
   "execution_count": 33,
   "metadata": {},
   "outputs": [
    {
     "name": "stdout",
     "output_type": "stream",
     "text": [
      "   Color  Size  Material\n",
      "0      2     2         2\n",
      "1      1     0         0\n",
      "2      0     1         1\n",
      "3      0     1         1\n",
      "4      2     2         2\n",
      "5      1     0         0\n"
     ]
    }
   ],
   "source": [
    "\n",
    "label_encoder = LabelEncoder()\n",
    "\n",
    "\n",
    "encoded_data = data.apply(label_encoder.fit_transform)\n",
    "\n",
    "print(encoded_data)\n"
   ]
  },
  {
   "attachments": {},
   "cell_type": "markdown",
   "metadata": {},
   "source": [
    "* In this example, we have a DataFrame data containing three categorical variables: Color, Size, and Material. We create an instance of the LabelEncoder class and then apply label encoding to each categorical column using the fit_transform method."
   ]
  },
  {
   "attachments": {},
   "cell_type": "markdown",
   "metadata": {},
   "source": []
  },
  {
   "attachments": {},
   "cell_type": "markdown",
   "metadata": {},
   "source": [
    "## 5."
   ]
  },
  {
   "cell_type": "code",
   "execution_count": 30,
   "metadata": {},
   "outputs": [],
   "source": [
    "import pandas as pd\n",
    "\n",
    "\n",
    "data = pd.DataFrame({\n",
    "    'Age': [25, 30, 35, 40, 45],\n",
    "    'Income': [50000, 60000, 70000, 80000, 90000],\n",
    "    'Education Level': ['High School', 'Bachelor', 'Master', 'Bachelor', 'Master']\n",
    "})\n",
    "\n"
   ]
  },
  {
   "cell_type": "code",
   "execution_count": 31,
   "metadata": {},
   "outputs": [
    {
     "name": "stdout",
     "output_type": "stream",
     "text": [
      "             Age       Income\n",
      "Age         62.5     125000.0\n",
      "Income  125000.0  250000000.0\n"
     ]
    }
   ],
   "source": [
    "\n",
    "cov_matrix = data[['Age', 'Income']].cov()\n",
    "\n",
    "#\n",
    "print(cov_matrix)\n"
   ]
  },
  {
   "attachments": {},
   "cell_type": "markdown",
   "metadata": {},
   "source": []
  },
  {
   "attachments": {},
   "cell_type": "markdown",
   "metadata": {},
   "source": [
    "## 6."
   ]
  },
  {
   "attachments": {},
   "cell_type": "markdown",
   "metadata": {},
   "source": [
    "For the categorical variables \"Gender,\" \"Education Level,\" and \"Employment Status\" in the machine learning project, I would recommend the following encoding methods based on their characteristics:\n",
    "\n",
    "1. Gender (Male/Female):\n",
    "   Since gender has only two categories, \"Male\" and \"Female,\" we can use binary encoding or label encoding. Binary encoding replaces the categories with binary values (0 and 1), representing the presence or absence of a category.\n",
    "\n",
    "2. Education Level (High School/Bachelor's/Master's/PhD):\n",
    "   Education level is an ordinal variable with multiple categories, and there is an inherent order or hierarchy among the categories. In this case, I would recommend using ordinal encoding. Ordinal encoding assigns numeric values based on the order or hierarchy of the categories, preserving the relative differences between them.\n",
    "\n",
    "3. Employment Status (Unemployed/Part-Time/Full-Time):\n",
    "   Employment status is a nominal variable without an inherent order or hierarchy. For this type of variable, I would recommend using one-hot encoding. One-hot encoding creates binary columns for each category, where a value of 1 indicates the presence of a category, and 0 indicates its absence. \n",
    "\n",
    "To summarize:\n",
    "- Gender: Binary encoding or label encoding.\n",
    "- Education Level: Ordinal encoding.\n",
    "- Employment Status: One-hot encoding.\n",
    "\n"
   ]
  },
  {
   "attachments": {},
   "cell_type": "markdown",
   "metadata": {},
   "source": []
  },
  {
   "attachments": {},
   "cell_type": "markdown",
   "metadata": {},
   "source": [
    "## 7."
   ]
  },
  {
   "attachments": {},
   "cell_type": "markdown",
   "metadata": {},
   "source": [
    "To calculate the covariance between each pair of variables in the given dataset, we can use the cov() function from the pandas library."
   ]
  },
  {
   "cell_type": "code",
   "execution_count": 35,
   "metadata": {},
   "outputs": [],
   "source": [
    "import pandas as pd\n",
    "\n",
    "\n",
    "data = pd.DataFrame({\n",
    "    'Temperature': [25, 28, 22, 20, 30],\n",
    "    'Humidity': [50, 60, 55, 45, 65],\n",
    "    'Weather Condition': ['Sunny', 'Cloudy', 'Rainy', 'Sunny', 'Cloudy'],\n",
    "    'Wind Direction': ['North', 'South', 'East', 'West', 'North']\n",
    "})\n",
    "\n",
    "\n"
   ]
  },
  {
   "cell_type": "code",
   "execution_count": 36,
   "metadata": {},
   "outputs": [
    {
     "name": "stdout",
     "output_type": "stream",
     "text": [
      "             Temperature  Humidity\n",
      "Temperature        17.00     28.75\n",
      "Humidity           28.75     62.50\n"
     ]
    }
   ],
   "source": [
    "cov_matrix = data[['Temperature', 'Humidity']].cov()\n",
    "\n",
    "# Print the covariance matrix\n",
    "print(cov_matrix)\n"
   ]
  },
  {
   "cell_type": "code",
   "execution_count": null,
   "metadata": {},
   "outputs": [],
   "source": []
  }
 ],
 "metadata": {
  "kernelspec": {
   "display_name": "base",
   "language": "python",
   "name": "python3"
  },
  "language_info": {
   "codemirror_mode": {
    "name": "ipython",
    "version": 3
   },
   "file_extension": ".py",
   "mimetype": "text/x-python",
   "name": "python",
   "nbconvert_exporter": "python",
   "pygments_lexer": "ipython3",
   "version": "3.10.9"
  },
  "orig_nbformat": 4
 },
 "nbformat": 4,
 "nbformat_minor": 2
}
