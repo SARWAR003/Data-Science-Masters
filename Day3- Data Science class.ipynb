{
 "cells": [
  {
   "cell_type": "markdown",
   "id": "ee02e6df-810b-4961-aaad-ce2502cccfad",
   "metadata": {},
   "source": [
    "## Strings"
   ]
  },
  {
   "cell_type": "code",
   "execution_count": 1,
   "id": "9fb53c0b-c3e8-4830-aaf9-10266207d859",
   "metadata": {},
   "outputs": [
    {
     "data": {
      "text/plain": [
       "'Welcome to Data Scinces class'"
      ]
     },
     "execution_count": 1,
     "metadata": {},
     "output_type": "execute_result"
    }
   ],
   "source": [
    "\"Welcome to Data Scinces class\"\n"
   ]
  },
  {
   "cell_type": "code",
   "execution_count": 2,
   "id": "34bb5d92-68ab-47bd-b6e8-f7add114c933",
   "metadata": {},
   "outputs": [],
   "source": [
    "str1=\"Welcome to Data Sciebce\""
   ]
  },
  {
   "cell_type": "code",
   "execution_count": 3,
   "id": "d6a52279-9b96-4a6e-b07f-03742866fefb",
   "metadata": {},
   "outputs": [
    {
     "data": {
      "text/plain": [
       "str"
      ]
     },
     "execution_count": 3,
     "metadata": {},
     "output_type": "execute_result"
    }
   ],
   "source": [
    "type(str1)"
   ]
  },
  {
   "cell_type": "code",
   "execution_count": 6,
   "id": "3bc2be16-c457-4438-a8b1-42f6c1101e41",
   "metadata": {},
   "outputs": [
    {
     "ename": "TypeError",
     "evalue": "'str' object does not support item assignment",
     "output_type": "error",
     "traceback": [
      "\u001b[1;31m---------------------------------------------------------------------------\u001b[0m",
      "\u001b[1;31mTypeError\u001b[0m                                 Traceback (most recent call last)",
      "\u001b[1;32m~\\AppData\\Local\\Temp\\ipykernel_16284\\3732453681.py\u001b[0m in \u001b[0;36m<module>\u001b[1;34m\u001b[0m\n\u001b[1;32m----> 1\u001b[1;33m \u001b[0mstr1\u001b[0m\u001b[1;33m[\u001b[0m\u001b[1;36m0\u001b[0m\u001b[1;33m]\u001b[0m\u001b[1;33m=\u001b[0m\u001b[1;36m20\u001b[0m\u001b[1;33m\u001b[0m\u001b[1;33m\u001b[0m\u001b[0m\n\u001b[0m",
      "\u001b[1;31mTypeError\u001b[0m: 'str' object does not support item assignment"
     ]
    }
   ],
   "source": [
    "##str is inmutable\n",
    "str1[0]=20"
   ]
  },
  {
   "cell_type": "code",
   "execution_count": 7,
   "id": "40a25a18-344c-44a6-a447-9ba1f4447ca1",
   "metadata": {},
   "outputs": [],
   "source": [
    "str1=\"Sarwar\"\n"
   ]
  },
  {
   "cell_type": "code",
   "execution_count": 8,
   "id": "4a8dc99e-ebd5-4d48-b73b-7f1fc42b48f9",
   "metadata": {},
   "outputs": [
    {
     "data": {
      "text/plain": [
       "'Sarwar'"
      ]
     },
     "execution_count": 8,
     "metadata": {},
     "output_type": "execute_result"
    }
   ],
   "source": [
    "str1"
   ]
  },
  {
   "cell_type": "code",
   "execution_count": 11,
   "id": "c8c69bba-76d8-4eef-97d4-50d791cb4248",
   "metadata": {},
   "outputs": [],
   "source": [
    "str1=\"SARWAR\""
   ]
  },
  {
   "cell_type": "raw",
   "id": "4d7b43b2-8af6-4b9d-8b1f-e6f9556ea901",
   "metadata": {},
   "source": [
    "str1.\n"
   ]
  },
  {
   "cell_type": "code",
   "execution_count": 12,
   "id": "95947f7a-a8cb-4bc8-af07-2acdb3d57f42",
   "metadata": {},
   "outputs": [],
   "source": [
    "string=\"Data Science\"\n"
   ]
  },
  {
   "cell_type": "code",
   "execution_count": 13,
   "id": "83fd0fe0-808d-41a0-9fd5-e1959992b2b9",
   "metadata": {},
   "outputs": [
    {
     "data": {
      "text/plain": [
       "'c'"
      ]
     },
     "execution_count": 13,
     "metadata": {},
     "output_type": "execute_result"
    }
   ],
   "source": [
    "string[6]"
   ]
  },
  {
   "cell_type": "code",
   "execution_count": 14,
   "id": "4dfea407-bc73-4506-97a8-3b2f6426fa90",
   "metadata": {},
   "outputs": [
    {
     "data": {
      "text/plain": [
       "'cience'"
      ]
     },
     "execution_count": 14,
     "metadata": {},
     "output_type": "execute_result"
    }
   ],
   "source": [
    "## Slice operation\n",
    "string[6:]"
   ]
  },
  {
   "cell_type": "code",
   "execution_count": 15,
   "id": "584fa871-f063-4db5-ba95-37fdce0c49bf",
   "metadata": {},
   "outputs": [
    {
     "data": {
      "text/plain": [
       "'ci'"
      ]
     },
     "execution_count": 15,
     "metadata": {},
     "output_type": "execute_result"
    }
   ],
   "source": [
    "string[6:8]"
   ]
  },
  {
   "cell_type": "code",
   "execution_count": 16,
   "id": "61487377-1a74-4be2-bf4a-6ed77ba65227",
   "metadata": {},
   "outputs": [
    {
     "data": {
      "text/plain": [
       "'e'"
      ]
     },
     "execution_count": 16,
     "metadata": {},
     "output_type": "execute_result"
    }
   ],
   "source": [
    "string[-1]"
   ]
  },
  {
   "cell_type": "code",
   "execution_count": 17,
   "id": "7a92abfe-3e4e-4d04-8c32-3a2e8e660fc0",
   "metadata": {},
   "outputs": [
    {
     "data": {
      "text/plain": [
       "'i'"
      ]
     },
     "execution_count": 17,
     "metadata": {},
     "output_type": "execute_result"
    }
   ],
   "source": [
    "string[-5]"
   ]
  },
  {
   "cell_type": "code",
   "execution_count": 19,
   "id": "d82504da-8270-43fb-b4da-8496b8f329fd",
   "metadata": {},
   "outputs": [
    {
     "data": {
      "text/plain": [
       "'e'"
      ]
     },
     "execution_count": 19,
     "metadata": {},
     "output_type": "execute_result"
    }
   ],
   "source": [
    "string[-1:]"
   ]
  },
  {
   "cell_type": "code",
   "execution_count": 20,
   "id": "1858815c-8357-40e5-918d-f23c677f4827",
   "metadata": {},
   "outputs": [
    {
     "data": {
      "text/plain": [
       "'ence'"
      ]
     },
     "execution_count": 20,
     "metadata": {},
     "output_type": "execute_result"
    }
   ],
   "source": [
    "string[-4:]"
   ]
  },
  {
   "cell_type": "code",
   "execution_count": 21,
   "id": "c244a25f-d792-4e80-b003-6862cc848165",
   "metadata": {},
   "outputs": [
    {
     "data": {
      "text/plain": [
       "'t'"
      ]
     },
     "execution_count": 21,
     "metadata": {},
     "output_type": "execute_result"
    }
   ],
   "source": [
    "string[-10]"
   ]
  },
  {
   "cell_type": "code",
   "execution_count": 22,
   "id": "f88e379e-24e2-4c22-8c4b-6e9dbc3c1b21",
   "metadata": {},
   "outputs": [
    {
     "data": {
      "text/plain": [
       "'Data Scienc'"
      ]
     },
     "execution_count": 22,
     "metadata": {},
     "output_type": "execute_result"
    }
   ],
   "source": [
    "string[:-1]"
   ]
  },
  {
   "cell_type": "code",
   "execution_count": 23,
   "id": "157abdbe-c7bd-4355-ad5e-87f1db11f23e",
   "metadata": {},
   "outputs": [
    {
     "data": {
      "text/plain": [
       "'Data Science'"
      ]
     },
     "execution_count": 23,
     "metadata": {},
     "output_type": "execute_result"
    }
   ],
   "source": [
    "string[:]"
   ]
  },
  {
   "cell_type": "code",
   "execution_count": 25,
   "id": "21e412af-0f4f-4e4d-a0b1-ffdba2cbb7e0",
   "metadata": {},
   "outputs": [
    {
     "data": {
      "text/plain": [
       "'ar'"
      ]
     },
     "execution_count": 25,
     "metadata": {},
     "output_type": "execute_result"
    }
   ],
   "source": [
    "name=\"sarwar\"\n",
    "name[-5:3]"
   ]
  },
  {
   "cell_type": "code",
   "execution_count": 26,
   "id": "42fbd755-4117-4291-a137-86886d16e777",
   "metadata": {},
   "outputs": [
    {
     "data": {
      "text/plain": [
       "'Data Science'"
      ]
     },
     "execution_count": 26,
     "metadata": {},
     "output_type": "execute_result"
    }
   ],
   "source": [
    "string"
   ]
  },
  {
   "cell_type": "code",
   "execution_count": 27,
   "id": "8228a8b7-1b15-401f-b1a7-365ac99e0858",
   "metadata": {},
   "outputs": [
    {
     "data": {
      "text/plain": [
       "'Data Science'"
      ]
     },
     "execution_count": 27,
     "metadata": {},
     "output_type": "execute_result"
    }
   ],
   "source": [
    "string[:]"
   ]
  },
  {
   "cell_type": "code",
   "execution_count": 28,
   "id": "1301745a-3ca1-45df-8a5e-68af0a43ac7b",
   "metadata": {},
   "outputs": [
    {
     "data": {
      "text/plain": [
       "'Data Science'"
      ]
     },
     "execution_count": 28,
     "metadata": {},
     "output_type": "execute_result"
    }
   ],
   "source": [
    "string[::]"
   ]
  },
  {
   "cell_type": "code",
   "execution_count": 29,
   "id": "0e20330b-6848-42cd-bd84-4aa4c551e62b",
   "metadata": {},
   "outputs": [
    {
     "data": {
      "text/plain": [
       "'ecneicS ataD'"
      ]
     },
     "execution_count": 29,
     "metadata": {},
     "output_type": "execute_result"
    }
   ],
   "source": [
    "string[::-1]"
   ]
  },
  {
   "cell_type": "code",
   "execution_count": 30,
   "id": "2c2ad66b-6754-407d-8037-bd8011ad573d",
   "metadata": {},
   "outputs": [
    {
     "data": {
      "text/plain": [
       "'eniSaa'"
      ]
     },
     "execution_count": 30,
     "metadata": {},
     "output_type": "execute_result"
    }
   ],
   "source": [
    "string[::-2]"
   ]
  },
  {
   "cell_type": "code",
   "execution_count": 31,
   "id": "90adc080-ea50-45e9-9400-834abc058fa6",
   "metadata": {},
   "outputs": [
    {
     "data": {
      "text/plain": [
       "' ataD'"
      ]
     },
     "execution_count": 31,
     "metadata": {},
     "output_type": "execute_result"
    }
   ],
   "source": [
    "string[4::-1]"
   ]
  },
  {
   "cell_type": "code",
   "execution_count": 33,
   "id": "0a219a65-ec7f-4537-afa9-f865fbe801a4",
   "metadata": {},
   "outputs": [
    {
     "data": {
      "text/plain": [
       "'Data Science'"
      ]
     },
     "execution_count": 33,
     "metadata": {},
     "output_type": "execute_result"
    }
   ],
   "source": [
    "string[:]"
   ]
  },
  {
   "cell_type": "code",
   "execution_count": 34,
   "id": "0641da02-35ac-45ff-ad8e-7953a437253c",
   "metadata": {},
   "outputs": [
    {
     "data": {
      "text/plain": [
       "'taD'"
      ]
     },
     "execution_count": 34,
     "metadata": {},
     "output_type": "execute_result"
    }
   ],
   "source": [
    "string[2::-1]"
   ]
  },
  {
   "cell_type": "code",
   "execution_count": 35,
   "id": "6c18e79e-4550-402c-b76d-0edbd902aed4",
   "metadata": {},
   "outputs": [
    {
     "data": {
      "text/plain": [
       "'Data Science'"
      ]
     },
     "execution_count": 35,
     "metadata": {},
     "output_type": "execute_result"
    }
   ],
   "source": [
    "string"
   ]
  },
  {
   "cell_type": "code",
   "execution_count": 36,
   "id": "99e9393e-d4a9-4888-abe6-e06b58f3f57d",
   "metadata": {},
   "outputs": [
    {
     "data": {
      "text/plain": [
       "''"
      ]
     },
     "execution_count": 36,
     "metadata": {},
     "output_type": "execute_result"
    }
   ],
   "source": [
    "string[2:3:-2]"
   ]
  },
  {
   "cell_type": "code",
   "execution_count": 41,
   "id": "5f374fe8-19da-4d06-a556-52d5c461e623",
   "metadata": {},
   "outputs": [
    {
     "data": {
      "text/plain": [
       "'S a'"
      ]
     },
     "execution_count": 41,
     "metadata": {},
     "output_type": "execute_result"
    }
   ],
   "source": [
    "string[5:2:-1]"
   ]
  },
  {
   "cell_type": "code",
   "execution_count": 42,
   "id": "2e6f2ba2-999e-4b20-b569-65ec56428f71",
   "metadata": {},
   "outputs": [
    {
     "data": {
      "text/plain": [
       "'Data Science'"
      ]
     },
     "execution_count": 42,
     "metadata": {},
     "output_type": "execute_result"
    }
   ],
   "source": [
    "string"
   ]
  },
  {
   "cell_type": "code",
   "execution_count": 44,
   "id": "5692d57a-7881-4bfb-8467-ae6bde6d6a9d",
   "metadata": {},
   "outputs": [
    {
     "data": {
      "text/plain": [
       "''"
      ]
     },
     "execution_count": 44,
     "metadata": {},
     "output_type": "execute_result"
    }
   ],
   "source": [
    "string[5:2:1]"
   ]
  },
  {
   "cell_type": "code",
   "execution_count": 46,
   "id": "859968c1-43f2-407c-b863-f071b9aa2cf6",
   "metadata": {},
   "outputs": [
    {
     "data": {
      "text/plain": [
       "'Dacn'"
      ]
     },
     "execution_count": 46,
     "metadata": {},
     "output_type": "execute_result"
    }
   ],
   "source": [
    "string[::3]"
   ]
  },
  {
   "cell_type": "code",
   "execution_count": 47,
   "id": "0321d32f-22f2-4142-8015-5045ac143f7c",
   "metadata": {},
   "outputs": [
    {
     "data": {
      "text/plain": [
       "'Data Science'"
      ]
     },
     "execution_count": 47,
     "metadata": {},
     "output_type": "execute_result"
    }
   ],
   "source": [
    "string\n"
   ]
  },
  {
   "cell_type": "code",
   "execution_count": 49,
   "id": "61c6272e-5e31-48ba-8095-24076d07ef47",
   "metadata": {},
   "outputs": [
    {
     "data": {
      "text/plain": [
       "'eniSaa'"
      ]
     },
     "execution_count": 49,
     "metadata": {},
     "output_type": "execute_result"
    }
   ],
   "source": [
    "string[::-2]"
   ]
  },
  {
   "cell_type": "code",
   "execution_count": 50,
   "id": "ad9b4da9-fa95-485f-a551-c7d381e2d173",
   "metadata": {},
   "outputs": [],
   "source": [
    "course_name=\"Data Scince Master\""
   ]
  },
  {
   "cell_type": "code",
   "execution_count": 57,
   "id": "a2df8676-4d5a-4493-b33b-194dc8b1cd62",
   "metadata": {},
   "outputs": [
    {
     "data": {
      "text/plain": [
       "'Science'"
      ]
     },
     "execution_count": 57,
     "metadata": {},
     "output_type": "execute_result"
    }
   ],
   "source": [
    "string[5:12]"
   ]
  },
  {
   "cell_type": "code",
   "execution_count": 60,
   "id": "38be0606-8480-4d74-a530-6d76e6c4c60f",
   "metadata": {},
   "outputs": [
    {
     "data": {
      "text/plain": [
       "'ecneicS'"
      ]
     },
     "execution_count": 60,
     "metadata": {},
     "output_type": "execute_result"
    }
   ],
   "source": [
    "string[11:4:-1]\n"
   ]
  },
  {
   "cell_type": "code",
   "execution_count": 62,
   "id": "adaac7e1-9dae-4f8e-8cf2-63a0676b80a8",
   "metadata": {},
   "outputs": [
    {
     "data": {
      "text/plain": [
       "'Data Scince Master'"
      ]
     },
     "execution_count": 62,
     "metadata": {},
     "output_type": "execute_result"
    }
   ],
   "source": [
    "course_name"
   ]
  },
  {
   "cell_type": "code",
   "execution_count": 65,
   "id": "01295f88-4028-4392-bdf5-0e875297547e",
   "metadata": {},
   "outputs": [
    {
     "data": {
      "text/plain": [
       "'ecneicS '"
      ]
     },
     "execution_count": 65,
     "metadata": {},
     "output_type": "execute_result"
    }
   ],
   "source": [
    "string[15:3:-1]\n"
   ]
  },
  {
   "cell_type": "code",
   "execution_count": 66,
   "id": "ebea7816-bcb9-48df-aeb8-1c1bf2e01fcb",
   "metadata": {},
   "outputs": [],
   "source": [
    "name= \"Data Scince Master\""
   ]
  },
  {
   "cell_type": "code",
   "execution_count": 127,
   "id": "d5dea202-4c06-4d61-830c-dd95bc46f92b",
   "metadata": {},
   "outputs": [
    {
     "data": {
      "text/plain": [
       "'ecneicS'"
      ]
     },
     "execution_count": 127,
     "metadata": {},
     "output_type": "execute_result"
    }
   ],
   "source": [
    "string[12:4:-1]\n"
   ]
  },
  {
   "cell_type": "code",
   "execution_count": 124,
   "id": "5c3efc66-54d2-4baf-a294-62437afb8531",
   "metadata": {},
   "outputs": [
    {
     "data": {
      "text/plain": [
       "'Data Scince Master'"
      ]
     },
     "execution_count": 124,
     "metadata": {},
     "output_type": "execute_result"
    }
   ],
   "source": [
    "course_name\n"
   ]
  },
  {
   "cell_type": "code",
   "execution_count": 131,
   "id": "2728b6f7-41b5-479b-938a-38acd9a86303",
   "metadata": {},
   "outputs": [
    {
     "data": {
      "text/plain": [
       "'ecneicS ataD'"
      ]
     },
     "execution_count": 131,
     "metadata": {},
     "output_type": "execute_result"
    }
   ],
   "source": [
    "string[::-1\n",
    "      ]\n"
   ]
  },
  {
   "cell_type": "code",
   "execution_count": 133,
   "id": "46147208-0503-4169-bf88-15be2c6785cf",
   "metadata": {},
   "outputs": [
    {
     "data": {
      "text/plain": [
       "' ata'"
      ]
     },
     "execution_count": 133,
     "metadata": {},
     "output_type": "execute_result"
    }
   ],
   "source": [
    "string[4:0:-1]"
   ]
  },
  {
   "cell_type": "code",
   "execution_count": 80,
   "id": "41ce6171-017f-4b8a-9e77-3ad12f2c5ace",
   "metadata": {},
   "outputs": [
    {
     "data": {
      "text/plain": [
       "'Data Scince Master Course'"
      ]
     },
     "execution_count": 80,
     "metadata": {},
     "output_type": "execute_result"
    }
   ],
   "source": [
    "## concatentaion\n",
    "course_name +\" Course\""
   ]
  },
  {
   "cell_type": "code",
   "execution_count": 84,
   "id": "55d99d20-4796-4cb8-9377-1d0aeee46bbc",
   "metadata": {},
   "outputs": [
    {
     "data": {
      "text/plain": [
       "'Data Scince MasterData Scince MasterData Scince MasterData Scince Master'"
      ]
     },
     "execution_count": 84,
     "metadata": {},
     "output_type": "execute_result"
    }
   ],
   "source": [
    "course_name * 4\n"
   ]
  },
  {
   "cell_type": "code",
   "execution_count": 86,
   "id": "113b0fc1-5d68-4bc0-a352-2d92ac67637e",
   "metadata": {},
   "outputs": [
    {
     "data": {
      "text/plain": [
       "18"
      ]
     },
     "execution_count": 86,
     "metadata": {},
     "output_type": "execute_result"
    }
   ],
   "source": [
    "len(course_name)"
   ]
  },
  {
   "cell_type": "code",
   "execution_count": 90,
   "id": "2543da3f-9251-4eed-b7f4-643547478361",
   "metadata": {},
   "outputs": [
    {
     "data": {
      "text/plain": [
       "1"
      ]
     },
     "execution_count": 90,
     "metadata": {},
     "output_type": "execute_result"
    }
   ],
   "source": [
    "course_name.find(\"a\")"
   ]
  },
  {
   "cell_type": "code",
   "execution_count": 91,
   "id": "1db3c923-8b62-4818-ac5c-d4c2e3f52651",
   "metadata": {},
   "outputs": [
    {
     "data": {
      "text/plain": [
       "3"
      ]
     },
     "execution_count": 91,
     "metadata": {},
     "output_type": "execute_result"
    }
   ],
   "source": [
    "course_name.find(\"a\",2,5)"
   ]
  },
  {
   "cell_type": "code",
   "execution_count": 100,
   "id": "5ea5040a-313e-4195-b2e0-453a8677bc1c",
   "metadata": {},
   "outputs": [
    {
     "data": {
      "text/plain": [
       "5"
      ]
     },
     "execution_count": 100,
     "metadata": {},
     "output_type": "execute_result"
    }
   ],
   "source": [
    "course_name.find('Scince')\n"
   ]
  },
  {
   "cell_type": "code",
   "execution_count": 92,
   "id": "bfd4d294-c782-4e51-97d9-07432a15250f",
   "metadata": {},
   "outputs": [
    {
     "data": {
      "text/plain": [
       "'Data Scince Master'"
      ]
     },
     "execution_count": 92,
     "metadata": {},
     "output_type": "execute_result"
    }
   ],
   "source": [
    "course_name"
   ]
  },
  {
   "cell_type": "code",
   "execution_count": 93,
   "id": "14f40a07-21a0-4621-894e-cad53f7eb362",
   "metadata": {},
   "outputs": [
    {
     "data": {
      "text/plain": [
       "14"
      ]
     },
     "execution_count": 93,
     "metadata": {},
     "output_type": "execute_result"
    }
   ],
   "source": [
    "course_name.find(\"s\")"
   ]
  },
  {
   "cell_type": "code",
   "execution_count": 95,
   "id": "dc8a8159-8a81-405e-b7b3-2f5f83220005",
   "metadata": {},
   "outputs": [
    {
     "data": {
      "text/plain": [
       "1"
      ]
     },
     "execution_count": 95,
     "metadata": {},
     "output_type": "execute_result"
    }
   ],
   "source": [
    "## count()\n",
    "course_name.count(\"M\"\n",
    "                 )"
   ]
  },
  {
   "cell_type": "code",
   "execution_count": 96,
   "id": "9766ac0a-c7dc-4d23-b856-2f08375b1002",
   "metadata": {},
   "outputs": [
    {
     "data": {
      "text/plain": [
       "2"
      ]
     },
     "execution_count": 96,
     "metadata": {},
     "output_type": "execute_result"
    }
   ],
   "source": [
    "course_name.count(' ')"
   ]
  },
  {
   "cell_type": "code",
   "execution_count": 98,
   "id": "7effb9d2-2482-4e65-a0da-72fffc05f100",
   "metadata": {},
   "outputs": [
    {
     "data": {
      "text/plain": [
       "3"
      ]
     },
     "execution_count": 98,
     "metadata": {},
     "output_type": "execute_result"
    }
   ],
   "source": [
    "course_name.count(\"a\")\n"
   ]
  },
  {
   "cell_type": "code",
   "execution_count": 101,
   "id": "29fcc07d-6f35-4f1a-ba96-24f9bbc8184d",
   "metadata": {},
   "outputs": [
    {
     "data": {
      "text/plain": [
       "'Data Scince Master'"
      ]
     },
     "execution_count": 101,
     "metadata": {},
     "output_type": "execute_result"
    }
   ],
   "source": [
    "## string split funcation\n",
    "course_name"
   ]
  },
  {
   "cell_type": "code",
   "execution_count": 102,
   "id": "522c5e43-392b-4fa9-915e-3bbadd38b92d",
   "metadata": {},
   "outputs": [
    {
     "data": {
      "text/plain": [
       "['Data', 'Scince', 'Master']"
      ]
     },
     "execution_count": 102,
     "metadata": {},
     "output_type": "execute_result"
    }
   ],
   "source": [
    "course_name.split(' ')"
   ]
  },
  {
   "cell_type": "code",
   "execution_count": 107,
   "id": "7376f01d-7db2-4fb1-8721-125e8cf40d81",
   "metadata": {},
   "outputs": [
    {
     "data": {
      "text/plain": [
       "'Data Scince Master'"
      ]
     },
     "execution_count": 107,
     "metadata": {},
     "output_type": "execute_result"
    }
   ],
   "source": [
    "course_name"
   ]
  },
  {
   "cell_type": "code",
   "execution_count": 108,
   "id": "6f96f1cb-1a85-42f3-9ac4-36c8d2114dfd",
   "metadata": {},
   "outputs": [
    {
     "data": {
      "text/plain": [
       "['Data Scince ', 'aster']"
      ]
     },
     "execution_count": 108,
     "metadata": {},
     "output_type": "execute_result"
    }
   ],
   "source": [
    "course_name.split('M')"
   ]
  },
  {
   "cell_type": "code",
   "execution_count": 109,
   "id": "7f2fbfb1-fe77-4fca-98bf-7345cd5afe3f",
   "metadata": {},
   "outputs": [
    {
     "data": {
      "text/plain": [
       "['', ' Scince Master']"
      ]
     },
     "execution_count": 109,
     "metadata": {},
     "output_type": "execute_result"
    }
   ],
   "source": [
    "course_name.split('Data')"
   ]
  },
  {
   "cell_type": "code",
   "execution_count": 103,
   "id": "932cbc8a-d62c-4c1a-9df2-05ba55e895be",
   "metadata": {},
   "outputs": [
    {
     "data": {
      "text/plain": [
       "('Data Scince Ma', 's', 'ter')"
      ]
     },
     "execution_count": 103,
     "metadata": {},
     "output_type": "execute_result"
    }
   ],
   "source": [
    "## partition\n",
    "course_name.partition('s')\n"
   ]
  },
  {
   "cell_type": "code",
   "execution_count": 104,
   "id": "bc448f23-ea08-4b49-aa84-9d80983e49b6",
   "metadata": {},
   "outputs": [
    {
     "data": {
      "text/plain": [
       "('Data Scince ', 'M', 'aster')"
      ]
     },
     "execution_count": 104,
     "metadata": {},
     "output_type": "execute_result"
    }
   ],
   "source": [
    "course_name.partition('M')"
   ]
  },
  {
   "cell_type": "code",
   "execution_count": 106,
   "id": "e2971558-6d13-432e-8d77-38bd69d92a37",
   "metadata": {},
   "outputs": [
    {
     "data": {
      "text/plain": [
       "('Data ', 'S', 'cince Master')"
      ]
     },
     "execution_count": 106,
     "metadata": {},
     "output_type": "execute_result"
    }
   ],
   "source": [
    "course_name.partition('S')"
   ]
  },
  {
   "cell_type": "code",
   "execution_count": 110,
   "id": "83d7d2ef-f2c8-43aa-ab69-4c9c80c9af8e",
   "metadata": {},
   "outputs": [],
   "source": [
    "## string Uppercase & lowercase\n"
   ]
  },
  {
   "cell_type": "code",
   "execution_count": 111,
   "id": "08f67be5-f08d-4641-8c7c-f0ea78a211d1",
   "metadata": {},
   "outputs": [
    {
     "data": {
      "text/plain": [
       "'Data Scince Master'"
      ]
     },
     "execution_count": 111,
     "metadata": {},
     "output_type": "execute_result"
    }
   ],
   "source": [
    "course_name"
   ]
  },
  {
   "cell_type": "code",
   "execution_count": 112,
   "id": "056210c2-7d84-409b-a8e9-8f528f7b1640",
   "metadata": {},
   "outputs": [
    {
     "data": {
      "text/plain": [
       "'DATA SCINCE MASTER'"
      ]
     },
     "execution_count": 112,
     "metadata": {},
     "output_type": "execute_result"
    }
   ],
   "source": [
    "course_name.upper()"
   ]
  },
  {
   "cell_type": "code",
   "execution_count": 113,
   "id": "e87c5692-adc2-416f-aca1-d8e306cc4d09",
   "metadata": {},
   "outputs": [
    {
     "data": {
      "text/plain": [
       "'data scince master'"
      ]
     },
     "execution_count": 113,
     "metadata": {},
     "output_type": "execute_result"
    }
   ],
   "source": [
    "course_name.lower()"
   ]
  },
  {
   "cell_type": "code",
   "execution_count": 114,
   "id": "18a0ec0d-8acf-4f45-b9a6-c81915c2c3c3",
   "metadata": {},
   "outputs": [],
   "source": [
    "## ex\n",
    "\n",
    "\n"
   ]
  },
  {
   "cell_type": "code",
   "execution_count": 117,
   "id": "a1aa08a4-b478-4bce-b889-70ba3a96d9a5",
   "metadata": {},
   "outputs": [
    {
     "data": {
      "text/plain": [
       "'Data Scince Masters'"
      ]
     },
     "execution_count": 117,
     "metadata": {},
     "output_type": "execute_result"
    }
   ],
   "source": [
    "course_name+\"s\""
   ]
  },
  {
   "cell_type": "code",
   "execution_count": 118,
   "id": "9085910c-9ea0-4f5f-81fb-192e70ce770b",
   "metadata": {},
   "outputs": [],
   "source": [
    "## swapcase()"
   ]
  },
  {
   "cell_type": "code",
   "execution_count": 119,
   "id": "f65acce0-38b0-4760-924c-d3f4d4de01fa",
   "metadata": {},
   "outputs": [
    {
     "data": {
      "text/plain": [
       "'dATA sCINCE mASTER'"
      ]
     },
     "execution_count": 119,
     "metadata": {},
     "output_type": "execute_result"
    }
   ],
   "source": [
    "course_name.swapcase()"
   ]
  },
  {
   "cell_type": "code",
   "execution_count": 120,
   "id": "b0b2c08c-4763-4434-8d41-f926708ef9e3",
   "metadata": {},
   "outputs": [],
   "source": [
    "# title"
   ]
  },
  {
   "cell_type": "code",
   "execution_count": 121,
   "id": "25ca5027-5fbb-4223-8d90-5d93e1190f55",
   "metadata": {},
   "outputs": [
    {
     "data": {
      "text/plain": [
       "'Data Scince Master'"
      ]
     },
     "execution_count": 121,
     "metadata": {},
     "output_type": "execute_result"
    }
   ],
   "source": [
    "course_name.title()"
   ]
  },
  {
   "cell_type": "code",
   "execution_count": null,
   "id": "be245b08-8774-4d17-8f1e-65d8180339ca",
   "metadata": {},
   "outputs": [],
   "source": []
  }
 ],
 "metadata": {
  "kernelspec": {
   "display_name": "Python 3 (ipykernel)",
   "language": "python",
   "name": "python3"
  },
  "language_info": {
   "codemirror_mode": {
    "name": "ipython",
    "version": 3
   },
   "file_extension": ".py",
   "mimetype": "text/x-python",
   "name": "python",
   "nbconvert_exporter": "python",
   "pygments_lexer": "ipython3",
   "version": "3.9.13"
  }
 },
 "nbformat": 4,
 "nbformat_minor": 5
}
