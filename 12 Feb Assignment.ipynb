{
 "cells": [
  {
   "cell_type": "markdown",
   "id": "c339fc79-92e9-434f-b275-d788420459d8",
   "metadata": {},
   "source": [
    "## 1."
   ]
  },
  {
   "cell_type": "markdown",
   "id": "13342444-e8f9-4fe6-a6a3-cdb5eb3c5318",
   "metadata": {},
   "source": [
    "* An Exception in Python is an error that occurs during the execution of a program and interrupts its normal flow. It is caused by unexpected or erroneous input, improper usage of functions or methods, or other runtime errors. Python provides a mechanism to handle exceptions using the try-except block, which allows the programmer to catch the exception and handle it gracefully."
   ]
  },
  {
   "cell_type": "code",
   "execution_count": null,
   "id": "124ed957-3cee-46ad-bb48-efaa1b23c47f",
   "metadata": {},
   "outputs": [],
   "source": []
  },
  {
   "cell_type": "markdown",
   "id": "54cb5cdc-1a79-4030-b426-b754913db71e",
   "metadata": {},
   "source": [
    "* difference between exceptions and syntax errors"
   ]
  },
  {
   "cell_type": "code",
   "execution_count": null,
   "id": "bcd7cb00-6b0d-4ca7-aafd-0c78738b3186",
   "metadata": {},
   "outputs": [],
   "source": []
  },
  {
   "cell_type": "markdown",
   "id": "4e1095d2-adb8-4c26-8745-6c63952ed65b",
   "metadata": {},
   "source": [
    "Exceptions: \n",
    "    \n",
    "    Exceptions, on the other hand, occur during the execution of a program when something unexpected happens. This can include errors such as dividing by zero, trying to access a file that does not exist, or passing an argument of the wrong type to a function. Exceptions can be caused by various factors, including invalid user input, unexpected changes in data, or network issues. When an exception occurs, Python will create an Exception object containing information about the error and the program will halt unless the exception is handled using a try-except block.\n",
    "    \n",
    "    \n"
   ]
  },
  {
   "cell_type": "markdown",
   "id": "66f2641c-ca4a-451e-b83a-2f54d9b58535",
   "metadata": {},
   "source": [
    "Syntax errors:\n",
    "    \n",
    "    Syntax errors occur when there is a problem with the syntax or structure of the code. This means that the code is not written correctly according to the rules of the Python language. Examples of syntax errors include missing or incorrect punctuation, misspelled keywords, or incorrect indentation. When a syntax error occurs, Python will usually highlight the line of code where the error occurred and provide an error message that explains the problem. The program will not be able to run until the syntax error is fixed.\n",
    "    "
   ]
  },
  {
   "cell_type": "code",
   "execution_count": null,
   "id": "8978de40-464b-432f-8920-85782bb0f1cc",
   "metadata": {},
   "outputs": [],
   "source": []
  },
  {
   "cell_type": "markdown",
   "id": "da6c937a-b0d0-4181-841f-01642655ba6c",
   "metadata": {},
   "source": [
    "## 3.\n"
   ]
  },
  {
   "cell_type": "code",
   "execution_count": null,
   "id": "d2c86e41-0c59-4db9-9431-970641b63cbd",
   "metadata": {},
   "outputs": [],
   "source": []
  },
  {
   "cell_type": "markdown",
   "id": "e41537ac-a372-43c1-9c18-08b3c27661e5",
   "metadata": {},
   "source": [
    " * the program will terminate abruptly and display an error message indicating the type of exception that occurred, along with a traceback showing the sequence of function calls and code lines that led to the exception."
   ]
  },
  {
   "cell_type": "code",
   "execution_count": 1,
   "id": "7011956e-0532-48e0-8564-2109250ee89a",
   "metadata": {},
   "outputs": [],
   "source": [
    "# example:"
   ]
  },
  {
   "cell_type": "code",
   "execution_count": 7,
   "id": "1bea0344-b5da-4505-bfa0-3972fa20b071",
   "metadata": {},
   "outputs": [
    {
     "ename": "ZeroDivisionError",
     "evalue": "division by zero",
     "output_type": "error",
     "traceback": [
      "\u001b[1;31m---------------------------------------------------------------------------\u001b[0m",
      "\u001b[1;31mZeroDivisionError\u001b[0m                         Traceback (most recent call last)",
      "\u001b[1;32m~\\AppData\\Local\\Temp\\ipykernel_5540\\1737555676.py\u001b[0m in \u001b[0;36m<module>\u001b[1;34m\u001b[0m\n\u001b[0;32m      1\u001b[0m \u001b[0ma\u001b[0m \u001b[1;33m=\u001b[0m \u001b[1;36m20\u001b[0m\u001b[1;33m\u001b[0m\u001b[1;33m\u001b[0m\u001b[0m\n\u001b[1;32m----> 2\u001b[1;33m \u001b[0ma\u001b[0m\u001b[1;33m/\u001b[0m\u001b[1;36m0\u001b[0m\u001b[1;33m\u001b[0m\u001b[1;33m\u001b[0m\u001b[0m\n\u001b[0m",
      "\u001b[1;31mZeroDivisionError\u001b[0m: division by zero"
     ]
    }
   ],
   "source": [
    "a = 20\n",
    "a/0"
   ]
  },
  {
   "cell_type": "markdown",
   "id": "888bd289-c218-4796-bae4-dfef28703263",
   "metadata": {},
   "source": [
    "In this example, we are attempting to divide the variable a by b, which is zero. This will result in a ZeroDivisionError exception."
   ]
  },
  {
   "cell_type": "code",
   "execution_count": null,
   "id": "4e362d9c-0bca-4ed8-9edd-f9785a58c4c4",
   "metadata": {},
   "outputs": [],
   "source": []
  },
  {
   "cell_type": "markdown",
   "id": "e285b2c7-706c-435c-9f82-e2f16a889281",
   "metadata": {},
   "source": [
    "## 3."
   ]
  },
  {
   "cell_type": "code",
   "execution_count": null,
   "id": "7464fa16-a1a9-4287-8c7b-348c8e02cb91",
   "metadata": {},
   "outputs": [],
   "source": []
  },
  {
   "cell_type": "code",
   "execution_count": null,
   "id": "908dd192-0c52-4411-bb3c-14bf1ac9611c",
   "metadata": {},
   "outputs": [],
   "source": []
  },
  {
   "cell_type": "code",
   "execution_count": 10,
   "id": "4763a5c7-be72-498f-8496-7d8547d76f43",
   "metadata": {},
   "outputs": [
    {
     "name": "stdout",
     "output_type": "stream",
     "text": [
      "this is my print statement\n"
     ]
    },
    {
     "data": {
      "text/plain": [
       "20"
      ]
     },
     "execution_count": 10,
     "metadata": {},
     "output_type": "execute_result"
    }
   ],
   "source": [
    "try:\n",
    "    f = open(\"test.txt\",\"r\")\n",
    "    \n",
    "except Exception as e :\n",
    "    print(\"some issue in my code\",e)\n",
    "print(\"this is my print statement\")\n",
    "a= 20\n",
    "a"
   ]
  },
  {
   "cell_type": "code",
   "execution_count": null,
   "id": "3a91e37a-d091-4e71-8e76-80c559332602",
   "metadata": {},
   "outputs": [],
   "source": []
  },
  {
   "cell_type": "markdown",
   "id": "d468fcfe-7220-4379-bb00-1247a9df92d0",
   "metadata": {},
   "source": [
    "## 4."
   ]
  },
  {
   "cell_type": "code",
   "execution_count": null,
   "id": "66d9dc80-8914-48d7-81d5-7cb6b14315eb",
   "metadata": {},
   "outputs": [],
   "source": []
  },
  {
   "cell_type": "code",
   "execution_count": 3,
   "id": "30155380-44d6-46aa-b7eb-0d5be8a6ebfa",
   "metadata": {},
   "outputs": [
    {
     "name": "stdin",
     "output_type": "stream",
     "text": [
      "Enter a number:  50\n",
      "Enter another number:  50\n"
     ]
    },
    {
     "name": "stdout",
     "output_type": "stream",
     "text": [
      "The result of 50 divided by 50 is 1.0.\n",
      "The calculation was successful.\n"
     ]
    }
   ],
   "source": [
    "try:\n",
    "    a = int(input(\"Enter a number: \"))\n",
    "    b = int(input(\"Enter another number: \"))\n",
    "    result = a / b\n",
    "except ZeroDivisionError:\n",
    "    print(\"You can't divide by zero!\")\n",
    "    result = None\n",
    "else:\n",
    "    print(f\"The result of {a} divided by {b} is {result}.\")\n",
    "finally:\n",
    "    if result is None:\n",
    "        print(\"The calculation was not successful.\")\n",
    "    else:\n",
    "        print(\"The calculation was successful.\")\n",
    "    if result == 50:\n",
    "        raise ValueError(\"The answer cannot be 50.\")\n"
   ]
  },
  {
   "cell_type": "code",
   "execution_count": null,
   "id": "5e06b860-be49-47b9-85c2-c83f20d7bfda",
   "metadata": {},
   "outputs": [],
   "source": []
  },
  {
   "cell_type": "markdown",
   "id": "4aa3b169-df0b-4901-8ee7-3b73e1d303d2",
   "metadata": {},
   "source": [
    "## 5."
   ]
  },
  {
   "cell_type": "code",
   "execution_count": null,
   "id": "74dad856-e075-4690-a6c1-08ba7a2c9c7c",
   "metadata": {},
   "outputs": [],
   "source": []
  },
  {
   "cell_type": "markdown",
   "id": "a95a7c0c-e0f4-4315-8dbc-546dfb8dcab1",
   "metadata": {},
   "source": [
    "* Custom exceptions in Python are user-defined exceptions that extend the built-in Exception class or any of its subclasses. These exceptions are raised by the programmer when they encounter an error or unexpected situation in their code that does not fit any of the existing exception classes."
   ]
  },
  {
   "cell_type": "code",
   "execution_count": null,
   "id": "f29faef2-fbcf-405a-a6db-735d848643aa",
   "metadata": {},
   "outputs": [],
   "source": []
  },
  {
   "cell_type": "markdown",
   "id": "e3089631-81f8-4085-a39a-b5c8974864ba",
   "metadata": {},
   "source": [
    "* We need custom exceptions in Python because they allow us to handle errors or exceptional cases that are specific to our application. By defining our own exceptions, we can provide more detailed and meaningful error messages to our users, making it easier for them to understand and fix the problem."
   ]
  },
  {
   "cell_type": "code",
   "execution_count": null,
   "id": "185307a6-8e40-46cf-ad3b-426fe89ee8ae",
   "metadata": {},
   "outputs": [],
   "source": []
  },
  {
   "cell_type": "code",
   "execution_count": 5,
   "id": "de8adff4-5413-47ad-8b62-21405517bfd8",
   "metadata": {},
   "outputs": [],
   "source": [
    "class InvalidAgeError(Exception):\n",
    "    pass\n",
    "\n",
    "def check_age(age):\n",
    "    if age < 18:\n",
    "        raise InvalidAgeError(\"You must be 18 or older to access this content\")\n",
    "    else:\n",
    "        print(\"Access granted\")\n",
    "\n",
    "\n"
   ]
  },
  {
   "cell_type": "code",
   "execution_count": 7,
   "id": "8c144d75-23ed-49a6-939a-4de1534af3cf",
   "metadata": {},
   "outputs": [
    {
     "name": "stdout",
     "output_type": "stream",
     "text": [
      "Access granted\n"
     ]
    }
   ],
   "source": [
    "age = 20\n",
    "try:\n",
    "    check_age(age)\n",
    "except InvalidAgeError as e:\n",
    "    print(e)"
   ]
  },
  {
   "cell_type": "code",
   "execution_count": 8,
   "id": "e1d95b44-2335-4436-b977-15b7a6b5001f",
   "metadata": {},
   "outputs": [
    {
     "name": "stdout",
     "output_type": "stream",
     "text": [
      "You must be 18 or older to access this content\n"
     ]
    }
   ],
   "source": [
    "age = 16\n",
    "try:\n",
    "    check_age(age)\n",
    "except InvalidAgeError as e:\n",
    "    print(e)"
   ]
  },
  {
   "cell_type": "code",
   "execution_count": null,
   "id": "8b7cdf48-16fe-43e4-b95a-58c143ee08ff",
   "metadata": {},
   "outputs": [],
   "source": []
  },
  {
   "cell_type": "markdown",
   "id": "5947495d-8d28-42a3-ae32-46cabcc6cd6d",
   "metadata": {},
   "source": [
    "## 6."
   ]
  },
  {
   "cell_type": "code",
   "execution_count": null,
   "id": "5e8e5382-0403-4256-a5ac-28557ce1937b",
   "metadata": {},
   "outputs": [],
   "source": []
  },
  {
   "cell_type": "code",
   "execution_count": 10,
   "id": "16efb85e-5091-4fc4-a682-f122f561426f",
   "metadata": {},
   "outputs": [],
   "source": [
    "class InvalidEmailError(Exception):\n",
    "    def __init__(self,email):\n",
    "        self.email = email\n",
    "        \n",
    "    def __str__(self):\n",
    "        return (f\"Error: {self.email} is not a valid email address\")\n",
    "    \n",
    "def send_email(email):\n",
    "    if \"@\" not in email:\n",
    "        raise InvalidEmailError(email)\n",
    "    else:\n",
    "        print(f\"sending email to {email}\")\n",
    "\n",
    "\n",
    "              \n",
    "              "
   ]
  },
  {
   "cell_type": "code",
   "execution_count": 11,
   "id": "92962260-511d-4fdf-995b-f8f5e9466ae3",
   "metadata": {},
   "outputs": [
    {
     "name": "stdout",
     "output_type": "stream",
     "text": [
      "Error: sarwar.com is not a valid email address\n"
     ]
    }
   ],
   "source": [
    "        \n",
    "try:\n",
    "    send_email(\"sarwar.com\")\n",
    "except InvalidEmailError as e:\n",
    "    print(e)\n",
    "    \n",
    "else:\n",
    "    print(\"Email sent successfuly\")"
   ]
  },
  {
   "cell_type": "code",
   "execution_count": 12,
   "id": "d9c23de2-e271-4318-adfe-9d64d3a115ae",
   "metadata": {},
   "outputs": [
    {
     "name": "stdout",
     "output_type": "stream",
     "text": [
      "sending email to sarwar4556@gmail.com\n",
      "Email sent successfuly\n"
     ]
    }
   ],
   "source": [
    "        \n",
    "try:\n",
    "    send_email(\"sarwar4556@gmail.com\")\n",
    "except InvalidEmailError as e:\n",
    "    print(e)\n",
    "    \n",
    "else:\n",
    "    print(\"Email sent successfuly\")"
   ]
  },
  {
   "cell_type": "code",
   "execution_count": null,
   "id": "897066ca-67b0-4c6e-a8e0-eded7c372d58",
   "metadata": {},
   "outputs": [],
   "source": []
  },
  {
   "cell_type": "code",
   "execution_count": null,
   "id": "fcac5701-cc8e-4122-8914-3095802954af",
   "metadata": {},
   "outputs": [],
   "source": []
  },
  {
   "cell_type": "code",
   "execution_count": null,
   "id": "7bbed655-b949-4b11-90d8-4cb9b31671f2",
   "metadata": {},
   "outputs": [],
   "source": []
  },
  {
   "cell_type": "code",
   "execution_count": null,
   "id": "f5f23802-aad9-489e-8813-b6c965a51f1c",
   "metadata": {},
   "outputs": [],
   "source": []
  },
  {
   "cell_type": "code",
   "execution_count": null,
   "id": "1a354511-1e79-4186-9b78-2c048f29a189",
   "metadata": {},
   "outputs": [],
   "source": []
  },
  {
   "cell_type": "code",
   "execution_count": null,
   "id": "879f9dab-5ecb-4e00-b2e9-561ffd21eeda",
   "metadata": {},
   "outputs": [],
   "source": []
  },
  {
   "cell_type": "code",
   "execution_count": null,
   "id": "e52b0dbc-ff54-464e-8f46-afb576bcaa92",
   "metadata": {},
   "outputs": [],
   "source": []
  },
  {
   "cell_type": "code",
   "execution_count": null,
   "id": "d459a6aa-2b56-42ed-a4b0-4e105b14865e",
   "metadata": {},
   "outputs": [],
   "source": []
  },
  {
   "cell_type": "code",
   "execution_count": null,
   "id": "2edb7042-d71d-4550-bb24-a859afe59960",
   "metadata": {},
   "outputs": [],
   "source": []
  },
  {
   "cell_type": "code",
   "execution_count": null,
   "id": "0a9453fb-02e5-4559-b0ec-c864947e5078",
   "metadata": {},
   "outputs": [],
   "source": []
  },
  {
   "cell_type": "code",
   "execution_count": null,
   "id": "b174230a-203b-4ef7-8c06-a104473fd81f",
   "metadata": {},
   "outputs": [],
   "source": []
  },
  {
   "cell_type": "code",
   "execution_count": null,
   "id": "644c77dc-1b9f-40cc-b731-fc96a18190ee",
   "metadata": {},
   "outputs": [],
   "source": []
  },
  {
   "cell_type": "code",
   "execution_count": null,
   "id": "994ef8fc-cc0b-45c4-9da9-35481dbd2531",
   "metadata": {},
   "outputs": [],
   "source": []
  }
 ],
 "metadata": {
  "kernelspec": {
   "display_name": "Python 3 (ipykernel)",
   "language": "python",
   "name": "python3"
  },
  "language_info": {
   "codemirror_mode": {
    "name": "ipython",
    "version": 3
   },
   "file_extension": ".py",
   "mimetype": "text/x-python",
   "name": "python",
   "nbconvert_exporter": "python",
   "pygments_lexer": "ipython3",
   "version": "3.9.13"
  }
 },
 "nbformat": 4,
 "nbformat_minor": 5
}
