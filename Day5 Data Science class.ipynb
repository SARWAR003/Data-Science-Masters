{
 "cells": [
  {
   "cell_type": "markdown",
   "id": "b7409478-e57c-44fa-ae61-434dc3e401be",
   "metadata": {},
   "source": [
    "# TUPLE"
   ]
  },
  {
   "cell_type": "code",
   "execution_count": null,
   "id": "bdecc354-abf4-4bab-a00f-8eeda1ae000d",
   "metadata": {},
   "outputs": [],
   "source": []
  },
  {
   "cell_type": "code",
   "execution_count": 1,
   "id": "c5d54475-99a8-491c-8f61-6209bb048c29",
   "metadata": {},
   "outputs": [],
   "source": [
    "t=()"
   ]
  },
  {
   "cell_type": "code",
   "execution_count": 2,
   "id": "c1388f26-00f0-40ad-b6e8-2b81e7b223fb",
   "metadata": {},
   "outputs": [
    {
     "data": {
      "text/plain": [
       "tuple"
      ]
     },
     "execution_count": 2,
     "metadata": {},
     "output_type": "execute_result"
    }
   ],
   "source": [
    "type(t)"
   ]
  },
  {
   "cell_type": "code",
   "execution_count": 7,
   "id": "deb614b1-89d3-4252-9cf1-fae236f5336c",
   "metadata": {},
   "outputs": [],
   "source": [
    "t1=(1,2,3,4,5,6,\"sarwar\", \"md\")"
   ]
  },
  {
   "cell_type": "code",
   "execution_count": 9,
   "id": "5b0f13c9-b85a-4729-8753-23f7b2039cdb",
   "metadata": {},
   "outputs": [
    {
     "data": {
      "text/plain": [
       "tuple"
      ]
     },
     "execution_count": 9,
     "metadata": {},
     "output_type": "execute_result"
    }
   ],
   "source": [
    "type(t1)"
   ]
  },
  {
   "cell_type": "code",
   "execution_count": 11,
   "id": "4ee80e17-f783-4a92-a592-3baf1695aea3",
   "metadata": {},
   "outputs": [
    {
     "data": {
      "text/plain": [
       "(1, 2, 3, 4, 5, 6, 'sarwar', 'md')"
      ]
     },
     "execution_count": 11,
     "metadata": {},
     "output_type": "execute_result"
    }
   ],
   "source": [
    "t1"
   ]
  },
  {
   "cell_type": "code",
   "execution_count": 12,
   "id": "31615bc5-0a06-4664-8acd-b4431033316e",
   "metadata": {},
   "outputs": [
    {
     "data": {
      "text/plain": [
       "3"
      ]
     },
     "execution_count": 12,
     "metadata": {},
     "output_type": "execute_result"
    }
   ],
   "source": [
    "t1[2]"
   ]
  },
  {
   "cell_type": "code",
   "execution_count": 14,
   "id": "91c624a3-5a64-4343-9e16-c36401fccfd1",
   "metadata": {},
   "outputs": [
    {
     "data": {
      "text/plain": [
       "('md', 'sarwar', 6, 5, 4, 3, 2, 1)"
      ]
     },
     "execution_count": 14,
     "metadata": {},
     "output_type": "execute_result"
    }
   ],
   "source": [
    "t1[::-1]"
   ]
  },
  {
   "cell_type": "code",
   "execution_count": 15,
   "id": "2b7eb52c-2804-4e3b-8e95-49bd1125b21b",
   "metadata": {},
   "outputs": [
    {
     "data": {
      "text/plain": [
       "(1, 2, 3, 4, 5, 6, 'sarwar', 'md')"
      ]
     },
     "execution_count": 15,
     "metadata": {},
     "output_type": "execute_result"
    }
   ],
   "source": [
    "t1[::]"
   ]
  },
  {
   "cell_type": "code",
   "execution_count": 16,
   "id": "68026c88-4c74-43de-8720-60e913750498",
   "metadata": {},
   "outputs": [
    {
     "data": {
      "text/plain": [
       "8"
      ]
     },
     "execution_count": 16,
     "metadata": {},
     "output_type": "execute_result"
    }
   ],
   "source": [
    "len(t1)"
   ]
  },
  {
   "cell_type": "code",
   "execution_count": 18,
   "id": "f81a2879-9e0d-4e7f-aa5a-841cdbd8b2e4",
   "metadata": {},
   "outputs": [
    {
     "data": {
      "text/plain": [
       "6"
      ]
     },
     "execution_count": 18,
     "metadata": {},
     "output_type": "execute_result"
    }
   ],
   "source": [
    "t1[5]"
   ]
  },
  {
   "cell_type": "code",
   "execution_count": 19,
   "id": "b48b42b7-b88b-4c68-8097-3072674f807b",
   "metadata": {},
   "outputs": [
    {
     "data": {
      "text/plain": [
       "(1, 2, 3, 4, 5, 6, 'sarwar', 'md')"
      ]
     },
     "execution_count": 19,
     "metadata": {},
     "output_type": "execute_result"
    }
   ],
   "source": [
    "t1[::]"
   ]
  },
  {
   "cell_type": "code",
   "execution_count": 21,
   "id": "883680a0-e2d4-4d8a-b2fa-41fca5ed6620",
   "metadata": {},
   "outputs": [
    {
     "data": {
      "text/plain": [
       "('md', 'sarwar', 6, 5, 4, 3, 2, 1)"
      ]
     },
     "execution_count": 21,
     "metadata": {},
     "output_type": "execute_result"
    }
   ],
   "source": [
    "t1[::-1]"
   ]
  },
  {
   "cell_type": "code",
   "execution_count": 24,
   "id": "2f98e77a-7c70-41cc-9d69-7ad5e1b14538",
   "metadata": {},
   "outputs": [
    {
     "data": {
      "text/plain": [
       "(1, 2, 3, 4, 5, 6)"
      ]
     },
     "execution_count": 24,
     "metadata": {},
     "output_type": "execute_result"
    }
   ],
   "source": [
    "t1[0:-2]"
   ]
  },
  {
   "cell_type": "code",
   "execution_count": 25,
   "id": "38139dd6-e08a-430c-97db-f99491751b46",
   "metadata": {},
   "outputs": [
    {
     "data": {
      "text/plain": [
       "(1, 2, 3)"
      ]
     },
     "execution_count": 25,
     "metadata": {},
     "output_type": "execute_result"
    }
   ],
   "source": [
    "t1[0:3]"
   ]
  },
  {
   "cell_type": "code",
   "execution_count": 26,
   "id": "4eef0c25-c3b1-455d-812f-9a17903082ab",
   "metadata": {},
   "outputs": [
    {
     "data": {
      "text/plain": [
       "('sarwar', 'md')"
      ]
     },
     "execution_count": 26,
     "metadata": {},
     "output_type": "execute_result"
    }
   ],
   "source": [
    "t1[6:8]"
   ]
  },
  {
   "cell_type": "code",
   "execution_count": 29,
   "id": "3d9e2da0-8e01-4f61-94af-83b64b34f752",
   "metadata": {},
   "outputs": [
    {
     "data": {
      "text/plain": [
       "(5, 6)"
      ]
     },
     "execution_count": 29,
     "metadata": {},
     "output_type": "execute_result"
    }
   ],
   "source": [
    "t1[4:6]"
   ]
  },
  {
   "cell_type": "code",
   "execution_count": 31,
   "id": "bf4356a3-1fcd-4217-8b80-5f2c0706cf51",
   "metadata": {},
   "outputs": [
    {
     "data": {
      "text/plain": [
       "1"
      ]
     },
     "execution_count": 31,
     "metadata": {},
     "output_type": "execute_result"
    }
   ],
   "source": [
    "t1.count(\"sarwar\")"
   ]
  },
  {
   "cell_type": "code",
   "execution_count": 32,
   "id": "23e62c74-993d-4644-896c-05b211185665",
   "metadata": {},
   "outputs": [
    {
     "data": {
      "text/plain": [
       "(1, 2, 3, 4, 5, 6, 'sarwar', 'md')"
      ]
     },
     "execution_count": 32,
     "metadata": {},
     "output_type": "execute_result"
    }
   ],
   "source": [
    "t1[::]"
   ]
  },
  {
   "cell_type": "code",
   "execution_count": 35,
   "id": "ddaa0ea1-6b52-4780-8ad9-e49dc2fba351",
   "metadata": {},
   "outputs": [
    {
     "data": {
      "text/plain": [
       "7"
      ]
     },
     "execution_count": 35,
     "metadata": {},
     "output_type": "execute_result"
    }
   ],
   "source": [
    "t1.index('md')"
   ]
  },
  {
   "cell_type": "code",
   "execution_count": 36,
   "id": "9e8cbbbd-d2e6-48ee-9ca0-8cda8ec44ffc",
   "metadata": {},
   "outputs": [
    {
     "data": {
      "text/plain": [
       "1"
      ]
     },
     "execution_count": 36,
     "metadata": {},
     "output_type": "execute_result"
    }
   ],
   "source": [
    "t1.count(1)\n"
   ]
  },
  {
   "cell_type": "code",
   "execution_count": 37,
   "id": "c26f2d97-8672-4fb5-96de-4e0550080e0e",
   "metadata": {},
   "outputs": [
    {
     "data": {
      "text/plain": [
       "(1, 2, 3, 4, 5, 6, 'sarwar', 'md')"
      ]
     },
     "execution_count": 37,
     "metadata": {},
     "output_type": "execute_result"
    }
   ],
   "source": [
    "t1"
   ]
  },
  {
   "cell_type": "markdown",
   "id": "e8435a8e-63a6-4e63-b19f-82f22e4f891d",
   "metadata": {},
   "source": [
    "\"\"\" Tuple are basically follows immutability  concepts where it is not going to allow to change any element at a perticular index \"\"\"  "
   ]
  },
  {
   "cell_type": "code",
   "execution_count": 42,
   "id": "ee18ec5c-45a2-4590-944d-10e16b725afa",
   "metadata": {},
   "outputs": [
    {
     "ename": "TypeError",
     "evalue": "'tuple' object does not support item assignment",
     "output_type": "error",
     "traceback": [
      "\u001b[1;31m---------------------------------------------------------------------------\u001b[0m",
      "\u001b[1;31mTypeError\u001b[0m                                 Traceback (most recent call last)",
      "\u001b[1;32m~\\AppData\\Local\\Temp\\ipykernel_7064\\2800411686.py\u001b[0m in \u001b[0;36m<module>\u001b[1;34m\u001b[0m\n\u001b[1;32m----> 1\u001b[1;33m \u001b[0mt1\u001b[0m\u001b[1;33m[\u001b[0m\u001b[1;36m0\u001b[0m\u001b[1;33m]\u001b[0m\u001b[1;33m=\u001b[0m\u001b[1;36m200\u001b[0m\u001b[1;33m\u001b[0m\u001b[1;33m\u001b[0m\u001b[0m\n\u001b[0m",
      "\u001b[1;31mTypeError\u001b[0m: 'tuple' object does not support item assignment"
     ]
    }
   ],
   "source": [
    "t1[0]=200"
   ]
  },
  {
   "cell_type": "code",
   "execution_count": 43,
   "id": "2dd72281-caa7-4eae-a084-a02df700689d",
   "metadata": {},
   "outputs": [
    {
     "data": {
      "text/plain": [
       "(1, 2, 3, 4, 5, 6, 'sarwar', 'md')"
      ]
     },
     "execution_count": 43,
     "metadata": {},
     "output_type": "execute_result"
    }
   ],
   "source": [
    "t1"
   ]
  },
  {
   "cell_type": "code",
   "execution_count": 45,
   "id": "a44aa077-f01b-49f1-8651-fdf38e4a26c4",
   "metadata": {},
   "outputs": [
    {
     "name": "stdout",
     "output_type": "stream",
     "text": [
      "1 <class 'int'>\n",
      "2 <class 'int'>\n",
      "3 <class 'int'>\n",
      "4 <class 'int'>\n",
      "5 <class 'int'>\n",
      "6 <class 'int'>\n",
      "sarwar <class 'str'>\n",
      "md <class 'str'>\n"
     ]
    }
   ],
   "source": [
    "for i in t1:\n",
    "    print(i, type (i))"
   ]
  },
  {
   "cell_type": "code",
   "execution_count": 46,
   "id": "9baabcb3-1175-4cf6-a881-3ef18d01c330",
   "metadata": {},
   "outputs": [],
   "source": [
    "t2=(1,2,3,4)"
   ]
  },
  {
   "cell_type": "code",
   "execution_count": 47,
   "id": "c7b23064-81cf-4436-83b0-8131fcbc5f16",
   "metadata": {},
   "outputs": [
    {
     "data": {
      "text/plain": [
       "(1, 2, 3, 4)"
      ]
     },
     "execution_count": 47,
     "metadata": {},
     "output_type": "execute_result"
    }
   ],
   "source": [
    "t2"
   ]
  },
  {
   "cell_type": "code",
   "execution_count": 48,
   "id": "bdb9f138-0b03-4492-8025-b32cd340700a",
   "metadata": {},
   "outputs": [
    {
     "data": {
      "text/plain": [
       "(1, 2, 3, 4, 1, 2, 3, 4, 1, 2, 3, 4, 1, 2, 3, 4)"
      ]
     },
     "execution_count": 48,
     "metadata": {},
     "output_type": "execute_result"
    }
   ],
   "source": [
    "t2*4"
   ]
  },
  {
   "cell_type": "code",
   "execution_count": 50,
   "id": "52710dfd-aec2-411c-9cc5-5aaebeba0ff0",
   "metadata": {},
   "outputs": [
    {
     "data": {
      "text/plain": [
       "(1, 2, 3, 4, 5, 6, 7, 8, 9, 10)"
      ]
     },
     "execution_count": 50,
     "metadata": {},
     "output_type": "execute_result"
    }
   ],
   "source": [
    "t2+(5,6,7,8,9,10)"
   ]
  },
  {
   "cell_type": "code",
   "execution_count": 55,
   "id": "185e7af1-3d4f-4ea4-a3c3-6faa4d64c7f0",
   "metadata": {},
   "outputs": [
    {
     "data": {
      "text/plain": [
       "(1, 2, 3, 4)"
      ]
     },
     "execution_count": 55,
     "metadata": {},
     "output_type": "execute_result"
    }
   ],
   "source": [
    "t2"
   ]
  },
  {
   "cell_type": "code",
   "execution_count": 53,
   "id": "1faa3c68-a6bb-43b3-9ec9-5507ce54c2f6",
   "metadata": {},
   "outputs": [
    {
     "data": {
      "text/plain": [
       "4"
      ]
     },
     "execution_count": 53,
     "metadata": {},
     "output_type": "execute_result"
    }
   ],
   "source": [
    "max(t2)"
   ]
  },
  {
   "cell_type": "code",
   "execution_count": 54,
   "id": "e2cf4a05-0574-4e9a-888e-609a8fb833e4",
   "metadata": {},
   "outputs": [
    {
     "data": {
      "text/plain": [
       "1"
      ]
     },
     "execution_count": 54,
     "metadata": {},
     "output_type": "execute_result"
    }
   ],
   "source": [
    "min(t2)"
   ]
  },
  {
   "cell_type": "code",
   "execution_count": 61,
   "id": "97f15ce6-5aec-45e0-8e7f-e268cd0499b7",
   "metadata": {},
   "outputs": [],
   "source": [
    "t1=(12,36,78,54)\n",
    "t2=(55,85,94,48)\n",
    "t3= (t1,t2)"
   ]
  },
  {
   "cell_type": "code",
   "execution_count": 62,
   "id": "c0e6487d-a6de-480b-95ee-74f142d35788",
   "metadata": {},
   "outputs": [
    {
     "data": {
      "text/plain": [
       "((12, 36, 78, 54), (55, 85, 94, 48))"
      ]
     },
     "execution_count": 62,
     "metadata": {},
     "output_type": "execute_result"
    }
   ],
   "source": [
    "t3"
   ]
  },
  {
   "cell_type": "code",
   "execution_count": 63,
   "id": "faa5ae57-28c9-4fdb-8f4a-e6f0ceee08b1",
   "metadata": {},
   "outputs": [],
   "source": [
    "t4=((1,2,3,4,5,6,7,8,9),[9,8,7,6,5,4,3,2,1])"
   ]
  },
  {
   "cell_type": "code",
   "execution_count": 64,
   "id": "78a56708-1447-406b-924d-f6398b1ed317",
   "metadata": {},
   "outputs": [
    {
     "data": {
      "text/plain": [
       "((1, 2, 3, 4, 5, 6, 7, 8, 9), [9, 8, 7, 6, 5, 4, 3, 2, 1])"
      ]
     },
     "execution_count": 64,
     "metadata": {},
     "output_type": "execute_result"
    }
   ],
   "source": [
    "t4"
   ]
  },
  {
   "cell_type": "code",
   "execution_count": 65,
   "id": "107e48b7-6c9e-4e6c-aa58-351ed093c2fc",
   "metadata": {},
   "outputs": [],
   "source": [
    "del t4"
   ]
  },
  {
   "cell_type": "code",
   "execution_count": 66,
   "id": "cbf64670-a29c-423e-9778-bd040c03269c",
   "metadata": {},
   "outputs": [
    {
     "ename": "NameError",
     "evalue": "name 't4' is not defined",
     "output_type": "error",
     "traceback": [
      "\u001b[1;31m---------------------------------------------------------------------------\u001b[0m",
      "\u001b[1;31mNameError\u001b[0m                                 Traceback (most recent call last)",
      "\u001b[1;32m~\\AppData\\Local\\Temp\\ipykernel_7064\\1840058143.py\u001b[0m in \u001b[0;36m<module>\u001b[1;34m\u001b[0m\n\u001b[1;32m----> 1\u001b[1;33m \u001b[0mt4\u001b[0m\u001b[1;33m\u001b[0m\u001b[1;33m\u001b[0m\u001b[0m\n\u001b[0m",
      "\u001b[1;31mNameError\u001b[0m: name 't4' is not defined"
     ]
    }
   ],
   "source": [
    "t4 ## it delite"
   ]
  },
  {
   "cell_type": "code",
   "execution_count": 67,
   "id": "b68d074a-bbfe-498b-9ce4-7de317e316dd",
   "metadata": {},
   "outputs": [
    {
     "data": {
      "text/plain": [
       "(12, 36, 78, 54)"
      ]
     },
     "execution_count": 67,
     "metadata": {},
     "output_type": "execute_result"
    }
   ],
   "source": [
    "t1"
   ]
  },
  {
   "cell_type": "code",
   "execution_count": 68,
   "id": "dc1a06c3-e30c-42bf-a0b6-18cb2b503efa",
   "metadata": {},
   "outputs": [
    {
     "data": {
      "text/plain": [
       "True"
      ]
     },
     "execution_count": 68,
     "metadata": {},
     "output_type": "execute_result"
    }
   ],
   "source": [
    "36 in t1"
   ]
  },
  {
   "cell_type": "code",
   "execution_count": 69,
   "id": "0c7468e7-75d6-4c66-8d1e-378cf569a8d0",
   "metadata": {},
   "outputs": [
    {
     "data": {
      "text/plain": [
       "False"
      ]
     },
     "execution_count": 69,
     "metadata": {},
     "output_type": "execute_result"
    }
   ],
   "source": [
    "77 in t1"
   ]
  },
  {
   "cell_type": "code",
   "execution_count": null,
   "id": "f35b4448-285e-45dd-abf4-974f5e8409bd",
   "metadata": {},
   "outputs": [],
   "source": []
  },
  {
   "cell_type": "markdown",
   "id": "e7922be8-f8ab-4410-afd5-22f4b9931dce",
   "metadata": {},
   "source": [
    "# SETS"
   ]
  },
  {
   "cell_type": "code",
   "execution_count": null,
   "id": "fbcb98ce-3451-4e1a-b266-fe82ed2a66f2",
   "metadata": {},
   "outputs": [],
   "source": []
  },
  {
   "cell_type": "code",
   "execution_count": 76,
   "id": "793527b5-837c-477f-9bb5-cd2b61eae032",
   "metadata": {},
   "outputs": [],
   "source": [
    "s1 ={1,2,3,4}"
   ]
  },
  {
   "cell_type": "code",
   "execution_count": 78,
   "id": "e1ccb62d-94a9-44bc-82fd-4318306e19f1",
   "metadata": {},
   "outputs": [
    {
     "data": {
      "text/plain": [
       "set"
      ]
     },
     "execution_count": 78,
     "metadata": {},
     "output_type": "execute_result"
    }
   ],
   "source": [
    "type (s1)"
   ]
  },
  {
   "cell_type": "code",
   "execution_count": 80,
   "id": "4388de4b-e141-44c7-abd2-878286932ce2",
   "metadata": {},
   "outputs": [],
   "source": [
    "s2 ={ 1,1,2,2,3,3,4,4,5,5,6,6,7,7,8,8,9,9}"
   ]
  },
  {
   "cell_type": "code",
   "execution_count": 81,
   "id": "6fabdcab-7b36-42aa-a2f9-78f9b174d3d5",
   "metadata": {},
   "outputs": [
    {
     "data": {
      "text/plain": [
       "{1, 2, 3, 4, 5, 6, 7, 8, 9}"
      ]
     },
     "execution_count": 81,
     "metadata": {},
     "output_type": "execute_result"
    }
   ],
   "source": [
    "s2"
   ]
  },
  {
   "cell_type": "code",
   "execution_count": 83,
   "id": "30f51f6d-1585-48f0-960e-b8e7c0e546c0",
   "metadata": {},
   "outputs": [
    {
     "data": {
      "text/plain": [
       "[1, 2, 3, 4, 5, 6, 7, 8, 9]"
      ]
     },
     "execution_count": 83,
     "metadata": {},
     "output_type": "execute_result"
    }
   ],
   "source": [
    "list(s2)"
   ]
  },
  {
   "cell_type": "code",
   "execution_count": 84,
   "id": "81e56a09-2bf5-4ba4-9582-a765273a1508",
   "metadata": {},
   "outputs": [
    {
     "data": {
      "text/plain": [
       "(1, 2, 3, 4, 5, 6, 7, 8, 9)"
      ]
     },
     "execution_count": 84,
     "metadata": {},
     "output_type": "execute_result"
    }
   ],
   "source": [
    "tuple(s2)"
   ]
  },
  {
   "cell_type": "code",
   "execution_count": 86,
   "id": "955b6ee6-e259-4772-8952-a6b2c92bdba9",
   "metadata": {},
   "outputs": [
    {
     "data": {
      "text/plain": [
       "{1, 2, 3, 4, 5, 6, 7, 8, 9}"
      ]
     },
     "execution_count": 86,
     "metadata": {},
     "output_type": "execute_result"
    }
   ],
   "source": [
    "set(s2)"
   ]
  },
  {
   "cell_type": "code",
   "execution_count": 87,
   "id": "a672653b-5a74-423e-a4f8-a9ad95b773a6",
   "metadata": {},
   "outputs": [],
   "source": [
    "s3={\"sarwar\",1,2,2,3,4,\"sarwar\"}"
   ]
  },
  {
   "cell_type": "code",
   "execution_count": 88,
   "id": "1f9fffac-c761-4145-98b2-e3eafc7b45a9",
   "metadata": {},
   "outputs": [
    {
     "data": {
      "text/plain": [
       "{1, 2, 3, 4, 'sarwar'}"
      ]
     },
     "execution_count": 88,
     "metadata": {},
     "output_type": "execute_result"
    }
   ],
   "source": [
    "s3"
   ]
  },
  {
   "cell_type": "code",
   "execution_count": 89,
   "id": "4444a375-14d9-4035-82b3-8fa822e60c8f",
   "metadata": {},
   "outputs": [],
   "source": [
    "s4 ={\"Sarwar\",1,2,2,3,4,\"sarwar\"}"
   ]
  },
  {
   "cell_type": "code",
   "execution_count": 91,
   "id": "9af7f639-3039-4a35-833f-446162159e5f",
   "metadata": {},
   "outputs": [
    {
     "data": {
      "text/plain": [
       "{1, 2, 3, 4, 'Sarwar', 'sarwar'}"
      ]
     },
     "execution_count": 91,
     "metadata": {},
     "output_type": "execute_result"
    }
   ],
   "source": [
    "s4"
   ]
  },
  {
   "cell_type": "code",
   "execution_count": 92,
   "id": "c024d26b-b148-4dd0-b3ce-b55b4cf7f8ad",
   "metadata": {},
   "outputs": [
    {
     "ename": "TypeError",
     "evalue": "'set' object is not subscriptable",
     "output_type": "error",
     "traceback": [
      "\u001b[1;31m---------------------------------------------------------------------------\u001b[0m",
      "\u001b[1;31mTypeError\u001b[0m                                 Traceback (most recent call last)",
      "\u001b[1;32m~\\AppData\\Local\\Temp\\ipykernel_7064\\3490946278.py\u001b[0m in \u001b[0;36m<module>\u001b[1;34m\u001b[0m\n\u001b[1;32m----> 1\u001b[1;33m \u001b[0ms4\u001b[0m\u001b[1;33m[\u001b[0m\u001b[1;36m4\u001b[0m\u001b[1;33m]\u001b[0m\u001b[1;33m\u001b[0m\u001b[1;33m\u001b[0m\u001b[0m\n\u001b[0m",
      "\u001b[1;31mTypeError\u001b[0m: 'set' object is not subscriptable"
     ]
    }
   ],
   "source": [
    "s4[4]"
   ]
  },
  {
   "cell_type": "code",
   "execution_count": 93,
   "id": "ac803d83-801b-4326-8699-6767220a7d06",
   "metadata": {},
   "outputs": [
    {
     "ename": "TypeError",
     "evalue": "'set' object is not subscriptable",
     "output_type": "error",
     "traceback": [
      "\u001b[1;31m---------------------------------------------------------------------------\u001b[0m",
      "\u001b[1;31mTypeError\u001b[0m                                 Traceback (most recent call last)",
      "\u001b[1;32m~\\AppData\\Local\\Temp\\ipykernel_7064\\1993483155.py\u001b[0m in \u001b[0;36m<module>\u001b[1;34m\u001b[0m\n\u001b[1;32m----> 1\u001b[1;33m \u001b[0ms4\u001b[0m\u001b[1;33m[\u001b[0m\u001b[1;33m:\u001b[0m\u001b[1;33m:\u001b[0m\u001b[1;33m-\u001b[0m\u001b[1;36m1\u001b[0m\u001b[1;33m]\u001b[0m\u001b[1;33m\u001b[0m\u001b[1;33m\u001b[0m\u001b[0m\n\u001b[0m",
      "\u001b[1;31mTypeError\u001b[0m: 'set' object is not subscriptable"
     ]
    }
   ],
   "source": [
    "s4[::-1]"
   ]
  },
  {
   "cell_type": "code",
   "execution_count": 94,
   "id": "e2d0a4e3-19b5-49ed-918f-d990a0262d51",
   "metadata": {},
   "outputs": [
    {
     "data": {
      "text/plain": [
       "list[{'sarwar', 1, 2, 3, 4, 'Sarwar'}]"
      ]
     },
     "execution_count": 94,
     "metadata": {},
     "output_type": "execute_result"
    }
   ],
   "source": [
    "list[s4]"
   ]
  },
  {
   "cell_type": "code",
   "execution_count": 97,
   "id": "a69735b9-372a-44b0-99f1-eece05f62029",
   "metadata": {},
   "outputs": [
    {
     "data": {
      "text/plain": [
       "{1, 2, 3, 4, 'Sarwar', 'sarwar'}"
      ]
     },
     "execution_count": 97,
     "metadata": {},
     "output_type": "execute_result"
    }
   ],
   "source": [
    "s4"
   ]
  },
  {
   "cell_type": "code",
   "execution_count": 98,
   "id": "7a6264e9-0d3e-4d46-a039-ea4f448695a3",
   "metadata": {},
   "outputs": [
    {
     "name": "stdout",
     "output_type": "stream",
     "text": [
      "sarwar\n",
      "1\n",
      "2\n",
      "3\n",
      "4\n",
      "Sarwar\n"
     ]
    }
   ],
   "source": [
    "for i in s4:\n",
    "    print(i)"
   ]
  },
  {
   "cell_type": "code",
   "execution_count": 99,
   "id": "00fc8fef-1bdf-4970-a701-d40f0d836d4b",
   "metadata": {},
   "outputs": [],
   "source": [
    "s4.add('md')"
   ]
  },
  {
   "cell_type": "code",
   "execution_count": 100,
   "id": "8f037dc5-9f90-44b4-9d2b-dd7a7ad5951e",
   "metadata": {},
   "outputs": [
    {
     "data": {
      "text/plain": [
       "{1, 2, 3, 4, 'Sarwar', 'md', 'sarwar'}"
      ]
     },
     "execution_count": 100,
     "metadata": {},
     "output_type": "execute_result"
    }
   ],
   "source": [
    "s4"
   ]
  },
  {
   "cell_type": "code",
   "execution_count": 101,
   "id": "ab46bbde-7ff8-410f-87d6-4518f00e44c7",
   "metadata": {},
   "outputs": [
    {
     "data": {
      "text/plain": [
       "7"
      ]
     },
     "execution_count": 101,
     "metadata": {},
     "output_type": "execute_result"
    }
   ],
   "source": [
    "len(s4)"
   ]
  },
  {
   "cell_type": "code",
   "execution_count": 102,
   "id": "ddbe5cb6-7c49-4ea9-8fba-27a251ce3506",
   "metadata": {},
   "outputs": [
    {
     "data": {
      "text/plain": [
       "'sarwar'"
      ]
     },
     "execution_count": 102,
     "metadata": {},
     "output_type": "execute_result"
    }
   ],
   "source": [
    "s4.pop()"
   ]
  },
  {
   "cell_type": "code",
   "execution_count": 103,
   "id": "6330ce02-ccd0-4566-9c49-81455c9e39a2",
   "metadata": {},
   "outputs": [
    {
     "data": {
      "text/plain": [
       "1"
      ]
     },
     "execution_count": 103,
     "metadata": {},
     "output_type": "execute_result"
    }
   ],
   "source": [
    "s4.pop()"
   ]
  },
  {
   "cell_type": "code",
   "execution_count": 104,
   "id": "179c70b9-dad8-488f-8585-733bb74f67de",
   "metadata": {},
   "outputs": [
    {
     "data": {
      "text/plain": [
       "2"
      ]
     },
     "execution_count": 104,
     "metadata": {},
     "output_type": "execute_result"
    }
   ],
   "source": [
    "s4.pop()"
   ]
  },
  {
   "cell_type": "code",
   "execution_count": 105,
   "id": "42e618a4-5edd-409f-b597-1bd7ab93b45d",
   "metadata": {},
   "outputs": [
    {
     "data": {
      "text/plain": [
       "{3, 4, 'Sarwar', 'md'}"
      ]
     },
     "execution_count": 105,
     "metadata": {},
     "output_type": "execute_result"
    }
   ],
   "source": [
    "s4"
   ]
  },
  {
   "cell_type": "code",
   "execution_count": 106,
   "id": "94efb950-e103-4867-919f-ad3aaf5718cd",
   "metadata": {},
   "outputs": [],
   "source": [
    "s4.clear()"
   ]
  },
  {
   "cell_type": "code",
   "execution_count": 107,
   "id": "e0c8dde4-e8e5-4900-b6f9-cb490b7f3919",
   "metadata": {},
   "outputs": [
    {
     "data": {
      "text/plain": [
       "set()"
      ]
     },
     "execution_count": 107,
     "metadata": {},
     "output_type": "execute_result"
    }
   ],
   "source": [
    "s4"
   ]
  },
  {
   "cell_type": "code",
   "execution_count": 108,
   "id": "798d816e-aeb3-4081-b9b1-e7f3827efa79",
   "metadata": {},
   "outputs": [],
   "source": [
    "s5={11,22,33,44,}\n",
    "s6={11,33,44,55}"
   ]
  },
  {
   "cell_type": "code",
   "execution_count": 109,
   "id": "0b83913a-d6c2-45c8-a0a9-3cc416f762b7",
   "metadata": {},
   "outputs": [
    {
     "data": {
      "text/plain": [
       "{22}"
      ]
     },
     "execution_count": 109,
     "metadata": {},
     "output_type": "execute_result"
    }
   ],
   "source": [
    "s5.difference(s6)"
   ]
  },
  {
   "cell_type": "code",
   "execution_count": 110,
   "id": "5bafd96a-b218-47aa-a18a-9f98f35b88a4",
   "metadata": {},
   "outputs": [
    {
     "data": {
      "text/plain": [
       "{55}"
      ]
     },
     "execution_count": 110,
     "metadata": {},
     "output_type": "execute_result"
    }
   ],
   "source": [
    "s6.difference(s5)"
   ]
  },
  {
   "cell_type": "markdown",
   "id": "5841aeee-06ec-4183-b1ee-c0d0119acd24",
   "metadata": {},
   "source": [
    "# Dictionary"
   ]
  },
  {
   "cell_type": "code",
   "execution_count": 111,
   "id": "4cf528f6-6c82-47a2-84e0-330a11ba3201",
   "metadata": {},
   "outputs": [],
   "source": [
    "d= {}\n"
   ]
  },
  {
   "cell_type": "code",
   "execution_count": 112,
   "id": "e6ef9f10-f3ad-4eac-8eed-ae57ef64e283",
   "metadata": {},
   "outputs": [
    {
     "data": {
      "text/plain": [
       "dict"
      ]
     },
     "execution_count": 112,
     "metadata": {},
     "output_type": "execute_result"
    }
   ],
   "source": [
    "type(d)"
   ]
  },
  {
   "cell_type": "code",
   "execution_count": 113,
   "id": "7835d61f-943a-465a-9fcc-e022bc52563c",
   "metadata": {},
   "outputs": [],
   "source": [
    "d1 ={\"name\": \"sarwar\",\"email_id\": \"md\",\"number\":12345}"
   ]
  },
  {
   "cell_type": "code",
   "execution_count": 114,
   "id": "d9804c67-7e91-4ea1-b79f-82edfe478ac3",
   "metadata": {},
   "outputs": [
    {
     "data": {
      "text/plain": [
       "dict"
      ]
     },
     "execution_count": 114,
     "metadata": {},
     "output_type": "execute_result"
    }
   ],
   "source": [
    "type(d1)"
   ]
  },
  {
   "cell_type": "code",
   "execution_count": 115,
   "id": "a54deda3-d63d-4f8e-8fe5-95ef047722e8",
   "metadata": {},
   "outputs": [
    {
     "data": {
      "text/plain": [
       "{'name': 'sarwar', 'email_id': 'md', 'number': 12345}"
      ]
     },
     "execution_count": 115,
     "metadata": {},
     "output_type": "execute_result"
    }
   ],
   "source": [
    "d1"
   ]
  },
  {
   "cell_type": "code",
   "execution_count": 123,
   "id": "eee12690-b668-4e4c-8535-372c899a5aff",
   "metadata": {},
   "outputs": [],
   "source": [
    "d2= {\"name\":\"sarwar\",\"name\":\"mdsarwar\"}"
   ]
  },
  {
   "cell_type": "code",
   "execution_count": 124,
   "id": "474753c8-d82a-4376-a1cd-c27953dacd80",
   "metadata": {},
   "outputs": [
    {
     "data": {
      "text/plain": [
       "{'name': 'mdsarwar'}"
      ]
     },
     "execution_count": 124,
     "metadata": {},
     "output_type": "execute_result"
    }
   ],
   "source": [
    "d2"
   ]
  },
  {
   "cell_type": "code",
   "execution_count": 125,
   "id": "27857405-a7a7-4864-90b6-d0a637ad52f9",
   "metadata": {},
   "outputs": [],
   "source": [
    "d3 ={12345:\"abc\"}"
   ]
  },
  {
   "cell_type": "code",
   "execution_count": 126,
   "id": "6cc7eb63-0ef0-40f4-bcc8-abf7a7edf7dd",
   "metadata": {},
   "outputs": [
    {
     "data": {
      "text/plain": [
       "{12345: 'abc'}"
      ]
     },
     "execution_count": 126,
     "metadata": {},
     "output_type": "execute_result"
    }
   ],
   "source": [
    "d3"
   ]
  },
  {
   "cell_type": "code",
   "execution_count": 127,
   "id": "02ac564c-8ae0-4886-b97f-c4d6deb420b7",
   "metadata": {},
   "outputs": [],
   "source": [
    "d4= {22.3:\"abc\"}"
   ]
  },
  {
   "cell_type": "code",
   "execution_count": 128,
   "id": "4d312f01-87ae-42ea-a400-a08d3370f6b4",
   "metadata": {},
   "outputs": [
    {
     "data": {
      "text/plain": [
       "{22.3: 'abc'}"
      ]
     },
     "execution_count": 128,
     "metadata": {},
     "output_type": "execute_result"
    }
   ],
   "source": [
    "d4\n"
   ]
  },
  {
   "cell_type": "code",
   "execution_count": 129,
   "id": "9d86628a-16cf-4dfb-9e7c-d194075434f2",
   "metadata": {},
   "outputs": [],
   "source": [
    "d5= {True:\"abc\"}"
   ]
  },
  {
   "cell_type": "code",
   "execution_count": 130,
   "id": "b637ca23-68c2-4313-a3df-2d4a9e6596b1",
   "metadata": {},
   "outputs": [
    {
     "data": {
      "text/plain": [
       "{True: 'abc'}"
      ]
     },
     "execution_count": 130,
     "metadata": {},
     "output_type": "execute_result"
    }
   ],
   "source": [
    "d5"
   ]
  },
  {
   "cell_type": "code",
   "execution_count": 131,
   "id": "27c1c91c-b995-4bb4-b08c-59547a2b3ebd",
   "metadata": {},
   "outputs": [
    {
     "ename": "SyntaxError",
     "evalue": "invalid syntax (3444128162.py, line 1)",
     "output_type": "error",
     "traceback": [
      "\u001b[1;36m  File \u001b[1;32m\"C:\\Users\\Mdgol\\AppData\\Local\\Temp\\ipykernel_7064\\3444128162.py\"\u001b[1;36m, line \u001b[1;32m1\u001b[0m\n\u001b[1;33m    d6={@:\"abc\"}\u001b[0m\n\u001b[1;37m        ^\u001b[0m\n\u001b[1;31mSyntaxError\u001b[0m\u001b[1;31m:\u001b[0m invalid syntax\n"
     ]
    }
   ],
   "source": [
    "d6={@:\"abc\"}"
   ]
  },
  {
   "cell_type": "code",
   "execution_count": 132,
   "id": "89f4923e-e4a3-4ac0-8f71-3d09fb3a126b",
   "metadata": {},
   "outputs": [
    {
     "ename": "TypeError",
     "evalue": "unhashable type: 'list'",
     "output_type": "error",
     "traceback": [
      "\u001b[1;31m---------------------------------------------------------------------------\u001b[0m",
      "\u001b[1;31mTypeError\u001b[0m                                 Traceback (most recent call last)",
      "\u001b[1;32m~\\AppData\\Local\\Temp\\ipykernel_7064\\3140433422.py\u001b[0m in \u001b[0;36m<module>\u001b[1;34m\u001b[0m\n\u001b[1;32m----> 1\u001b[1;33m \u001b[0md7\u001b[0m \u001b[1;33m=\u001b[0m\u001b[1;33m{\u001b[0m\u001b[1;33m[\u001b[0m\u001b[1;36m1\u001b[0m\u001b[1;33m,\u001b[0m\u001b[1;36m2\u001b[0m\u001b[1;33m,\u001b[0m\u001b[1;36m3\u001b[0m\u001b[1;33m,\u001b[0m\u001b[1;36m4\u001b[0m\u001b[1;33m]\u001b[0m\u001b[1;33m:\u001b[0m\u001b[1;34m\"abc\"\u001b[0m\u001b[1;33m}\u001b[0m\u001b[1;33m\u001b[0m\u001b[1;33m\u001b[0m\u001b[0m\n\u001b[0m",
      "\u001b[1;31mTypeError\u001b[0m: unhashable type: 'list'"
     ]
    }
   ],
   "source": [
    "d7 ={[1,2,3,4]:\"abc\"}"
   ]
  },
  {
   "cell_type": "code",
   "execution_count": 133,
   "id": "aa0c73f7-33f7-4122-b26f-9f94099a14e0",
   "metadata": {},
   "outputs": [],
   "source": [
    "d8 ={(1,2,3,):\"abc\"}"
   ]
  },
  {
   "cell_type": "code",
   "execution_count": 134,
   "id": "666aa423-4811-4e4a-afa6-5763d7220b80",
   "metadata": {},
   "outputs": [
    {
     "data": {
      "text/plain": [
       "{(1, 2, 3): 'abc'}"
      ]
     },
     "execution_count": 134,
     "metadata": {},
     "output_type": "execute_result"
    }
   ],
   "source": [
    "d8"
   ]
  },
  {
   "cell_type": "code",
   "execution_count": 135,
   "id": "f5c62785-ffc1-47cf-96ac-77c69e9c5948",
   "metadata": {},
   "outputs": [
    {
     "ename": "TypeError",
     "evalue": "unhashable type: 'set'",
     "output_type": "error",
     "traceback": [
      "\u001b[1;31m---------------------------------------------------------------------------\u001b[0m",
      "\u001b[1;31mTypeError\u001b[0m                                 Traceback (most recent call last)",
      "\u001b[1;32m~\\AppData\\Local\\Temp\\ipykernel_7064\\2189870629.py\u001b[0m in \u001b[0;36m<module>\u001b[1;34m\u001b[0m\n\u001b[1;32m----> 1\u001b[1;33m \u001b[0md9\u001b[0m \u001b[1;33m=\u001b[0m \u001b[1;33m{\u001b[0m\u001b[1;33m{\u001b[0m\u001b[1;36m1\u001b[0m\u001b[1;33m,\u001b[0m\u001b[1;36m2\u001b[0m\u001b[1;33m,\u001b[0m\u001b[1;36m3\u001b[0m\u001b[1;33m,\u001b[0m\u001b[1;36m4\u001b[0m\u001b[1;33m}\u001b[0m\u001b[1;33m:\u001b[0m\u001b[1;34m\"abc\"\u001b[0m\u001b[1;33m}\u001b[0m\u001b[1;33m\u001b[0m\u001b[1;33m\u001b[0m\u001b[0m\n\u001b[0m",
      "\u001b[1;31mTypeError\u001b[0m: unhashable type: 'set'"
     ]
    }
   ],
   "source": [
    "d9 = {{1,2,3,4}:\"abc\"}"
   ]
  },
  {
   "cell_type": "code",
   "execution_count": 136,
   "id": "30483cc0-1d26-4b05-9153-7df661450bb0",
   "metadata": {},
   "outputs": [],
   "source": [
    "d10={\"coures_name\":[\"data scince master\", \"web dev\",\"java with dsa and system Design\"]}"
   ]
  },
  {
   "cell_type": "code",
   "execution_count": 137,
   "id": "b612007a-f49b-43a7-b7ec-cc57822b69f4",
   "metadata": {},
   "outputs": [
    {
     "data": {
      "text/plain": [
       "{'coures_name': ['data scince master',\n",
       "  'web dev',\n",
       "  'java with dsa and system Design']}"
      ]
     },
     "execution_count": 137,
     "metadata": {},
     "output_type": "execute_result"
    }
   ],
   "source": [
    "d10"
   ]
  },
  {
   "cell_type": "code",
   "execution_count": 138,
   "id": "cf96203c-8568-40c5-a1cc-2270fc2022c2",
   "metadata": {},
   "outputs": [],
   "source": [
    "d11={\"key\": (1,2,3,4)}"
   ]
  },
  {
   "cell_type": "code",
   "execution_count": 139,
   "id": "710a4dd7-6f63-4850-9c26-d5531025f98e",
   "metadata": {},
   "outputs": [
    {
     "data": {
      "text/plain": [
       "{'key': (1, 2, 3, 4)}"
      ]
     },
     "execution_count": 139,
     "metadata": {},
     "output_type": "execute_result"
    }
   ],
   "source": [
    "d11"
   ]
  },
  {
   "cell_type": "code",
   "execution_count": 140,
   "id": "124b8dbd-8f58-4238-ba63-3b7e7e4e3df4",
   "metadata": {},
   "outputs": [],
   "source": [
    "d12 ={\"key\":{1,2,3,4,5}}"
   ]
  },
  {
   "cell_type": "code",
   "execution_count": 141,
   "id": "70da99ec-a84e-4d47-9f20-7c94bf530f3d",
   "metadata": {},
   "outputs": [
    {
     "data": {
      "text/plain": [
       "{'key': {1, 2, 3, 4, 5}}"
      ]
     },
     "execution_count": 141,
     "metadata": {},
     "output_type": "execute_result"
    }
   ],
   "source": [
    "d12"
   ]
  },
  {
   "cell_type": "code",
   "execution_count": 142,
   "id": "1dde7dd0-eadd-4fab-b71d-01a60a291918",
   "metadata": {},
   "outputs": [],
   "source": [
    "d13 ={\"key\": {\"name\":\"sarawar\",\"class\":\"dsa\"}}"
   ]
  },
  {
   "cell_type": "code",
   "execution_count": 148,
   "id": "e89c0b37-d758-4869-a6df-7aa7c413dab0",
   "metadata": {},
   "outputs": [
    {
     "data": {
      "text/plain": [
       "{'key': {'name': 'sarawar', 'class': 'dsa'}}"
      ]
     },
     "execution_count": 148,
     "metadata": {},
     "output_type": "execute_result"
    }
   ],
   "source": [
    "d13"
   ]
  },
  {
   "cell_type": "code",
   "execution_count": 149,
   "id": "61a84103-240a-49c8-a8fc-8fe39ab9127e",
   "metadata": {},
   "outputs": [],
   "source": [
    "d15= {\"batch_name\":[\"data scince master\",\"web dev\",\"jos\"], \"start_date\" :(22,12,14),\"mentor_name\" :{\"md\",\"sarwar\",\"golam\"}}"
   ]
  },
  {
   "cell_type": "code",
   "execution_count": 150,
   "id": "f104e695-06fe-41b5-952d-22daafdfa86e",
   "metadata": {},
   "outputs": [
    {
     "data": {
      "text/plain": [
       "{'batch_name': ['data scince master', 'web dev', 'jos'],\n",
       " 'start_date': (22, 12, 14),\n",
       " 'mentor_name': {'golam', 'md', 'sarwar'}}"
      ]
     },
     "execution_count": 150,
     "metadata": {},
     "output_type": "execute_result"
    }
   ],
   "source": [
    "d15"
   ]
  },
  {
   "cell_type": "code",
   "execution_count": 152,
   "id": "b58ed125-ecbe-45a4-af5c-0d876cc86c64",
   "metadata": {},
   "outputs": [],
   "source": [
    "d15[\"timing\"]=(7,8,9)"
   ]
  },
  {
   "cell_type": "code",
   "execution_count": 153,
   "id": "c37cab03-370e-43c0-8da1-ae7a4b33aac6",
   "metadata": {},
   "outputs": [
    {
     "data": {
      "text/plain": [
       "{'batch_name': ['data scince master', 'web dev', 'jos'],\n",
       " 'start_date': (22, 12, 14),\n",
       " 'mentor_name': {'golam', 'md', 'sarwar'},\n",
       " 'timing': (7, 8, 9)}"
      ]
     },
     "execution_count": 153,
     "metadata": {},
     "output_type": "execute_result"
    }
   ],
   "source": [
    "d15"
   ]
  },
  {
   "cell_type": "code",
   "execution_count": 166,
   "id": "377023a4-e978-4358-9abe-1586fadad3fb",
   "metadata": {},
   "outputs": [
    {
     "data": {
      "text/plain": [
       "(7, 8, 9)"
      ]
     },
     "execution_count": 166,
     "metadata": {},
     "output_type": "execute_result"
    }
   ],
   "source": [
    "d15[\"timing\"]"
   ]
  },
  {
   "cell_type": "code",
   "execution_count": null,
   "id": "7a38f3de-df70-4b10-b4cc-afb358431357",
   "metadata": {},
   "outputs": [],
   "source": []
  },
  {
   "cell_type": "code",
   "execution_count": 158,
   "id": "f2bc0f56-d479-4917-ba61-83aae859537c",
   "metadata": {},
   "outputs": [
    {
     "data": {
      "text/plain": [
       "list"
      ]
     },
     "execution_count": 158,
     "metadata": {},
     "output_type": "execute_result"
    }
   ],
   "source": [
    "type(d15['batch_name'])"
   ]
  },
  {
   "cell_type": "code",
   "execution_count": 161,
   "id": "4dd0d2ba-1763-4a15-a9c1-ddc34b6c5f86",
   "metadata": {},
   "outputs": [
    {
     "data": {
      "text/plain": [
       "['data scince master', 'web dev', 'jos']"
      ]
     },
     "execution_count": 161,
     "metadata": {},
     "output_type": "execute_result"
    }
   ],
   "source": [
    "d15['batch_name']"
   ]
  },
  {
   "cell_type": "code",
   "execution_count": 157,
   "id": "350a67f2-fc42-4599-8b5e-ae1600f64881",
   "metadata": {},
   "outputs": [
    {
     "data": {
      "text/plain": [
       "tuple"
      ]
     },
     "execution_count": 157,
     "metadata": {},
     "output_type": "execute_result"
    }
   ],
   "source": [
    "type(d15['start_date'])"
   ]
  },
  {
   "cell_type": "code",
   "execution_count": 162,
   "id": "86a423d5-8345-4b33-860e-641da0128745",
   "metadata": {},
   "outputs": [
    {
     "data": {
      "text/plain": [
       "(22, 12, 14)"
      ]
     },
     "execution_count": 162,
     "metadata": {},
     "output_type": "execute_result"
    }
   ],
   "source": [
    "d15['start_date']"
   ]
  },
  {
   "cell_type": "code",
   "execution_count": 160,
   "id": "28131360-2441-4556-ad27-3698e04fc9ce",
   "metadata": {},
   "outputs": [
    {
     "data": {
      "text/plain": [
       "set"
      ]
     },
     "execution_count": 160,
     "metadata": {},
     "output_type": "execute_result"
    }
   ],
   "source": [
    "type(d15['mentor_name'])"
   ]
  },
  {
   "cell_type": "code",
   "execution_count": 163,
   "id": "942942e8-2281-4a4b-921f-eabc6f3f4622",
   "metadata": {},
   "outputs": [
    {
     "data": {
      "text/plain": [
       "{'golam', 'md', 'sarwar'}"
      ]
     },
     "execution_count": 163,
     "metadata": {},
     "output_type": "execute_result"
    }
   ],
   "source": [
    "d15['mentor_name']"
   ]
  },
  {
   "cell_type": "code",
   "execution_count": 164,
   "id": "9819e4d5-b79a-4d3c-b6be-3c974ea3806c",
   "metadata": {},
   "outputs": [],
   "source": [
    "d15[\"name\"]=\"md golam sarwar\"\n"
   ]
  },
  {
   "cell_type": "code",
   "execution_count": 165,
   "id": "c92d6d11-f425-40ba-b21d-591746a83926",
   "metadata": {},
   "outputs": [
    {
     "data": {
      "text/plain": [
       "{'batch_name': ['data scince master', 'web dev', 'jos'],\n",
       " 'start_date': (22, 12, 14),\n",
       " 'mentor_name': {'golam', 'md', 'sarwar'},\n",
       " 'timing': (7, 8, 9),\n",
       " 'name': 'md golam sarwar'}"
      ]
     },
     "execution_count": 165,
     "metadata": {},
     "output_type": "execute_result"
    }
   ],
   "source": [
    "d15"
   ]
  },
  {
   "cell_type": "code",
   "execution_count": 167,
   "id": "bf5fd6b5-81e6-498b-899d-c92ccee4af5a",
   "metadata": {},
   "outputs": [
    {
     "data": {
      "text/plain": [
       "(7, 8, 9)"
      ]
     },
     "execution_count": 167,
     "metadata": {},
     "output_type": "execute_result"
    }
   ],
   "source": [
    "d15[\"timing\"]"
   ]
  },
  {
   "cell_type": "code",
   "execution_count": 168,
   "id": "af38ca2a-3b54-4f95-9cde-fa733eebbd4a",
   "metadata": {},
   "outputs": [
    {
     "data": {
      "text/plain": [
       "tuple"
      ]
     },
     "execution_count": 168,
     "metadata": {},
     "output_type": "execute_result"
    }
   ],
   "source": [
    "type(d15[\"timing\"])"
   ]
  },
  {
   "cell_type": "code",
   "execution_count": 169,
   "id": "c5a2aa1e-6e20-4bad-885b-cc315408e1ad",
   "metadata": {},
   "outputs": [
    {
     "data": {
      "text/plain": [
       "'MD GOLAM SARWAR'"
      ]
     },
     "execution_count": 169,
     "metadata": {},
     "output_type": "execute_result"
    }
   ],
   "source": [
    "d15[\"name\"].upper()\n"
   ]
  },
  {
   "cell_type": "code",
   "execution_count": 170,
   "id": "3a6b0ad1-ec0c-4c05-9a13-fe61cc808148",
   "metadata": {},
   "outputs": [
    {
     "data": {
      "text/plain": [
       "{'batch_name': ['data scince master', 'web dev', 'jos'],\n",
       " 'start_date': (22, 12, 14),\n",
       " 'mentor_name': {'golam', 'md', 'sarwar'},\n",
       " 'timing': (7, 8, 9),\n",
       " 'name': 'md golam sarwar'}"
      ]
     },
     "execution_count": 170,
     "metadata": {},
     "output_type": "execute_result"
    }
   ],
   "source": [
    "d15"
   ]
  },
  {
   "cell_type": "code",
   "execution_count": 172,
   "id": "98b6ae51-03e4-40e8-9cf6-cae57e0700b8",
   "metadata": {},
   "outputs": [
    {
     "data": {
      "text/plain": [
       "{'key': {'name': 'sarawar', 'class': 'dsa'}}"
      ]
     },
     "execution_count": 172,
     "metadata": {},
     "output_type": "execute_result"
    }
   ],
   "source": [
    "d13"
   ]
  },
  {
   "cell_type": "code",
   "execution_count": 173,
   "id": "809441e7-011c-4fe5-811d-41eea00e22cb",
   "metadata": {},
   "outputs": [
    {
     "data": {
      "text/plain": [
       "{'name': 'sarawar', 'class': 'dsa'}"
      ]
     },
     "execution_count": 173,
     "metadata": {},
     "output_type": "execute_result"
    }
   ],
   "source": [
    "d13[\"key\"]"
   ]
  },
  {
   "cell_type": "code",
   "execution_count": 174,
   "id": "1b189600-da7d-4836-9ea1-e6693a061a25",
   "metadata": {},
   "outputs": [
    {
     "data": {
      "text/plain": [
       "dict"
      ]
     },
     "execution_count": 174,
     "metadata": {},
     "output_type": "execute_result"
    }
   ],
   "source": [
    "type(d13[\"key\"])"
   ]
  },
  {
   "cell_type": "code",
   "execution_count": 175,
   "id": "c1b91bd5-fb66-4800-9fdb-1578c5c72cb8",
   "metadata": {},
   "outputs": [
    {
     "data": {
      "text/plain": [
       "{'batch_name': ['data scince master', 'web dev', 'jos'],\n",
       " 'start_date': (22, 12, 14),\n",
       " 'mentor_name': {'golam', 'md', 'sarwar'},\n",
       " 'timing': (7, 8, 9),\n",
       " 'name': 'md golam sarwar'}"
      ]
     },
     "execution_count": 175,
     "metadata": {},
     "output_type": "execute_result"
    }
   ],
   "source": [
    "d15\n"
   ]
  },
  {
   "cell_type": "code",
   "execution_count": 176,
   "id": "2afa044c-4f34-43e6-9f3c-ae57555ac973",
   "metadata": {},
   "outputs": [],
   "source": [
    "d15[\"key1\"]=\"abc\""
   ]
  },
  {
   "cell_type": "code",
   "execution_count": null,
   "id": "daa6d24f-d0b3-4052-b6b7-226bdc1fa08d",
   "metadata": {},
   "outputs": [],
   "source": []
  },
  {
   "cell_type": "code",
   "execution_count": 177,
   "id": "f5645dd9-9059-4352-8b9e-116f5220bb75",
   "metadata": {},
   "outputs": [
    {
     "data": {
      "text/plain": [
       "{'batch_name': ['data scince master', 'web dev', 'jos'],\n",
       " 'start_date': (22, 12, 14),\n",
       " 'mentor_name': {'golam', 'md', 'sarwar'},\n",
       " 'timing': (7, 8, 9),\n",
       " 'name': 'md golam sarwar',\n",
       " 'key1': 'abc'}"
      ]
     },
     "execution_count": 177,
     "metadata": {},
     "output_type": "execute_result"
    }
   ],
   "source": [
    "d15"
   ]
  },
  {
   "cell_type": "code",
   "execution_count": 179,
   "id": "b06fc253-e3d1-4b6a-8561-e4a0c0b43459",
   "metadata": {},
   "outputs": [],
   "source": [
    "del d15[\"key1\"]"
   ]
  },
  {
   "cell_type": "code",
   "execution_count": 180,
   "id": "a6198403-d23d-4e30-8256-847ff04c681e",
   "metadata": {},
   "outputs": [
    {
     "data": {
      "text/plain": [
       "{'batch_name': ['data scince master', 'web dev', 'jos'],\n",
       " 'start_date': (22, 12, 14),\n",
       " 'mentor_name': {'golam', 'md', 'sarwar'},\n",
       " 'timing': (7, 8, 9),\n",
       " 'name': 'md golam sarwar'}"
      ]
     },
     "execution_count": 180,
     "metadata": {},
     "output_type": "execute_result"
    }
   ],
   "source": [
    "d15\n"
   ]
  },
  {
   "cell_type": "code",
   "execution_count": 181,
   "id": "2c08ce11-ecce-4759-89ab-efb5f36bdc86",
   "metadata": {},
   "outputs": [
    {
     "data": {
      "text/plain": [
       "dict_keys(['batch_name', 'start_date', 'mentor_name', 'timing', 'name'])"
      ]
     },
     "execution_count": 181,
     "metadata": {},
     "output_type": "execute_result"
    }
   ],
   "source": [
    "d15.keys()"
   ]
  },
  {
   "cell_type": "code",
   "execution_count": 182,
   "id": "3d670772-6b8c-47b6-a752-4c06c7b3abf9",
   "metadata": {},
   "outputs": [
    {
     "data": {
      "text/plain": [
       "dict_values([['data scince master', 'web dev', 'jos'], (22, 12, 14), {'md', 'golam', 'sarwar'}, (7, 8, 9), 'md golam sarwar'])"
      ]
     },
     "execution_count": 182,
     "metadata": {},
     "output_type": "execute_result"
    }
   ],
   "source": [
    "d15.values()"
   ]
  },
  {
   "cell_type": "code",
   "execution_count": 184,
   "id": "902d3be9-e832-4596-b364-71740280e176",
   "metadata": {},
   "outputs": [
    {
     "data": {
      "text/plain": [
       "5"
      ]
     },
     "execution_count": 184,
     "metadata": {},
     "output_type": "execute_result"
    }
   ],
   "source": [
    "len(d15)"
   ]
  },
  {
   "cell_type": "code",
   "execution_count": 187,
   "id": "d8c25bc7-20e7-4333-8cee-0520388861a5",
   "metadata": {},
   "outputs": [
    {
     "data": {
      "text/plain": [
       "{'batch_name': ['data scince master', 'web dev', 'jos'],\n",
       " 'start_date': (22, 12, 14),\n",
       " 'mentor_name': {'golam', 'md', 'sarwar'},\n",
       " 'timing': (7, 8, 9),\n",
       " 'name': 'md golam sarwar'}"
      ]
     },
     "execution_count": 187,
     "metadata": {},
     "output_type": "execute_result"
    }
   ],
   "source": [
    "d15"
   ]
  },
  {
   "cell_type": "code",
   "execution_count": 188,
   "id": "3c9b59dc-1a8a-4365-b55d-0982e56537fc",
   "metadata": {},
   "outputs": [
    {
     "data": {
      "text/plain": [
       "dict_values([['data scince master', 'web dev', 'jos'], (22, 12, 14), {'md', 'golam', 'sarwar'}, (7, 8, 9), 'md golam sarwar'])"
      ]
     },
     "execution_count": 188,
     "metadata": {},
     "output_type": "execute_result"
    }
   ],
   "source": [
    "d15.values()"
   ]
  },
  {
   "cell_type": "code",
   "execution_count": 190,
   "id": "ff35bdcf-7236-4ea8-9e4f-0dddf1136dc1",
   "metadata": {},
   "outputs": [
    {
     "data": {
      "text/plain": [
       "[['data scince master', 'web dev', 'jos'],\n",
       " (22, 12, 14),\n",
       " {'golam', 'md', 'sarwar'},\n",
       " (7, 8, 9),\n",
       " 'md golam sarwar']"
      ]
     },
     "execution_count": 190,
     "metadata": {},
     "output_type": "execute_result"
    }
   ],
   "source": [
    "list (d15.values())"
   ]
  },
  {
   "cell_type": "code",
   "execution_count": 196,
   "id": "3891cc62-851c-4ac7-8722-ac8aceaa0b33",
   "metadata": {},
   "outputs": [
    {
     "data": {
      "text/plain": [
       "[('batch_name', ['data scince master', 'web dev', 'jos']),\n",
       " ('start_date', (22, 12, 14)),\n",
       " ('mentor_name', {'golam', 'md', 'sarwar'}),\n",
       " ('timing', (7, 8, 9)),\n",
       " ('name', 'md golam sarwar')]"
      ]
     },
     "execution_count": 196,
     "metadata": {},
     "output_type": "execute_result"
    }
   ],
   "source": [
    "list(d15.items())"
   ]
  },
  {
   "cell_type": "code",
   "execution_count": 197,
   "id": "8bdff36c-628d-4bfd-91ec-05a5b36989af",
   "metadata": {},
   "outputs": [],
   "source": [
    "d16=d15.copy()"
   ]
  },
  {
   "cell_type": "code",
   "execution_count": 198,
   "id": "e4166d83-3b54-486c-8e44-cd16b7104a9c",
   "metadata": {},
   "outputs": [
    {
     "data": {
      "text/plain": [
       "{'batch_name': ['data scince master', 'web dev', 'jos'],\n",
       " 'start_date': (22, 12, 14),\n",
       " 'mentor_name': {'golam', 'md', 'sarwar'},\n",
       " 'timing': (7, 8, 9),\n",
       " 'name': 'md golam sarwar'}"
      ]
     },
     "execution_count": 198,
     "metadata": {},
     "output_type": "execute_result"
    }
   ],
   "source": [
    "d16"
   ]
  },
  {
   "cell_type": "code",
   "execution_count": 199,
   "id": "8c54857c-bd5f-4db8-abfb-03562838d4e5",
   "metadata": {},
   "outputs": [],
   "source": [
    "del d15[\"name\"]"
   ]
  },
  {
   "cell_type": "code",
   "execution_count": 200,
   "id": "e5451492-4ccc-452b-8d10-7d51e492581a",
   "metadata": {},
   "outputs": [
    {
     "data": {
      "text/plain": [
       "{'batch_name': ['data scince master', 'web dev', 'jos'],\n",
       " 'start_date': (22, 12, 14),\n",
       " 'mentor_name': {'golam', 'md', 'sarwar'},\n",
       " 'timing': (7, 8, 9)}"
      ]
     },
     "execution_count": 200,
     "metadata": {},
     "output_type": "execute_result"
    }
   ],
   "source": [
    "d15"
   ]
  },
  {
   "cell_type": "code",
   "execution_count": 201,
   "id": "c04de935-4ce4-471d-a0a8-ff0c882700b6",
   "metadata": {},
   "outputs": [
    {
     "data": {
      "text/plain": [
       "{'batch_name': ['data scince master', 'web dev', 'jos'],\n",
       " 'start_date': (22, 12, 14),\n",
       " 'mentor_name': {'golam', 'md', 'sarwar'},\n",
       " 'timing': (7, 8, 9),\n",
       " 'name': 'md golam sarwar'}"
      ]
     },
     "execution_count": 201,
     "metadata": {},
     "output_type": "execute_result"
    }
   ],
   "source": [
    "d16"
   ]
  },
  {
   "cell_type": "code",
   "execution_count": 202,
   "id": "92511e65-bc5d-46c3-8789-6488e759426b",
   "metadata": {},
   "outputs": [],
   "source": [
    "d17=d16"
   ]
  },
  {
   "cell_type": "code",
   "execution_count": 203,
   "id": "d8609783-40b7-4202-a777-33c2d7c75045",
   "metadata": {},
   "outputs": [
    {
     "data": {
      "text/plain": [
       "{'batch_name': ['data scince master', 'web dev', 'jos'],\n",
       " 'start_date': (22, 12, 14),\n",
       " 'mentor_name': {'golam', 'md', 'sarwar'},\n",
       " 'timing': (7, 8, 9),\n",
       " 'name': 'md golam sarwar'}"
      ]
     },
     "execution_count": 203,
     "metadata": {},
     "output_type": "execute_result"
    }
   ],
   "source": [
    "d17"
   ]
  },
  {
   "cell_type": "code",
   "execution_count": 204,
   "id": "47a357fb-f4ea-40b0-a1d5-129f195ae4b8",
   "metadata": {},
   "outputs": [],
   "source": [
    " del d16[\"name\"]"
   ]
  },
  {
   "cell_type": "code",
   "execution_count": 205,
   "id": "62c7c511-19e3-42f5-9e5c-219874c0fa6c",
   "metadata": {},
   "outputs": [
    {
     "data": {
      "text/plain": [
       "{'batch_name': ['data scince master', 'web dev', 'jos'],\n",
       " 'start_date': (22, 12, 14),\n",
       " 'mentor_name': {'golam', 'md', 'sarwar'},\n",
       " 'timing': (7, 8, 9)}"
      ]
     },
     "execution_count": 205,
     "metadata": {},
     "output_type": "execute_result"
    }
   ],
   "source": [
    "d16"
   ]
  },
  {
   "cell_type": "code",
   "execution_count": 206,
   "id": "8c2dd415-7457-4d96-8f35-72244619d9ef",
   "metadata": {},
   "outputs": [
    {
     "data": {
      "text/plain": [
       "{'batch_name': ['data scince master', 'web dev', 'jos'],\n",
       " 'start_date': (22, 12, 14),\n",
       " 'mentor_name': {'golam', 'md', 'sarwar'},\n",
       " 'timing': (7, 8, 9)}"
      ]
     },
     "execution_count": 206,
     "metadata": {},
     "output_type": "execute_result"
    }
   ],
   "source": [
    "d17"
   ]
  },
  {
   "cell_type": "code",
   "execution_count": 207,
   "id": "345564b7-8475-479d-9d4f-f94d84557ac5",
   "metadata": {},
   "outputs": [],
   "source": [
    "d16[\"name\"]= \"md golam sarwar\""
   ]
  },
  {
   "cell_type": "code",
   "execution_count": 208,
   "id": "cc46ed07-8d3f-4133-973d-8a5f6def11f6",
   "metadata": {},
   "outputs": [
    {
     "data": {
      "text/plain": [
       "{'batch_name': ['data scince master', 'web dev', 'jos'],\n",
       " 'start_date': (22, 12, 14),\n",
       " 'mentor_name': {'golam', 'md', 'sarwar'},\n",
       " 'timing': (7, 8, 9),\n",
       " 'name': 'md golam sarwar'}"
      ]
     },
     "execution_count": 208,
     "metadata": {},
     "output_type": "execute_result"
    }
   ],
   "source": [
    "d16"
   ]
  },
  {
   "cell_type": "code",
   "execution_count": 211,
   "id": "417145f0-f030-426a-97ea-3ef3de74dd05",
   "metadata": {},
   "outputs": [
    {
     "data": {
      "text/plain": [
       "'MD GOLAM SARWAR'"
      ]
     },
     "execution_count": 211,
     "metadata": {},
     "output_type": "execute_result"
    }
   ],
   "source": [
    "d16[\"name\"].upper()"
   ]
  },
  {
   "cell_type": "code",
   "execution_count": 221,
   "id": "aef651f4-3e9c-4882-a21f-b5421df381b9",
   "metadata": {},
   "outputs": [
    {
     "data": {
      "text/plain": [
       "2752205438912"
      ]
     },
     "execution_count": 221,
     "metadata": {},
     "output_type": "execute_result"
    }
   ],
   "source": [
    "id(d16)\n"
   ]
  },
  {
   "cell_type": "code",
   "execution_count": 222,
   "id": "f4dab524-ae35-4434-a0cf-99ac2312b850",
   "metadata": {},
   "outputs": [
    {
     "data": {
      "text/plain": [
       "2752205438912"
      ]
     },
     "execution_count": 222,
     "metadata": {},
     "output_type": "execute_result"
    }
   ],
   "source": [
    "id(d17)"
   ]
  },
  {
   "cell_type": "code",
   "execution_count": 223,
   "id": "5791886a-c419-4c0a-9322-0144c8318f16",
   "metadata": {},
   "outputs": [
    {
     "data": {
      "text/plain": [
       "2752204545536"
      ]
     },
     "execution_count": 223,
     "metadata": {},
     "output_type": "execute_result"
    }
   ],
   "source": [
    "id(d15)"
   ]
  },
  {
   "cell_type": "code",
   "execution_count": 224,
   "id": "30b7cdee-8790-45fa-9134-ddb66bc2f491",
   "metadata": {},
   "outputs": [
    {
     "data": {
      "text/plain": [
       "2752204663360"
      ]
     },
     "execution_count": 224,
     "metadata": {},
     "output_type": "execute_result"
    }
   ],
   "source": [
    "id(d13)"
   ]
  },
  {
   "cell_type": "code",
   "execution_count": 225,
   "id": "aec751cd-b035-468c-b5d9-3b290660ec00",
   "metadata": {},
   "outputs": [
    {
     "data": {
      "text/plain": [
       "2752204341440"
      ]
     },
     "execution_count": 225,
     "metadata": {},
     "output_type": "execute_result"
    }
   ],
   "source": [
    "id(d12)"
   ]
  },
  {
   "cell_type": "code",
   "execution_count": 226,
   "id": "d0a8c6c3-24b6-469c-a1c7-20be5dca3ec1",
   "metadata": {},
   "outputs": [
    {
     "data": {
      "text/plain": [
       "{'batch_name': ['data scince master', 'web dev', 'jos'],\n",
       " 'start_date': (22, 12, 14),\n",
       " 'mentor_name': {'golam', 'md', 'sarwar'},\n",
       " 'timing': (7, 8, 9),\n",
       " 'name': 'md golam sarwar'}"
      ]
     },
     "execution_count": 226,
     "metadata": {},
     "output_type": "execute_result"
    }
   ],
   "source": [
    "d17"
   ]
  },
  {
   "cell_type": "code",
   "execution_count": 227,
   "id": "7905e1eb-838e-4697-9a52-750bf05248f7",
   "metadata": {},
   "outputs": [
    {
     "data": {
      "text/plain": [
       "(7, 8, 9)"
      ]
     },
     "execution_count": 227,
     "metadata": {},
     "output_type": "execute_result"
    }
   ],
   "source": [
    "d17.pop('timing')"
   ]
  },
  {
   "cell_type": "code",
   "execution_count": 228,
   "id": "e1a4d299-1698-405d-a56c-d4c311673861",
   "metadata": {},
   "outputs": [
    {
     "data": {
      "text/plain": [
       "{'batch_name': ['data scince master', 'web dev', 'jos'],\n",
       " 'start_date': (22, 12, 14),\n",
       " 'mentor_name': {'golam', 'md', 'sarwar'},\n",
       " 'name': 'md golam sarwar'}"
      ]
     },
     "execution_count": 228,
     "metadata": {},
     "output_type": "execute_result"
    }
   ],
   "source": [
    "d17"
   ]
  },
  {
   "cell_type": "code",
   "execution_count": 230,
   "id": "a1d83426-f550-494c-a071-28c0c4ed59ff",
   "metadata": {},
   "outputs": [],
   "source": [
    "d17[\"Timing\"]=(12,25,26)\n",
    "    "
   ]
  },
  {
   "cell_type": "code",
   "execution_count": 231,
   "id": "ec218990-1b93-4777-acfd-2019011ebc41",
   "metadata": {},
   "outputs": [
    {
     "data": {
      "text/plain": [
       "{'batch_name': ['data scince master', 'web dev', 'jos'],\n",
       " 'start_date': (22, 12, 14),\n",
       " 'mentor_name': {'golam', 'md', 'sarwar'},\n",
       " 'name': 'md golam sarwar',\n",
       " 'Timing': (12, 25, 26)}"
      ]
     },
     "execution_count": 231,
     "metadata": {},
     "output_type": "execute_result"
    }
   ],
   "source": [
    "d17"
   ]
  },
  {
   "cell_type": "code",
   "execution_count": 232,
   "id": "aadf345b-915e-47ed-8af0-c5946af784cb",
   "metadata": {},
   "outputs": [
    {
     "data": {
      "text/plain": [
       "{'batch_name': ['data scince master', 'web dev', 'jos'],\n",
       " 'start_date': (22, 12, 14),\n",
       " 'mentor_name': {'golam', 'md', 'sarwar'},\n",
       " 'name': 'md golam sarwar',\n",
       " 'Timing': (12, 25, 26)}"
      ]
     },
     "execution_count": 232,
     "metadata": {},
     "output_type": "execute_result"
    }
   ],
   "source": [
    "d16"
   ]
  },
  {
   "cell_type": "code",
   "execution_count": null,
   "id": "d15ec94b-6aa9-4ef9-9fe5-36425392f063",
   "metadata": {},
   "outputs": [],
   "source": []
  },
  {
   "cell_type": "code",
   "execution_count": 238,
   "id": "bed43837-a4c5-45dd-8a02-6111072d160b",
   "metadata": {},
   "outputs": [
    {
     "data": {
      "text/plain": [
       "{1: ('a', 'b', 'c', 'd'),\n",
       " 2: ('a', 'b', 'c', 'd'),\n",
       " 3: ('a', 'b', 'c', 'd'),\n",
       " 4: ('a', 'b', 'c', 'd')}"
      ]
     },
     "execution_count": 238,
     "metadata": {},
     "output_type": "execute_result"
    }
   ],
   "source": [
    "d.fromkeys((1,2,3,4,),('a','b','c','d'))"
   ]
  },
  {
   "cell_type": "code",
   "execution_count": null,
   "id": "6a8491a7-6301-42c2-97c0-6b648bc2c4d2",
   "metadata": {},
   "outputs": [],
   "source": []
  },
  {
   "cell_type": "code",
   "execution_count": 239,
   "id": "975eaef7-ebbb-40a9-b0ba-2ac27006364c",
   "metadata": {},
   "outputs": [],
   "source": [
    "d18 ={'key1':'value','key2':'value2'}\n",
    "d19 ={'key3':'value3','key4':'value5'}"
   ]
  },
  {
   "cell_type": "code",
   "execution_count": 241,
   "id": "d0be18d1-d447-4e51-ba45-8f5222cbca78",
   "metadata": {},
   "outputs": [
    {
     "data": {
      "text/plain": [
       "({'key1': 'value', 'key2': 'value2'},\n",
       " {'key3': 'value3', 'key4': 'value5'},\n",
       " {'key1': 'value', 'key2': 'value2'},\n",
       " {'key3': 'value3', 'key4': 'value5'})"
      ]
     },
     "execution_count": 241,
     "metadata": {},
     "output_type": "execute_result"
    }
   ],
   "source": [
    "(d18,d19)*2"
   ]
  },
  {
   "cell_type": "code",
   "execution_count": 242,
   "id": "4df2a0c2-fad4-48c0-8fec-f75e4d2ca5d5",
   "metadata": {},
   "outputs": [],
   "source": [
    "d18.update(d19)"
   ]
  },
  {
   "cell_type": "code",
   "execution_count": 244,
   "id": "0646b39d-b03f-4b69-ad8e-829c1c441607",
   "metadata": {},
   "outputs": [
    {
     "data": {
      "text/plain": [
       "{'key1': 'value', 'key2': 'value2', 'key3': 'value3', 'key4': 'value5'}"
      ]
     },
     "execution_count": 244,
     "metadata": {},
     "output_type": "execute_result"
    }
   ],
   "source": [
    "d18"
   ]
  },
  {
   "cell_type": "code",
   "execution_count": 245,
   "id": "6f590895-9a72-4dc1-9edb-35456e5d764a",
   "metadata": {},
   "outputs": [
    {
     "data": {
      "text/plain": [
       "{'key3': 'value3', 'key4': 'value5'}"
      ]
     },
     "execution_count": 245,
     "metadata": {},
     "output_type": "execute_result"
    }
   ],
   "source": [
    "d19"
   ]
  },
  {
   "cell_type": "code",
   "execution_count": 246,
   "id": "e85184d0-4f24-4e17-b029-8219b8f69539",
   "metadata": {},
   "outputs": [],
   "source": [
    "d19.update(d18)"
   ]
  },
  {
   "cell_type": "code",
   "execution_count": 247,
   "id": "11d9c9be-762b-4663-bc30-cf8fa67e4741",
   "metadata": {},
   "outputs": [
    {
     "data": {
      "text/plain": [
       "{'key3': 'value3', 'key4': 'value5', 'key1': 'value', 'key2': 'value2'}"
      ]
     },
     "execution_count": 247,
     "metadata": {},
     "output_type": "execute_result"
    }
   ],
   "source": [
    "d19"
   ]
  },
  {
   "cell_type": "code",
   "execution_count": 248,
   "id": "4709a2be-64dd-436c-ac29-58326fa4843c",
   "metadata": {},
   "outputs": [
    {
     "data": {
      "text/plain": [
       "'value5'"
      ]
     },
     "execution_count": 248,
     "metadata": {},
     "output_type": "execute_result"
    }
   ],
   "source": [
    "d19.get('key4')"
   ]
  },
  {
   "cell_type": "code",
   "execution_count": 250,
   "id": "d1e3a66b-7296-403a-a8cf-0fc10e05e343",
   "metadata": {},
   "outputs": [
    {
     "data": {
      "text/plain": [
       "'value5'"
      ]
     },
     "execution_count": 250,
     "metadata": {},
     "output_type": "execute_result"
    }
   ],
   "source": [
    "d19['key4']"
   ]
  },
  {
   "cell_type": "code",
   "execution_count": null,
   "id": "82b9d58c-f7f7-4e5e-aa72-ad203ef58780",
   "metadata": {},
   "outputs": [],
   "source": []
  },
  {
   "cell_type": "markdown",
   "id": "9c2846fc-c923-41b9-b444-e27244234714",
   "metadata": {},
   "source": [
    "## Dictionary Comprehensions"
   ]
  },
  {
   "cell_type": "code",
   "execution_count": 251,
   "id": "0f5c204a-7bb2-43c2-87fa-61a78fae0c21",
   "metadata": {},
   "outputs": [
    {
     "data": {
      "text/plain": [
       "{1: 1, 2: 4, 3: 9, 4: 16, 5: 25, 6: 36, 7: 49, 8: 64, 9: 81, 10: 100}"
      ]
     },
     "execution_count": 251,
     "metadata": {},
     "output_type": "execute_result"
    }
   ],
   "source": [
    "{i:i**2 for i in range (1,11)}"
   ]
  },
  {
   "cell_type": "code",
   "execution_count": null,
   "id": "a29418a4-c2e0-4258-9e5e-a7fd80eca778",
   "metadata": {},
   "outputs": [],
   "source": []
  },
  {
   "cell_type": "code",
   "execution_count": 259,
   "id": "408bd466-68a0-46cb-b970-3f670192888c",
   "metadata": {},
   "outputs": [
    {
     "data": {
      "text/plain": [
       "{1: -1,\n",
       " 2: 0,\n",
       " 3: 1,\n",
       " 4: 2,\n",
       " 5: 3,\n",
       " 6: 4,\n",
       " 7: 5,\n",
       " 8: 6,\n",
       " 9: 7,\n",
       " 10: 8,\n",
       " 11: 9,\n",
       " 12: 10,\n",
       " 13: 11,\n",
       " 14: 12,\n",
       " 15: 13,\n",
       " 16: 14,\n",
       " 17: 15,\n",
       " 18: 16,\n",
       " 19: 17}"
      ]
     },
     "execution_count": 259,
     "metadata": {},
     "output_type": "execute_result"
    }
   ],
   "source": [
    "{i:i-2 for i in  range (1,20,)}"
   ]
  },
  {
   "cell_type": "code",
   "execution_count": 267,
   "id": "f6f773a1-acd8-470a-8d42-c933e460ee5c",
   "metadata": {},
   "outputs": [],
   "source": [
    " import math\n",
    "d13={i:math.log10(i) for i in range (1,10)}"
   ]
  },
  {
   "cell_type": "code",
   "execution_count": null,
   "id": "0c8f2d3d-2b3b-41f3-b6d0-40bfe54e2d7b",
   "metadata": {},
   "outputs": [],
   "source": []
  },
  {
   "cell_type": "code",
   "execution_count": null,
   "id": "7cf736b3-250b-4f6f-92a5-e95aff13494d",
   "metadata": {},
   "outputs": [],
   "source": []
  },
  {
   "cell_type": "code",
   "execution_count": 264,
   "id": "67da341b-812a-4a5c-9f38-822ac1c01fd0",
   "metadata": {},
   "outputs": [
    {
     "data": {
      "text/plain": [
       "{'key': {'name': 'sarawar', 'class': 'dsa'}}"
      ]
     },
     "execution_count": 264,
     "metadata": {},
     "output_type": "execute_result"
    }
   ],
   "source": [
    "d13"
   ]
  },
  {
   "cell_type": "code",
   "execution_count": 266,
   "id": "b349f0bd-1cbf-4090-8cac-fde2a1213944",
   "metadata": {},
   "outputs": [
    {
     "data": {
      "text/plain": [
       "True"
      ]
     },
     "execution_count": 266,
     "metadata": {},
     "output_type": "execute_result"
    }
   ],
   "source": [
    "'key' in d13"
   ]
  },
  {
   "cell_type": "code",
   "execution_count": 268,
   "id": "522e2f2c-e8f5-4e0e-8376-ad9499b01e17",
   "metadata": {},
   "outputs": [
    {
     "data": {
      "text/plain": [
       "{1: 0.0,\n",
       " 2: 0.3010299956639812,\n",
       " 3: 0.47712125471966244,\n",
       " 4: 0.6020599913279624,\n",
       " 5: 0.6989700043360189,\n",
       " 6: 0.7781512503836436,\n",
       " 7: 0.8450980400142568,\n",
       " 8: 0.9030899869919435,\n",
       " 9: 0.9542425094393249}"
      ]
     },
     "execution_count": 268,
     "metadata": {},
     "output_type": "execute_result"
    }
   ],
   "source": [
    "d13"
   ]
  },
  {
   "cell_type": "code",
   "execution_count": 270,
   "id": "88943ae6-d3b7-4cc6-978c-a2caab91701f",
   "metadata": {},
   "outputs": [
    {
     "name": "stdout",
     "output_type": "stream",
     "text": [
      "0.3010299956639812\n",
      "0.6020599913279624\n",
      "0.7781512503836436\n",
      "0.9030899869919435\n"
     ]
    }
   ],
   "source": [
    "for i in d13.keys():\n",
    "    if i %2==0:\n",
    "        print(d13[i])"
   ]
  },
  {
   "cell_type": "code",
   "execution_count": null,
   "id": "34fd10fd-d762-4153-9f79-598b127da88b",
   "metadata": {},
   "outputs": [],
   "source": []
  },
  {
   "cell_type": "code",
   "execution_count": 269,
   "id": "5afc5eb8-6f40-4cbd-991b-7e07adddc2cf",
   "metadata": {},
   "outputs": [
    {
     "data": {
      "text/plain": [
       "dict_keys([1, 2, 3, 4, 5, 6, 7, 8, 9])"
      ]
     },
     "execution_count": 269,
     "metadata": {},
     "output_type": "execute_result"
    }
   ],
   "source": [
    "d13.keys()"
   ]
  },
  {
   "cell_type": "code",
   "execution_count": null,
   "id": "5050fe12-0c67-47fa-b44e-40adc512d729",
   "metadata": {},
   "outputs": [],
   "source": []
  },
  {
   "cell_type": "code",
   "execution_count": null,
   "id": "0ca93871-5814-48ea-a9f0-018928c86548",
   "metadata": {},
   "outputs": [],
   "source": []
  },
  {
   "cell_type": "code",
   "execution_count": null,
   "id": "52e2ede5-965e-4b12-955f-bd64f29a48f3",
   "metadata": {},
   "outputs": [],
   "source": []
  },
  {
   "cell_type": "code",
   "execution_count": null,
   "id": "b5d24a26-3466-446f-bb85-0acbd263bb0e",
   "metadata": {},
   "outputs": [],
   "source": []
  }
 ],
 "metadata": {
  "kernelspec": {
   "display_name": "Python 3 (ipykernel)",
   "language": "python",
   "name": "python3"
  },
  "language_info": {
   "codemirror_mode": {
    "name": "ipython",
    "version": 3
   },
   "file_extension": ".py",
   "mimetype": "text/x-python",
   "name": "python",
   "nbconvert_exporter": "python",
   "pygments_lexer": "ipython3",
   "version": "3.9.13"
  }
 },
 "nbformat": 4,
 "nbformat_minor": 5
}
