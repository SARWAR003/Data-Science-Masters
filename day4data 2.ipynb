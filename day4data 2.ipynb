{
 "cells": [
  {
   "cell_type": "code",
   "execution_count": 1,
   "id": "4277d98e-7951-4a45-8d9e-04bdac028efb",
   "metadata": {},
   "outputs": [
    {
     "name": "stdout",
     "output_type": "stream",
     "text": [
      "monu\n"
     ]
    }
   ],
   "source": [
    "lst1 = [\"Sam\", \"jodu\", \"monu\", \"balu\"]\n",
    "lst2 = [1, 2, 3, 4, 5, 6, 7, 8, 9]\n",
    "print(max(lst1))\n"
   ]
  },
  {
   "cell_type": "code",
   "execution_count": 2,
   "id": "1279b38b-4338-42a2-9397-82474be0fab8",
   "metadata": {},
   "outputs": [
    {
     "data": {
      "text/plain": [
       "9"
      ]
     },
     "execution_count": 2,
     "metadata": {},
     "output_type": "execute_result"
    }
   ],
   "source": [
    "max(lst2)"
   ]
  },
  {
   "cell_type": "code",
   "execution_count": 3,
   "id": "01727086-1e6c-40ee-aee7-0b8df177fc26",
   "metadata": {},
   "outputs": [
    {
     "data": {
      "text/plain": [
       "'Sam'"
      ]
     },
     "execution_count": 3,
     "metadata": {},
     "output_type": "execute_result"
    }
   ],
   "source": [
    "min(lst1)"
   ]
  },
  {
   "cell_type": "code",
   "execution_count": 4,
   "id": "3808abed-8780-47ca-bd2d-587966ecd20e",
   "metadata": {},
   "outputs": [
    {
     "data": {
      "text/plain": [
       "1"
      ]
     },
     "execution_count": 4,
     "metadata": {},
     "output_type": "execute_result"
    }
   ],
   "source": [
    "min(lst2)\n"
   ]
  },
  {
   "cell_type": "code",
   "execution_count": 5,
   "id": "45241525-7c10-4969-b1ec-d6099cbde425",
   "metadata": {},
   "outputs": [],
   "source": [
    "## Append"
   ]
  },
  {
   "cell_type": "code",
   "execution_count": 8,
   "id": "7d9e6ea7-b6ee-4141-93e2-a6f4105bd3e8",
   "metadata": {},
   "outputs": [],
   "source": [
    "lst=[1,2,3,4,5,6,7,8,9]"
   ]
  },
  {
   "cell_type": "code",
   "execution_count": 10,
   "id": "fafc7e9d-ca44-4027-889d-faf8b2941046",
   "metadata": {},
   "outputs": [
    {
     "data": {
      "text/plain": [
       "[1, 2, 3, 4, 5, 6, 7, 8, 9]"
      ]
     },
     "execution_count": 10,
     "metadata": {},
     "output_type": "execute_result"
    }
   ],
   "source": [
    "lst"
   ]
  },
  {
   "cell_type": "code",
   "execution_count": 16,
   "id": "a7587028-6cc2-496b-9f69-859eaeefdd61",
   "metadata": {},
   "outputs": [],
   "source": [
    "lst.append(\"sawar\")"
   ]
  },
  {
   "cell_type": "code",
   "execution_count": 17,
   "id": "a1fed908-2e0e-49f4-9db1-b238de80389a",
   "metadata": {},
   "outputs": [
    {
     "data": {
      "text/plain": [
       "[1, 2, 3, 4, 5, 6, 7, 8, 9, 'sarwar', 'sarwar', 'sawar', 'sawar', 'sawar']"
      ]
     },
     "execution_count": 17,
     "metadata": {},
     "output_type": "execute_result"
    }
   ],
   "source": [
    "lst"
   ]
  },
  {
   "cell_type": "code",
   "execution_count": 21,
   "id": "38402904-0e41-4686-b3fc-2abea4918163",
   "metadata": {},
   "outputs": [
    {
     "ename": "TypeError",
     "evalue": "list.append() takes no keyword arguments",
     "output_type": "error",
     "traceback": [
      "\u001b[1;31m---------------------------------------------------------------------------\u001b[0m",
      "\u001b[1;31mTypeError\u001b[0m                                 Traceback (most recent call last)",
      "\u001b[1;32m~\\AppData\\Local\\Temp\\ipykernel_12560\\4114148440.py\u001b[0m in \u001b[0;36m<module>\u001b[1;34m\u001b[0m\n\u001b[1;32m----> 1\u001b[1;33m \u001b[0mlst\u001b[0m\u001b[1;33m.\u001b[0m\u001b[0mappend\u001b[0m\u001b[1;33m(\u001b[0m\u001b[1;33m[\u001b[0m\u001b[1;34m\"md\"\u001b[0m\u001b[1;33m,\u001b[0m\u001b[1;34m\"golam\"\u001b[0m\u001b[1;33m,\u001b[0m\u001b[1;34m\"sawra\"\u001b[0m\u001b[1;33m]\u001b[0m\u001b[1;33m,\u001b[0m\u001b[0mend\u001b[0m\u001b[1;33m=\u001b[0m\u001b[1;34m\" \"\u001b[0m\u001b[1;33m)\u001b[0m\u001b[1;33m\u001b[0m\u001b[1;33m\u001b[0m\u001b[0m\n\u001b[0m",
      "\u001b[1;31mTypeError\u001b[0m: list.append() takes no keyword arguments"
     ]
    }
   ],
   "source": [
    "lst.append([\"md\",\"golam\",\"sawra\"])"
   ]
  },
  {
   "cell_type": "code",
   "execution_count": 23,
   "id": "41cc9eb3-e6f9-49de-9358-0913faaaefc8",
   "metadata": {},
   "outputs": [
    {
     "data": {
      "text/plain": [
       "[1,\n",
       " 2,\n",
       " 3,\n",
       " 4,\n",
       " 5,\n",
       " 6,\n",
       " 7,\n",
       " 8,\n",
       " 9,\n",
       " 'sarwar',\n",
       " 'sarwar',\n",
       " 'sawar',\n",
       " 'sawar',\n",
       " 'sawar',\n",
       " ['md', 'golam', 'sawra']]"
      ]
     },
     "execution_count": 23,
     "metadata": {},
     "output_type": "execute_result"
    }
   ],
   "source": [
    "lst"
   ]
  },
  {
   "cell_type": "code",
   "execution_count": 1,
   "id": "651c7104-a15b-43e3-90cf-9a249ff71c4e",
   "metadata": {},
   "outputs": [],
   "source": [
    "## Nestad list"
   ]
  },
  {
   "cell_type": "code",
   "execution_count": 4,
   "id": "641d2e9d-4638-4b94-b54a-9a385410367a",
   "metadata": {},
   "outputs": [],
   "source": [
    "lst_1=[1,2,3]\n",
    "lst_2=[4,5,6]\n",
    "lst_3=[7,8,9]\n",
    "## Make a list of list to from matrix\n",
    "matrix=[lst_1,lst_2,lst_3]"
   ]
  },
  {
   "cell_type": "code",
   "execution_count": 5,
   "id": "b2e02f33-a880-42c1-a8d7-9551ef76c196",
   "metadata": {},
   "outputs": [
    {
     "data": {
      "text/plain": [
       "[[1, 2, 3], [4, 5, 6], [7, 8, 9]]"
      ]
     },
     "execution_count": 5,
     "metadata": {},
     "output_type": "execute_result"
    }
   ],
   "source": [
    "matrix"
   ]
  },
  {
   "cell_type": "code",
   "execution_count": 6,
   "id": "b2ef6437-4ccb-4f54-b152-c3c6c9a12f26",
   "metadata": {},
   "outputs": [
    {
     "data": {
      "text/plain": [
       "[8, 9]"
      ]
     },
     "execution_count": 6,
     "metadata": {},
     "output_type": "execute_result"
    }
   ],
   "source": [
    "matrix[2][1:]"
   ]
  },
  {
   "cell_type": "code",
   "execution_count": 7,
   "id": "4531185e-0d6e-4fb9-855f-321d4f0192bd",
   "metadata": {},
   "outputs": [
    {
     "data": {
      "text/plain": [
       "4"
      ]
     },
     "execution_count": 7,
     "metadata": {},
     "output_type": "execute_result"
    }
   ],
   "source": [
    "matrix[1][0]"
   ]
  },
  {
   "cell_type": "code",
   "execution_count": 8,
   "id": "9d597e5c-308e-430d-ab90-f3a98055d30a",
   "metadata": {},
   "outputs": [
    {
     "data": {
      "text/plain": [
       "6"
      ]
     },
     "execution_count": 8,
     "metadata": {},
     "output_type": "execute_result"
    }
   ],
   "source": [
    "matrix[1][2]"
   ]
  },
  {
   "cell_type": "code",
   "execution_count": 10,
   "id": "181842ec-b75f-4ba2-a930-f32dc54c6119",
   "metadata": {},
   "outputs": [
    {
     "data": {
      "text/plain": [
       "[[1, 2, 3], [4, 5, 6], [7, 8, 9]]"
      ]
     },
     "execution_count": 10,
     "metadata": {},
     "output_type": "execute_result"
    }
   ],
   "source": [
    "matrix[:]"
   ]
  },
  {
   "cell_type": "code",
   "execution_count": 12,
   "id": "aa188ec8-7286-400a-b4b7-32db2e9f0c5e",
   "metadata": {},
   "outputs": [
    {
     "data": {
      "text/plain": [
       "1"
      ]
     },
     "execution_count": 12,
     "metadata": {},
     "output_type": "execute_result"
    }
   ],
   "source": [
    "matrix[0][0]"
   ]
  },
  {
   "cell_type": "code",
   "execution_count": 14,
   "id": "1fa8eef2-d44b-41f2-8b18-2660be66e417",
   "metadata": {},
   "outputs": [
    {
     "data": {
      "text/plain": [
       "[0, 1, 2, 3, 4, 5, 6, 7, 8, 9, 10, 11, 12, 13, 14, 15, 16, 17, 18, 19]"
      ]
     },
     "execution_count": 14,
     "metadata": {},
     "output_type": "execute_result"
    }
   ],
   "source": [
    "## list Comprehension\n",
    "[  i for i in range (20)]"
   ]
  },
  {
   "cell_type": "code",
   "execution_count": 23,
   "id": "5fb5331d-260a-4ecd-adc2-a69354741a27",
   "metadata": {},
   "outputs": [
    {
     "data": {
      "text/plain": [
       "[0, '', 2, '', 4, '', 6, '', 8, '', 10, '', 12, '', 14, '', 16, '', 18, '']"
      ]
     },
     "execution_count": 23,
     "metadata": {},
     "output_type": "execute_result"
    }
   ],
   "source": [
    "## list Comprehension\n",
    "## Even number\n",
    "([i if i%2 ==0 else \"\"  for i in range (0,20) ] )"
   ]
  },
  {
   "cell_type": "code",
   "execution_count": 69,
   "id": "bbfcdb18-a35b-4f58-ba49-1d995c150dff",
   "metadata": {},
   "outputs": [
    {
     "ename": "SyntaxError",
     "evalue": "invalid syntax (2868441472.py, line 2)",
     "output_type": "error",
     "traceback": [
      "\u001b[1;36m  File \u001b[1;32m\"C:\\Users\\Mdgol\\AppData\\Local\\Temp\\ipykernel_15164\\2868441472.py\"\u001b[1;36m, line \u001b[1;32m2\u001b[0m\n\u001b[1;33m    ([num if i*4 for i in range num])\u001b[0m\n\u001b[1;37m                 ^\u001b[0m\n\u001b[1;31mSyntaxError\u001b[0m\u001b[1;31m:\u001b[0m invalid syntax\n"
     ]
    }
   ],
   "source": [
    "([i if i%2 ==0 else \"ODD\"  for i in range (0,20) ] )\n",
    "([num if i*4 for i in range num])"
   ]
  },
  {
   "cell_type": "code",
   "execution_count": 26,
   "id": "34598025-d4c7-42d3-b467-e5849da9b6a9",
   "metadata": {},
   "outputs": [
    {
     "data": {
      "text/plain": [
       "[0, 'ODD', 2, 'ODD', 4, 'ODD', 6, 'ODD', 8]"
      ]
     },
     "execution_count": 26,
     "metadata": {},
     "output_type": "execute_result"
    }
   ],
   "source": [
    "lst=[1,2,3,4,5,6,7,8,9]\n",
    "[i if i%2==0 else\"ODD\" for  i in range (0,9)]"
   ]
  },
  {
   "cell_type": "code",
   "execution_count": 36,
   "id": "19395d1b-ad07-4f0c-9e77-061a4a5496da",
   "metadata": {},
   "outputs": [
    {
     "data": {
      "text/plain": [
       "[1, 2, 3, 4, 5, 6, 7, 8, 9]"
      ]
     },
     "execution_count": 36,
     "metadata": {},
     "output_type": "execute_result"
    }
   ],
   "source": [
    "lst\n"
   ]
  },
  {
   "cell_type": "code",
   "execution_count": 39,
   "id": "718e4335-3f47-4cba-ada0-4459c01c0800",
   "metadata": {},
   "outputs": [],
   "source": [
    "even_sum= sum([num for num in lst if num%2==0])"
   ]
  },
  {
   "cell_type": "code",
   "execution_count": 40,
   "id": "f7ab04a9-771a-4117-b216-a0bda3183e33",
   "metadata": {},
   "outputs": [
    {
     "data": {
      "text/plain": [
       "20"
      ]
     },
     "execution_count": 40,
     "metadata": {},
     "output_type": "execute_result"
    }
   ],
   "source": [
    "even_sum"
   ]
  },
  {
   "cell_type": "code",
   "execution_count": 44,
   "id": "d9a137be-39b8-41ea-961c-0af3f501c4ca",
   "metadata": {},
   "outputs": [
    {
     "data": {
      "text/plain": [
       "[1, 2, 3, 4, 5, 6, 7, 8, 9]"
      ]
     },
     "execution_count": 44,
     "metadata": {},
     "output_type": "execute_result"
    }
   ],
   "source": [
    "lst"
   ]
  },
  {
   "cell_type": "code",
   "execution_count": 50,
   "id": "7b6b44ab-dd0b-48bb-807d-4d5edf56c3d1",
   "metadata": {},
   "outputs": [],
   "source": [
    "odd_sum=sum([num for num in lst if num%2!=0])\n"
   ]
  },
  {
   "cell_type": "code",
   "execution_count": 47,
   "id": "9a178aa6-9041-4325-b084-0bd44db380f1",
   "metadata": {},
   "outputs": [
    {
     "data": {
      "text/plain": [
       "25"
      ]
     },
     "execution_count": 47,
     "metadata": {},
     "output_type": "execute_result"
    }
   ],
   "source": [
    "odd_sum"
   ]
  },
  {
   "cell_type": "code",
   "execution_count": 51,
   "id": "03b972d5-ccb1-474d-86ef-db07dd752ddb",
   "metadata": {},
   "outputs": [
    {
     "data": {
      "text/plain": [
       "[1, 4, 9, 16, 25, 36, 49, 64, 81]"
      ]
     },
     "execution_count": 51,
     "metadata": {},
     "output_type": "execute_result"
    }
   ],
   "source": [
    "lst=[1,2,3,4,5,6,7,8,9]\n",
    "[num**2 for num in lst]"
   ]
  },
  {
   "cell_type": "code",
   "execution_count": 52,
   "id": "743422a0-2a58-4e44-8715-6ea78935b56e",
   "metadata": {},
   "outputs": [
    {
     "data": {
      "text/plain": [
       "[1, 2, 3, 4]"
      ]
     },
     "execution_count": 52,
     "metadata": {},
     "output_type": "execute_result"
    }
   ],
   "source": [
    "## ex \n",
    "number=[-2,-1,0,1,2,3,4]\n",
    "[num for num in number if num>0]"
   ]
  },
  {
   "cell_type": "code",
   "execution_count": 53,
   "id": "5d8068af-a5b0-4b63-a56b-55bcbf1936e7",
   "metadata": {},
   "outputs": [
    {
     "data": {
      "text/plain": [
       "[-2, -1]"
      ]
     },
     "execution_count": 53,
     "metadata": {},
     "output_type": "execute_result"
    }
   ],
   "source": [
    "[num for num in number if num<0]"
   ]
  },
  {
   "cell_type": "code",
   "execution_count": 55,
   "id": "c70d063d-4cc5-439a-b66f-38259ba47da7",
   "metadata": {},
   "outputs": [
    {
     "data": {
      "text/plain": [
       "['a', 'b', 'c', 'd']"
      ]
     },
     "execution_count": 55,
     "metadata": {},
     "output_type": "execute_result"
    }
   ],
   "source": [
    "words= ['apple','banana','cherry','date']\n",
    "[word[0] for word in words ]"
   ]
  },
  {
   "cell_type": "code",
   "execution_count": 57,
   "id": "2aa49267-5317-4129-9030-ac8935ab60c0",
   "metadata": {},
   "outputs": [
    {
     "ename": "NameError",
     "evalue": "name 'temp' is not defined",
     "output_type": "error",
     "traceback": [
      "\u001b[1;31m---------------------------------------------------------------------------\u001b[0m",
      "\u001b[1;31mNameError\u001b[0m                                 Traceback (most recent call last)",
      "\u001b[1;32m~\\AppData\\Local\\Temp\\ipykernel_15164\\798873902.py\u001b[0m in \u001b[0;36m<module>\u001b[1;34m\u001b[0m\n\u001b[1;32m----> 1\u001b[1;33m \u001b[1;33m(\u001b[0m\u001b[1;36m9\u001b[0m\u001b[1;33m/\u001b[0m\u001b[1;36m5\u001b[0m\u001b[1;33m)\u001b[0m\u001b[1;33m*\u001b[0m\u001b[0mtemp\u001b[0m\u001b[1;33m+\u001b[0m\u001b[1;36m32\u001b[0m\u001b[1;33m\u001b[0m\u001b[1;33m\u001b[0m\u001b[0m\n\u001b[0m",
      "\u001b[1;31mNameError\u001b[0m: name 'temp' is not defined"
     ]
    }
   ],
   "source": [
    "(9/5)*temp+32"
   ]
  },
  {
   "cell_type": "code",
   "execution_count": 58,
   "id": "61e0230f-3569-4095-878b-d4c25bc3c9ca",
   "metadata": {},
   "outputs": [],
   "source": [
    "celsius_temperatures= [0,10,20,30,40,50,60,70]"
   ]
  },
  {
   "cell_type": "code",
   "execution_count": 60,
   "id": "497ca9cc-c876-4e94-be4d-e784ef4df0ad",
   "metadata": {},
   "outputs": [
    {
     "data": {
      "text/plain": [
       "[25.0, 43.0, 61.0, 79.0, 97.0, 115.0, 133.0, 151.0]"
      ]
     },
     "execution_count": 60,
     "metadata": {},
     "output_type": "execute_result"
    }
   ],
   "source": [
    "[(9/5)*temp+25 for temp in celsius_temperatures]"
   ]
  },
  {
   "cell_type": "code",
   "execution_count": 61,
   "id": "725c0be7-8058-4d72-84a4-1cc64bb5b396",
   "metadata": {},
   "outputs": [
    {
     "data": {
      "text/plain": [
       "[1, 2, 3, 4, 5, 6, 7, 8, 9]"
      ]
     },
     "execution_count": 61,
     "metadata": {},
     "output_type": "execute_result"
    }
   ],
   "source": [
    "## flatter a list of list into a single list \n",
    "lists =[[1,2,3],[4,5,6],[7,8,9]]\n",
    "[num for sublist in lists for num in sublist]"
   ]
  },
  {
   "cell_type": "code",
   "execution_count": 68,
   "id": "cbce6bc2-07f9-49bb-bf8c-2e7e991fe3c9",
   "metadata": {},
   "outputs": [
    {
     "name": "stdout",
     "output_type": "stream",
     "text": [
      "[1, 2, 3, 4, 5, 6, 7, 8, 9]\n"
     ]
    }
   ],
   "source": [
    "lists = [[1, 2, 3], [4, 5, 6], [7, 8, 9]]\n",
    "\n",
    "flat_list = [item for sublist in lists for item in sublist]\n",
    "\n",
    "print(flat_list)\n"
   ]
  },
  {
   "cell_type": "code",
   "execution_count": 62,
   "id": "7ee5d651-27c0-4712-b950-9aed490dd270",
   "metadata": {},
   "outputs": [
    {
     "data": {
      "text/plain": [
       "[[1, 2, 3], [4, 5, 6], [7, 8, 9]]"
      ]
     },
     "execution_count": 62,
     "metadata": {},
     "output_type": "execute_result"
    }
   ],
   "source": [
    "lists"
   ]
  },
  {
   "cell_type": "code",
   "execution_count": 63,
   "id": "d4a37802-05f3-459f-a758-c128517ac07a",
   "metadata": {},
   "outputs": [
    {
     "data": {
      "text/plain": [
       "[1, 2, 3, 4, 5, 6, 7, 8, 9]"
      ]
     },
     "execution_count": 63,
     "metadata": {},
     "output_type": "execute_result"
    }
   ],
   "source": [
    "[k for i in lists for k in i]"
   ]
  },
  {
   "cell_type": "code",
   "execution_count": 65,
   "id": "d94dddea-6d92-4eb6-b5b6-13503f633b68",
   "metadata": {},
   "outputs": [
    {
     "name": "stdout",
     "output_type": "stream",
     "text": [
      "[4, 16, 36, 64, 100]\n"
     ]
    }
   ],
   "source": [
    "## Assignment \n",
    "## Using both code and list comprehensnion\n",
    "## Example : Create a list for only the prime number from a given  list\n",
    "numbers =[1,2,3,4,5,6,7,8,9,10]\n",
    "squares =[]\n",
    "for num in numbers:\n",
    "    if num %2==0:\n",
    "        squares.append(num **2)\n",
    "    \n",
    "print (squares)\n"
   ]
  },
  {
   "cell_type": "code",
   "execution_count": null,
   "id": "f28f129e-4cf8-472c-bde8-4739169cff72",
   "metadata": {},
   "outputs": [],
   "source": [
    "## Example:\n",
    "Create a list of all the  possible combinations of 2 elements from a list\n",
    "numbers= [1,2,3,4,5]"
   ]
  }
 ],
 "metadata": {
  "kernelspec": {
   "display_name": "Python 3 (ipykernel)",
   "language": "python",
   "name": "python3"
  },
  "language_info": {
   "codemirror_mode": {
    "name": "ipython",
    "version": 3
   },
   "file_extension": ".py",
   "mimetype": "text/x-python",
   "name": "python",
   "nbconvert_exporter": "python",
   "pygments_lexer": "ipython3",
   "version": "3.9.13"
  }
 },
 "nbformat": 4,
 "nbformat_minor": 5
}
