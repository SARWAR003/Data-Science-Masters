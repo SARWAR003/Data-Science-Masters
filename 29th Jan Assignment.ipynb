{
 "cells": [
  {
   "cell_type": "markdown",
   "id": "f5012ed7-c17b-4b9f-83b6-7f890388f08d",
   "metadata": {},
   "source": [
    "## 1.\n"
   ]
  },
  {
   "cell_type": "markdown",
   "id": "bc957aeb-4ab1-4b16-bc50-d2ada5570a80",
   "metadata": {},
   "source": [
    "* Python programming language was created by Guido van Rossum in the late 1980s, and its development continues to this day with the help of a global community of developers. Guido van Rossum started working on Python in December 1989 at the National Research Institute for Mathematics and Computer Science in the Netherlands (CWI)."
   ]
  },
  {
   "cell_type": "code",
   "execution_count": null,
   "id": "08bc9386-1e2b-4f7f-86b1-668c8aefaf1f",
   "metadata": {},
   "outputs": [],
   "source": []
  },
  {
   "cell_type": "markdown",
   "id": "6227c68b-fe98-4da5-8e61-6dfc4dc42135",
   "metadata": {},
   "source": [
    "## 2."
   ]
  },
  {
   "cell_type": "markdown",
   "id": "b11d001c-d0d9-43b8-9a4c-9d3049102583",
   "metadata": {},
   "source": [
    "* Python is a high-level, interpreted programming language that supports multiple programming paradigms including:"
   ]
  },
  {
   "cell_type": "markdown",
   "id": "aaf17fa2-d41c-4fd8-ae8b-425e3058f529",
   "metadata": {},
   "source": [
    "1. Procedural programming: It involves organizing code into reusable procedures (also known as functions or methods) that operate on data. Python supports procedural programming with functions."
   ]
  },
  {
   "cell_type": "markdown",
   "id": "96f58c31-1dd2-44ec-b94a-5e77e008a930",
   "metadata": {},
   "source": [
    "2. Object-oriented programming (OOP): It involves organizing code into objects that have data and behavior. Python supports OOP with classes and objects."
   ]
  },
  {
   "cell_type": "markdown",
   "id": "71d907f6-04c8-4fbe-ab91-95adde82a012",
   "metadata": {},
   "source": [
    "3. Functional programming: It involves writing code using functions that have no side effects and are treated as first-class citizens. Python supports functional programming with lambda functions, map(), filter(), and reduce() functions."
   ]
  },
  {
   "cell_type": "markdown",
   "id": "63de5ff1-caa0-4c60-80db-30a25e4d3596",
   "metadata": {},
   "source": [
    "4. Scripting: It involves writing small programs to automate simple tasks. Python is well-suited for scripting and can be used for automating tasks like file manipulation, web scraping, and data analysis."
   ]
  },
  {
   "cell_type": "code",
   "execution_count": null,
   "id": "cc2fed1b-eb7a-4bbc-bb81-f8d521a0bead",
   "metadata": {},
   "outputs": [],
   "source": []
  },
  {
   "cell_type": "markdown",
   "id": "a2424796-4139-482a-a1f7-01ccfd0808f9",
   "metadata": {},
   "source": [
    "## 3."
   ]
  },
  {
   "cell_type": "markdown",
   "id": "98de39bd-66e6-4d7a-aed9-83ca9f66853e",
   "metadata": {},
   "source": [
    "* Yes, Python is a case-sensitive programming language when dealing with identifiers. This means that identifiers with different capitalization are considered to be different and distinct from each other."
   ]
  },
  {
   "cell_type": "code",
   "execution_count": 6,
   "id": "593491c6-1da6-4e05-8c31-b5ea3ed48236",
   "metadata": {},
   "outputs": [],
   "source": [
    "def print_message():\n",
    "    print(\"Hi , Sarwar\")\n"
   ]
  },
  {
   "cell_type": "markdown",
   "id": "8ee4588c-1727-4d19-bec6-9724fc29fb79",
   "metadata": {},
   "source": [
    "* In this case, the function name \"print_message\" is all lowercase. If you then try to call this function using a different capitalization, such as \"Print_Message\" or \"PRINT_MESSAGE\", Python will give you a \"NameError\" indicating that the name is not defined"
   ]
  },
  {
   "cell_type": "code",
   "execution_count": 7,
   "id": "04801ad4-4ec4-4e53-a605-e72397c01c0a",
   "metadata": {},
   "outputs": [
    {
     "ename": "NameError",
     "evalue": "name 'Print_Message' is not defined",
     "output_type": "error",
     "traceback": [
      "\u001b[1;31m---------------------------------------------------------------------------\u001b[0m",
      "\u001b[1;31mNameError\u001b[0m                                 Traceback (most recent call last)",
      "\u001b[1;32m~\\AppData\\Local\\Temp\\ipykernel_7544\\4240657189.py\u001b[0m in \u001b[0;36m<module>\u001b[1;34m\u001b[0m\n\u001b[1;32m----> 1\u001b[1;33m \u001b[0mPrint_Message\u001b[0m\u001b[1;33m(\u001b[0m\u001b[1;33m)\u001b[0m\u001b[1;33m\u001b[0m\u001b[1;33m\u001b[0m\u001b[0m\n\u001b[0m",
      "\u001b[1;31mNameError\u001b[0m: name 'Print_Message' is not defined"
     ]
    }
   ],
   "source": [
    "Print_Message()"
   ]
  },
  {
   "cell_type": "code",
   "execution_count": 8,
   "id": "8317d8b2-b48c-4781-bfc6-2e2f8a5a3f6a",
   "metadata": {},
   "outputs": [
    {
     "ename": "NameError",
     "evalue": "name 'PRINT_MESSAGE' is not defined",
     "output_type": "error",
     "traceback": [
      "\u001b[1;31m---------------------------------------------------------------------------\u001b[0m",
      "\u001b[1;31mNameError\u001b[0m                                 Traceback (most recent call last)",
      "\u001b[1;32m~\\AppData\\Local\\Temp\\ipykernel_7544\\2932170333.py\u001b[0m in \u001b[0;36m<module>\u001b[1;34m\u001b[0m\n\u001b[1;32m----> 1\u001b[1;33m \u001b[0mPRINT_MESSAGE\u001b[0m\u001b[1;33m(\u001b[0m\u001b[1;33m)\u001b[0m\u001b[1;33m\u001b[0m\u001b[1;33m\u001b[0m\u001b[0m\n\u001b[0m",
      "\u001b[1;31mNameError\u001b[0m: name 'PRINT_MESSAGE' is not defined"
     ]
    }
   ],
   "source": [
    "PRINT_MESSAGE()"
   ]
  },
  {
   "cell_type": "markdown",
   "id": "b63cf263-50bd-4d65-b664-72b3befa7f49",
   "metadata": {},
   "source": [
    "* However, if you call the function using the correct capitalization, as \"print_message()\", Python will execute the function and print the message \"Hello, world!\" to the console"
   ]
  },
  {
   "cell_type": "code",
   "execution_count": 9,
   "id": "60173d10-d793-4879-abd8-5245261c21d2",
   "metadata": {},
   "outputs": [
    {
     "name": "stdout",
     "output_type": "stream",
     "text": [
      "Hi , Sarwar\n"
     ]
    }
   ],
   "source": [
    "print_message()"
   ]
  },
  {
   "cell_type": "code",
   "execution_count": null,
   "id": "0aa9508b-555e-44f6-9e37-fe679b039a60",
   "metadata": {},
   "outputs": [],
   "source": []
  },
  {
   "cell_type": "markdown",
   "id": "aa4d3338-5d0a-4ae8-af5f-66d61fc697c4",
   "metadata": {},
   "source": [
    "## 4."
   ]
  },
  {
   "cell_type": "markdown",
   "id": "b72f6a1f-4105-400b-85f1-1b42cb019c4a",
   "metadata": {},
   "source": [
    "* The correct file extension for Python files is \".py\".\n",
    "\n",
    "* When you save a Python program in a text editor or an Integrated Development Environment (IDE), you should give it a file name with the \".py\" extension at the end. For example, if you have a Python program that you want to save with the name \"hello_world\", you should save it as \"hello_world.py\"."
   ]
  },
  {
   "cell_type": "code",
   "execution_count": null,
   "id": "49306903-2b16-4786-9da2-bc36abf0baca",
   "metadata": {},
   "outputs": [],
   "source": []
  },
  {
   "cell_type": "markdown",
   "id": "b9bec466-5dbd-42b3-b1bb-8ce19427d850",
   "metadata": {},
   "source": [
    "## 5."
   ]
  },
  {
   "cell_type": "markdown",
   "id": "621a1bb2-ec2f-4c60-a158-e9d967ef43f5",
   "metadata": {},
   "source": [
    "* Python is an interpreted language, which means that code written in Python is executed directly by the Python interpreter, without the need for compilation.\n",
    "\n",
    "* When you run a Python script, the interpreter reads the source code and executes it line by line, interpreting and executing each instruction as it encounters it. This is different from compiled languages like C or Java, where the source code is first compiled into machine code, which can then be executed by the computer.\n",
    "\n",
    "* Python does have a compilation step, but it's done automatically by the interpreter when the source code is executed. "
   ]
  },
  {
   "cell_type": "code",
   "execution_count": null,
   "id": "18680989-b758-46c9-8bd1-fbf990979fd8",
   "metadata": {},
   "outputs": [],
   "source": []
  },
  {
   "cell_type": "markdown",
   "id": "ede2d2b2-9df8-4a10-a5c0-9132ef26077b",
   "metadata": {},
   "source": [
    "## 6."
   ]
  },
  {
   "cell_type": "markdown",
   "id": "4756ef01-ffd2-4879-ae80-e45839756a9a",
   "metadata": {},
   "source": [
    "* In Python, there are several blocks of code that are used to define the structure and behavior of programs. Here are some of the most commonly used blocks of code:"
   ]
  },
  {
   "cell_type": "markdown",
   "id": "034af353-6ab0-4371-8d1b-1fdbc2b98092",
   "metadata": {},
   "source": [
    "1. Functions: Functions are blocks of reusable code that can be called by other parts of the program. They are defined using the \"def\" keyword, followed by the function name, parameter list, and the code block to be executed."
   ]
  },
  {
   "cell_type": "markdown",
   "id": "b8c02686-ba4e-4187-ac3b-4ba9ea3bbc40",
   "metadata": {},
   "source": [
    "2. Classes: Classes are a fundamental concept in object-oriented programming. They define a blueprint for creating objects, which can have attributes (data) and methods (functions). Classes are defined using the \"class\" keyword, followed by the class name and the code block to be executed."
   ]
  },
  {
   "cell_type": "markdown",
   "id": "a41c5222-a956-47ad-8eb1-6acd2bfe7757",
   "metadata": {},
   "source": [
    "3. Loops: Loops are used to execute a block of code repeatedly, until a condition is met. Python has two main types of loops: \"for\" loops, which iterate over a sequence of values, and \"while\" loops, which repeat until a certain condition is no longer true."
   ]
  },
  {
   "cell_type": "markdown",
   "id": "419d4d1a-fdaf-40f5-ac64-5f2143a745fc",
   "metadata": {},
   "source": [
    "4. Conditional statements: Conditional statements are used to execute different blocks of code based on a condition. Python has several types of conditional statements, including \"if\", \"elif\", and \"else\"."
   ]
  },
  {
   "cell_type": "markdown",
   "id": "fd4b49d1-e982-4926-be69-7128e4323ff4",
   "metadata": {},
   "source": [
    "5. Context managers: Context managers are used to set up and tear down resources automatically, such as opening and closing files or database connections. They are defined using the \"with\" statement, followed by the code block to be executed."
   ]
  },
  {
   "cell_type": "code",
   "execution_count": null,
   "id": "b53ff973-58af-4bd6-b822-608b243a9677",
   "metadata": {},
   "outputs": [],
   "source": []
  },
  {
   "cell_type": "markdown",
   "id": "344a2aca-fabb-4ecf-ac16-4605ab44dfa2",
   "metadata": {},
   "source": [
    "## 7. "
   ]
  },
  {
   "cell_type": "markdown",
   "id": "34dc5edf-ebbf-45d3-865a-50d7cd0b66a3",
   "metadata": {},
   "source": [
    "* In Python, the hash symbol (#) is used to indicate a single line comment. Any text that follows the hash symbol on the same line is ignored by the Python interpreter. Here's an example:"
   ]
  },
  {
   "cell_type": "code",
   "execution_count": 11,
   "id": "2100403d-2d5d-4532-8aee-67d943c9e0c9",
   "metadata": {},
   "outputs": [
    {
     "name": "stdout",
     "output_type": "stream",
     "text": [
      "Hi Sarwar\n"
     ]
    }
   ],
   "source": [
    "# This is a single line comment in Python\n",
    "print(\"Hi Sarwar\")  # This is another single line comment\n"
   ]
  },
  {
   "cell_type": "markdown",
   "id": "eb677e57-8f63-453e-bc69-1013929765da",
   "metadata": {},
   "source": [
    "* In this example, the first line is a single line comment, and the second line is a print statement that will be executed by Python. The third line is another single line comment that follows the print statement."
   ]
  },
  {
   "cell_type": "code",
   "execution_count": null,
   "id": "e2521d2e-5b83-49ba-b42d-f15b64d1a638",
   "metadata": {},
   "outputs": [],
   "source": []
  },
  {
   "cell_type": "markdown",
   "id": "815834b0-1357-4803-b505-db9a9150ef78",
   "metadata": {},
   "source": [
    "## 8."
   ]
  },
  {
   "cell_type": "markdown",
   "id": "da086806-1a33-4d6c-ab1c-4107a1c37bec",
   "metadata": {},
   "source": [
    "* There are several functions that can help you determine the version of Python that you are currently working on:"
   ]
  },
  {
   "cell_type": "markdown",
   "id": "a3b26e67-3df1-4459-ba50-c8cd5901c0c2",
   "metadata": {},
   "source": [
    "1. sys.version - This function returns a string containing the version number of Python along with some additional information about the build.\n",
    " "
   ]
  },
  {
   "cell_type": "markdown",
   "id": "c1e84f16-7ed3-406b-8912-bf42669b6efd",
   "metadata": {},
   "source": [
    "2. platform.python_version() - This function returns a string containing the version number of Python."
   ]
  },
  {
   "cell_type": "markdown",
   "id": "32645cfd-f62e-483d-8d74-b2710f243069",
   "metadata": {},
   "source": [
    "3. sys.version_info - This function returns a tuple containing the version number of Python as integers."
   ]
  },
  {
   "cell_type": "code",
   "execution_count": 13,
   "id": "9ac846a0-c8de-455c-a6b0-f74ea3f8bfc4",
   "metadata": {},
   "outputs": [
    {
     "name": "stdout",
     "output_type": "stream",
     "text": [
      "3.9.13 (main, Aug 25 2022, 23:51:50) [MSC v.1916 64 bit (AMD64)]\n",
      "3.9.13\n",
      "sys.version_info(major=3, minor=9, micro=13, releaselevel='final', serial=0)\n"
     ]
    }
   ],
   "source": [
    "import sys\n",
    "import platform\n",
    "\n",
    "print(sys.version)\n",
    "print(platform.python_version())\n",
    "print(sys.version_info)"
   ]
  },
  {
   "cell_type": "code",
   "execution_count": null,
   "id": "267a4d7d-aa3d-4213-ae7c-497cf7714691",
   "metadata": {},
   "outputs": [],
   "source": []
  },
  {
   "cell_type": "markdown",
   "id": "b71a640f-79ca-4226-bf5e-fd26c7c20cce",
   "metadata": {},
   "source": [
    "## 9."
   ]
  },
  {
   "cell_type": "markdown",
   "id": "f134c8b9-fcef-430a-ae12-5fa954e621b5",
   "metadata": {},
   "source": [
    "* Python supports the creation of anonymous functions at runtime using a construct called \"lambda\" functions.\n",
    "\n",
    "* Lambda functions are also known as anonymous functions because they are defined without a name. They are typically used for short, simple functions that are not intended to be reused in other parts of the code."
   ]
  },
  {
   "cell_type": "code",
   "execution_count": 14,
   "id": "cdf30fb3-4e1a-45bb-bd30-e6066f8ac227",
   "metadata": {},
   "outputs": [
    {
     "name": "stdout",
     "output_type": "stream",
     "text": [
      "50\n"
     ]
    }
   ],
   "source": [
    "multiply = lambda x: x * 5\n",
    "result = multiply(10)\n",
    "print(result)"
   ]
  },
  {
   "cell_type": "markdown",
   "id": "ae8b4c66-ae17-4181-ba0b-72f48cb1cdd4",
   "metadata": {},
   "source": [
    "* In this example, we define a lambda function called multiply that takes a single argument x and returns its value multiplied . We then use the lambda function to multiply the number 10 by 5 and assign the result to the variable result."
   ]
  },
  {
   "cell_type": "code",
   "execution_count": null,
   "id": "32caf86b-9522-4514-b044-48e902a97fee",
   "metadata": {},
   "outputs": [],
   "source": []
  },
  {
   "cell_type": "markdown",
   "id": "fbac9641-8f8a-4009-9f97-76e5e6c620b0",
   "metadata": {},
   "source": [
    "## 10."
   ]
  },
  {
   "cell_type": "markdown",
   "id": "15823d44-6e7a-4a11-ba43-2820973b031c",
   "metadata": {},
   "source": [
    "* PIP stands for \"Pip Installs Packages\" (or sometimes \"Pip Installs Python\").\n",
    "\n",
    "* PIP is the package installer for Python, which is used to install, upgrade, and manage Python packages and dependencies. PIP is a command-line tool that interacts with the Python Package Index (PyPI), a repository of third-party Python packages."
   ]
  },
  {
   "cell_type": "code",
   "execution_count": null,
   "id": "b6849cdc-fe87-46f3-8d33-64a681925d59",
   "metadata": {},
   "outputs": [],
   "source": []
  },
  {
   "cell_type": "markdown",
   "id": "7e4e8cf0-c186-4495-8488-52d155b9ea5f",
   "metadata": {},
   "source": [
    "## 11.\n"
   ]
  },
  {
   "cell_type": "markdown",
   "id": "3cb85fc8-03f1-42e9-9056-32c89828be4f",
   "metadata": {},
   "source": [
    "* Here are some of the most commonly used built-in  functions in  python:\n",
    "    \n",
    "    1. print() - Used to output text or variables to the console.\n",
    "    2. input() - Used to get user input from the console.\n",
    "    3. len() - Used to get the length of a string, list, or other sequence.\n",
    "    4. str() - Used to convert an object to a string.\n",
    "    5. int() - Used to convert a string or other object to an integer.\n",
    "    6. float() - Used to convert a string or other object to a floating-point number.\n",
    "    7. type() - Used to get the type of an object.\n",
    "    8. range() - Used to create a sequence of numbers.\n",
    "    9. list() - Used to create a list from an iterable.\n",
    "    10. dict() - Used to create a dictionary from key-value pairs or other iterables."
   ]
  },
  {
   "cell_type": "code",
   "execution_count": null,
   "id": "00eb2e46-f9a7-4e74-a42f-75a79a7a4ac9",
   "metadata": {},
   "outputs": [],
   "source": []
  },
  {
   "cell_type": "markdown",
   "id": "03e414e1-f203-48f3-985f-792ea7bbbcfe",
   "metadata": {},
   "source": [
    "## 12."
   ]
  },
  {
   "cell_type": "markdown",
   "id": "f5a259f2-012a-49ac-bbbb-621cd0f2607e",
   "metadata": {},
   "source": [
    "* In Python, the maximum possible length of an identifier is not specified.\n",
    "\n",
    "* However, PEP 8 (the official style guide for Python code) recommends that identifiers be kept to a maximum of 79 characters to ensure readability. In practice, most identifiers in Python code are significantly shorter than this.\n",
    "\n",
    "* While there is technically no maximum length for identifiers in Python, it is still good practice to keep identifiers concise and meaningful. This helps to improve the readability and maintainability of your code, and makes it easier for other developers to understand what your code is doing."
   ]
  },
  {
   "cell_type": "code",
   "execution_count": null,
   "id": "9ff856e6-8bc2-4b8d-9c6b-db0f422ce9af",
   "metadata": {},
   "outputs": [],
   "source": []
  },
  {
   "cell_type": "markdown",
   "id": "b8c5bbd6-abff-430d-becb-8c722bff2be7",
   "metadata": {},
   "source": [
    "## 13."
   ]
  },
  {
   "cell_type": "markdown",
   "id": "783e26f3-100e-4dc2-a220-c17a1b084a54",
   "metadata": {},
   "source": [
    "* Python is a versatile and powerful programming language that has gained popularity among developers and data scientists. Some of the benefits of using Python include:\n",
    "    1. Ease of use: Python is known for its simplicity and readability, making it easy for beginners to learn and write code.\n",
    "    2. Cross-platform compatibility: Python runs on multiple operating systems, including Windows, Linux, and macOS, making it a versatile language for building applications.\n",
    "    3. High-level language: Python is a high-level language that offers automatic memory management, garbage collection, and dynamic type checking, which makes it easier to write and debug code.\n",
    "    4. Scalability: Python is scalable and can handle large and complex projects with ease. Additionally, Python's multiprocessing and threading capabilities allow developers to write efficient and parallel code.\n",
    "    5. Large community and ecosystem: Python has a vast and active community of developers who contribute to the language's libraries, frameworks, and tools. This makes it easier for developers to find solutions and collaborate with others.\n",
    "    6. Large community and ecosystem: Python has a vast and active community of developers who contribute to the language's libraries, frameworks, and tools. This makes it easier for developers to find solutions and collaborate with others.\n",
    "    "
   ]
  },
  {
   "cell_type": "code",
   "execution_count": null,
   "id": "b0418585-d869-40e8-b73b-dc557fad3621",
   "metadata": {},
   "outputs": [],
   "source": []
  },
  {
   "cell_type": "markdown",
   "id": "e3b54816-97bd-4786-ab27-da44bcf1d8f1",
   "metadata": {},
   "source": [
    "## 14."
   ]
  },
  {
   "cell_type": "markdown",
   "id": "37d477e3-46fa-43c3-a432-b664297a39fd",
   "metadata": {},
   "source": [
    "* Memory management in Python is handled automatically by the Python interpreter using a technique called garbage collection. Garbage collection is the process of automatically detecting and freeing objects that are no longer in use by the program.\n",
    "\n",
    "* Python uses a mechanism called reference counting to keep track of the reference count of each object. When an object is created, its reference count is set to 1. When a new reference to the object is created, such as by assigning it to a variable, the reference count is incremented by 1. When a reference to the object is deleted, the reference count is decremented by 1. When the reference count reaches 0, the object is no longer accessible and is removed from memory by the garbage collector."
   ]
  },
  {
   "cell_type": "code",
   "execution_count": null,
   "id": "1b868bc6-8063-41c3-abe9-cc454d6e8f1a",
   "metadata": {},
   "outputs": [],
   "source": []
  },
  {
   "cell_type": "markdown",
   "id": "28cb76aa-9253-4960-8e21-df603b67dcb7",
   "metadata": {},
   "source": [
    "## 15."
   ]
  },
  {
   "cell_type": "markdown",
   "id": "16c8a4cb-36d6-4ebc-b7fb-19677e973d38",
   "metadata": {},
   "source": [
    "* To install Python on Windows and set path variables, follow these steps:\n",
    "    \n",
    "    1. Download the latest version of Python from the official website: https://www.python.org/downloads/windows/\n",
    "    \n",
    "    2. Run the installer and select the \"Add Python to PATH\" option during the installation process. This will add Python to your system PATH, allowing you to run Python from any directory in the command prompt\n",
    "    \n",
    "    3. Once the installation is complete, open the Start menu and search for \"Environment Variables\".\n",
    "    \n",
    "    4. Click on \"Edit the system environment variables\" and then click on the \"Environment Variables\" button.\n",
    "    \n",
    "    5. Under the \"System Variables\" section, scroll down and find the \"Path\" variable, then click on \"Edit\"\n",
    "    \n",
    "    6. Click \"New\" and add the path to the directory where Python is installed. By default, Python is installed in the \"C:\\PythonXX\" directory, where XX is the version number. For example, if you installed Python version 3.9.5, you should add \"C:\\Python39\" to the path.\n",
    "    \n",
    "    7. Click \"OK\" to save the changes and close all windows.\n",
    "    \n",
    "    8. Open the command prompt and type \"python\" to verify that Python is installed and configured correctly. If Python is installed correctly, you should see the Python interactive shell prompt.\n",
    "    \n",
    "    \n",
    "    "
   ]
  },
  {
   "cell_type": "code",
   "execution_count": null,
   "id": "b412b948-2792-434b-9af0-e191af9ba36d",
   "metadata": {},
   "outputs": [],
   "source": []
  },
  {
   "cell_type": "markdown",
   "id": "061d1079-5778-4104-af7e-ba4204608fa7",
   "metadata": {},
   "source": [
    "## 16."
   ]
  },
  {
   "cell_type": "markdown",
   "id": "9ee33c49-30bf-44a7-b7d4-f87abf0dd59e",
   "metadata": {},
   "source": [
    "* Yes, indentation is required in Python. In fact, indentation is a fundamental part of Python's syntax and is used to delimit blocks of code.\n",
    "\n",
    "* In Python, blocks of code are defined by their indentation level. All statements within the same block must be indented the same amount. This is different from many other programming languages, where blocks of code are defined by braces or other delimiters.\n"
   ]
  },
  {
   "cell_type": "code",
   "execution_count": 3,
   "id": "97afc438-253a-4ad8-acc6-466f093237f4",
   "metadata": {},
   "outputs": [],
   "source": [
    "def greet(name):\n",
    "    if name:\n",
    "        print(\"Md, \" + name + \"!\")\n",
    "    else:\n",
    "        print(\"Hi , Sarwar!\")\n"
   ]
  },
  {
   "cell_type": "code",
   "execution_count": null,
   "id": "80f4919e-4c28-41d4-bf0c-c9f153383079",
   "metadata": {},
   "outputs": [],
   "source": []
  }
 ],
 "metadata": {
  "kernelspec": {
   "display_name": "Python 3 (ipykernel)",
   "language": "python",
   "name": "python3"
  },
  "language_info": {
   "codemirror_mode": {
    "name": "ipython",
    "version": 3
   },
   "file_extension": ".py",
   "mimetype": "text/x-python",
   "name": "python",
   "nbconvert_exporter": "python",
   "pygments_lexer": "ipython3",
   "version": "3.9.13"
  }
 },
 "nbformat": 4,
 "nbformat_minor": 5
}
